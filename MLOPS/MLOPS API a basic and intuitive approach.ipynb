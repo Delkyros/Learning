{
 "cells": [
  {
   "cell_type": "markdown",
   "metadata": {},
   "source": [
    "# Introduction\n",
    "\n",
    "One will be implementing a basic NLP model to classify phrases within an API, using some of the MLOPs techniques."
   ]
  },
  {
   "cell_type": "code",
   "execution_count": 21,
   "metadata": {},
   "outputs": [],
   "source": [
    "#! pip install textblob\n",
    "from textblob import TextBlob"
   ]
  },
  {
   "cell_type": "code",
   "execution_count": 22,
   "metadata": {},
   "outputs": [
    {
     "data": {
      "text/plain": [
       "0.7"
      ]
     },
     "execution_count": 22,
     "metadata": {},
     "output_type": "execute_result"
    }
   ],
   "source": [
    "phrase = 'Python is a good Machine learning language'\n",
    "tb = TextBlob(phrase)\n",
    "tb.sentiment.polarity"
   ]
  },
  {
   "cell_type": "markdown",
   "metadata": {},
   "source": [
    "# A simple APi code"
   ]
  },
  {
   "cell_type": "code",
   "execution_count": 23,
   "metadata": {},
   "outputs": [],
   "source": [
    "from flask import Flask\n",
    "\n",
    "app = Flask(__name__)\n",
    "\n",
    "@app.route('/')\n",
    "def home():\n",
    "    return 'My first API.'\n",
    "\n",
    "#app.run(debug=True,\n",
    "#  use_reloader=False) #This will allow one to use the API directly form the notebook, without a main.py file, for example\n"
   ]
  },
  {
   "cell_type": "markdown",
   "metadata": {},
   "source": [
    "# Adding new endpoints"
   ]
  },
  {
   "cell_type": "code",
   "execution_count": 24,
   "metadata": {},
   "outputs": [],
   "source": [
    "from flask import request\n",
    "\n",
    "app = Flask(__name__)\n",
    "\n",
    "@app.route('/')\n",
    "def home():\n",
    "    return 'My first API.'\n",
    "\n",
    "# Analyzing the polarity of certain phrase\n",
    "@app.route('/sentiment/<phrase>')\n",
    "\n",
    "def sentiment(phrase):\n",
    "    tb = TextBlob(phrase)\n",
    "    polarity = tb.sentiment.polarity\n",
    "    return \"Polarity: {}\".format(polarity)\n",
    "\n",
    "#app.run(debug=True,use_reloader=False)"
   ]
  },
  {
   "cell_type": "markdown",
   "metadata": {},
   "source": [
    "# Modelling based on user input\n",
    "\n",
    "One will be using a very basic model, will not optimize or do feature engineering. This is only to show how to deploy a model into an API."
   ]
  },
  {
   "cell_type": "code",
   "execution_count": 25,
   "metadata": {},
   "outputs": [],
   "source": [
    "import pandas as pd"
   ]
  },
  {
   "cell_type": "code",
   "execution_count": 26,
   "metadata": {},
   "outputs": [],
   "source": [
    "house_data = pd.read_csv('casas.csv')\n",
    "\n",
    "x = house_data.drop('preco', axis=1)\n",
    "y= house_data['preco']\n",
    "\n",
    "from sklearn.model_selection import train_test_split\n",
    "\n",
    "x_train, x_test, y_train, y_test = train_test_split(x, y, test_size=0.3, random_state=42)"
   ]
  },
  {
   "cell_type": "code",
   "execution_count": 27,
   "metadata": {},
   "outputs": [],
   "source": [
    "features = x.columns.to_list()"
   ]
  },
  {
   "cell_type": "code",
   "execution_count": 28,
   "metadata": {},
   "outputs": [
    {
     "data": {
      "text/html": [
       "<style>#sk-container-id-2 {color: black;background-color: white;}#sk-container-id-2 pre{padding: 0;}#sk-container-id-2 div.sk-toggleable {background-color: white;}#sk-container-id-2 label.sk-toggleable__label {cursor: pointer;display: block;width: 100%;margin-bottom: 0;padding: 0.3em;box-sizing: border-box;text-align: center;}#sk-container-id-2 label.sk-toggleable__label-arrow:before {content: \"▸\";float: left;margin-right: 0.25em;color: #696969;}#sk-container-id-2 label.sk-toggleable__label-arrow:hover:before {color: black;}#sk-container-id-2 div.sk-estimator:hover label.sk-toggleable__label-arrow:before {color: black;}#sk-container-id-2 div.sk-toggleable__content {max-height: 0;max-width: 0;overflow: hidden;text-align: left;background-color: #f0f8ff;}#sk-container-id-2 div.sk-toggleable__content pre {margin: 0.2em;color: black;border-radius: 0.25em;background-color: #f0f8ff;}#sk-container-id-2 input.sk-toggleable__control:checked~div.sk-toggleable__content {max-height: 200px;max-width: 100%;overflow: auto;}#sk-container-id-2 input.sk-toggleable__control:checked~label.sk-toggleable__label-arrow:before {content: \"▾\";}#sk-container-id-2 div.sk-estimator input.sk-toggleable__control:checked~label.sk-toggleable__label {background-color: #d4ebff;}#sk-container-id-2 div.sk-label input.sk-toggleable__control:checked~label.sk-toggleable__label {background-color: #d4ebff;}#sk-container-id-2 input.sk-hidden--visually {border: 0;clip: rect(1px 1px 1px 1px);clip: rect(1px, 1px, 1px, 1px);height: 1px;margin: -1px;overflow: hidden;padding: 0;position: absolute;width: 1px;}#sk-container-id-2 div.sk-estimator {font-family: monospace;background-color: #f0f8ff;border: 1px dotted black;border-radius: 0.25em;box-sizing: border-box;margin-bottom: 0.5em;}#sk-container-id-2 div.sk-estimator:hover {background-color: #d4ebff;}#sk-container-id-2 div.sk-parallel-item::after {content: \"\";width: 100%;border-bottom: 1px solid gray;flex-grow: 1;}#sk-container-id-2 div.sk-label:hover label.sk-toggleable__label {background-color: #d4ebff;}#sk-container-id-2 div.sk-serial::before {content: \"\";position: absolute;border-left: 1px solid gray;box-sizing: border-box;top: 0;bottom: 0;left: 50%;z-index: 0;}#sk-container-id-2 div.sk-serial {display: flex;flex-direction: column;align-items: center;background-color: white;padding-right: 0.2em;padding-left: 0.2em;position: relative;}#sk-container-id-2 div.sk-item {position: relative;z-index: 1;}#sk-container-id-2 div.sk-parallel {display: flex;align-items: stretch;justify-content: center;background-color: white;position: relative;}#sk-container-id-2 div.sk-item::before, #sk-container-id-2 div.sk-parallel-item::before {content: \"\";position: absolute;border-left: 1px solid gray;box-sizing: border-box;top: 0;bottom: 0;left: 50%;z-index: -1;}#sk-container-id-2 div.sk-parallel-item {display: flex;flex-direction: column;z-index: 1;position: relative;background-color: white;}#sk-container-id-2 div.sk-parallel-item:first-child::after {align-self: flex-end;width: 50%;}#sk-container-id-2 div.sk-parallel-item:last-child::after {align-self: flex-start;width: 50%;}#sk-container-id-2 div.sk-parallel-item:only-child::after {width: 0;}#sk-container-id-2 div.sk-dashed-wrapped {border: 1px dashed gray;margin: 0 0.4em 0.5em 0.4em;box-sizing: border-box;padding-bottom: 0.4em;background-color: white;}#sk-container-id-2 div.sk-label label {font-family: monospace;font-weight: bold;display: inline-block;line-height: 1.2em;}#sk-container-id-2 div.sk-label-container {text-align: center;}#sk-container-id-2 div.sk-container {/* jupyter's `normalize.less` sets `[hidden] { display: none; }` but bootstrap.min.css set `[hidden] { display: none !important; }` so we also need the `!important` here to be able to override the default hidden behavior on the sphinx rendered scikit-learn.org. See: https://github.com/scikit-learn/scikit-learn/issues/21755 */display: inline-block !important;position: relative;}#sk-container-id-2 div.sk-text-repr-fallback {display: none;}</style><div id=\"sk-container-id-2\" class=\"sk-top-container\"><div class=\"sk-text-repr-fallback\"><pre>LinearRegression()</pre><b>In a Jupyter environment, please rerun this cell to show the HTML representation or trust the notebook. <br />On GitHub, the HTML representation is unable to render, please try loading this page with nbviewer.org.</b></div><div class=\"sk-container\" hidden><div class=\"sk-item\"><div class=\"sk-estimator sk-toggleable\"><input class=\"sk-toggleable__control sk-hidden--visually\" id=\"sk-estimator-id-2\" type=\"checkbox\" checked><label for=\"sk-estimator-id-2\" class=\"sk-toggleable__label sk-toggleable__label-arrow\">LinearRegression</label><div class=\"sk-toggleable__content\"><pre>LinearRegression()</pre></div></div></div></div></div>"
      ],
      "text/plain": [
       "LinearRegression()"
      ]
     },
     "execution_count": 28,
     "metadata": {},
     "output_type": "execute_result"
    }
   ],
   "source": [
    "from sklearn.linear_model import LinearRegression\n",
    "model = LinearRegression()\n",
    "model.fit(x_train, y_train)"
   ]
  },
  {
   "cell_type": "code",
   "execution_count": 29,
   "metadata": {},
   "outputs": [
    {
     "name": "stderr",
     "output_type": "stream",
     "text": [
      "C:\\Users\\Gustavo Fortunato\\AppData\\Local\\Packages\\PythonSoftwareFoundation.Python.3.11_qbz5n2kfra8p0\\LocalCache\\local-packages\\Python311\\site-packages\\sklearn\\base.py:439: UserWarning: X does not have valid feature names, but LinearRegression was fitted with feature names\n",
      "  warnings.warn(\n"
     ]
    },
    {
     "data": {
      "text/plain": [
       "array([207440.42632476])"
      ]
     },
     "execution_count": 29,
     "metadata": {},
     "output_type": "execute_result"
    }
   ],
   "source": [
    "model.predict(\n",
    "    [[120, #tamanho\n",
    "     2022, #ano\n",
    "     2, # garagem\n",
    "    ]])\n",
    "\n",
    "# this will be executed inside the API using the code bellow"
   ]
  },
  {
   "cell_type": "code",
   "execution_count": 30,
   "metadata": {},
   "outputs": [],
   "source": [
    "@app.route('/pricing/<int:tamanho>/<int:ano>/<int:garagem>')\n",
    "def pricing(tamanho, ano, garagem):\n",
    "    price = f\" A house with a size of {tamanho}, built in the year of {ano} and with {garagem} garage size has the price of {model.predict([[tamanho, ano, garagem]])[0]:.2f}\"\n",
    "    return price\n",
    "\n",
    "#app.run(debug=True,use_reloader=False)"
   ]
  },
  {
   "cell_type": "markdown",
   "metadata": {},
   "source": [
    "This code considers that the dataset loading and model training will be executed before the API initializes, but in the same code, just after the imports. Like the example bellow."
   ]
  },
  {
   "cell_type": "code",
   "execution_count": 31,
   "metadata": {},
   "outputs": [],
   "source": [
    "from flask import Flask, request\n",
    "from sklearn.linear_model import LinearRegression\n",
    "import pandas as pd\n",
    "\n",
    "#machine learning\n",
    "from sklearn.model_selection import train_test_split\n",
    "\n",
    "#This is how to implement a ML model, but this could break down the API \n",
    "#if the model is too complex or the dataset is too big.\n",
    "\n",
    "#loading the dataset\n",
    "house_data = pd.read_csv('casas.csv')\n",
    "\n",
    "x = house_data.drop('preco', axis=1)\n",
    "features = x.columns.to_list()\n",
    "y= house_data['preco']\n",
    "\n",
    "#spliting the data\n",
    "x_train, x_test, y_train, y_test = train_test_split(x, y, test_size=0.3, random_state=42)\n",
    "\n",
    "#Instancing and training the model\n",
    "\n",
    "model = LinearRegression()\n",
    "model.fit(x_train, y_train)\n",
    "\n",
    "@app.route('/pricing/<int:tamanho>/<int:ano>/<int:garagem>')\n",
    "def pricing2(tamanho, ano, garagem):\n",
    "    price = f\" A house with a size of {tamanho}, built in the year of {ano} and with {garagem} garage size has the price of {model.predict([[tamanho, ano, garagem]])[0]:.2f}\"\n",
    "    return price\n",
    "\n",
    "#app.run(debug=True, use_reloader=False) "
   ]
  },
  {
   "cell_type": "markdown",
   "metadata": {},
   "source": [
    "# The problem of ML pipeline inside the API\n",
    "\n",
    "One is facing a problem that could break down its API. Whenever one inicializes the API the process of loading the data and training the model happens. Using a small dataset and the model one was using, this problem does not exist, but when scaling happens, this problem breaks the API. \n",
    "\n",
    "One way to fix that problem is to export the model already trained and only starting the model, without the process of readind the data, instancing and training the model."
   ]
  },
  {
   "cell_type": "code",
   "execution_count": 32,
   "metadata": {},
   "outputs": [],
   "source": [
    "#for the api one needs an object with the information\n",
    "\n",
    "json_of_features = {\n",
    "    \"tamanho\" : 120,\n",
    "    \"ano\" : 2022,\n",
    "    \"garagem\" : 2,\n",
    "}"
   ]
  },
  {
   "cell_type": "code",
   "execution_count": 33,
   "metadata": {},
   "outputs": [],
   "source": [
    "# this will allow one to use the model trained file\n",
    "import pickle\n",
    "\n",
    "pickle.dump(model, open('model.sav', 'wb'))"
   ]
  },
  {
   "cell_type": "code",
   "execution_count": 34,
   "metadata": {},
   "outputs": [],
   "source": [
    "model = pickle.load(open('model.sav', 'rb'))\n",
    "features =['tamanho', 'ano', 'garagem']\n",
    "\n",
    "app = Flask(__name__)\n",
    "\n",
    "@app.route('/')\n",
    "def home():\n",
    "    return 'My first API.'\n",
    "\n",
    "@app.route('/sentiment/<phrase>')\n",
    "def sentiment(phrase):\n",
    "    tb = TextBlob(phrase)\n",
    "    polarity = tb.sentiment.polarity\n",
    "    return \"Polarity: {}\".format(polarity)\n",
    "\n",
    "@app.route('/pricing/', methods=['POST'])\n",
    "def pricing():\n",
    "    data = request.get_json()\n",
    "    input_data = [data[col] for col in features]\n",
    "    price = f\" A house with a size of {input_data[0]}, built in the year of {input_data[1]} and with {input_data[2]} garage size has the price of {model.predict([input_data])[0]:.2f}\"\n",
    "    return price\n",
    "\n",
    "#app.run(debug=True, use_reloader=False)"
   ]
  },
  {
   "cell_type": "markdown",
   "metadata": {},
   "source": [
    "To execute the requests, one will need the above code to be ran outsite the notebook, since it requires a localhost, and the notebbok can't execute the localhost and a request at the same time."
   ]
  },
  {
   "cell_type": "code",
   "execution_count": 35,
   "metadata": {},
   "outputs": [
    {
     "data": {
      "text/plain": [
       "''"
      ]
     },
     "execution_count": 35,
     "metadata": {},
     "output_type": "execute_result"
    }
   ],
   "source": [
    "import requests\n",
    "url = 'http://127.0.0.1:5000/pricing/'\n",
    "response= requests.post(url, json=json_of_features)\n",
    "response.text"
   ]
  },
  {
   "cell_type": "markdown",
   "metadata": {},
   "source": [
    "# Adding autentication\n",
    "\n",
    "As a minimal security level one will need a login and password to execute any function of the api., this will result on a new version of the api."
   ]
  },
  {
   "cell_type": "code",
   "execution_count": 36,
   "metadata": {},
   "outputs": [],
   "source": [
    "from flask_basicauth import BasicAuth\n",
    "app = Flask(__name__)\n",
    "\n",
    "#basic authentication\n",
    "app.config['BASIC_AUTH_USERNAME'] = 'someone'\n",
    "app.config['BASIC_AUTH_PASSWORD'] = 'password'\n",
    "auth = BasicAuth(app)\n",
    "\n",
    "#model\n",
    "model = pickle.load(open('model.sav', 'rb'))\n",
    "features =['tamanho', 'ano', 'garagem']\n",
    "\n",
    "#endpoints - home\n",
    "@app.route('/')\n",
    "def home():\n",
    "    return 'My first API.'\n",
    "\n",
    "#endpoints - sentiment analysys\n",
    "@app.route('/sentiment/<phrase>')\n",
    "@auth.required\n",
    "def sentiment(phrase):\n",
    "    tb = TextBlob(phrase)\n",
    "    polarity = tb.sentiment.polarity\n",
    "    return \"Polarity: {}\".format(polarity)\n",
    "\n",
    "#endpoints - regression to predict house prices\n",
    "@app.route('/pricing/', methods=['POST'])\n",
    "@auth.required\n",
    "def pricing():\n",
    "    data = request.get_json()\n",
    "    input_data = [data[col] for col in features]\n",
    "    price = f\" A house with a size of {input_data[0]}, built in the year of {input_data[1]} and with {input_data[2]} garage size has the price of {model.predict([input_data])[0]:.2f}\"\n",
    "    return price"
   ]
  },
  {
   "cell_type": "markdown",
   "metadata": {},
   "source": [
    "To access the pricing and the sentiment functions, one will need to fill in the login and password. For the pricing function one will need the requests json and what else is needed before."
   ]
  },
  {
   "cell_type": "code",
   "execution_count": 37,
   "metadata": {},
   "outputs": [
    {
     "data": {
      "text/plain": [
       "' A house with a size of 120, built in the year of 2022 and with 2 garage size has the price of 207440.43'"
      ]
     },
     "execution_count": 37,
     "metadata": {},
     "output_type": "execute_result"
    }
   ],
   "source": [
    "url = 'http://127.0.0.1:5000/pricing/'\n",
    "auth= requests.auth.HTTPBasicAuth('someone', 'password')\n",
    "response= requests.post(url, json=json_of_features, auth=auth)\n",
    "response.text"
   ]
  },
  {
   "cell_type": "markdown",
   "metadata": {},
   "source": [
    "# Final considerations\n",
    "\n",
    "This ends the basics of machine learning deploy on APIs. From now one the API can be used with 2 different models, both using basic authentication. Things that could be added are: UI, more user capabilities and integration with other API to extract new data. "
   ]
  }
 ],
 "metadata": {
  "kernelspec": {
   "display_name": "Python 3",
   "language": "python",
   "name": "python3"
  },
  "language_info": {
   "codemirror_mode": {
    "name": "ipython",
    "version": 3
   },
   "file_extension": ".py",
   "mimetype": "text/x-python",
   "name": "python",
   "nbconvert_exporter": "python",
   "pygments_lexer": "ipython3",
   "version": "3.11.6"
  }
 },
 "nbformat": 4,
 "nbformat_minor": 2
}
