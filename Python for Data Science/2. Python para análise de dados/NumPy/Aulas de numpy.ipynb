{
 "cells": [
  {
   "cell_type": "code",
   "execution_count": 2,
   "id": "2525b327",
   "metadata": {},
   "outputs": [],
   "source": [
    "import numpy as np"
   ]
  },
  {
   "cell_type": "code",
   "execution_count": 3,
   "id": "916635de",
   "metadata": {},
   "outputs": [],
   "source": [
    "minha_lista = [1, 2, 3, 4, 5, 6, 7, 8, 9, 10]"
   ]
  },
  {
   "cell_type": "code",
   "execution_count": 4,
   "id": "cb82a747",
   "metadata": {},
   "outputs": [
    {
     "data": {
      "text/plain": [
       "[1, 2, 3, 4, 5, 6, 7, 8, 9, 10]"
      ]
     },
     "execution_count": 4,
     "metadata": {},
     "output_type": "execute_result"
    }
   ],
   "source": [
    "minha_lista"
   ]
  },
  {
   "cell_type": "code",
   "execution_count": 5,
   "id": "34c3851b",
   "metadata": {},
   "outputs": [
    {
     "data": {
      "text/plain": [
       "array([ 1,  2,  3,  4,  5,  6,  7,  8,  9, 10])"
      ]
     },
     "execution_count": 5,
     "metadata": {},
     "output_type": "execute_result"
    }
   ],
   "source": [
    "np.array(minha_lista)"
   ]
  },
  {
   "cell_type": "code",
   "execution_count": 6,
   "id": "f1d50699",
   "metadata": {},
   "outputs": [],
   "source": [
    "minha_matriz = [[1,2,3,5,6],[7,8,9,10,11],[12,13,14,15,16]]"
   ]
  },
  {
   "cell_type": "code",
   "execution_count": 7,
   "id": "2c7b3488",
   "metadata": {},
   "outputs": [
    {
     "data": {
      "text/plain": [
       "array([[ 1,  2,  3,  5,  6],\n",
       "       [ 7,  8,  9, 10, 11],\n",
       "       [12, 13, 14, 15, 16]])"
      ]
     },
     "execution_count": 7,
     "metadata": {},
     "output_type": "execute_result"
    }
   ],
   "source": [
    "np.array(minha_matriz)\n",
    "# retorna um array que converte a lista em matriz"
   ]
  },
  {
   "cell_type": "code",
   "execution_count": 8,
   "id": "29a16735",
   "metadata": {},
   "outputs": [
    {
     "data": {
      "text/plain": [
       "array([0, 2, 4, 6, 8])"
      ]
     },
     "execution_count": 8,
     "metadata": {},
     "output_type": "execute_result"
    }
   ],
   "source": [
    "np.arange(0, 10, 2)\n",
    "# retorna um array de inteiros divisíveis por 2"
   ]
  },
  {
   "cell_type": "code",
   "execution_count": 9,
   "id": "1b31c9ad",
   "metadata": {
    "scrolled": true
   },
   "outputs": [
    {
     "data": {
      "text/plain": [
       "array([ 0.,  5., 10.])"
      ]
     },
     "execution_count": 9,
     "metadata": {},
     "output_type": "execute_result"
    }
   ],
   "source": [
    "np.linspace(0, 10,3)\n",
    "# retorna um array em que 3 floats do range (0, 10) sejam igualmente espaçados"
   ]
  },
  {
   "cell_type": "code",
   "execution_count": 10,
   "id": "0a1aadcc",
   "metadata": {},
   "outputs": [
    {
     "data": {
      "text/plain": [
       "array([[0.84696712, 0.51689463],\n",
       "       [0.156329  , 0.59536805],\n",
       "       [0.66453324, 0.07685102],\n",
       "       [0.72011575, 0.58079136],\n",
       "       [0.30993804, 0.11257576]])"
      ]
     },
     "execution_count": 10,
     "metadata": {},
     "output_type": "execute_result"
    }
   ],
   "source": [
    "np.random.rand(5, 2)\n",
    "# retorna um array de floats aleatórios"
   ]
  },
  {
   "cell_type": "code",
   "execution_count": 17,
   "id": "854aab62",
   "metadata": {},
   "outputs": [
    {
     "data": {
      "text/plain": [
       "array([1.60143071, 1.47517375, 0.75188567, 1.53330923])"
      ]
     },
     "execution_count": 17,
     "metadata": {},
     "output_type": "execute_result"
    }
   ],
   "source": [
    "np.random.randn(4)\n",
    "#retorna array de floats com média 0 e desvio padrão 1"
   ]
  },
  {
   "cell_type": "code",
   "execution_count": 30,
   "id": "05fb6d5f",
   "metadata": {
    "scrolled": true
   },
   "outputs": [
    {
     "data": {
      "text/plain": [
       "array([ 85,  87,  92,  58,  88, 101])"
      ]
     },
     "execution_count": 30,
     "metadata": {},
     "output_type": "execute_result"
    }
   ],
   "source": [
    "jogo1= np.random.randint(1, 60, 6)\n",
    "jogo2= np.random.randint(1, 60, 6)\n",
    "jogo3= np.random.randint(1, 60, 6)\n",
    "jogo1+jogo2+jogo3\n",
    "# retorna 6 inteiros aleatórios entre 1 e 60"
   ]
  },
  {
   "cell_type": "code",
   "execution_count": 19,
   "id": "b047ad2b",
   "metadata": {},
   "outputs": [
    {
     "data": {
      "text/plain": [
       "array([97., 28., 74., 45., 72., 75.])"
      ]
     },
     "execution_count": 19,
     "metadata": {},
     "output_type": "execute_result"
    }
   ],
   "source": [
    "np.round(np.random.rand(6)*100, 0)"
   ]
  },
  {
   "cell_type": "code",
   "execution_count": 20,
   "id": "bdee8266",
   "metadata": {},
   "outputs": [],
   "source": [
    "arr = np.random.rand(25)"
   ]
  },
  {
   "cell_type": "code",
   "execution_count": 21,
   "id": "da614b4d",
   "metadata": {},
   "outputs": [
    {
     "data": {
      "text/plain": [
       "array([0.4925168 , 0.04551361, 0.47740522, 0.36866472, 0.0996261 ,\n",
       "       0.46214483, 0.12213338, 0.44218068, 0.67844503, 0.41337099,\n",
       "       0.40266215, 0.81206628, 0.96863212, 0.56520865, 0.40222552,\n",
       "       0.90464517, 0.97427383, 0.61319055, 0.17814106, 0.56918643,\n",
       "       0.10238682, 0.37513427, 0.58610684, 0.31837865, 0.1187315 ])"
      ]
     },
     "execution_count": 21,
     "metadata": {},
     "output_type": "execute_result"
    }
   ],
   "source": [
    "arr"
   ]
  },
  {
   "cell_type": "code",
   "execution_count": 22,
   "id": "7f1241e7",
   "metadata": {},
   "outputs": [
    {
     "data": {
      "text/plain": [
       "(25,)"
      ]
     },
     "execution_count": 22,
     "metadata": {},
     "output_type": "execute_result"
    }
   ],
   "source": [
    "arr.shape\n",
    "#aqui arr é um vetor em R1 de 25 valores"
   ]
  },
  {
   "cell_type": "code",
   "execution_count": 23,
   "id": "e4fff033",
   "metadata": {},
   "outputs": [
    {
     "data": {
      "text/plain": [
       "array([[0.4925168 , 0.04551361, 0.47740522, 0.36866472, 0.0996261 ],\n",
       "       [0.46214483, 0.12213338, 0.44218068, 0.67844503, 0.41337099],\n",
       "       [0.40266215, 0.81206628, 0.96863212, 0.56520865, 0.40222552],\n",
       "       [0.90464517, 0.97427383, 0.61319055, 0.17814106, 0.56918643],\n",
       "       [0.10238682, 0.37513427, 0.58610684, 0.31837865, 0.1187315 ]])"
      ]
     },
     "execution_count": 23,
     "metadata": {},
     "output_type": "execute_result"
    }
   ],
   "source": [
    "arr.reshape(5,5)"
   ]
  },
  {
   "cell_type": "code",
   "execution_count": 24,
   "id": "6e104890",
   "metadata": {},
   "outputs": [
    {
     "data": {
      "text/plain": [
       "(25,)"
      ]
     },
     "execution_count": 24,
     "metadata": {},
     "output_type": "execute_result"
    }
   ],
   "source": [
    "arr.shape\n",
    "#Mesmo fazendo reshape a variável arr, continua sendo vetor de (25,0). Para que ocorra a mudança em arr\n",
    "# é necessário declarar novamente a variável e altera-la para outro nome de variável, como arr2, por exemplo"
   ]
  },
  {
   "cell_type": "code",
   "execution_count": 25,
   "id": "2fb0e59e",
   "metadata": {},
   "outputs": [],
   "source": [
    "arr2 = arr.reshape(5,5)"
   ]
  },
  {
   "cell_type": "code",
   "execution_count": 26,
   "id": "4cb832ea",
   "metadata": {},
   "outputs": [
    {
     "data": {
      "text/plain": [
       "array([[0.4925168 , 0.04551361, 0.47740522, 0.36866472, 0.0996261 ],\n",
       "       [0.46214483, 0.12213338, 0.44218068, 0.67844503, 0.41337099],\n",
       "       [0.40266215, 0.81206628, 0.96863212, 0.56520865, 0.40222552],\n",
       "       [0.90464517, 0.97427383, 0.61319055, 0.17814106, 0.56918643],\n",
       "       [0.10238682, 0.37513427, 0.58610684, 0.31837865, 0.1187315 ]])"
      ]
     },
     "execution_count": 26,
     "metadata": {},
     "output_type": "execute_result"
    }
   ],
   "source": [
    "arr2"
   ]
  },
  {
   "cell_type": "code",
   "execution_count": 27,
   "id": "8823ec33",
   "metadata": {
    "scrolled": true
   },
   "outputs": [
    {
     "data": {
      "text/plain": [
       "(5, 5)"
      ]
     },
     "execution_count": 27,
     "metadata": {},
     "output_type": "execute_result"
    }
   ],
   "source": [
    "arr2.shape\n",
    "#agora sim houve mudança em arr para arr2 e a variável é uma matriz(5, 5)"
   ]
  },
  {
   "cell_type": "markdown",
   "id": "09ca5769",
   "metadata": {},
   "source": [
    "Fim da aula 20"
   ]
  },
  {
   "cell_type": "code",
   "execution_count": 28,
   "id": "3e0853d0",
   "metadata": {},
   "outputs": [],
   "source": [
    "import numpy as np\n",
    "#sempre que for realizar a utilização de alguma biblioteca, importe-a antes"
   ]
  },
  {
   "cell_type": "code",
   "execution_count": 29,
   "id": "590beaab",
   "metadata": {},
   "outputs": [],
   "source": [
    "arr = np.arange(0, 30, 3)"
   ]
  },
  {
   "cell_type": "code",
   "execution_count": 30,
   "id": "ab21ae51",
   "metadata": {},
   "outputs": [
    {
     "data": {
      "text/plain": [
       "array([ 0,  3,  6,  9, 12, 15, 18, 21, 24, 27])"
      ]
     },
     "execution_count": 30,
     "metadata": {},
     "output_type": "execute_result"
    }
   ],
   "source": [
    "arr"
   ]
  },
  {
   "cell_type": "code",
   "execution_count": 31,
   "id": "a5d3d185",
   "metadata": {},
   "outputs": [
    {
     "data": {
      "text/plain": [
       "9"
      ]
     },
     "execution_count": 31,
     "metadata": {},
     "output_type": "execute_result"
    }
   ],
   "source": [
    "#selecionar o valor 9 dentro do array\n",
    "arr[3]"
   ]
  },
  {
   "cell_type": "code",
   "execution_count": 32,
   "id": "3d790abe",
   "metadata": {},
   "outputs": [
    {
     "data": {
      "text/plain": [
       "array([ 9, 12, 15, 18, 21])"
      ]
     },
     "execution_count": 32,
     "metadata": {},
     "output_type": "execute_result"
    }
   ],
   "source": [
    "#selecionar os valores de 9 a 21 dentro do array\n",
    "arr[3:8]"
   ]
  },
  {
   "cell_type": "code",
   "execution_count": 33,
   "id": "812ed2a7",
   "metadata": {},
   "outputs": [
    {
     "data": {
      "text/plain": [
       "array([ 0,  3,  6,  9, 12])"
      ]
     },
     "execution_count": 33,
     "metadata": {},
     "output_type": "execute_result"
    }
   ],
   "source": [
    "#selecionar todos os elementos antes do 15\n",
    "arr[:5]"
   ]
  },
  {
   "cell_type": "code",
   "execution_count": 34,
   "id": "cfd6c082",
   "metadata": {},
   "outputs": [
    {
     "data": {
      "text/plain": [
       "array([ 9, 12, 15, 18, 21, 24, 27])"
      ]
     },
     "execution_count": 34,
     "metadata": {},
     "output_type": "execute_result"
    }
   ],
   "source": [
    "#selecionar todos os elementos depois do 6\n",
    "arr[3:]"
   ]
  },
  {
   "cell_type": "code",
   "execution_count": 96,
   "id": "e335dda9",
   "metadata": {},
   "outputs": [
    {
     "ename": "AttributeError",
     "evalue": "module 'numpy.random' has no attribute 'arangerandint'",
     "output_type": "error",
     "traceback": [
      "\u001b[1;31m---------------------------------------------------------------------------\u001b[0m",
      "\u001b[1;31mAttributeError\u001b[0m                            Traceback (most recent call last)",
      "\u001b[1;32m~\\AppData\\Local\\Temp\\ipykernel_13540\\1391854539.py\u001b[0m in \u001b[0;36m<module>\u001b[1;34m\u001b[0m\n\u001b[0;32m      1\u001b[0m \u001b[1;31m#arrays bidimencionais\u001b[0m\u001b[1;33m\u001b[0m\u001b[1;33m\u001b[0m\u001b[0m\n\u001b[1;32m----> 2\u001b[1;33m \u001b[0marr2\u001b[0m \u001b[1;33m=\u001b[0m \u001b[0mnp\u001b[0m\u001b[1;33m.\u001b[0m\u001b[0mrandom\u001b[0m\u001b[1;33m.\u001b[0m\u001b[0marangerandint\u001b[0m\u001b[1;33m(\u001b[0m\u001b[1;36m50\u001b[0m\u001b[1;33m)\u001b[0m\u001b[1;33m\u001b[0m\u001b[1;33m\u001b[0m\u001b[0m\n\u001b[0m",
      "\u001b[1;31mAttributeError\u001b[0m: module 'numpy.random' has no attribute 'arangerandint'"
     ]
    }
   ],
   "source": [
    "#arrays bidimencionais\n",
    "arr2 = np.random.arangerandint(50)"
   ]
  },
  {
   "cell_type": "code",
   "execution_count": 130,
   "id": "51f986dc",
   "metadata": {},
   "outputs": [],
   "source": [
    "arr3= np.random.randint(0,99,50).reshape(5,10)"
   ]
  },
  {
   "cell_type": "code",
   "execution_count": 131,
   "id": "71144a83",
   "metadata": {},
   "outputs": [
    {
     "data": {
      "text/plain": [
       "array([[27, 80,  8,  0, 40, 11, 83, 60, 46, 52],\n",
       "       [56, 42, 59, 26, 52, 83, 79, 79, 84, 93],\n",
       "       [89, 12, 33, 29, 33, 40, 24, 41,  1, 53],\n",
       "       [52, 38, 70, 58, 63, 20, 10,  6, 38, 85],\n",
       "       [ 7, 45, 32, 26, 45, 27, 70, 20, 11, 98]])"
      ]
     },
     "execution_count": 131,
     "metadata": {},
     "output_type": "execute_result"
    }
   ],
   "source": [
    "arr3"
   ]
  },
  {
   "cell_type": "code",
   "execution_count": 143,
   "id": "b456aaf1",
   "metadata": {},
   "outputs": [
    {
     "data": {
      "text/plain": [
       "41"
      ]
     },
     "execution_count": 143,
     "metadata": {},
     "output_type": "execute_result"
    }
   ],
   "source": [
    "arr3[2, 7]"
   ]
  }
 ],
 "metadata": {
  "kernelspec": {
   "display_name": "Python 3 (ipykernel)",
   "language": "python",
   "name": "python3"
  },
  "language_info": {
   "codemirror_mode": {
    "name": "ipython",
    "version": 3
   },
   "file_extension": ".py",
   "mimetype": "text/x-python",
   "name": "python",
   "nbconvert_exporter": "python",
   "pygments_lexer": "ipython3",
   "version": "3.9.13"
  }
 },
 "nbformat": 4,
 "nbformat_minor": 5
}
