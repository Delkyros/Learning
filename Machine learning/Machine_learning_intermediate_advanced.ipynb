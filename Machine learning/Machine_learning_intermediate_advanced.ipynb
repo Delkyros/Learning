{
  "nbformat": 4,
  "nbformat_minor": 0,
  "metadata": {
    "colab": {
      "provenance": []
    },
    "kernelspec": {
      "name": "python3",
      "display_name": "Python 3"
    },
    "language_info": {
      "name": "python"
    }
  },
  "cells": [
    {
      "cell_type": "code",
      "execution_count": null,
      "metadata": {
        "id": "A0so6lQFhD-v"
      },
      "outputs": [],
      "source": [
        "#exemplo de classificação usando machine learning\n",
        "\n",
        "pig1= [0, 1, 0]\n",
        "pig2= [0, 1, 1]\n",
        "pig3= [1, 1, 0]\n",
        "\n",
        "\n",
        "cao1= [0, 1, 0]\n",
        "cao2= [0, 1, 1]\n",
        "cao3= [1, 1, 1]\n",
        "\n",
        "x_train = [pig1, pig2, pig3, cao1,cao2,cao3] #dados features\n",
        "y_train = [1,1,1,0,0,0] #classes labels\n",
        "\n"
      ]
    },
    {
      "cell_type": "code",
      "source": [
        "#como estimar qual é cão e porco?\n",
        "from sklearn.svm import LinearSVC\n",
        "SEED=20\n",
        "model = LinearSVC(random_state=SEED)\n",
        "model.fit(x_train, y_train)"
      ],
      "metadata": {
        "colab": {
          "base_uri": "https://localhost:8080/",
          "height": 75
        },
        "id": "5elqz_NtiOQv",
        "outputId": "fd332fbb-eed0-463c-994a-819dda25323a"
      },
      "execution_count": null,
      "outputs": [
        {
          "output_type": "execute_result",
          "data": {
            "text/plain": [
              "LinearSVC(random_state=20)"
            ],
            "text/html": [
              "<style>#sk-container-id-2 {color: black;background-color: white;}#sk-container-id-2 pre{padding: 0;}#sk-container-id-2 div.sk-toggleable {background-color: white;}#sk-container-id-2 label.sk-toggleable__label {cursor: pointer;display: block;width: 100%;margin-bottom: 0;padding: 0.3em;box-sizing: border-box;text-align: center;}#sk-container-id-2 label.sk-toggleable__label-arrow:before {content: \"▸\";float: left;margin-right: 0.25em;color: #696969;}#sk-container-id-2 label.sk-toggleable__label-arrow:hover:before {color: black;}#sk-container-id-2 div.sk-estimator:hover label.sk-toggleable__label-arrow:before {color: black;}#sk-container-id-2 div.sk-toggleable__content {max-height: 0;max-width: 0;overflow: hidden;text-align: left;background-color: #f0f8ff;}#sk-container-id-2 div.sk-toggleable__content pre {margin: 0.2em;color: black;border-radius: 0.25em;background-color: #f0f8ff;}#sk-container-id-2 input.sk-toggleable__control:checked~div.sk-toggleable__content {max-height: 200px;max-width: 100%;overflow: auto;}#sk-container-id-2 input.sk-toggleable__control:checked~label.sk-toggleable__label-arrow:before {content: \"▾\";}#sk-container-id-2 div.sk-estimator input.sk-toggleable__control:checked~label.sk-toggleable__label {background-color: #d4ebff;}#sk-container-id-2 div.sk-label input.sk-toggleable__control:checked~label.sk-toggleable__label {background-color: #d4ebff;}#sk-container-id-2 input.sk-hidden--visually {border: 0;clip: rect(1px 1px 1px 1px);clip: rect(1px, 1px, 1px, 1px);height: 1px;margin: -1px;overflow: hidden;padding: 0;position: absolute;width: 1px;}#sk-container-id-2 div.sk-estimator {font-family: monospace;background-color: #f0f8ff;border: 1px dotted black;border-radius: 0.25em;box-sizing: border-box;margin-bottom: 0.5em;}#sk-container-id-2 div.sk-estimator:hover {background-color: #d4ebff;}#sk-container-id-2 div.sk-parallel-item::after {content: \"\";width: 100%;border-bottom: 1px solid gray;flex-grow: 1;}#sk-container-id-2 div.sk-label:hover label.sk-toggleable__label {background-color: #d4ebff;}#sk-container-id-2 div.sk-serial::before {content: \"\";position: absolute;border-left: 1px solid gray;box-sizing: border-box;top: 0;bottom: 0;left: 50%;z-index: 0;}#sk-container-id-2 div.sk-serial {display: flex;flex-direction: column;align-items: center;background-color: white;padding-right: 0.2em;padding-left: 0.2em;position: relative;}#sk-container-id-2 div.sk-item {position: relative;z-index: 1;}#sk-container-id-2 div.sk-parallel {display: flex;align-items: stretch;justify-content: center;background-color: white;position: relative;}#sk-container-id-2 div.sk-item::before, #sk-container-id-2 div.sk-parallel-item::before {content: \"\";position: absolute;border-left: 1px solid gray;box-sizing: border-box;top: 0;bottom: 0;left: 50%;z-index: -1;}#sk-container-id-2 div.sk-parallel-item {display: flex;flex-direction: column;z-index: 1;position: relative;background-color: white;}#sk-container-id-2 div.sk-parallel-item:first-child::after {align-self: flex-end;width: 50%;}#sk-container-id-2 div.sk-parallel-item:last-child::after {align-self: flex-start;width: 50%;}#sk-container-id-2 div.sk-parallel-item:only-child::after {width: 0;}#sk-container-id-2 div.sk-dashed-wrapped {border: 1px dashed gray;margin: 0 0.4em 0.5em 0.4em;box-sizing: border-box;padding-bottom: 0.4em;background-color: white;}#sk-container-id-2 div.sk-label label {font-family: monospace;font-weight: bold;display: inline-block;line-height: 1.2em;}#sk-container-id-2 div.sk-label-container {text-align: center;}#sk-container-id-2 div.sk-container {/* jupyter's `normalize.less` sets `[hidden] { display: none; }` but bootstrap.min.css set `[hidden] { display: none !important; }` so we also need the `!important` here to be able to override the default hidden behavior on the sphinx rendered scikit-learn.org. See: https://github.com/scikit-learn/scikit-learn/issues/21755 */display: inline-block !important;position: relative;}#sk-container-id-2 div.sk-text-repr-fallback {display: none;}</style><div id=\"sk-container-id-2\" class=\"sk-top-container\"><div class=\"sk-text-repr-fallback\"><pre>LinearSVC(random_state=20)</pre><b>In a Jupyter environment, please rerun this cell to show the HTML representation or trust the notebook. <br />On GitHub, the HTML representation is unable to render, please try loading this page with nbviewer.org.</b></div><div class=\"sk-container\" hidden><div class=\"sk-item\"><div class=\"sk-estimator sk-toggleable\"><input class=\"sk-toggleable__control sk-hidden--visually\" id=\"sk-estimator-id-2\" type=\"checkbox\" checked><label for=\"sk-estimator-id-2\" class=\"sk-toggleable__label sk-toggleable__label-arrow\">LinearSVC</label><div class=\"sk-toggleable__content\"><pre>LinearSVC(random_state=20)</pre></div></div></div></div></div>"
            ]
          },
          "metadata": {},
          "execution_count": 115
        }
      ]
    },
    {
      "cell_type": "code",
      "source": [
        "animal_misterioso = [1,1,1]\n",
        "pred_animal_misterioso = model.predict([animal_misterioso])\n",
        "if pred_animal_misterioso==0:\n",
        "  print('É um cachorro')\n",
        "else:\n",
        "  print('É um porco')"
      ],
      "metadata": {
        "colab": {
          "base_uri": "https://localhost:8080/"
        },
        "id": "iRwH5Ap7iuka",
        "outputId": "43289a79-b6d6-43b9-c578-25e157f3caa9"
      },
      "execution_count": null,
      "outputs": [
        {
          "output_type": "stream",
          "name": "stdout",
          "text": [
            "É um cachorro\n"
          ]
        }
      ]
    },
    {
      "cell_type": "code",
      "source": [
        "animal_misterioso1 = [1,1,1]\n",
        "animal_misterioso2 = [1,1,0]\n",
        "animal_misterioso3 = [0,1,1]\n",
        "x_test= [animal_misterioso1, animal_misterioso2, animal_misterioso3]#valores a serem classificados\n",
        "y_test = [0,1,1] #valores reais\n",
        "\n",
        "pred_animal_misterioso = model.predict(x_test)\n",
        "for i in pred_animal_misterioso:\n",
        "  if i==0:\n",
        "    print('É um cachorro')\n",
        "  else:\n",
        "    print('É um porco')"
      ],
      "metadata": {
        "colab": {
          "base_uri": "https://localhost:8080/"
        },
        "id": "Kx-zbt8Lj2Lg",
        "outputId": "6fb76f78-59df-4abb-c50b-f887252f1677"
      },
      "execution_count": null,
      "outputs": [
        {
          "output_type": "stream",
          "name": "stdout",
          "text": [
            "É um cachorro\n",
            "É um porco\n",
            "É um cachorro\n"
          ]
        }
      ]
    },
    {
      "cell_type": "markdown",
      "source": [
        "The correct would be dog, pig and pig. there was an error in the algorithm when classifying the mysterious animals, that is, 66% accuracy."
      ],
      "metadata": {
        "id": "ktJTg6jakjgF"
      }
    },
    {
      "cell_type": "code",
      "source": [
        "acertos = (pred_animal_misterioso == y_test).sum()\n",
        "total = len(x_test)\n",
        "acc = (acertos/total*100)\n",
        "print('The accuracy is %.2f' % acc + '%')"
      ],
      "metadata": {
        "colab": {
          "base_uri": "https://localhost:8080/"
        },
        "id": "b2f1L5P4kcIU",
        "outputId": "e8208c94-8ceb-4ae2-fe60-2e018b4ddc30"
      },
      "execution_count": null,
      "outputs": [
        {
          "output_type": "stream",
          "name": "stdout",
          "text": [
            "The accuracy is 66.67%\n"
          ]
        }
      ]
    },
    {
      "cell_type": "markdown",
      "source": [
        "Great, but sklearn already have all that code in a single function."
      ],
      "metadata": {
        "id": "wBJQUcM5mSbh"
      }
    },
    {
      "cell_type": "code",
      "source": [
        "from sklearn.metrics import accuracy_score\n",
        "acc = (accuracy_score(y_test, pred_animal_misterioso)*100)\n",
        "print('The accuracy is %.2f' % acc + '%')"
      ],
      "metadata": {
        "colab": {
          "base_uri": "https://localhost:8080/"
        },
        "id": "tnyxiCQFlJKV",
        "outputId": "6aabed28-73c3-441f-d87a-3917f1c5babb"
      },
      "execution_count": null,
      "outputs": [
        {
          "output_type": "stream",
          "name": "stdout",
          "text": [
            "The accuracy is 66.67%\n"
          ]
        }
      ]
    },
    {
      "cell_type": "markdown",
      "source": [
        "# Another dataset"
      ],
      "metadata": {
        "id": "fL5B1qp1IxCQ"
      }
    },
    {
      "cell_type": "markdown",
      "source": [
        "The uri is data related to sites, if they have a home, if they work, if they have contacts and if they are for sale. The data is arranged in a boolean array."
      ],
      "metadata": {
        "id": "z_XMT6PJJFeT"
      }
    },
    {
      "cell_type": "code",
      "source": [
        "import pandas as pd\n",
        "uri = \"https://gist.githubusercontent.com/guilhermesilveira/2d2efa37d66b6c84a722ea627a897ced/raw/10968b997d885cbded1c92938c7a9912ba41c615/tracking.csv\"\n",
        "dados = pd.read_csv(uri)\n",
        "dados.head()"
      ],
      "metadata": {
        "id": "nnl5J5tLm5NF",
        "colab": {
          "base_uri": "https://localhost:8080/",
          "height": 206
        },
        "outputId": "90536888-b080-495c-bdc8-3f5cfdc0bec8"
      },
      "execution_count": null,
      "outputs": [
        {
          "output_type": "execute_result",
          "data": {
            "text/plain": [
              "   home  how_it_works  contact  bought\n",
              "0     1             1        0       0\n",
              "1     1             1        0       0\n",
              "2     1             1        0       0\n",
              "3     1             1        0       0\n",
              "4     1             1        0       0"
            ],
            "text/html": [
              "\n",
              "  <div id=\"df-89854a01-5ebd-4e9f-bf83-1a7b55ec66e7\">\n",
              "    <div class=\"colab-df-container\">\n",
              "      <div>\n",
              "<style scoped>\n",
              "    .dataframe tbody tr th:only-of-type {\n",
              "        vertical-align: middle;\n",
              "    }\n",
              "\n",
              "    .dataframe tbody tr th {\n",
              "        vertical-align: top;\n",
              "    }\n",
              "\n",
              "    .dataframe thead th {\n",
              "        text-align: right;\n",
              "    }\n",
              "</style>\n",
              "<table border=\"1\" class=\"dataframe\">\n",
              "  <thead>\n",
              "    <tr style=\"text-align: right;\">\n",
              "      <th></th>\n",
              "      <th>home</th>\n",
              "      <th>how_it_works</th>\n",
              "      <th>contact</th>\n",
              "      <th>bought</th>\n",
              "    </tr>\n",
              "  </thead>\n",
              "  <tbody>\n",
              "    <tr>\n",
              "      <th>0</th>\n",
              "      <td>1</td>\n",
              "      <td>1</td>\n",
              "      <td>0</td>\n",
              "      <td>0</td>\n",
              "    </tr>\n",
              "    <tr>\n",
              "      <th>1</th>\n",
              "      <td>1</td>\n",
              "      <td>1</td>\n",
              "      <td>0</td>\n",
              "      <td>0</td>\n",
              "    </tr>\n",
              "    <tr>\n",
              "      <th>2</th>\n",
              "      <td>1</td>\n",
              "      <td>1</td>\n",
              "      <td>0</td>\n",
              "      <td>0</td>\n",
              "    </tr>\n",
              "    <tr>\n",
              "      <th>3</th>\n",
              "      <td>1</td>\n",
              "      <td>1</td>\n",
              "      <td>0</td>\n",
              "      <td>0</td>\n",
              "    </tr>\n",
              "    <tr>\n",
              "      <th>4</th>\n",
              "      <td>1</td>\n",
              "      <td>1</td>\n",
              "      <td>0</td>\n",
              "      <td>0</td>\n",
              "    </tr>\n",
              "  </tbody>\n",
              "</table>\n",
              "</div>\n",
              "      <button class=\"colab-df-convert\" onclick=\"convertToInteractive('df-89854a01-5ebd-4e9f-bf83-1a7b55ec66e7')\"\n",
              "              title=\"Convert this dataframe to an interactive table.\"\n",
              "              style=\"display:none;\">\n",
              "        \n",
              "  <svg xmlns=\"http://www.w3.org/2000/svg\" height=\"24px\"viewBox=\"0 0 24 24\"\n",
              "       width=\"24px\">\n",
              "    <path d=\"M0 0h24v24H0V0z\" fill=\"none\"/>\n",
              "    <path d=\"M18.56 5.44l.94 2.06.94-2.06 2.06-.94-2.06-.94-.94-2.06-.94 2.06-2.06.94zm-11 1L8.5 8.5l.94-2.06 2.06-.94-2.06-.94L8.5 2.5l-.94 2.06-2.06.94zm10 10l.94 2.06.94-2.06 2.06-.94-2.06-.94-.94-2.06-.94 2.06-2.06.94z\"/><path d=\"M17.41 7.96l-1.37-1.37c-.4-.4-.92-.59-1.43-.59-.52 0-1.04.2-1.43.59L10.3 9.45l-7.72 7.72c-.78.78-.78 2.05 0 2.83L4 21.41c.39.39.9.59 1.41.59.51 0 1.02-.2 1.41-.59l7.78-7.78 2.81-2.81c.8-.78.8-2.07 0-2.86zM5.41 20L4 18.59l7.72-7.72 1.47 1.35L5.41 20z\"/>\n",
              "  </svg>\n",
              "      </button>\n",
              "      \n",
              "  <style>\n",
              "    .colab-df-container {\n",
              "      display:flex;\n",
              "      flex-wrap:wrap;\n",
              "      gap: 12px;\n",
              "    }\n",
              "\n",
              "    .colab-df-convert {\n",
              "      background-color: #E8F0FE;\n",
              "      border: none;\n",
              "      border-radius: 50%;\n",
              "      cursor: pointer;\n",
              "      display: none;\n",
              "      fill: #1967D2;\n",
              "      height: 32px;\n",
              "      padding: 0 0 0 0;\n",
              "      width: 32px;\n",
              "    }\n",
              "\n",
              "    .colab-df-convert:hover {\n",
              "      background-color: #E2EBFA;\n",
              "      box-shadow: 0px 1px 2px rgba(60, 64, 67, 0.3), 0px 1px 3px 1px rgba(60, 64, 67, 0.15);\n",
              "      fill: #174EA6;\n",
              "    }\n",
              "\n",
              "    [theme=dark] .colab-df-convert {\n",
              "      background-color: #3B4455;\n",
              "      fill: #D2E3FC;\n",
              "    }\n",
              "\n",
              "    [theme=dark] .colab-df-convert:hover {\n",
              "      background-color: #434B5C;\n",
              "      box-shadow: 0px 1px 3px 1px rgba(0, 0, 0, 0.15);\n",
              "      filter: drop-shadow(0px 1px 2px rgba(0, 0, 0, 0.3));\n",
              "      fill: #FFFFFF;\n",
              "    }\n",
              "  </style>\n",
              "\n",
              "      <script>\n",
              "        const buttonEl =\n",
              "          document.querySelector('#df-89854a01-5ebd-4e9f-bf83-1a7b55ec66e7 button.colab-df-convert');\n",
              "        buttonEl.style.display =\n",
              "          google.colab.kernel.accessAllowed ? 'block' : 'none';\n",
              "\n",
              "        async function convertToInteractive(key) {\n",
              "          const element = document.querySelector('#df-89854a01-5ebd-4e9f-bf83-1a7b55ec66e7');\n",
              "          const dataTable =\n",
              "            await google.colab.kernel.invokeFunction('convertToInteractive',\n",
              "                                                     [key], {});\n",
              "          if (!dataTable) return;\n",
              "\n",
              "          const docLinkHtml = 'Like what you see? Visit the ' +\n",
              "            '<a target=\"_blank\" href=https://colab.research.google.com/notebooks/data_table.ipynb>data table notebook</a>'\n",
              "            + ' to learn more about interactive tables.';\n",
              "          element.innerHTML = '';\n",
              "          dataTable['output_type'] = 'display_data';\n",
              "          await google.colab.output.renderOutput(dataTable, element);\n",
              "          const docLink = document.createElement('div');\n",
              "          docLink.innerHTML = docLinkHtml;\n",
              "          element.appendChild(docLink);\n",
              "        }\n",
              "      </script>\n",
              "    </div>\n",
              "  </div>\n",
              "  "
            ]
          },
          "metadata": {},
          "execution_count": 120
        }
      ]
    },
    {
      "cell_type": "code",
      "source": [
        "#traduzindo o nome das features\n",
        "rename_map = {\n",
        "    'home': 'principal',\n",
        "    'how_it_works': 'funciona?',\n",
        "    'contact': 'contato',\n",
        "    'bought': 'comprado'\n",
        "}\n",
        "\n",
        "dados.rename(columns=rename_map, inplace=True)\n",
        "\n",
        "x = dados.drop('comprado', axis=1)\n",
        "y = dados.comprado"
      ],
      "metadata": {
        "id": "T6tH1wyUJZnb"
      },
      "execution_count": null,
      "outputs": []
    },
    {
      "cell_type": "markdown",
      "source": [
        "For a better training set it is important to separate a portion of the data as training set."
      ],
      "metadata": {
        "id": "tZtXgQ12LnGp"
      }
    },
    {
      "cell_type": "code",
      "source": [
        "treino_x= x[:75]\n",
        "treino_y= y[:75]\n",
        "teste_x= x[75:]\n",
        "teste_y= y[75:]\n",
        "print(f'The model was trained with n={len(treino_x)} for x and tested with n={len(teste_y)} for y')"
      ],
      "metadata": {
        "colab": {
          "base_uri": "https://localhost:8080/"
        },
        "id": "ZXYuNsZBJq4s",
        "outputId": "a56c4d38-2b4a-4897-c629-9dfe7225efb7"
      },
      "execution_count": null,
      "outputs": [
        {
          "output_type": "stream",
          "name": "stdout",
          "text": [
            "The model was trained with n=75 for x and tested with n=24 for y\n"
          ]
        }
      ]
    },
    {
      "cell_type": "code",
      "source": [
        "import numpy as np\n",
        "SEED=20\n",
        "np.random.seed(SEED)\n",
        "\n",
        "model.fit(treino_x, treino_y)\n",
        "pred = model.predict(teste_x)\n",
        "acc = (accuracy_score(teste_y, pred)*100)\n",
        "print('The accuracy is %.2f' % acc + '%')"
      ],
      "metadata": {
        "colab": {
          "base_uri": "https://localhost:8080/"
        },
        "id": "HPi3ydS4NQWc",
        "outputId": "555c99aa-cf80-4096-80c2-23a7b7190aad"
      },
      "execution_count": null,
      "outputs": [
        {
          "output_type": "stream",
          "name": "stdout",
          "text": [
            "The accuracy is 95.83%\n"
          ]
        }
      ]
    },
    {
      "cell_type": "markdown",
      "source": [
        "If we set the seed nop numpy automatically we will set the ssed for all sklearn models.\n",
        "\n",
        "There is also a way to separate using sklearn's own model."
      ],
      "metadata": {
        "id": "gDr8V6Ws6bVC"
      }
    },
    {
      "cell_type": "code",
      "source": [
        "from sklearn.model_selection import train_test_split\n",
        "\n",
        "x_train, x_test, y_train, y_test = train_test_split(x, y, test_size=0.25)"
      ],
      "metadata": {
        "id": "a_vweLNUlCzk"
      },
      "execution_count": null,
      "outputs": []
    },
    {
      "cell_type": "code",
      "source": [],
      "metadata": {
        "id": "6eRJM5exU2vq"
      },
      "execution_count": null,
      "outputs": []
    },
    {
      "cell_type": "markdown",
      "source": [
        "The code above performs the separation of training and testing using a sklearn model made for this purpose."
      ],
      "metadata": {
        "id": "IA0XkmJQrhTa"
      }
    },
    {
      "cell_type": "code",
      "source": [
        "model.fit(x_train, y_train)\n",
        "pred = model.predict(x_test)\n",
        "acc = (accuracy_score(y_test, pred)*100)\n",
        "print('The accuracy is %.2f' % acc + '%')"
      ],
      "metadata": {
        "colab": {
          "base_uri": "https://localhost:8080/"
        },
        "id": "R9ENguqbr0yC",
        "outputId": "be45efab-dafe-4e8a-9036-efaaf21e9ce3"
      },
      "execution_count": null,
      "outputs": [
        {
          "output_type": "stream",
          "name": "stdout",
          "text": [
            "The accuracy is 96.00%\n"
          ]
        }
      ]
    },
    {
      "cell_type": "code",
      "source": [
        "from sklearn.model_selection import train_test_split\n",
        "\n",
        "x_train, x_test, y_train, y_test = train_test_split(x, y, test_size=0.25)\n",
        "model.fit(x_train, y_train)\n",
        "pred = model.predict(x_test)\n",
        "acc = (accuracy_score(y_test, pred)*100)\n",
        "print('The accuracy is %.2f' % acc + '%')"
      ],
      "metadata": {
        "colab": {
          "base_uri": "https://localhost:8080/"
        },
        "id": "IwcUCGessMnJ",
        "outputId": "3bdc38d0-2421-4ad3-b6be-193570b2551a"
      },
      "execution_count": null,
      "outputs": [
        {
          "output_type": "stream",
          "name": "stdout",
          "text": [
            "The accuracy is 100.00%\n"
          ]
        }
      ]
    },
    {
      "cell_type": "markdown",
      "source": [
        "Note that when using the same code, we get different acc's. This is due to the random state of the model (random_state)."
      ],
      "metadata": {
        "id": "vHtluLDWsJRp"
      }
    },
    {
      "cell_type": "code",
      "source": [
        "from sklearn.model_selection import train_test_split\n",
        "x_train, x_test, y_train, y_test = train_test_split(x, y, test_size=0.25, random_state=SEED)\n",
        "model.fit(x_train, y_train)\n",
        "pred = model.predict(x_test)\n",
        "acc = (accuracy_score(y_test, pred)*100)\n",
        "print('The accuracy is %.2f' % acc + '%')"
      ],
      "metadata": {
        "colab": {
          "base_uri": "https://localhost:8080/"
        },
        "id": "ZKh8250CslOH",
        "outputId": "073d9a2a-af69-40f7-94e2-287cdb6b04f6"
      },
      "execution_count": null,
      "outputs": [
        {
          "output_type": "stream",
          "name": "stdout",
          "text": [
            "The accuracy is 96.00%\n"
          ]
        }
      ]
    },
    {
      "cell_type": "markdown",
      "source": [
        "By defining a seed, or changing the random_state parameter to the same value, we have a test and training separation fixed in the randomness generated by the seed, or SEED=20. So we always have the same acc."
      ],
      "metadata": {
        "id": "OGBSmbZCswgB"
      }
    },
    {
      "cell_type": "markdown",
      "source": [
        "## Checking the separation"
      ],
      "metadata": {
        "id": "X0quyhBNtII-"
      }
    },
    {
      "cell_type": "code",
      "source": [
        "y_train.value_counts()"
      ],
      "metadata": {
        "colab": {
          "base_uri": "https://localhost:8080/"
        },
        "id": "_1ujiKnis_46",
        "outputId": "2fe3e377-1897-467f-c8ba-14fdf18e7f2c"
      },
      "execution_count": null,
      "outputs": [
        {
          "output_type": "execute_result",
          "data": {
            "text/plain": [
              "0    47\n",
              "1    27\n",
              "Name: comprado, dtype: int64"
            ]
          },
          "metadata": {},
          "execution_count": 128
        }
      ]
    },
    {
      "cell_type": "code",
      "source": [
        "y_test.value_counts()"
      ],
      "metadata": {
        "colab": {
          "base_uri": "https://localhost:8080/"
        },
        "id": "eE9_pr30tTk2",
        "outputId": "a7c15145-63e3-4a07-bfd7-7afadcf11bc8"
      },
      "execution_count": null,
      "outputs": [
        {
          "output_type": "execute_result",
          "data": {
            "text/plain": [
              "0    19\n",
              "1     6\n",
              "Name: comprado, dtype: int64"
            ]
          },
          "metadata": {},
          "execution_count": 129
        }
      ]
    },
    {
      "cell_type": "markdown",
      "source": [
        "Note that the ratio of values 0 and 1 does not match for testing and training. this tends the training according to the classification that the 0 and 1 define. if 1 is buy, for example, in the test there are many more buyers than in the training. This tends the model to the bias that more purchases will always be made."
      ],
      "metadata": {
        "id": "Cz2YYMEKtc80"
      }
    },
    {
      "cell_type": "code",
      "source": [
        "from sklearn.model_selection import train_test_split\n",
        "x_train, x_test, y_train, y_test = train_test_split(x, y,\n",
        "  test_size=0.25, random_state=SEED, stratify =y)\n",
        "model.fit(x_train, y_train)\n",
        "pred = model.predict(x_test)\n",
        "acc = (accuracy_score(y_test, pred)*100)\n",
        "print('The accuracy is %.2f' % acc + '%')"
      ],
      "metadata": {
        "colab": {
          "base_uri": "https://localhost:8080/"
        },
        "id": "6cm0j5iwtbfl",
        "outputId": "576b55bf-172c-45d8-d3e7-88bd6f3ff0fe"
      },
      "execution_count": null,
      "outputs": [
        {
          "output_type": "stream",
          "name": "stdout",
          "text": [
            "The accuracy is 96.00%\n"
          ]
        }
      ]
    },
    {
      "cell_type": "code",
      "source": [
        "y_train.value_counts()"
      ],
      "metadata": {
        "colab": {
          "base_uri": "https://localhost:8080/"
        },
        "id": "Brv3ueSmuI9g",
        "outputId": "54ba0c83-05ee-4e52-8184-c29e4c3924bd"
      },
      "execution_count": null,
      "outputs": [
        {
          "output_type": "execute_result",
          "data": {
            "text/plain": [
              "0    49\n",
              "1    25\n",
              "Name: comprado, dtype: int64"
            ]
          },
          "metadata": {},
          "execution_count": 131
        }
      ]
    },
    {
      "cell_type": "code",
      "source": [
        "y_test.value_counts()"
      ],
      "metadata": {
        "colab": {
          "base_uri": "https://localhost:8080/"
        },
        "id": "nG-XzTC1uM2m",
        "outputId": "d183c82e-d8cf-4348-d88a-e2917f78dc67"
      },
      "execution_count": null,
      "outputs": [
        {
          "output_type": "execute_result",
          "data": {
            "text/plain": [
              "0    17\n",
              "1     8\n",
              "Name: comprado, dtype: int64"
            ]
          },
          "metadata": {},
          "execution_count": 132
        }
      ]
    },
    {
      "cell_type": "markdown",
      "source": [
        "Now we have an equal ratio and for this dataset, there were no changes in the acc, but generally there is a positive change in having an equal ratio between test and training. Of course, strafity only applies when classes (0, or 1) have a large number of repetitions."
      ],
      "metadata": {
        "id": "1FT6hiU2uUTf"
      }
    },
    {
      "cell_type": "markdown",
      "source": [
        "# New project"
      ],
      "metadata": {
        "id": "Ris1E2K8u0ZL"
      }
    },
    {
      "cell_type": "code",
      "source": [
        "uri = \"https://gist.githubusercontent.com/guilhermesilveira/1b7d5475863c15f484ac495bd70975cf/raw/16aff7a0aee67e7c100a2a48b676a2d2d142f646/projects.csv\"\n",
        "dados = pd.read_csv(uri)\n",
        "dados.head()"
      ],
      "metadata": {
        "colab": {
          "base_uri": "https://localhost:8080/",
          "height": 206
        },
        "id": "Oq38WOrYueO9",
        "outputId": "b8ff994e-81fd-49db-fabd-a9aaeb5417da"
      },
      "execution_count": null,
      "outputs": [
        {
          "output_type": "execute_result",
          "data": {
            "text/plain": [
              "   unfinished  expected_hours  price\n",
              "0           1              26    192\n",
              "1           1              88   9015\n",
              "2           1              89   2577\n",
              "3           1              42    275\n",
              "4           1              39    170"
            ],
            "text/html": [
              "\n",
              "  <div id=\"df-32dbba39-e8db-435c-a4a2-5da6bcf2b2b4\">\n",
              "    <div class=\"colab-df-container\">\n",
              "      <div>\n",
              "<style scoped>\n",
              "    .dataframe tbody tr th:only-of-type {\n",
              "        vertical-align: middle;\n",
              "    }\n",
              "\n",
              "    .dataframe tbody tr th {\n",
              "        vertical-align: top;\n",
              "    }\n",
              "\n",
              "    .dataframe thead th {\n",
              "        text-align: right;\n",
              "    }\n",
              "</style>\n",
              "<table border=\"1\" class=\"dataframe\">\n",
              "  <thead>\n",
              "    <tr style=\"text-align: right;\">\n",
              "      <th></th>\n",
              "      <th>unfinished</th>\n",
              "      <th>expected_hours</th>\n",
              "      <th>price</th>\n",
              "    </tr>\n",
              "  </thead>\n",
              "  <tbody>\n",
              "    <tr>\n",
              "      <th>0</th>\n",
              "      <td>1</td>\n",
              "      <td>26</td>\n",
              "      <td>192</td>\n",
              "    </tr>\n",
              "    <tr>\n",
              "      <th>1</th>\n",
              "      <td>1</td>\n",
              "      <td>88</td>\n",
              "      <td>9015</td>\n",
              "    </tr>\n",
              "    <tr>\n",
              "      <th>2</th>\n",
              "      <td>1</td>\n",
              "      <td>89</td>\n",
              "      <td>2577</td>\n",
              "    </tr>\n",
              "    <tr>\n",
              "      <th>3</th>\n",
              "      <td>1</td>\n",
              "      <td>42</td>\n",
              "      <td>275</td>\n",
              "    </tr>\n",
              "    <tr>\n",
              "      <th>4</th>\n",
              "      <td>1</td>\n",
              "      <td>39</td>\n",
              "      <td>170</td>\n",
              "    </tr>\n",
              "  </tbody>\n",
              "</table>\n",
              "</div>\n",
              "      <button class=\"colab-df-convert\" onclick=\"convertToInteractive('df-32dbba39-e8db-435c-a4a2-5da6bcf2b2b4')\"\n",
              "              title=\"Convert this dataframe to an interactive table.\"\n",
              "              style=\"display:none;\">\n",
              "        \n",
              "  <svg xmlns=\"http://www.w3.org/2000/svg\" height=\"24px\"viewBox=\"0 0 24 24\"\n",
              "       width=\"24px\">\n",
              "    <path d=\"M0 0h24v24H0V0z\" fill=\"none\"/>\n",
              "    <path d=\"M18.56 5.44l.94 2.06.94-2.06 2.06-.94-2.06-.94-.94-2.06-.94 2.06-2.06.94zm-11 1L8.5 8.5l.94-2.06 2.06-.94-2.06-.94L8.5 2.5l-.94 2.06-2.06.94zm10 10l.94 2.06.94-2.06 2.06-.94-2.06-.94-.94-2.06-.94 2.06-2.06.94z\"/><path d=\"M17.41 7.96l-1.37-1.37c-.4-.4-.92-.59-1.43-.59-.52 0-1.04.2-1.43.59L10.3 9.45l-7.72 7.72c-.78.78-.78 2.05 0 2.83L4 21.41c.39.39.9.59 1.41.59.51 0 1.02-.2 1.41-.59l7.78-7.78 2.81-2.81c.8-.78.8-2.07 0-2.86zM5.41 20L4 18.59l7.72-7.72 1.47 1.35L5.41 20z\"/>\n",
              "  </svg>\n",
              "      </button>\n",
              "      \n",
              "  <style>\n",
              "    .colab-df-container {\n",
              "      display:flex;\n",
              "      flex-wrap:wrap;\n",
              "      gap: 12px;\n",
              "    }\n",
              "\n",
              "    .colab-df-convert {\n",
              "      background-color: #E8F0FE;\n",
              "      border: none;\n",
              "      border-radius: 50%;\n",
              "      cursor: pointer;\n",
              "      display: none;\n",
              "      fill: #1967D2;\n",
              "      height: 32px;\n",
              "      padding: 0 0 0 0;\n",
              "      width: 32px;\n",
              "    }\n",
              "\n",
              "    .colab-df-convert:hover {\n",
              "      background-color: #E2EBFA;\n",
              "      box-shadow: 0px 1px 2px rgba(60, 64, 67, 0.3), 0px 1px 3px 1px rgba(60, 64, 67, 0.15);\n",
              "      fill: #174EA6;\n",
              "    }\n",
              "\n",
              "    [theme=dark] .colab-df-convert {\n",
              "      background-color: #3B4455;\n",
              "      fill: #D2E3FC;\n",
              "    }\n",
              "\n",
              "    [theme=dark] .colab-df-convert:hover {\n",
              "      background-color: #434B5C;\n",
              "      box-shadow: 0px 1px 3px 1px rgba(0, 0, 0, 0.15);\n",
              "      filter: drop-shadow(0px 1px 2px rgba(0, 0, 0, 0.3));\n",
              "      fill: #FFFFFF;\n",
              "    }\n",
              "  </style>\n",
              "\n",
              "      <script>\n",
              "        const buttonEl =\n",
              "          document.querySelector('#df-32dbba39-e8db-435c-a4a2-5da6bcf2b2b4 button.colab-df-convert');\n",
              "        buttonEl.style.display =\n",
              "          google.colab.kernel.accessAllowed ? 'block' : 'none';\n",
              "\n",
              "        async function convertToInteractive(key) {\n",
              "          const element = document.querySelector('#df-32dbba39-e8db-435c-a4a2-5da6bcf2b2b4');\n",
              "          const dataTable =\n",
              "            await google.colab.kernel.invokeFunction('convertToInteractive',\n",
              "                                                     [key], {});\n",
              "          if (!dataTable) return;\n",
              "\n",
              "          const docLinkHtml = 'Like what you see? Visit the ' +\n",
              "            '<a target=\"_blank\" href=https://colab.research.google.com/notebooks/data_table.ipynb>data table notebook</a>'\n",
              "            + ' to learn more about interactive tables.';\n",
              "          element.innerHTML = '';\n",
              "          dataTable['output_type'] = 'display_data';\n",
              "          await google.colab.output.renderOutput(dataTable, element);\n",
              "          const docLink = document.createElement('div');\n",
              "          docLink.innerHTML = docLinkHtml;\n",
              "          element.appendChild(docLink);\n",
              "        }\n",
              "      </script>\n",
              "    </div>\n",
              "  </div>\n",
              "  "
            ]
          },
          "metadata": {},
          "execution_count": 133
        }
      ]
    },
    {
      "cell_type": "markdown",
      "source": [
        "For this dataset it is possible to create some features, like the feature called finished as the oppisite of unfinished."
      ],
      "metadata": {
        "id": "RgwHsagFv_xU"
      }
    },
    {
      "cell_type": "code",
      "source": [
        "troca={0:1, 1:0}\n",
        "dados['finished'] = dados.unfinished.map(troca)\n",
        "dados.head(10)"
      ],
      "metadata": {
        "colab": {
          "base_uri": "https://localhost:8080/",
          "height": 363
        },
        "id": "J23yxDzIvE8W",
        "outputId": "ed671f8a-a4e5-4ed3-ff11-176c7ea5c84a"
      },
      "execution_count": null,
      "outputs": [
        {
          "output_type": "execute_result",
          "data": {
            "text/plain": [
              "   unfinished  expected_hours  price  finished\n",
              "0           1              26    192         0\n",
              "1           1              88   9015         0\n",
              "2           1              89   2577         0\n",
              "3           1              42    275         0\n",
              "4           1              39    170         0\n",
              "5           1              33    173         0\n",
              "6           1              64   1965         0\n",
              "7           1              99   1993         0\n",
              "8           1              45    278         0\n",
              "9           0              96  12479         1"
            ],
            "text/html": [
              "\n",
              "  <div id=\"df-49e6e739-f142-45a1-84e1-6148cb74c0ea\">\n",
              "    <div class=\"colab-df-container\">\n",
              "      <div>\n",
              "<style scoped>\n",
              "    .dataframe tbody tr th:only-of-type {\n",
              "        vertical-align: middle;\n",
              "    }\n",
              "\n",
              "    .dataframe tbody tr th {\n",
              "        vertical-align: top;\n",
              "    }\n",
              "\n",
              "    .dataframe thead th {\n",
              "        text-align: right;\n",
              "    }\n",
              "</style>\n",
              "<table border=\"1\" class=\"dataframe\">\n",
              "  <thead>\n",
              "    <tr style=\"text-align: right;\">\n",
              "      <th></th>\n",
              "      <th>unfinished</th>\n",
              "      <th>expected_hours</th>\n",
              "      <th>price</th>\n",
              "      <th>finished</th>\n",
              "    </tr>\n",
              "  </thead>\n",
              "  <tbody>\n",
              "    <tr>\n",
              "      <th>0</th>\n",
              "      <td>1</td>\n",
              "      <td>26</td>\n",
              "      <td>192</td>\n",
              "      <td>0</td>\n",
              "    </tr>\n",
              "    <tr>\n",
              "      <th>1</th>\n",
              "      <td>1</td>\n",
              "      <td>88</td>\n",
              "      <td>9015</td>\n",
              "      <td>0</td>\n",
              "    </tr>\n",
              "    <tr>\n",
              "      <th>2</th>\n",
              "      <td>1</td>\n",
              "      <td>89</td>\n",
              "      <td>2577</td>\n",
              "      <td>0</td>\n",
              "    </tr>\n",
              "    <tr>\n",
              "      <th>3</th>\n",
              "      <td>1</td>\n",
              "      <td>42</td>\n",
              "      <td>275</td>\n",
              "      <td>0</td>\n",
              "    </tr>\n",
              "    <tr>\n",
              "      <th>4</th>\n",
              "      <td>1</td>\n",
              "      <td>39</td>\n",
              "      <td>170</td>\n",
              "      <td>0</td>\n",
              "    </tr>\n",
              "    <tr>\n",
              "      <th>5</th>\n",
              "      <td>1</td>\n",
              "      <td>33</td>\n",
              "      <td>173</td>\n",
              "      <td>0</td>\n",
              "    </tr>\n",
              "    <tr>\n",
              "      <th>6</th>\n",
              "      <td>1</td>\n",
              "      <td>64</td>\n",
              "      <td>1965</td>\n",
              "      <td>0</td>\n",
              "    </tr>\n",
              "    <tr>\n",
              "      <th>7</th>\n",
              "      <td>1</td>\n",
              "      <td>99</td>\n",
              "      <td>1993</td>\n",
              "      <td>0</td>\n",
              "    </tr>\n",
              "    <tr>\n",
              "      <th>8</th>\n",
              "      <td>1</td>\n",
              "      <td>45</td>\n",
              "      <td>278</td>\n",
              "      <td>0</td>\n",
              "    </tr>\n",
              "    <tr>\n",
              "      <th>9</th>\n",
              "      <td>0</td>\n",
              "      <td>96</td>\n",
              "      <td>12479</td>\n",
              "      <td>1</td>\n",
              "    </tr>\n",
              "  </tbody>\n",
              "</table>\n",
              "</div>\n",
              "      <button class=\"colab-df-convert\" onclick=\"convertToInteractive('df-49e6e739-f142-45a1-84e1-6148cb74c0ea')\"\n",
              "              title=\"Convert this dataframe to an interactive table.\"\n",
              "              style=\"display:none;\">\n",
              "        \n",
              "  <svg xmlns=\"http://www.w3.org/2000/svg\" height=\"24px\"viewBox=\"0 0 24 24\"\n",
              "       width=\"24px\">\n",
              "    <path d=\"M0 0h24v24H0V0z\" fill=\"none\"/>\n",
              "    <path d=\"M18.56 5.44l.94 2.06.94-2.06 2.06-.94-2.06-.94-.94-2.06-.94 2.06-2.06.94zm-11 1L8.5 8.5l.94-2.06 2.06-.94-2.06-.94L8.5 2.5l-.94 2.06-2.06.94zm10 10l.94 2.06.94-2.06 2.06-.94-2.06-.94-.94-2.06-.94 2.06-2.06.94z\"/><path d=\"M17.41 7.96l-1.37-1.37c-.4-.4-.92-.59-1.43-.59-.52 0-1.04.2-1.43.59L10.3 9.45l-7.72 7.72c-.78.78-.78 2.05 0 2.83L4 21.41c.39.39.9.59 1.41.59.51 0 1.02-.2 1.41-.59l7.78-7.78 2.81-2.81c.8-.78.8-2.07 0-2.86zM5.41 20L4 18.59l7.72-7.72 1.47 1.35L5.41 20z\"/>\n",
              "  </svg>\n",
              "      </button>\n",
              "      \n",
              "  <style>\n",
              "    .colab-df-container {\n",
              "      display:flex;\n",
              "      flex-wrap:wrap;\n",
              "      gap: 12px;\n",
              "    }\n",
              "\n",
              "    .colab-df-convert {\n",
              "      background-color: #E8F0FE;\n",
              "      border: none;\n",
              "      border-radius: 50%;\n",
              "      cursor: pointer;\n",
              "      display: none;\n",
              "      fill: #1967D2;\n",
              "      height: 32px;\n",
              "      padding: 0 0 0 0;\n",
              "      width: 32px;\n",
              "    }\n",
              "\n",
              "    .colab-df-convert:hover {\n",
              "      background-color: #E2EBFA;\n",
              "      box-shadow: 0px 1px 2px rgba(60, 64, 67, 0.3), 0px 1px 3px 1px rgba(60, 64, 67, 0.15);\n",
              "      fill: #174EA6;\n",
              "    }\n",
              "\n",
              "    [theme=dark] .colab-df-convert {\n",
              "      background-color: #3B4455;\n",
              "      fill: #D2E3FC;\n",
              "    }\n",
              "\n",
              "    [theme=dark] .colab-df-convert:hover {\n",
              "      background-color: #434B5C;\n",
              "      box-shadow: 0px 1px 3px 1px rgba(0, 0, 0, 0.15);\n",
              "      filter: drop-shadow(0px 1px 2px rgba(0, 0, 0, 0.3));\n",
              "      fill: #FFFFFF;\n",
              "    }\n",
              "  </style>\n",
              "\n",
              "      <script>\n",
              "        const buttonEl =\n",
              "          document.querySelector('#df-49e6e739-f142-45a1-84e1-6148cb74c0ea button.colab-df-convert');\n",
              "        buttonEl.style.display =\n",
              "          google.colab.kernel.accessAllowed ? 'block' : 'none';\n",
              "\n",
              "        async function convertToInteractive(key) {\n",
              "          const element = document.querySelector('#df-49e6e739-f142-45a1-84e1-6148cb74c0ea');\n",
              "          const dataTable =\n",
              "            await google.colab.kernel.invokeFunction('convertToInteractive',\n",
              "                                                     [key], {});\n",
              "          if (!dataTable) return;\n",
              "\n",
              "          const docLinkHtml = 'Like what you see? Visit the ' +\n",
              "            '<a target=\"_blank\" href=https://colab.research.google.com/notebooks/data_table.ipynb>data table notebook</a>'\n",
              "            + ' to learn more about interactive tables.';\n",
              "          element.innerHTML = '';\n",
              "          dataTable['output_type'] = 'display_data';\n",
              "          await google.colab.output.renderOutput(dataTable, element);\n",
              "          const docLink = document.createElement('div');\n",
              "          docLink.innerHTML = docLinkHtml;\n",
              "          element.appendChild(docLink);\n",
              "        }\n",
              "      </script>\n",
              "    </div>\n",
              "  </div>\n",
              "  "
            ]
          },
          "metadata": {},
          "execution_count": 134
        }
      ]
    },
    {
      "cell_type": "markdown",
      "source": [
        "## Using Seaborn"
      ],
      "metadata": {
        "id": "BYr1vD0FwNfg"
      }
    },
    {
      "cell_type": "code",
      "source": [
        "import seaborn as sns\n",
        "sns.scatterplot(x='expected_hours', y='price',hue='finished', data=dados)"
      ],
      "metadata": {
        "colab": {
          "base_uri": "https://localhost:8080/",
          "height": 467
        },
        "id": "XFkPITFywK95",
        "outputId": "c37f2e2b-927c-4f88-849e-8fb8e47557bd"
      },
      "execution_count": null,
      "outputs": [
        {
          "output_type": "execute_result",
          "data": {
            "text/plain": [
              "<Axes: xlabel='expected_hours', ylabel='price'>"
            ]
          },
          "metadata": {},
          "execution_count": 135
        },
        {
          "output_type": "display_data",
          "data": {
            "text/plain": [
              "<Figure size 640x480 with 1 Axes>"
            ],
            "image/png": "[encoded data removed]"
          },
          "metadata": {}
        }
      ]
    },
    {
      "cell_type": "code",
      "source": [
        "sns.relplot(x='expected_hours', y='price',col='finished', hue='unfinished', data=dados)"
      ],
      "metadata": {
        "colab": {
          "base_uri": "https://localhost:8080/",
          "height": 391
        },
        "id": "ys7V-oeBwz2k",
        "outputId": "dade0859-a126-40ec-8274-8955351232f3"
      },
      "execution_count": null,
      "outputs": [
        {
          "output_type": "execute_result",
          "data": {
            "text/plain": [
              "<seaborn.axisgrid.FacetGrid at 0x7f39402c20e0>"
            ]
          },
          "metadata": {},
          "execution_count": 136
        },
        {
          "output_type": "display_data",
          "data": {
            "text/plain": [
              "<Figure size 1083.36x500 with 2 Axes>"
            ],
            "image/png": "[encoded data removed]"
          },
          "metadata": {}
        }
      ]
    },
    {
      "cell_type": "markdown",
      "source": [
        "Visually, it seens that some value/hour of the projects were not ended."
      ],
      "metadata": {
        "id": "tPBGTLRdxEnP"
      }
    },
    {
      "cell_type": "code",
      "source": [
        "x=dados[['expected_hours',\t'price']]\n",
        "y=dados['finished']\n",
        "model = LinearSVC()\n",
        "\n",
        "x_train, x_test, y_train, y_test = train_test_split(x, y,\n",
        "  test_size=0.25, random_state=SEED, stratify =y)\n",
        "model.fit(x_train, y_train)\n",
        "pred = model.predict(x_test)\n",
        "acc = (accuracy_score(y_test, pred)*100)\n",
        "print(f'We trained with n={len(x_train)} for x and tested with n={len(x_test)}')\n",
        "print('The Accuracy is %.2f' % acc + '%')"
      ],
      "metadata": {
        "colab": {
          "base_uri": "https://localhost:8080/"
        },
        "id": "RT8Y1iryxb5H",
        "outputId": "8762ab84-893e-4cdf-e13c-5fa7be0f9c37"
      },
      "execution_count": null,
      "outputs": [
        {
          "output_type": "stream",
          "name": "stdout",
          "text": [
            "We trained with n=1617 for x and tested with n=540\n",
            "The Accuracy is 52.59%\n"
          ]
        },
        {
          "output_type": "stream",
          "name": "stderr",
          "text": [
            "/usr/local/lib/python3.10/dist-packages/sklearn/svm/_base.py:1244: ConvergenceWarning: Liblinear failed to converge, increase the number of iterations.\n",
            "  warnings.warn(\n"
          ]
        }
      ]
    },
    {
      "cell_type": "markdown",
      "source": [
        "Acc is not that high, but that doesn't mean the model is bad. We have to compare it with another one to verify if the current acc is indeed \"bad\"."
      ],
      "metadata": {
        "id": "airuWMXZyk5X"
      }
    },
    {
      "cell_type": "code",
      "source": [
        "import numpy as np\n",
        "my_pred = np.ones(540)\n",
        "acc = (accuracy_score(y_test, my_pred)*100)\n",
        "print('The accuracy is %.2f' % acc + '%')"
      ],
      "metadata": {
        "colab": {
          "base_uri": "https://localhost:8080/"
        },
        "id": "n0bZ4w5tyjZF",
        "outputId": "5057cd57-90ec-4cfe-b0ac-dc9d11f229de"
      },
      "execution_count": null,
      "outputs": [
        {
          "output_type": "stream",
          "name": "stdout",
          "text": [
            "The accuracy is 52.59%\n"
          ]
        }
      ]
    },
    {
      "cell_type": "markdown",
      "source": [
        "The baseline forecast considering only class 1 is close to the algorithm's forecast. With this, we can infer that the model is not suitable, or is bad for these data."
      ],
      "metadata": {
        "id": "l4AOjsFlzpLj"
      }
    },
    {
      "cell_type": "markdown",
      "source": [
        "## Improving the model"
      ],
      "metadata": {
        "id": "bCg7LXZN0ZxB"
      }
    },
    {
      "cell_type": "code",
      "source": [
        "x_min = x_test.expected_hours.min()\n",
        "x_max = x_test.expected_hours.max()\n",
        "y_min = x_test.price.min()\n",
        "y_max = x_test.price.max()\n"
      ],
      "metadata": {
        "id": "p1S58m_OzU87"
      },
      "execution_count": null,
      "outputs": []
    },
    {
      "cell_type": "code",
      "source": [
        "pixel = 100\n",
        "x_ax =np.arange(x_min, x_max, (x_max-x_min)/pixel)\n",
        "y_ax =np.arange(y_min, y_max, (y_max-y_min)/pixel)\n",
        "xx, yy = np.meshgrid(x_ax, y_ax)\n",
        "dots = np.c_[xx.ravel(), yy.ravel()]\n",
        "z = model.predict(dots)\n",
        "z = z.reshape(xx.shape)\n",
        "\n",
        "import matplotlib.pyplot as plt\n",
        "plt.contourf(xx, yy, z, alpha=0.3)\n",
        "plt.scatter(x_test.expected_hours, x_test.price, c=y_test, s=1)"
      ],
      "metadata": {
        "colab": {
          "base_uri": "https://localhost:8080/",
          "height": 502
        },
        "id": "90jC0kt-1aSD",
        "outputId": "5b9eeaa6-4f49-4805-b5f2-bdcafa4fe161"
      },
      "execution_count": null,
      "outputs": [
        {
          "output_type": "stream",
          "name": "stderr",
          "text": [
            "/usr/local/lib/python3.10/dist-packages/sklearn/base.py:439: UserWarning: X does not have valid feature names, but LinearSVC was fitted with feature names\n",
            "  warnings.warn(\n"
          ]
        },
        {
          "output_type": "execute_result",
          "data": {
            "text/plain": [
              "<matplotlib.collections.PathCollection at 0x7f39405430d0>"
            ]
          },
          "metadata": {},
          "execution_count": 140
        },
        {
          "output_type": "display_data",
          "data": {
            "text/plain": [
              "<Figure size 640x480 with 1 Axes>"
            ],
            "image/png": "[encoded data removed]"
          },
          "metadata": {}
        }
      ]
    },
    {
      "cell_type": "markdown",
      "source": [
        "The line that defines the separation of classes 0 and 1 is very poorly positioned and consequently does not explain the difference between classes. A straight line would not separate the data in this dataset."
      ],
      "metadata": {
        "id": "ZkLBzvIE4m85"
      }
    },
    {
      "cell_type": "markdown",
      "source": [
        "## Testing Support vector classification (SVC)"
      ],
      "metadata": {
        "id": "0UXK0SMo6152"
      }
    },
    {
      "cell_type": "code",
      "source": [
        "from sklearn.svm import SVC\n",
        "\n",
        "x=dados[['expected_hours',\t'price']]\n",
        "y=dados['finished']\n",
        "model = SVC()\n",
        "\n",
        "x_train, x_test, y_train, y_test = train_test_split(x, y,\n",
        "  test_size=0.25, random_state=SEED, stratify =y)\n",
        "model.fit(x_train, y_train)\n",
        "pred = model.predict(x_test)\n",
        "acc = (accuracy_score(y_test, pred)*100)\n",
        "print(f'We trained with n={len(x_train)} for x and tested with n={len(x_test)}')\n",
        "print('The Accuracy is %.2f' % acc + '%')"
      ],
      "metadata": {
        "colab": {
          "base_uri": "https://localhost:8080/"
        },
        "id": "9hLxTSD04yLH",
        "outputId": "90256938-0d5d-46c9-9feb-ffa1113f497d"
      },
      "execution_count": null,
      "outputs": [
        {
          "output_type": "stream",
          "name": "stdout",
          "text": [
            "We trained with n=1617 for x and tested with n=540\n",
            "The Accuracy is 53.15%\n"
          ]
        }
      ]
    },
    {
      "cell_type": "code",
      "source": [
        "x_min = x_test.expected_hours.min()\n",
        "x_max = x_test.expected_hours.max()\n",
        "y_min = x_test.price.min()\n",
        "y_max = x_test.price.max()\n",
        "\n",
        "pixel = 100\n",
        "x_ax =np.arange(x_min, x_max, (x_max-x_min)/pixel)\n",
        "y_ax =np.arange(y_min, y_max, (y_max-y_min)/pixel)\n",
        "xx, yy = np.meshgrid(x_ax, y_ax)\n",
        "dots = np.c_[xx.ravel(), yy.ravel()]\n",
        "z = model.predict(dots)\n",
        "z = z.reshape(xx.shape)\n",
        "\n",
        "import matplotlib.pyplot as plt\n",
        "plt.contourf(xx, yy, z, alpha=0.3)\n",
        "plt.scatter(x_test.expected_hours, x_test.price, c=y_test, s=1)"
      ],
      "metadata": {
        "colab": {
          "base_uri": "https://localhost:8080/",
          "height": 502
        },
        "id": "V0SCqefo7Y2Q",
        "outputId": "c2c40e36-5c3c-480d-9672-1b5cff2ad6a8"
      },
      "execution_count": null,
      "outputs": [
        {
          "output_type": "stream",
          "name": "stderr",
          "text": [
            "/usr/local/lib/python3.10/dist-packages/sklearn/base.py:439: UserWarning: X does not have valid feature names, but SVC was fitted with feature names\n",
            "  warnings.warn(\n"
          ]
        },
        {
          "output_type": "execute_result",
          "data": {
            "text/plain": [
              "<matplotlib.collections.PathCollection at 0x7f39400c5180>"
            ]
          },
          "metadata": {},
          "execution_count": 142
        },
        {
          "output_type": "display_data",
          "data": {
            "text/plain": [
              "<Figure size 640x480 with 1 Axes>"
            ],
            "image/png": "[encoded data removed]"
          },
          "metadata": {}
        }
      ]
    },
    {
      "cell_type": "markdown",
      "source": [
        "Because we have high variation values and scale, the models cannot predict with acceptable accuracy. It will be necessary to perform a normalization of the data."
      ],
      "metadata": {
        "id": "SjE0djpa7ng-"
      }
    },
    {
      "cell_type": "code",
      "source": [
        "from sklearn.preprocessing import StandardScaler\n",
        "\n",
        "scaler = StandardScaler()\n",
        "scaler.fit(x_train)\n",
        "\n",
        "from sklearn.svm import SVC\n",
        "\n",
        "x=dados[['expected_hours',\t'price']]\n",
        "y=dados['finished']\n",
        "model = SVC()\n",
        "\n",
        "raw_x_train, raw_x_test, y_train, y_test = train_test_split(x, y,\n",
        "  test_size=0.25, random_state=SEED, stratify =y)\n",
        "\n",
        "scaler.fit(raw_x_train)\n",
        "\n",
        "x_train = scaler.transform(raw_x_train)\n",
        "x_test = scaler.transform(raw_x_test)\n",
        "\n",
        "model.fit(x_train, y_train)\n",
        "pred = model.predict(x_test)\n",
        "acc = (accuracy_score(y_test, pred)*100)\n",
        "print(f'We trained with n={len(x_train)} for x and tested with n={len(x_test)}')\n",
        "print('The Accuracy is %.2f' % acc + '%')"
      ],
      "metadata": {
        "colab": {
          "base_uri": "https://localhost:8080/"
        },
        "id": "5b3D8n0e7ymX",
        "outputId": "6381b415-8c6f-416b-e26d-b3a26d264579"
      },
      "execution_count": null,
      "outputs": [
        {
          "output_type": "stream",
          "name": "stdout",
          "text": [
            "We trained with n=1617 for x and tested with n=540\n",
            "The Accuracy is 70.37%\n"
          ]
        }
      ]
    },
    {
      "cell_type": "markdown",
      "source": [
        "The ACC has increased!"
      ],
      "metadata": {
        "id": "4bFkBNZ982YY"
      }
    },
    {
      "cell_type": "code",
      "source": [
        "data_x = x_test[:,0]\n",
        "data_y = x_test[:,1]\n",
        "\n",
        "x_min = data_x.min()\n",
        "x_max = data_x.max()\n",
        "y_min = data_y.min()\n",
        "y_max = data_y.max()\n",
        "\n",
        "pixel = 100\n",
        "x_ax =np.arange(x_min, x_max, (x_max-x_min)/pixel)\n",
        "y_ax =np.arange(y_min, y_max, (y_max-y_min)/pixel)\n",
        "xx, yy = np.meshgrid(x_ax, y_ax)\n",
        "dots = np.c_[xx.ravel(), yy.ravel()]\n",
        "z = model.predict(dots)\n",
        "z = z.reshape(xx.shape)\n",
        "\n",
        "import matplotlib.pyplot as plt\n",
        "plt.contourf(xx, yy, z, alpha=0.3)\n",
        "plt.scatter(data_x, data_y, c=y_test, s=1)"
      ],
      "metadata": {
        "colab": {
          "base_uri": "https://localhost:8080/",
          "height": 447
        },
        "id": "bHno546e8_BH",
        "outputId": "7746c1f5-cdc7-4f9e-fac1-8e9d74e97434"
      },
      "execution_count": null,
      "outputs": [
        {
          "output_type": "execute_result",
          "data": {
            "text/plain": [
              "<matplotlib.collections.PathCollection at 0x7f394004eb00>"
            ]
          },
          "metadata": {},
          "execution_count": 144
        },
        {
          "output_type": "display_data",
          "data": {
            "text/plain": [
              "<Figure size 640x480 with 1 Axes>"
            ],
            "image/png": "[encoded data removed]"
          },
          "metadata": {}
        }
      ]
    },
    {
      "cell_type": "markdown",
      "source": [
        "In comparison with the other plots, it is clear that one can see a separation of two distinct groups in a easier way."
      ],
      "metadata": {
        "id": "ysoBLs5J9pzN"
      }
    },
    {
      "cell_type": "markdown",
      "source": [
        "## Another model for another problem"
      ],
      "metadata": {
        "id": "LKtYGKDe-MLx"
      }
    },
    {
      "cell_type": "code",
      "source": [
        "uri = \"https://gist.githubusercontent.com/guilhermesilveira/4d1d4a16ccbf6ea4e0a64a38a24ec884/raw/afd05cb0c796d18f3f5a6537053ded308ba94bf7/car-prices.csv\"\n",
        "dados = pd.read_csv(uri)\n",
        "map = {'yes':1, 'no':0}\n",
        "dados['sold']=dados['sold'].map(map)\n",
        "dados['age'] = dados['model_year'].max()-dados['model_year']\n",
        "dados = dados.drop(columns = ['Unnamed: 0', 'model_year'], axis=1)\n",
        "dados.head()"
      ],
      "metadata": {
        "colab": {
          "base_uri": "https://localhost:8080/",
          "height": 206
        },
        "id": "aW59fKQ49oIY",
        "outputId": "06175a03-3a70-41f9-94ca-c2827f858ada"
      },
      "execution_count": null,
      "outputs": [
        {
          "output_type": "execute_result",
          "data": {
            "text/plain": [
              "   mileage_per_year      price  sold  age\n",
              "0             21801   30941.02     1   17\n",
              "1              7843   40557.96     1   19\n",
              "2              7109   89627.50     0   11\n",
              "3             26823   95276.14     0    2\n",
              "4              7935  117384.68     1    3"
            ],
            "text/html": [
              "\n",
              "  <div id=\"df-6470d4d6-b536-45c3-a7df-24f02e34a880\">\n",
              "    <div class=\"colab-df-container\">\n",
              "      <div>\n",
              "<style scoped>\n",
              "    .dataframe tbody tr th:only-of-type {\n",
              "        vertical-align: middle;\n",
              "    }\n",
              "\n",
              "    .dataframe tbody tr th {\n",
              "        vertical-align: top;\n",
              "    }\n",
              "\n",
              "    .dataframe thead th {\n",
              "        text-align: right;\n",
              "    }\n",
              "</style>\n",
              "<table border=\"1\" class=\"dataframe\">\n",
              "  <thead>\n",
              "    <tr style=\"text-align: right;\">\n",
              "      <th></th>\n",
              "      <th>mileage_per_year</th>\n",
              "      <th>price</th>\n",
              "      <th>sold</th>\n",
              "      <th>age</th>\n",
              "    </tr>\n",
              "  </thead>\n",
              "  <tbody>\n",
              "    <tr>\n",
              "      <th>0</th>\n",
              "      <td>21801</td>\n",
              "      <td>30941.02</td>\n",
              "      <td>1</td>\n",
              "      <td>17</td>\n",
              "    </tr>\n",
              "    <tr>\n",
              "      <th>1</th>\n",
              "      <td>7843</td>\n",
              "      <td>40557.96</td>\n",
              "      <td>1</td>\n",
              "      <td>19</td>\n",
              "    </tr>\n",
              "    <tr>\n",
              "      <th>2</th>\n",
              "      <td>7109</td>\n",
              "      <td>89627.50</td>\n",
              "      <td>0</td>\n",
              "      <td>11</td>\n",
              "    </tr>\n",
              "    <tr>\n",
              "      <th>3</th>\n",
              "      <td>26823</td>\n",
              "      <td>95276.14</td>\n",
              "      <td>0</td>\n",
              "      <td>2</td>\n",
              "    </tr>\n",
              "    <tr>\n",
              "      <th>4</th>\n",
              "      <td>7935</td>\n",
              "      <td>117384.68</td>\n",
              "      <td>1</td>\n",
              "      <td>3</td>\n",
              "    </tr>\n",
              "  </tbody>\n",
              "</table>\n",
              "</div>\n",
              "      <button class=\"colab-df-convert\" onclick=\"convertToInteractive('df-6470d4d6-b536-45c3-a7df-24f02e34a880')\"\n",
              "              title=\"Convert this dataframe to an interactive table.\"\n",
              "              style=\"display:none;\">\n",
              "        \n",
              "  <svg xmlns=\"http://www.w3.org/2000/svg\" height=\"24px\"viewBox=\"0 0 24 24\"\n",
              "       width=\"24px\">\n",
              "    <path d=\"M0 0h24v24H0V0z\" fill=\"none\"/>\n",
              "    <path d=\"M18.56 5.44l.94 2.06.94-2.06 2.06-.94-2.06-.94-.94-2.06-.94 2.06-2.06.94zm-11 1L8.5 8.5l.94-2.06 2.06-.94-2.06-.94L8.5 2.5l-.94 2.06-2.06.94zm10 10l.94 2.06.94-2.06 2.06-.94-2.06-.94-.94-2.06-.94 2.06-2.06.94z\"/><path d=\"M17.41 7.96l-1.37-1.37c-.4-.4-.92-.59-1.43-.59-.52 0-1.04.2-1.43.59L10.3 9.45l-7.72 7.72c-.78.78-.78 2.05 0 2.83L4 21.41c.39.39.9.59 1.41.59.51 0 1.02-.2 1.41-.59l7.78-7.78 2.81-2.81c.8-.78.8-2.07 0-2.86zM5.41 20L4 18.59l7.72-7.72 1.47 1.35L5.41 20z\"/>\n",
              "  </svg>\n",
              "      </button>\n",
              "      \n",
              "  <style>\n",
              "    .colab-df-container {\n",
              "      display:flex;\n",
              "      flex-wrap:wrap;\n",
              "      gap: 12px;\n",
              "    }\n",
              "\n",
              "    .colab-df-convert {\n",
              "      background-color: #E8F0FE;\n",
              "      border: none;\n",
              "      border-radius: 50%;\n",
              "      cursor: pointer;\n",
              "      display: none;\n",
              "      fill: #1967D2;\n",
              "      height: 32px;\n",
              "      padding: 0 0 0 0;\n",
              "      width: 32px;\n",
              "    }\n",
              "\n",
              "    .colab-df-convert:hover {\n",
              "      background-color: #E2EBFA;\n",
              "      box-shadow: 0px 1px 2px rgba(60, 64, 67, 0.3), 0px 1px 3px 1px rgba(60, 64, 67, 0.15);\n",
              "      fill: #174EA6;\n",
              "    }\n",
              "\n",
              "    [theme=dark] .colab-df-convert {\n",
              "      background-color: #3B4455;\n",
              "      fill: #D2E3FC;\n",
              "    }\n",
              "\n",
              "    [theme=dark] .colab-df-convert:hover {\n",
              "      background-color: #434B5C;\n",
              "      box-shadow: 0px 1px 3px 1px rgba(0, 0, 0, 0.15);\n",
              "      filter: drop-shadow(0px 1px 2px rgba(0, 0, 0, 0.3));\n",
              "      fill: #FFFFFF;\n",
              "    }\n",
              "  </style>\n",
              "\n",
              "      <script>\n",
              "        const buttonEl =\n",
              "          document.querySelector('#df-6470d4d6-b536-45c3-a7df-24f02e34a880 button.colab-df-convert');\n",
              "        buttonEl.style.display =\n",
              "          google.colab.kernel.accessAllowed ? 'block' : 'none';\n",
              "\n",
              "        async function convertToInteractive(key) {\n",
              "          const element = document.querySelector('#df-6470d4d6-b536-45c3-a7df-24f02e34a880');\n",
              "          const dataTable =\n",
              "            await google.colab.kernel.invokeFunction('convertToInteractive',\n",
              "                                                     [key], {});\n",
              "          if (!dataTable) return;\n",
              "\n",
              "          const docLinkHtml = 'Like what you see? Visit the ' +\n",
              "            '<a target=\"_blank\" href=https://colab.research.google.com/notebooks/data_table.ipynb>data table notebook</a>'\n",
              "            + ' to learn more about interactive tables.';\n",
              "          element.innerHTML = '';\n",
              "          dataTable['output_type'] = 'display_data';\n",
              "          await google.colab.output.renderOutput(dataTable, element);\n",
              "          const docLink = document.createElement('div');\n",
              "          docLink.innerHTML = docLinkHtml;\n",
              "          element.appendChild(docLink);\n",
              "        }\n",
              "      </script>\n",
              "    </div>\n",
              "  </div>\n",
              "  "
            ]
          },
          "metadata": {},
          "execution_count": 145
        }
      ]
    },
    {
      "cell_type": "code",
      "source": [
        "x =  dados[['price', 'age', 'mileage_per_year']]\n",
        "y = dados['sold']\n",
        "\n",
        "model = LinearSVC()\n",
        "\n",
        "x_train, x_test, y_train, y_test = train_test_split(x, y,\n",
        "  test_size=0.25, random_state=SEED, stratify =y)\n",
        "model.fit(x_train, y_train)\n",
        "pred = model.predict(x_test)\n",
        "acc = (accuracy_score(y_test, pred)*100)\n",
        "print(f'We trained with n={len(x_train)} for x and tested with n={len(x_test)}')\n",
        "print('The Accuracy is %.2f' % acc + '%')"
      ],
      "metadata": {
        "colab": {
          "base_uri": "https://localhost:8080/"
        },
        "id": "2KlLdm4OAvn_",
        "outputId": "db5e718f-6528-4e66-e2ab-375ec6b9957e"
      },
      "execution_count": null,
      "outputs": [
        {
          "output_type": "stream",
          "name": "stdout",
          "text": [
            "We trained with n=7500 for x and tested with n=2500\n",
            "The Accuracy is 62.84%\n"
          ]
        },
        {
          "output_type": "stream",
          "name": "stderr",
          "text": [
            "/usr/local/lib/python3.10/dist-packages/sklearn/svm/_base.py:1244: ConvergenceWarning: Liblinear failed to converge, increase the number of iterations.\n",
            "  warnings.warn(\n"
          ]
        }
      ]
    },
    {
      "cell_type": "code",
      "source": [
        "from sklearn.dummy import DummyClassifier\n",
        "dummy = DummyClassifier()\n",
        "\n",
        "dummy.fit(x_train, y_train)\n",
        "pred = dummy.predict(x_test)\n",
        "acc = (accuracy_score(y_test, pred)*100)\n",
        "print(f'We trained with n={len(x_train)} for x and tested with n={len(x_test)}')\n",
        "print('The Accuracy is %.2f' % acc + '%')"
      ],
      "metadata": {
        "colab": {
          "base_uri": "https://localhost:8080/"
        },
        "id": "vaqH8cV_BPYU",
        "outputId": "0952fa8c-2d57-4e09-9970-77b6a7448c0b"
      },
      "execution_count": null,
      "outputs": [
        {
          "output_type": "stream",
          "name": "stdout",
          "text": [
            "We trained with n=7500 for x and tested with n=2500\n",
            "The Accuracy is 58.00%\n"
          ]
        }
      ]
    },
    {
      "cell_type": "markdown",
      "source": [
        "Now one will use a baseline from sklearn. With it, it is possible to use a dummy and calculate the ACC."
      ],
      "metadata": {
        "id": "AKLdTdDYDwZl"
      }
    },
    {
      "cell_type": "code",
      "source": [
        "acc = (dummy.score(x_test ,y_test)*100)\n",
        "print(f'We trained with n={len(x_train)} for x and tested with n={len(x_test)}')\n",
        "print('The Accuracy is %.2f' % acc + '%')"
      ],
      "metadata": {
        "colab": {
          "base_uri": "https://localhost:8080/"
        },
        "id": "WGuComjBDTa6",
        "outputId": "53a9e8c5-762b-407d-acb6-aa7b1678a8ad"
      },
      "execution_count": null,
      "outputs": [
        {
          "output_type": "stream",
          "name": "stdout",
          "text": [
            "We trained with n=7500 for x and tested with n=2500\n",
            "The Accuracy is 58.00%\n"
          ]
        }
      ]
    },
    {
      "cell_type": "code",
      "source": [
        "scaler = StandardScaler()\n",
        "scaler.fit(x_train)\n",
        "\n",
        "model = SVC()\n",
        "\n",
        "raw_x_train, raw_x_test, y_train, y_test = train_test_split(x, y,\n",
        "  test_size=0.25, random_state=SEED, stratify =y)\n",
        "\n",
        "scaler.fit(raw_x_train)\n",
        "\n",
        "x_train = scaler.transform(raw_x_train)\n",
        "x_test = scaler.transform(raw_x_test)\n",
        "\n",
        "model.fit(x_train, y_train)\n",
        "pred = model.predict(x_test)\n",
        "acc = (accuracy_score(y_test, pred)*100)\n",
        "print(f'We trained with n={len(x_train)} for x and tested with n={len(x_test)}')\n",
        "print('The Accuracy is %.2f' % acc + '%')"
      ],
      "metadata": {
        "colab": {
          "base_uri": "https://localhost:8080/"
        },
        "id": "u8RuO82lEWHh",
        "outputId": "dc6555cc-b57a-4fe2-f600-1b287b549ac2"
      },
      "execution_count": null,
      "outputs": [
        {
          "output_type": "stream",
          "name": "stdout",
          "text": [
            "We trained with n=7500 for x and tested with n=2500\n",
            "The Accuracy is 75.92%\n"
          ]
        }
      ]
    },
    {
      "cell_type": "markdown",
      "source": [
        "# Using decision tree"
      ],
      "metadata": {
        "id": "bAQl4GpBFZbO"
      }
    },
    {
      "cell_type": "markdown",
      "source": [
        "To allow one to understand the best classification decision, it is common to use decision tree classifiers. Those trees are non-black box models which allows one to see the mechanism of classification that the models execute."
      ],
      "metadata": {
        "id": "4-Kpj7gPE-q3"
      }
    },
    {
      "cell_type": "code",
      "source": [
        "from sklearn.tree import DecisionTreeClassifier\n",
        "\n",
        "scaler = StandardScaler()\n",
        "scaler.fit(x_train)\n",
        "\n",
        "model = DecisionTreeClassifier(max_depth=3)\n",
        "\n",
        "raw_x_train, raw_x_test, y_train, y_test = train_test_split(x, y,\n",
        "  test_size=0.25, random_state=SEED, stratify =y)\n",
        "'''\n",
        "scaler.fit(raw_x_train)\n",
        "\n",
        "x_train = scaler.transform(raw_x_train)\n",
        "x_test = scaler.transform(raw_x_test)'''#not necessary for decision tree\n",
        "\n",
        "model.fit(raw_x_train, y_train)\n",
        "pred = model.predict(raw_x_test)\n",
        "acc = (accuracy_score(y_test, pred)*100)\n",
        "print(f'We trained with n={len(x_train)} for x and tested with n={len(x_test)}')\n",
        "print('The Accuracy is %.2f' % acc + '%')"
      ],
      "metadata": {
        "colab": {
          "base_uri": "https://localhost:8080/"
        },
        "id": "cPZMsNnhFyLN",
        "outputId": "e04aa5c6-34d6-4f7d-a2e2-0f0b6302810f"
      },
      "execution_count": null,
      "outputs": [
        {
          "output_type": "stream",
          "name": "stdout",
          "text": [
            "We trained with n=7500 for x and tested with n=2500\n",
            "The Accuracy is 78.40%\n"
          ]
        }
      ]
    },
    {
      "cell_type": "code",
      "source": [
        "from sklearn.tree import export_graphviz\n",
        "import graphviz\n",
        "features=x.columns\n",
        "dot_data = export_graphviz(model, out_file=None,\n",
        "                           filled=True, rounded=True,\n",
        "                           feature_names = features,\n",
        "                           class_names =['Não', 'Sim'] )\n",
        "\n",
        "graph = graphviz.Source(dot_data)\n",
        "graph"
      ],
      "metadata": {
        "colab": {
          "base_uri": "https://localhost:8080/",
          "height": 618
        },
        "id": "r9ylSXVoGSpk",
        "outputId": "89ebd3f0-677d-41e9-eb0a-066926ab29d2"
      },
      "execution_count": null,
      "outputs": [
        {
          "output_type": "execute_result",
          "data": {
            "image/svg+xml": "<?xml version=\"1.0\" encoding=\"UTF-8\" standalone=\"no\"?>\n<!DOCTYPE svg PUBLIC \"-//W3C//DTD SVG 1.1//EN\"\n \"http://www.w3.org/Graphics/SVG/1.1/DTD/svg11.dtd\">\n<!-- Generated by graphviz version 2.43.0 (0)\n -->\n<!-- Title: Tree Pages: 1 -->\n<svg width=\"876pt\" height=\"433pt\"\n viewBox=\"0.00 0.00 876.00 433.00\" xmlns=\"http://www.w3.org/2000/svg\" xmlns:xlink=\"http://www.w3.org/1999/xlink\">\n<g id=\"graph0\" class=\"graph\" transform=\"scale(1 1) rotate(0) translate(4 429)\">\n<title>Tree</title>\n<polygon fill=\"white\" stroke=\"transparent\" points=\"-4,4 -4,-429 872,-429 872,4 -4,4\"/>\n<!-- 0 -->\n<g id=\"node1\" class=\"node\">\n<title>0</title>\n<path fill=\"#c8e4f8\" stroke=\"black\" d=\"M380.5,-425C380.5,-425 264.5,-425 264.5,-425 258.5,-425 252.5,-419 252.5,-413 252.5,-413 252.5,-354 252.5,-354 252.5,-348 258.5,-342 264.5,-342 264.5,-342 380.5,-342 380.5,-342 386.5,-342 392.5,-348 392.5,-354 392.5,-354 392.5,-413 392.5,-413 392.5,-419 386.5,-425 380.5,-425\"/>\n<text text-anchor=\"middle\" x=\"322.5\" y=\"-409.8\" font-family=\"Helvetica,sans-Serif\" font-size=\"14.00\">price &lt;= 59976.24</text>\n<text text-anchor=\"middle\" x=\"322.5\" y=\"-394.8\" font-family=\"Helvetica,sans-Serif\" font-size=\"14.00\">gini = 0.487</text>\n<text text-anchor=\"middle\" x=\"322.5\" y=\"-379.8\" font-family=\"Helvetica,sans-Serif\" font-size=\"14.00\">samples = 7500</text>\n<text text-anchor=\"middle\" x=\"322.5\" y=\"-364.8\" font-family=\"Helvetica,sans-Serif\" font-size=\"14.00\">value = [3150, 4350]</text>\n<text text-anchor=\"middle\" x=\"322.5\" y=\"-349.8\" font-family=\"Helvetica,sans-Serif\" font-size=\"14.00\">class = Sim</text>\n</g>\n<!-- 1 -->\n<g id=\"node2\" class=\"node\">\n<title>1</title>\n<path fill=\"#52a9e8\" stroke=\"black\" d=\"M285.5,-306C285.5,-306 175.5,-306 175.5,-306 169.5,-306 163.5,-300 163.5,-294 163.5,-294 163.5,-235 163.5,-235 163.5,-229 169.5,-223 175.5,-223 175.5,-223 285.5,-223 285.5,-223 291.5,-223 297.5,-229 297.5,-235 297.5,-235 297.5,-294 297.5,-294 297.5,-300 291.5,-306 285.5,-306\"/>\n<text text-anchor=\"middle\" x=\"230.5\" y=\"-290.8\" font-family=\"Helvetica,sans-Serif\" font-size=\"14.00\">price &lt;= 40083.385</text>\n<text text-anchor=\"middle\" x=\"230.5\" y=\"-275.8\" font-family=\"Helvetica,sans-Serif\" font-size=\"14.00\">gini = 0.198</text>\n<text text-anchor=\"middle\" x=\"230.5\" y=\"-260.8\" font-family=\"Helvetica,sans-Serif\" font-size=\"14.00\">samples = 3261</text>\n<text text-anchor=\"middle\" x=\"230.5\" y=\"-245.8\" font-family=\"Helvetica,sans-Serif\" font-size=\"14.00\">value = [364, 2897]</text>\n<text text-anchor=\"middle\" x=\"230.5\" y=\"-230.8\" font-family=\"Helvetica,sans-Serif\" font-size=\"14.00\">class = Sim</text>\n</g>\n<!-- 0&#45;&gt;1 -->\n<g id=\"edge1\" class=\"edge\">\n<title>0&#45;&gt;1</title>\n<path fill=\"none\" stroke=\"black\" d=\"M290.58,-341.91C283.52,-332.92 275.96,-323.32 268.68,-314.05\"/>\n<polygon fill=\"black\" stroke=\"black\" points=\"271.3,-311.72 262.36,-306.02 265.79,-316.05 271.3,-311.72\"/>\n<text text-anchor=\"middle\" x=\"259.39\" y=\"-327.14\" font-family=\"Helvetica,sans-Serif\" font-size=\"14.00\">True</text>\n</g>\n<!-- 6 -->\n<g id=\"node7\" class=\"node\">\n<title>6</title>\n<path fill=\"#f3c3a0\" stroke=\"black\" d=\"M549.5,-306C549.5,-306 375.5,-306 375.5,-306 369.5,-306 363.5,-300 363.5,-294 363.5,-294 363.5,-235 363.5,-235 363.5,-229 369.5,-223 375.5,-223 375.5,-223 549.5,-223 549.5,-223 555.5,-223 561.5,-229 561.5,-235 561.5,-235 561.5,-294 561.5,-294 561.5,-300 555.5,-306 549.5,-306\"/>\n<text text-anchor=\"middle\" x=\"462.5\" y=\"-290.8\" font-family=\"Helvetica,sans-Serif\" font-size=\"14.00\">mileage_per_year &lt;= 14990.0</text>\n<text text-anchor=\"middle\" x=\"462.5\" y=\"-275.8\" font-family=\"Helvetica,sans-Serif\" font-size=\"14.00\">gini = 0.451</text>\n<text text-anchor=\"middle\" x=\"462.5\" y=\"-260.8\" font-family=\"Helvetica,sans-Serif\" font-size=\"14.00\">samples = 4239</text>\n<text text-anchor=\"middle\" x=\"462.5\" y=\"-245.8\" font-family=\"Helvetica,sans-Serif\" font-size=\"14.00\">value = [2786, 1453]</text>\n<text text-anchor=\"middle\" x=\"462.5\" y=\"-230.8\" font-family=\"Helvetica,sans-Serif\" font-size=\"14.00\">class = Não</text>\n</g>\n<!-- 0&#45;&gt;6 -->\n<g id=\"edge6\" class=\"edge\">\n<title>0&#45;&gt;6</title>\n<path fill=\"none\" stroke=\"black\" d=\"M371.07,-341.91C382.37,-332.47 394.48,-322.34 406.08,-312.65\"/>\n<polygon fill=\"black\" stroke=\"black\" points=\"408.58,-315.12 414.01,-306.02 404.1,-309.75 408.58,-315.12\"/>\n<text text-anchor=\"middle\" x=\"411.79\" y=\"-327.22\" font-family=\"Helvetica,sans-Serif\" font-size=\"14.00\">False</text>\n</g>\n<!-- 2 -->\n<g id=\"node3\" class=\"node\">\n<title>2</title>\n<path fill=\"#399de5\" stroke=\"black\" d=\"M105,-179.5C105,-179.5 12,-179.5 12,-179.5 6,-179.5 0,-173.5 0,-167.5 0,-167.5 0,-123.5 0,-123.5 0,-117.5 6,-111.5 12,-111.5 12,-111.5 105,-111.5 105,-111.5 111,-111.5 117,-117.5 117,-123.5 117,-123.5 117,-167.5 117,-167.5 117,-173.5 111,-179.5 105,-179.5\"/>\n<text text-anchor=\"middle\" x=\"58.5\" y=\"-164.3\" font-family=\"Helvetica,sans-Serif\" font-size=\"14.00\">gini = 0.0</text>\n<text text-anchor=\"middle\" x=\"58.5\" y=\"-149.3\" font-family=\"Helvetica,sans-Serif\" font-size=\"14.00\">samples = 1425</text>\n<text text-anchor=\"middle\" x=\"58.5\" y=\"-134.3\" font-family=\"Helvetica,sans-Serif\" font-size=\"14.00\">value = [0, 1425]</text>\n<text text-anchor=\"middle\" x=\"58.5\" y=\"-119.3\" font-family=\"Helvetica,sans-Serif\" font-size=\"14.00\">class = Sim</text>\n</g>\n<!-- 1&#45;&gt;2 -->\n<g id=\"edge2\" class=\"edge\">\n<title>1&#45;&gt;2</title>\n<path fill=\"none\" stroke=\"black\" d=\"M170.83,-222.91C152.98,-210.77 133.46,-197.49 115.78,-185.46\"/>\n<polygon fill=\"black\" stroke=\"black\" points=\"117.5,-182.4 107.26,-179.67 113.56,-188.19 117.5,-182.4\"/>\n</g>\n<!-- 3 -->\n<g id=\"node4\" class=\"node\">\n<title>3</title>\n<path fill=\"#6ab5eb\" stroke=\"black\" d=\"M314,-187C314,-187 147,-187 147,-187 141,-187 135,-181 135,-175 135,-175 135,-116 135,-116 135,-110 141,-104 147,-104 147,-104 314,-104 314,-104 320,-104 326,-110 326,-116 326,-116 326,-175 326,-175 326,-181 320,-187 314,-187\"/>\n<text text-anchor=\"middle\" x=\"230.5\" y=\"-171.8\" font-family=\"Helvetica,sans-Serif\" font-size=\"14.00\">mileage_per_year &lt;= 6393.0</text>\n<text text-anchor=\"middle\" x=\"230.5\" y=\"-156.8\" font-family=\"Helvetica,sans-Serif\" font-size=\"14.00\">gini = 0.318</text>\n<text text-anchor=\"middle\" x=\"230.5\" y=\"-141.8\" font-family=\"Helvetica,sans-Serif\" font-size=\"14.00\">samples = 1836</text>\n<text text-anchor=\"middle\" x=\"230.5\" y=\"-126.8\" font-family=\"Helvetica,sans-Serif\" font-size=\"14.00\">value = [364, 1472]</text>\n<text text-anchor=\"middle\" x=\"230.5\" y=\"-111.8\" font-family=\"Helvetica,sans-Serif\" font-size=\"14.00\">class = Sim</text>\n</g>\n<!-- 1&#45;&gt;3 -->\n<g id=\"edge3\" class=\"edge\">\n<title>1&#45;&gt;3</title>\n<path fill=\"none\" stroke=\"black\" d=\"M230.5,-222.91C230.5,-214.65 230.5,-205.86 230.5,-197.3\"/>\n<polygon fill=\"black\" stroke=\"black\" points=\"234,-197.02 230.5,-187.02 227,-197.02 234,-197.02\"/>\n</g>\n<!-- 4 -->\n<g id=\"node5\" class=\"node\">\n<title>4</title>\n<path fill=\"#c0e0f7\" stroke=\"black\" d=\"M134.5,-68C134.5,-68 48.5,-68 48.5,-68 42.5,-68 36.5,-62 36.5,-56 36.5,-56 36.5,-12 36.5,-12 36.5,-6 42.5,0 48.5,0 48.5,0 134.5,0 134.5,0 140.5,0 146.5,-6 146.5,-12 146.5,-12 146.5,-56 146.5,-56 146.5,-62 140.5,-68 134.5,-68\"/>\n<text text-anchor=\"middle\" x=\"91.5\" y=\"-52.8\" font-family=\"Helvetica,sans-Serif\" font-size=\"14.00\">gini = 0.482</text>\n<text text-anchor=\"middle\" x=\"91.5\" y=\"-37.8\" font-family=\"Helvetica,sans-Serif\" font-size=\"14.00\">samples = 42</text>\n<text text-anchor=\"middle\" x=\"91.5\" y=\"-22.8\" font-family=\"Helvetica,sans-Serif\" font-size=\"14.00\">value = [17, 25]</text>\n<text text-anchor=\"middle\" x=\"91.5\" y=\"-7.8\" font-family=\"Helvetica,sans-Serif\" font-size=\"14.00\">class = Sim</text>\n</g>\n<!-- 3&#45;&gt;4 -->\n<g id=\"edge4\" class=\"edge\">\n<title>3&#45;&gt;4</title>\n<path fill=\"none\" stroke=\"black\" d=\"M178.74,-103.73C166.7,-94.24 153.9,-84.16 141.92,-74.72\"/>\n<polygon fill=\"black\" stroke=\"black\" points=\"143.79,-71.74 133.77,-68.3 139.46,-77.24 143.79,-71.74\"/>\n</g>\n<!-- 5 -->\n<g id=\"node6\" class=\"node\">\n<title>5</title>\n<path fill=\"#68b5eb\" stroke=\"black\" d=\"M284.5,-68C284.5,-68 176.5,-68 176.5,-68 170.5,-68 164.5,-62 164.5,-56 164.5,-56 164.5,-12 164.5,-12 164.5,-6 170.5,0 176.5,0 176.5,0 284.5,0 284.5,0 290.5,0 296.5,-6 296.5,-12 296.5,-12 296.5,-56 296.5,-56 296.5,-62 290.5,-68 284.5,-68\"/>\n<text text-anchor=\"middle\" x=\"230.5\" y=\"-52.8\" font-family=\"Helvetica,sans-Serif\" font-size=\"14.00\">gini = 0.312</text>\n<text text-anchor=\"middle\" x=\"230.5\" y=\"-37.8\" font-family=\"Helvetica,sans-Serif\" font-size=\"14.00\">samples = 1794</text>\n<text text-anchor=\"middle\" x=\"230.5\" y=\"-22.8\" font-family=\"Helvetica,sans-Serif\" font-size=\"14.00\">value = [347, 1447]</text>\n<text text-anchor=\"middle\" x=\"230.5\" y=\"-7.8\" font-family=\"Helvetica,sans-Serif\" font-size=\"14.00\">class = Sim</text>\n</g>\n<!-- 3&#45;&gt;5 -->\n<g id=\"edge5\" class=\"edge\">\n<title>3&#45;&gt;5</title>\n<path fill=\"none\" stroke=\"black\" d=\"M230.5,-103.73C230.5,-95.52 230.5,-86.86 230.5,-78.56\"/>\n<polygon fill=\"black\" stroke=\"black\" points=\"234,-78.3 230.5,-68.3 227,-78.3 234,-78.3\"/>\n</g>\n<!-- 7 -->\n<g id=\"node8\" class=\"node\">\n<title>7</title>\n<path fill=\"#fceee5\" stroke=\"black\" d=\"M520.5,-187C520.5,-187 404.5,-187 404.5,-187 398.5,-187 392.5,-181 392.5,-175 392.5,-175 392.5,-116 392.5,-116 392.5,-110 398.5,-104 404.5,-104 404.5,-104 520.5,-104 520.5,-104 526.5,-104 532.5,-110 532.5,-116 532.5,-116 532.5,-175 532.5,-175 532.5,-181 526.5,-187 520.5,-187\"/>\n<text text-anchor=\"middle\" x=\"462.5\" y=\"-171.8\" font-family=\"Helvetica,sans-Serif\" font-size=\"14.00\">price &lt;= 99965.645</text>\n<text text-anchor=\"middle\" x=\"462.5\" y=\"-156.8\" font-family=\"Helvetica,sans-Serif\" font-size=\"14.00\">gini = 0.498</text>\n<text text-anchor=\"middle\" x=\"462.5\" y=\"-141.8\" font-family=\"Helvetica,sans-Serif\" font-size=\"14.00\">samples = 2627</text>\n<text text-anchor=\"middle\" x=\"462.5\" y=\"-126.8\" font-family=\"Helvetica,sans-Serif\" font-size=\"14.00\">value = [1406, 1221]</text>\n<text text-anchor=\"middle\" x=\"462.5\" y=\"-111.8\" font-family=\"Helvetica,sans-Serif\" font-size=\"14.00\">class = Não</text>\n</g>\n<!-- 6&#45;&gt;7 -->\n<g id=\"edge7\" class=\"edge\">\n<title>6&#45;&gt;7</title>\n<path fill=\"none\" stroke=\"black\" d=\"M462.5,-222.91C462.5,-214.65 462.5,-205.86 462.5,-197.3\"/>\n<polygon fill=\"black\" stroke=\"black\" points=\"466,-197.02 462.5,-187.02 459,-197.02 466,-197.02\"/>\n</g>\n<!-- 10 -->\n<g id=\"node11\" class=\"node\">\n<title>10</title>\n<path fill=\"#e9965a\" stroke=\"black\" d=\"M729,-187C729,-187 612,-187 612,-187 606,-187 600,-181 600,-175 600,-175 600,-116 600,-116 600,-110 606,-104 612,-104 612,-104 729,-104 729,-104 735,-104 741,-110 741,-116 741,-116 741,-175 741,-175 741,-181 735,-187 729,-187\"/>\n<text text-anchor=\"middle\" x=\"670.5\" y=\"-171.8\" font-family=\"Helvetica,sans-Serif\" font-size=\"14.00\">price &lt;= 100076.957</text>\n<text text-anchor=\"middle\" x=\"670.5\" y=\"-156.8\" font-family=\"Helvetica,sans-Serif\" font-size=\"14.00\">gini = 0.246</text>\n<text text-anchor=\"middle\" x=\"670.5\" y=\"-141.8\" font-family=\"Helvetica,sans-Serif\" font-size=\"14.00\">samples = 1612</text>\n<text text-anchor=\"middle\" x=\"670.5\" y=\"-126.8\" font-family=\"Helvetica,sans-Serif\" font-size=\"14.00\">value = [1380, 232]</text>\n<text text-anchor=\"middle\" x=\"670.5\" y=\"-111.8\" font-family=\"Helvetica,sans-Serif\" font-size=\"14.00\">class = Não</text>\n</g>\n<!-- 6&#45;&gt;10 -->\n<g id=\"edge10\" class=\"edge\">\n<title>6&#45;&gt;10</title>\n<path fill=\"none\" stroke=\"black\" d=\"M534.66,-222.91C552.9,-212.65 572.57,-201.58 591.14,-191.14\"/>\n<polygon fill=\"black\" stroke=\"black\" points=\"592.87,-194.18 599.87,-186.23 589.44,-188.08 592.87,-194.18\"/>\n</g>\n<!-- 8 -->\n<g id=\"node9\" class=\"node\">\n<title>8</title>\n<path fill=\"#f8dfcc\" stroke=\"black\" d=\"M434.5,-68C434.5,-68 326.5,-68 326.5,-68 320.5,-68 314.5,-62 314.5,-56 314.5,-56 314.5,-12 314.5,-12 314.5,-6 320.5,0 326.5,0 326.5,0 434.5,0 434.5,0 440.5,0 446.5,-6 446.5,-12 446.5,-12 446.5,-56 446.5,-56 446.5,-62 440.5,-68 434.5,-68\"/>\n<text text-anchor=\"middle\" x=\"380.5\" y=\"-52.8\" font-family=\"Helvetica,sans-Serif\" font-size=\"14.00\">gini = 0.489</text>\n<text text-anchor=\"middle\" x=\"380.5\" y=\"-37.8\" font-family=\"Helvetica,sans-Serif\" font-size=\"14.00\">samples = 2206</text>\n<text text-anchor=\"middle\" x=\"380.5\" y=\"-22.8\" font-family=\"Helvetica,sans-Serif\" font-size=\"14.00\">value = [1266, 940]</text>\n<text text-anchor=\"middle\" x=\"380.5\" y=\"-7.8\" font-family=\"Helvetica,sans-Serif\" font-size=\"14.00\">class = Não</text>\n</g>\n<!-- 7&#45;&gt;8 -->\n<g id=\"edge8\" class=\"edge\">\n<title>7&#45;&gt;8</title>\n<path fill=\"none\" stroke=\"black\" d=\"M431.97,-103.73C425.27,-94.79 418.18,-85.32 411.47,-76.36\"/>\n<polygon fill=\"black\" stroke=\"black\" points=\"414.23,-74.21 405.44,-68.3 408.63,-78.4 414.23,-74.21\"/>\n</g>\n<!-- 9 -->\n<g id=\"node10\" class=\"node\">\n<title>9</title>\n<path fill=\"#9ccef2\" stroke=\"black\" d=\"M578,-68C578,-68 477,-68 477,-68 471,-68 465,-62 465,-56 465,-56 465,-12 465,-12 465,-6 471,0 477,0 477,0 578,0 578,0 584,0 590,-6 590,-12 590,-12 590,-56 590,-56 590,-62 584,-68 578,-68\"/>\n<text text-anchor=\"middle\" x=\"527.5\" y=\"-52.8\" font-family=\"Helvetica,sans-Serif\" font-size=\"14.00\">gini = 0.444</text>\n<text text-anchor=\"middle\" x=\"527.5\" y=\"-37.8\" font-family=\"Helvetica,sans-Serif\" font-size=\"14.00\">samples = 421</text>\n<text text-anchor=\"middle\" x=\"527.5\" y=\"-22.8\" font-family=\"Helvetica,sans-Serif\" font-size=\"14.00\">value = [140, 281]</text>\n<text text-anchor=\"middle\" x=\"527.5\" y=\"-7.8\" font-family=\"Helvetica,sans-Serif\" font-size=\"14.00\">class = Sim</text>\n</g>\n<!-- 7&#45;&gt;9 -->\n<g id=\"edge9\" class=\"edge\">\n<title>7&#45;&gt;9</title>\n<path fill=\"none\" stroke=\"black\" d=\"M486.7,-103.73C491.9,-94.97 497.4,-85.7 502.62,-76.91\"/>\n<polygon fill=\"black\" stroke=\"black\" points=\"505.64,-78.69 507.73,-68.3 499.62,-75.11 505.64,-78.69\"/>\n</g>\n<!-- 11 -->\n<g id=\"node12\" class=\"node\">\n<title>11</title>\n<path fill=\"#e68642\" stroke=\"black\" d=\"M721,-68C721,-68 620,-68 620,-68 614,-68 608,-62 608,-56 608,-56 608,-12 608,-12 608,-6 614,0 620,0 620,0 721,0 721,0 727,0 733,-6 733,-12 733,-12 733,-56 733,-56 733,-62 727,-68 721,-68\"/>\n<text text-anchor=\"middle\" x=\"670.5\" y=\"-52.8\" font-family=\"Helvetica,sans-Serif\" font-size=\"14.00\">gini = 0.08</text>\n<text text-anchor=\"middle\" x=\"670.5\" y=\"-37.8\" font-family=\"Helvetica,sans-Serif\" font-size=\"14.00\">samples = 1350</text>\n<text text-anchor=\"middle\" x=\"670.5\" y=\"-22.8\" font-family=\"Helvetica,sans-Serif\" font-size=\"14.00\">value = [1294, 56]</text>\n<text text-anchor=\"middle\" x=\"670.5\" y=\"-7.8\" font-family=\"Helvetica,sans-Serif\" font-size=\"14.00\">class = Não</text>\n</g>\n<!-- 10&#45;&gt;11 -->\n<g id=\"edge11\" class=\"edge\">\n<title>10&#45;&gt;11</title>\n<path fill=\"none\" stroke=\"black\" d=\"M670.5,-103.73C670.5,-95.52 670.5,-86.86 670.5,-78.56\"/>\n<polygon fill=\"black\" stroke=\"black\" points=\"674,-78.3 670.5,-68.3 667,-78.3 674,-78.3\"/>\n</g>\n<!-- 12 -->\n<g id=\"node13\" class=\"node\">\n<title>12</title>\n<path fill=\"#9acdf2\" stroke=\"black\" d=\"M856,-68C856,-68 763,-68 763,-68 757,-68 751,-62 751,-56 751,-56 751,-12 751,-12 751,-6 757,0 763,0 763,0 856,0 856,0 862,0 868,-6 868,-12 868,-12 868,-56 868,-56 868,-62 862,-68 856,-68\"/>\n<text text-anchor=\"middle\" x=\"809.5\" y=\"-52.8\" font-family=\"Helvetica,sans-Serif\" font-size=\"14.00\">gini = 0.441</text>\n<text text-anchor=\"middle\" x=\"809.5\" y=\"-37.8\" font-family=\"Helvetica,sans-Serif\" font-size=\"14.00\">samples = 262</text>\n<text text-anchor=\"middle\" x=\"809.5\" y=\"-22.8\" font-family=\"Helvetica,sans-Serif\" font-size=\"14.00\">value = [86, 176]</text>\n<text text-anchor=\"middle\" x=\"809.5\" y=\"-7.8\" font-family=\"Helvetica,sans-Serif\" font-size=\"14.00\">class = Sim</text>\n</g>\n<!-- 10&#45;&gt;12 -->\n<g id=\"edge12\" class=\"edge\">\n<title>10&#45;&gt;12</title>\n<path fill=\"none\" stroke=\"black\" d=\"M722.26,-103.73C734.3,-94.24 747.1,-84.16 759.08,-74.72\"/>\n<polygon fill=\"black\" stroke=\"black\" points=\"761.54,-77.24 767.23,-68.3 757.21,-71.74 761.54,-77.24\"/>\n</g>\n</g>\n</svg>\n",
            "text/plain": [
              "<graphviz.sources.Source at 0x7f39403b7460>"
            ]
          },
          "metadata": {},
          "execution_count": 151
        }
      ]
    },
    {
      "cell_type": "markdown",
      "source": [
        "Based on this visualization and at the leafs of the tree (final part), 1425 cars will aleays be sold if they have price <= 40083.38 and mileage_per_year <= 6393.00. There is certain confusion about the price and mileage, since the model relates that high price and mileage will always not sell the car, but high prices with low mileage can make a car be sold.\n",
        "\n",
        "This model requires a better approuach and validation methodology to make it better, since it only has 78% ACC."
      ],
      "metadata": {
        "id": "jNlfeT0TJ_u9"
      }
    },
    {
      "cell_type": "markdown",
      "source": [
        "# Making the model better"
      ],
      "metadata": {
        "id": "RlK6tkdDL773"
      }
    },
    {
      "cell_type": "markdown",
      "source": [
        "The evaluation of this model will be made, based on cars that it does not know. Also one will be using other tools from sklearn to increase the ACC and scores on cross-validation and others.\n",
        "\n",
        "One of the limitations of the train_test_split is based on the randomness of the selection of the train and test parts, which can make ACC results vary, since \"better\" data could be selected as a train and compared to a \"better\" test sample. One could run various random test_train_splits and do cross-validation to evaluate a mean of those results, which is a good way to evaluate the model removing the bias of the randomness.\n",
        "\n",
        "Starting with a simple validation."
      ],
      "metadata": {
        "id": "3El1_KyhMt-G"
      }
    },
    {
      "cell_type": "code",
      "source": [
        "from sklearn.model_selection import cross_validate\n",
        "model = DecisionTreeClassifier(max_depth=3)\n",
        "cros_val = cross_validate(model, x, y, cv=3, return_train_score=False) #cv=3 means a triplicate of train and test separation\n",
        "def results(cros_val):\n",
        "  cros_val_mean = cros_val['test_score'].mean()\n",
        "  cros_val_std = cros_val['test_score'].std()\n",
        "  print(f'ACC mean {cros_val_mean*100:.2f}')\n",
        "  print(f'ACC interval {((cros_val_mean - 2 * cros_val_std) * 100):.2f} {((cros_val_mean + 2 * cros_val_std) * 100):.2f}')\n",
        "results(cros_val)"
      ],
      "metadata": {
        "id": "frRlke89HXO7",
        "colab": {
          "base_uri": "https://localhost:8080/"
        },
        "outputId": "1644804b-dab6-41a9-ff2a-2d2f031ae11a"
      },
      "execution_count": null,
      "outputs": [
        {
          "output_type": "stream",
          "name": "stdout",
          "text": [
            "ACC mean 78.70\n",
            "ACC interval 78.19 79.21\n"
          ]
        }
      ]
    },
    {
      "cell_type": "markdown",
      "source": [
        "The above result means that the cross validation result will be the same for any other seed used, but doing cv=3. What if other values of cv were used?"
      ],
      "metadata": {
        "id": "Y7XIMjuIZl_1"
      }
    },
    {
      "cell_type": "code",
      "source": [
        "cros_val = cross_validate(model, x, y, cv=5, return_train_score=False)\n",
        "results(cros_val)"
      ],
      "metadata": {
        "colab": {
          "base_uri": "https://localhost:8080/"
        },
        "id": "9blZegaKaF6W",
        "outputId": "db4a91fb-a909-4a9c-e658-637eda52b33d"
      },
      "execution_count": null,
      "outputs": [
        {
          "output_type": "stream",
          "name": "stdout",
          "text": [
            "ACC mean 78.69\n",
            "ACC interval 77.78 79.60\n"
          ]
        }
      ]
    },
    {
      "cell_type": "code",
      "source": [
        "cros_val = cross_validate(model, x, y, cv=10, return_train_score=False)\n",
        "results(cros_val)"
      ],
      "metadata": {
        "colab": {
          "base_uri": "https://localhost:8080/"
        },
        "id": "X_5nSwdxaWxV",
        "outputId": "bb21ef92-62fb-479c-db69-758307e82d15"
      },
      "execution_count": null,
      "outputs": [
        {
          "output_type": "stream",
          "name": "stdout",
          "text": [
            "ACC mean 78.69\n",
            "ACC interval 77.15 80.23\n"
          ]
        }
      ]
    },
    {
      "cell_type": "markdown",
      "source": [
        "So which cv should one use to validade the data?\n",
        "\n",
        "based on the documentation, using cv of 5 is enough, but on some models using 10 is better. In this case, one will be using cv=5.\n",
        "\n",
        "ACC 77.78 79.60.\n",
        "\n",
        "Now one will validade the data, based on a random selection, sionce this cross validation was made in a deterministic way."
      ],
      "metadata": {
        "id": "Mowmu06naMw3"
      }
    },
    {
      "cell_type": "code",
      "source": [
        "from sklearn.model_selection import KFold\n",
        "kf = KFold(n_splits=10)\n",
        "cros_val = cross_validate(model, x, y, cv=kf, return_train_score=False)\n",
        "results(cros_val)"
      ],
      "metadata": {
        "colab": {
          "base_uri": "https://localhost:8080/"
        },
        "id": "UEOeVPN5awdu",
        "outputId": "e34c7479-99a1-42d3-a0a6-2996d4e07781"
      },
      "execution_count": null,
      "outputs": [
        {
          "output_type": "stream",
          "name": "stdout",
          "text": [
            "ACC mean 78.67\n",
            "ACC interval 76.58 80.76\n"
          ]
        }
      ]
    },
    {
      "cell_type": "markdown",
      "source": [
        "Now lets see the accs with shuffle turned to true."
      ],
      "metadata": {
        "id": "YvTeo18yyhj_"
      }
    },
    {
      "cell_type": "code",
      "source": [
        "kf = KFold(n_splits=10, shuffle=True)\n",
        "cros_val = cross_validate(model, x, y, cv=kf, return_train_score=False)\n",
        "results(cros_val)"
      ],
      "metadata": {
        "colab": {
          "base_uri": "https://localhost:8080/"
        },
        "id": "FOOgEFyRynkF",
        "outputId": "433c3260-c586-4f9e-c48c-3bfd2a63dcf5"
      },
      "execution_count": null,
      "outputs": [
        {
          "output_type": "stream",
          "name": "stdout",
          "text": [
            "ACC mean 78.68\n",
            "ACC interval 75.69 81.67\n"
          ]
        }
      ]
    },
    {
      "cell_type": "markdown",
      "source": [
        "## What about the luck of the data scientist?"
      ],
      "metadata": {
        "id": "jKE7GazOzAOM"
      }
    },
    {
      "cell_type": "markdown",
      "source": [
        "Sometimes one can be a victim of the rng gods. While working with certain dataset, the data points could already be sorted in certain way, or have a an invisible standard in it. The shuffle paramether of the k fold is used to avoid the luck of the data scientist odd and removes the rng gods from the code."
      ],
      "metadata": {
        "id": "PgYBJcSazLS9"
      }
    },
    {
      "cell_type": "code",
      "source": [
        "unlucky_dados = dados.sort_values('price', ascending=True)\n",
        "x_bad =  unlucky_dados[['price', 'age', 'mileage_per_year']]\n",
        "y_bad = unlucky_dados['sold']"
      ],
      "metadata": {
        "id": "cOIeLbS7zsbj"
      },
      "execution_count": null,
      "outputs": []
    },
    {
      "cell_type": "code",
      "source": [
        "#without shuffle\n",
        "kf = KFold(n_splits=10)\n",
        "cros_val = cross_validate(model, x_bad, y_bad, cv=kf, return_train_score=False)\n",
        "results(cros_val)"
      ],
      "metadata": {
        "colab": {
          "base_uri": "https://localhost:8080/"
        },
        "id": "BQ-khLfY02a5",
        "outputId": "731eef84-05c6-4311-80fa-b3acdc3ddfa4"
      },
      "execution_count": null,
      "outputs": [
        {
          "output_type": "stream",
          "name": "stdout",
          "text": [
            "ACC mean 75.08\n",
            "ACC interval 42.20 107.96\n"
          ]
        }
      ]
    },
    {
      "cell_type": "code",
      "source": [
        "#with shuffle\n",
        "kf = KFold(n_splits=10, shuffle=True)\n",
        "cros_val = cross_validate(model, x_bad, y_bad, cv=kf, return_train_score=False)\n",
        "results(cros_val)"
      ],
      "metadata": {
        "colab": {
          "base_uri": "https://localhost:8080/"
        },
        "id": "dn93ZuvK1ITd",
        "outputId": "5e7fc831-6d58-423d-e18b-bb6da9044183"
      },
      "execution_count": null,
      "outputs": [
        {
          "output_type": "stream",
          "name": "stdout",
          "text": [
            "ACC mean 78.69\n",
            "ACC interval 77.21 80.17\n"
          ]
        }
      ]
    },
    {
      "cell_type": "markdown",
      "source": [
        "As one can see, the ACC changed drastically with the shuffle parameter being used.\n",
        "\n",
        "The k fold could also be stratified, making  a better validation of the model."
      ],
      "metadata": {
        "id": "0j52_unB1ppe"
      }
    },
    {
      "cell_type": "code",
      "source": [
        "from sklearn.model_selection import StratifiedKFold\n",
        "SEED=20\n",
        "np.random.seed(SEED)\n",
        "\n",
        "skf = StratifiedKFold(n_splits=10, shuffle=True)\n",
        "cros_val = cross_validate(model, x_bad, y_bad, cv=skf, return_train_score=False)\n",
        "results(cros_val)"
      ],
      "metadata": {
        "colab": {
          "base_uri": "https://localhost:8080/"
        },
        "id": "3KjDn_k22Ipf",
        "outputId": "ca9244ff-a443-4aa3-a21c-e22ea69b526a"
      },
      "execution_count": null,
      "outputs": [
        {
          "output_type": "stream",
          "name": "stdout",
          "text": [
            "ACC mean 78.67\n",
            "ACC interval 76.54 80.80\n"
          ]
        }
      ]
    },
    {
      "cell_type": "markdown",
      "source": [
        "Always do your research to evaluate which validator is the best for your data. Also, think about the parameters that are better for the validator and the dataset that you are working on. The model that one can use, can also be compared. Some models behave better and have higher acc than other models."
      ],
      "metadata": {
        "id": "XyiGPPlD3KnR"
      }
    },
    {
      "cell_type": "markdown",
      "source": [
        "## Model comparation"
      ],
      "metadata": {
        "id": "fnqnMYp-3yf0"
      }
    },
    {
      "cell_type": "markdown",
      "source": [
        "Now the algorithn will be evaluated regarding the new cars. If the algorithn is good it can evaluate every new car, but the algorithn can't evaluate cars by that car's model, since it does not know what car model is associated with the features of the dataset. It is necessary to create an association with the data set, for each new car."
      ],
      "metadata": {
        "id": "5PmlE_fe4PLp"
      }
    },
    {
      "cell_type": "code",
      "source": [
        "dados"
      ],
      "metadata": {
        "colab": {
          "base_uri": "https://localhost:8080/",
          "height": 424
        },
        "id": "SWTQni3M6Kx-",
        "outputId": "60ecfe7c-62a0-4cf7-c931-7dc24d0e2e39"
      },
      "execution_count": null,
      "outputs": [
        {
          "output_type": "execute_result",
          "data": {
            "text/plain": [
              "      mileage_per_year      price  sold  age\n",
              "0                21801   30941.02     1   17\n",
              "1                 7843   40557.96     1   19\n",
              "2                 7109   89627.50     0   11\n",
              "3                26823   95276.14     0    2\n",
              "4                 7935  117384.68     1    3\n",
              "...                ...        ...   ...  ...\n",
              "9995             15572   97112.86     0   11\n",
              "9996             13246  107424.63     1   15\n",
              "9997             13018   93856.99     0    3\n",
              "9998             10464   51250.57     1    6\n",
              "9999             12362   87945.73     0   18\n",
              "\n",
              "[10000 rows x 4 columns]"
            ],
            "text/html": [
              "\n",
              "  <div id=\"df-1858e19e-38d4-4738-ba8a-c7a4351d5213\">\n",
              "    <div class=\"colab-df-container\">\n",
              "      <div>\n",
              "<style scoped>\n",
              "    .dataframe tbody tr th:only-of-type {\n",
              "        vertical-align: middle;\n",
              "    }\n",
              "\n",
              "    .dataframe tbody tr th {\n",
              "        vertical-align: top;\n",
              "    }\n",
              "\n",
              "    .dataframe thead th {\n",
              "        text-align: right;\n",
              "    }\n",
              "</style>\n",
              "<table border=\"1\" class=\"dataframe\">\n",
              "  <thead>\n",
              "    <tr style=\"text-align: right;\">\n",
              "      <th></th>\n",
              "      <th>mileage_per_year</th>\n",
              "      <th>price</th>\n",
              "      <th>sold</th>\n",
              "      <th>age</th>\n",
              "    </tr>\n",
              "  </thead>\n",
              "  <tbody>\n",
              "    <tr>\n",
              "      <th>0</th>\n",
              "      <td>21801</td>\n",
              "      <td>30941.02</td>\n",
              "      <td>1</td>\n",
              "      <td>17</td>\n",
              "    </tr>\n",
              "    <tr>\n",
              "      <th>1</th>\n",
              "      <td>7843</td>\n",
              "      <td>40557.96</td>\n",
              "      <td>1</td>\n",
              "      <td>19</td>\n",
              "    </tr>\n",
              "    <tr>\n",
              "      <th>2</th>\n",
              "      <td>7109</td>\n",
              "      <td>89627.50</td>\n",
              "      <td>0</td>\n",
              "      <td>11</td>\n",
              "    </tr>\n",
              "    <tr>\n",
              "      <th>3</th>\n",
              "      <td>26823</td>\n",
              "      <td>95276.14</td>\n",
              "      <td>0</td>\n",
              "      <td>2</td>\n",
              "    </tr>\n",
              "    <tr>\n",
              "      <th>4</th>\n",
              "      <td>7935</td>\n",
              "      <td>117384.68</td>\n",
              "      <td>1</td>\n",
              "      <td>3</td>\n",
              "    </tr>\n",
              "    <tr>\n",
              "      <th>...</th>\n",
              "      <td>...</td>\n",
              "      <td>...</td>\n",
              "      <td>...</td>\n",
              "      <td>...</td>\n",
              "    </tr>\n",
              "    <tr>\n",
              "      <th>9995</th>\n",
              "      <td>15572</td>\n",
              "      <td>97112.86</td>\n",
              "      <td>0</td>\n",
              "      <td>11</td>\n",
              "    </tr>\n",
              "    <tr>\n",
              "      <th>9996</th>\n",
              "      <td>13246</td>\n",
              "      <td>107424.63</td>\n",
              "      <td>1</td>\n",
              "      <td>15</td>\n",
              "    </tr>\n",
              "    <tr>\n",
              "      <th>9997</th>\n",
              "      <td>13018</td>\n",
              "      <td>93856.99</td>\n",
              "      <td>0</td>\n",
              "      <td>3</td>\n",
              "    </tr>\n",
              "    <tr>\n",
              "      <th>9998</th>\n",
              "      <td>10464</td>\n",
              "      <td>51250.57</td>\n",
              "      <td>1</td>\n",
              "      <td>6</td>\n",
              "    </tr>\n",
              "    <tr>\n",
              "      <th>9999</th>\n",
              "      <td>12362</td>\n",
              "      <td>87945.73</td>\n",
              "      <td>0</td>\n",
              "      <td>18</td>\n",
              "    </tr>\n",
              "  </tbody>\n",
              "</table>\n",
              "<p>10000 rows × 4 columns</p>\n",
              "</div>\n",
              "      <button class=\"colab-df-convert\" onclick=\"convertToInteractive('df-1858e19e-38d4-4738-ba8a-c7a4351d5213')\"\n",
              "              title=\"Convert this dataframe to an interactive table.\"\n",
              "              style=\"display:none;\">\n",
              "        \n",
              "  <svg xmlns=\"http://www.w3.org/2000/svg\" height=\"24px\"viewBox=\"0 0 24 24\"\n",
              "       width=\"24px\">\n",
              "    <path d=\"M0 0h24v24H0V0z\" fill=\"none\"/>\n",
              "    <path d=\"M18.56 5.44l.94 2.06.94-2.06 2.06-.94-2.06-.94-.94-2.06-.94 2.06-2.06.94zm-11 1L8.5 8.5l.94-2.06 2.06-.94-2.06-.94L8.5 2.5l-.94 2.06-2.06.94zm10 10l.94 2.06.94-2.06 2.06-.94-2.06-.94-.94-2.06-.94 2.06-2.06.94z\"/><path d=\"M17.41 7.96l-1.37-1.37c-.4-.4-.92-.59-1.43-.59-.52 0-1.04.2-1.43.59L10.3 9.45l-7.72 7.72c-.78.78-.78 2.05 0 2.83L4 21.41c.39.39.9.59 1.41.59.51 0 1.02-.2 1.41-.59l7.78-7.78 2.81-2.81c.8-.78.8-2.07 0-2.86zM5.41 20L4 18.59l7.72-7.72 1.47 1.35L5.41 20z\"/>\n",
              "  </svg>\n",
              "      </button>\n",
              "      \n",
              "  <style>\n",
              "    .colab-df-container {\n",
              "      display:flex;\n",
              "      flex-wrap:wrap;\n",
              "      gap: 12px;\n",
              "    }\n",
              "\n",
              "    .colab-df-convert {\n",
              "      background-color: #E8F0FE;\n",
              "      border: none;\n",
              "      border-radius: 50%;\n",
              "      cursor: pointer;\n",
              "      display: none;\n",
              "      fill: #1967D2;\n",
              "      height: 32px;\n",
              "      padding: 0 0 0 0;\n",
              "      width: 32px;\n",
              "    }\n",
              "\n",
              "    .colab-df-convert:hover {\n",
              "      background-color: #E2EBFA;\n",
              "      box-shadow: 0px 1px 2px rgba(60, 64, 67, 0.3), 0px 1px 3px 1px rgba(60, 64, 67, 0.15);\n",
              "      fill: #174EA6;\n",
              "    }\n",
              "\n",
              "    [theme=dark] .colab-df-convert {\n",
              "      background-color: #3B4455;\n",
              "      fill: #D2E3FC;\n",
              "    }\n",
              "\n",
              "    [theme=dark] .colab-df-convert:hover {\n",
              "      background-color: #434B5C;\n",
              "      box-shadow: 0px 1px 3px 1px rgba(0, 0, 0, 0.15);\n",
              "      filter: drop-shadow(0px 1px 2px rgba(0, 0, 0, 0.3));\n",
              "      fill: #FFFFFF;\n",
              "    }\n",
              "  </style>\n",
              "\n",
              "      <script>\n",
              "        const buttonEl =\n",
              "          document.querySelector('#df-1858e19e-38d4-4738-ba8a-c7a4351d5213 button.colab-df-convert');\n",
              "        buttonEl.style.display =\n",
              "          google.colab.kernel.accessAllowed ? 'block' : 'none';\n",
              "\n",
              "        async function convertToInteractive(key) {\n",
              "          const element = document.querySelector('#df-1858e19e-38d4-4738-ba8a-c7a4351d5213');\n",
              "          const dataTable =\n",
              "            await google.colab.kernel.invokeFunction('convertToInteractive',\n",
              "                                                     [key], {});\n",
              "          if (!dataTable) return;\n",
              "\n",
              "          const docLinkHtml = 'Like what you see? Visit the ' +\n",
              "            '<a target=\"_blank\" href=https://colab.research.google.com/notebooks/data_table.ipynb>data table notebook</a>'\n",
              "            + ' to learn more about interactive tables.';\n",
              "          element.innerHTML = '';\n",
              "          dataTable['output_type'] = 'display_data';\n",
              "          await google.colab.output.renderOutput(dataTable, element);\n",
              "          const docLink = document.createElement('div');\n",
              "          docLink.innerHTML = docLinkHtml;\n",
              "          element.appendChild(docLink);\n",
              "        }\n",
              "      </script>\n",
              "    </div>\n",
              "  </div>\n",
              "  "
            ]
          },
          "metadata": {},
          "execution_count": 161
        }
      ]
    },
    {
      "cell_type": "code",
      "source": [
        "SEED=20\n",
        "np.random.seed(SEED)\n",
        "\n",
        "dados['rng_car_model'] = dados.age + np.random.randint(-2,3, size=len(dados))\n",
        "dados.head(5)"
      ],
      "metadata": {
        "colab": {
          "base_uri": "https://localhost:8080/",
          "height": 206
        },
        "id": "8P2dOHK73x1l",
        "outputId": "d20a3ad6-79f3-43d6-be2a-da591b37f405"
      },
      "execution_count": null,
      "outputs": [
        {
          "output_type": "execute_result",
          "data": {
            "text/plain": [
              "   mileage_per_year      price  sold  age  rng_car_model\n",
              "0             21801   30941.02     1   17             18\n",
              "1              7843   40557.96     1   19             19\n",
              "2              7109   89627.50     0   11             13\n",
              "3             26823   95276.14     0    2              2\n",
              "4              7935  117384.68     1    3              2"
            ],
            "text/html": [
              "\n",
              "  <div id=\"df-3b2b8489-846a-40ab-9e61-76cc91dc74d6\">\n",
              "    <div class=\"colab-df-container\">\n",
              "      <div>\n",
              "<style scoped>\n",
              "    .dataframe tbody tr th:only-of-type {\n",
              "        vertical-align: middle;\n",
              "    }\n",
              "\n",
              "    .dataframe tbody tr th {\n",
              "        vertical-align: top;\n",
              "    }\n",
              "\n",
              "    .dataframe thead th {\n",
              "        text-align: right;\n",
              "    }\n",
              "</style>\n",
              "<table border=\"1\" class=\"dataframe\">\n",
              "  <thead>\n",
              "    <tr style=\"text-align: right;\">\n",
              "      <th></th>\n",
              "      <th>mileage_per_year</th>\n",
              "      <th>price</th>\n",
              "      <th>sold</th>\n",
              "      <th>age</th>\n",
              "      <th>rng_car_model</th>\n",
              "    </tr>\n",
              "  </thead>\n",
              "  <tbody>\n",
              "    <tr>\n",
              "      <th>0</th>\n",
              "      <td>21801</td>\n",
              "      <td>30941.02</td>\n",
              "      <td>1</td>\n",
              "      <td>17</td>\n",
              "      <td>18</td>\n",
              "    </tr>\n",
              "    <tr>\n",
              "      <th>1</th>\n",
              "      <td>7843</td>\n",
              "      <td>40557.96</td>\n",
              "      <td>1</td>\n",
              "      <td>19</td>\n",
              "      <td>19</td>\n",
              "    </tr>\n",
              "    <tr>\n",
              "      <th>2</th>\n",
              "      <td>7109</td>\n",
              "      <td>89627.50</td>\n",
              "      <td>0</td>\n",
              "      <td>11</td>\n",
              "      <td>13</td>\n",
              "    </tr>\n",
              "    <tr>\n",
              "      <th>3</th>\n",
              "      <td>26823</td>\n",
              "      <td>95276.14</td>\n",
              "      <td>0</td>\n",
              "      <td>2</td>\n",
              "      <td>2</td>\n",
              "    </tr>\n",
              "    <tr>\n",
              "      <th>4</th>\n",
              "      <td>7935</td>\n",
              "      <td>117384.68</td>\n",
              "      <td>1</td>\n",
              "      <td>3</td>\n",
              "      <td>2</td>\n",
              "    </tr>\n",
              "  </tbody>\n",
              "</table>\n",
              "</div>\n",
              "      <button class=\"colab-df-convert\" onclick=\"convertToInteractive('df-3b2b8489-846a-40ab-9e61-76cc91dc74d6')\"\n",
              "              title=\"Convert this dataframe to an interactive table.\"\n",
              "              style=\"display:none;\">\n",
              "        \n",
              "  <svg xmlns=\"http://www.w3.org/2000/svg\" height=\"24px\"viewBox=\"0 0 24 24\"\n",
              "       width=\"24px\">\n",
              "    <path d=\"M0 0h24v24H0V0z\" fill=\"none\"/>\n",
              "    <path d=\"M18.56 5.44l.94 2.06.94-2.06 2.06-.94-2.06-.94-.94-2.06-.94 2.06-2.06.94zm-11 1L8.5 8.5l.94-2.06 2.06-.94-2.06-.94L8.5 2.5l-.94 2.06-2.06.94zm10 10l.94 2.06.94-2.06 2.06-.94-2.06-.94-.94-2.06-.94 2.06-2.06.94z\"/><path d=\"M17.41 7.96l-1.37-1.37c-.4-.4-.92-.59-1.43-.59-.52 0-1.04.2-1.43.59L10.3 9.45l-7.72 7.72c-.78.78-.78 2.05 0 2.83L4 21.41c.39.39.9.59 1.41.59.51 0 1.02-.2 1.41-.59l7.78-7.78 2.81-2.81c.8-.78.8-2.07 0-2.86zM5.41 20L4 18.59l7.72-7.72 1.47 1.35L5.41 20z\"/>\n",
              "  </svg>\n",
              "      </button>\n",
              "      \n",
              "  <style>\n",
              "    .colab-df-container {\n",
              "      display:flex;\n",
              "      flex-wrap:wrap;\n",
              "      gap: 12px;\n",
              "    }\n",
              "\n",
              "    .colab-df-convert {\n",
              "      background-color: #E8F0FE;\n",
              "      border: none;\n",
              "      border-radius: 50%;\n",
              "      cursor: pointer;\n",
              "      display: none;\n",
              "      fill: #1967D2;\n",
              "      height: 32px;\n",
              "      padding: 0 0 0 0;\n",
              "      width: 32px;\n",
              "    }\n",
              "\n",
              "    .colab-df-convert:hover {\n",
              "      background-color: #E2EBFA;\n",
              "      box-shadow: 0px 1px 2px rgba(60, 64, 67, 0.3), 0px 1px 3px 1px rgba(60, 64, 67, 0.15);\n",
              "      fill: #174EA6;\n",
              "    }\n",
              "\n",
              "    [theme=dark] .colab-df-convert {\n",
              "      background-color: #3B4455;\n",
              "      fill: #D2E3FC;\n",
              "    }\n",
              "\n",
              "    [theme=dark] .colab-df-convert:hover {\n",
              "      background-color: #434B5C;\n",
              "      box-shadow: 0px 1px 3px 1px rgba(0, 0, 0, 0.15);\n",
              "      filter: drop-shadow(0px 1px 2px rgba(0, 0, 0, 0.3));\n",
              "      fill: #FFFFFF;\n",
              "    }\n",
              "  </style>\n",
              "\n",
              "      <script>\n",
              "        const buttonEl =\n",
              "          document.querySelector('#df-3b2b8489-846a-40ab-9e61-76cc91dc74d6 button.colab-df-convert');\n",
              "        buttonEl.style.display =\n",
              "          google.colab.kernel.accessAllowed ? 'block' : 'none';\n",
              "\n",
              "        async function convertToInteractive(key) {\n",
              "          const element = document.querySelector('#df-3b2b8489-846a-40ab-9e61-76cc91dc74d6');\n",
              "          const dataTable =\n",
              "            await google.colab.kernel.invokeFunction('convertToInteractive',\n",
              "                                                     [key], {});\n",
              "          if (!dataTable) return;\n",
              "\n",
              "          const docLinkHtml = 'Like what you see? Visit the ' +\n",
              "            '<a target=\"_blank\" href=https://colab.research.google.com/notebooks/data_table.ipynb>data table notebook</a>'\n",
              "            + ' to learn more about interactive tables.';\n",
              "          element.innerHTML = '';\n",
              "          dataTable['output_type'] = 'display_data';\n",
              "          await google.colab.output.renderOutput(dataTable, element);\n",
              "          const docLink = document.createElement('div');\n",
              "          docLink.innerHTML = docLinkHtml;\n",
              "          element.appendChild(docLink);\n",
              "        }\n",
              "      </script>\n",
              "    </div>\n",
              "  </div>\n",
              "  "
            ]
          },
          "metadata": {},
          "execution_count": 162
        }
      ]
    },
    {
      "cell_type": "code",
      "source": [
        "dados.rng_car_model.unique()"
      ],
      "metadata": {
        "colab": {
          "base_uri": "https://localhost:8080/"
        },
        "id": "sgM2nt_z6nss",
        "outputId": "e5ba01b9-5864-4edf-a117-8d3795715efa"
      },
      "execution_count": null,
      "outputs": [
        {
          "output_type": "execute_result",
          "data": {
            "text/plain": [
              "array([18, 19, 13,  2, 12, 16,  9,  1, 11, 10,  6,  3,  4, 15,  5, 14, 20,\n",
              "        7, 17,  8, 21,  0, -1, -2])"
            ]
          },
          "metadata": {},
          "execution_count": 163
        }
      ]
    },
    {
      "cell_type": "markdown",
      "source": [
        "Since it makes no sense a car model being -1 and -2 a small treatment will be done."
      ],
      "metadata": {
        "id": "qZXraXW666R9"
      }
    },
    {
      "cell_type": "code",
      "source": [
        "dados.rng_car_model = dados.rng_car_model + abs(dados.rng_car_model.min()) + 1\n",
        "dados.rng_car_model.unique()"
      ],
      "metadata": {
        "colab": {
          "base_uri": "https://localhost:8080/"
        },
        "id": "ZjcLFxte7CWu",
        "outputId": "7aec04ef-55b6-45ab-cfe3-76ee553be0dc"
      },
      "execution_count": null,
      "outputs": [
        {
          "output_type": "execute_result",
          "data": {
            "text/plain": [
              "array([21, 22, 16,  5, 15, 19, 12,  4, 14, 13,  9,  6,  7, 18,  8, 17, 23,\n",
              "       10, 20, 11, 24,  3,  2,  1])"
            ]
          },
          "metadata": {},
          "execution_count": 164
        }
      ]
    },
    {
      "cell_type": "markdown",
      "source": [
        "For the validation of this model, it is needed to be used a grouped validation."
      ],
      "metadata": {
        "id": "o-PQ24DN9OY_"
      }
    },
    {
      "cell_type": "code",
      "source": [
        "from sklearn.model_selection import GroupKFold\n",
        "SEED=20\n",
        "np.random.seed(SEED)\n",
        "\n",
        "x = dados[['price', 'age', 'mileage_per_year', 'rng_car_model']]\n",
        "y = dados['sold']\n",
        "\n",
        "gkf = GroupKFold(n_splits=10)\n",
        "cros_val = cross_validate(model, x, y, cv=gkf, groups=dados.rng_car_model,\n",
        "                          return_train_score=False)\n",
        "results(cros_val)"
      ],
      "metadata": {
        "colab": {
          "base_uri": "https://localhost:8080/"
        },
        "id": "qJMfXF-i75El",
        "outputId": "a2e4312a-172a-4c36-d10a-c0d71ffbc794"
      },
      "execution_count": null,
      "outputs": [
        {
          "output_type": "stream",
          "name": "stdout",
          "text": [
            "ACC mean 78.68\n",
            "ACC interval 75.39 81.97\n"
          ]
        }
      ]
    },
    {
      "cell_type": "markdown",
      "source": [
        "Even adding car models, the algorithn did a good job returning an ACC almost equal to the stratified k fold."
      ],
      "metadata": {
        "id": "RfvpgVyW-dUW"
      }
    },
    {
      "cell_type": "markdown",
      "source": [
        "# Evaluating each model"
      ],
      "metadata": {
        "id": "SYulBPFd_RJp"
      }
    },
    {
      "cell_type": "markdown",
      "source": [
        "## SVC"
      ],
      "metadata": {
        "id": "aTL3XHTGA3gS"
      }
    },
    {
      "cell_type": "code",
      "source": [
        "from sklearn.pipeline import Pipeline"
      ],
      "metadata": {
        "id": "299QlbW5B1Ug"
      },
      "execution_count": null,
      "outputs": []
    },
    {
      "cell_type": "code",
      "source": [
        "np.random.seed(SEED)\n",
        "\n",
        "x = dados[['price', 'age', 'mileage_per_year', 'rng_car_model']]\n",
        "y = dados['sold']\n",
        "model = SVC()\n",
        "\n",
        "pipeline = Pipeline([('normalization',scaler), ('estimator', model)])\n",
        "\n",
        "raw_x_train, raw_x_test, y_train, y_test = train_test_split(x, y,\n",
        "  test_size=0.25, random_state=SEED, stratify =y)\n",
        "\n",
        "scaler.fit(raw_x_train)\n",
        "\n",
        "x_train = scaler.transform(raw_x_train)\n",
        "x_test = scaler.transform(raw_x_test)\n",
        "\n",
        "model.fit(x_train, y_train)\n",
        "pred = model.predict(x_test)\n",
        "acc = (accuracy_score(y_test, pred)*100)\n",
        "print(f'We trained with n={len(x_train)} for x and tested with n={len(x_test)}')\n",
        "print('The Accuracy is %.2f' % acc + '%')"
      ],
      "metadata": {
        "colab": {
          "base_uri": "https://localhost:8080/"
        },
        "id": "LZ5NzSLH_dpn",
        "outputId": "be4632f3-267a-4558-e91f-74ea4c5239a6"
      },
      "execution_count": null,
      "outputs": [
        {
          "output_type": "stream",
          "name": "stdout",
          "text": [
            "We trained with n=7500 for x and tested with n=2500\n",
            "The Accuracy is 75.84%\n"
          ]
        }
      ]
    },
    {
      "cell_type": "code",
      "source": [
        "gkf = GroupKFold(n_splits=10)\n",
        "cros_val = cross_validate(model, x, y, cv=gkf, groups=dados.rng_car_model,\n",
        "                          return_train_score=False)\n",
        "results(cros_val)"
      ],
      "metadata": {
        "colab": {
          "base_uri": "https://localhost:8080/"
        },
        "id": "cwG-D0HsDg4k",
        "outputId": "b2e1af2d-3f11-457d-dafa-e99c070c9ae7"
      },
      "execution_count": null,
      "outputs": [
        {
          "output_type": "stream",
          "name": "stdout",
          "text": [
            "ACC mean 77.41\n",
            "ACC interval 74.15 80.66\n"
          ]
        }
      ]
    },
    {
      "cell_type": "markdown",
      "source": [
        "What a great result, the model SVC can almost be the same as the decision tree for the dataset used!\n",
        "\n",
        "No, it can't.\n",
        "\n",
        "The result above is based on the model fitting only once to the train data, but remember that cross-validation does 5 times that process. Training only once will not return a True result it can be an overstimation of the Truth, biased by a single training.\n",
        "\n",
        "Using the pipeline defined above the model will be trained by the same number of folds used by the validation model."
      ],
      "metadata": {
        "id": "Mx518sbvDhhU"
      }
    },
    {
      "cell_type": "code",
      "source": [
        "gkf = GroupKFold(n_splits=10)\n",
        "cros_val = cross_validate(pipeline, x, y, cv=gkf, groups=dados.rng_car_model,\n",
        "                          return_train_score=False)\n",
        "results(cros_val)"
      ],
      "metadata": {
        "colab": {
          "base_uri": "https://localhost:8080/"
        },
        "id": "EbqWInLHA_no",
        "outputId": "737e1afa-754a-4b8d-f2ef-44be0d5a8c81"
      },
      "execution_count": null,
      "outputs": [
        {
          "output_type": "stream",
          "name": "stdout",
          "text": [
            "ACC mean 76.52\n",
            "ACC interval 72.96 80.08\n"
          ]
        }
      ]
    },
    {
      "cell_type": "markdown",
      "source": [
        "Now the true result appears, and it is not that close."
      ],
      "metadata": {
        "id": "7XSq-qVeDgeY"
      }
    },
    {
      "cell_type": "markdown",
      "source": [
        "# Model optimization"
      ],
      "metadata": {
        "id": "d_Fw7BBmE8nc"
      }
    },
    {
      "cell_type": "markdown",
      "source": [
        "Since the best model is the random decision tree, it will be used for hyperparameter optimization."
      ],
      "metadata": {
        "id": "EjdoSElGGx4O"
      }
    },
    {
      "cell_type": "code",
      "source": [
        "np.random.seed(SEED)\n",
        "\n",
        "def model_run(max_depth):\n",
        "  model = DecisionTreeClassifier(max_depth=max_depth)\n",
        "  gkf = GroupKFold(n_splits=10)\n",
        "  cros_val = cross_validate(model, x, y, cv=gkf, groups=dados.rng_car_model,\n",
        "                          return_train_score=False)\n",
        "  results(cros_val)\n",
        "for i in range(1,33): #32 is the max value for max_depth hyperparameter\n",
        "  print(f'Run {i}')\n",
        "  model_run(i)"
      ],
      "metadata": {
        "colab": {
          "base_uri": "https://localhost:8080/"
        },
        "id": "ieIAh9puFHme",
        "outputId": "d08e0986-e594-4fce-bde0-79e2bf009bf6"
      },
      "execution_count": null,
      "outputs": [
        {
          "output_type": "stream",
          "name": "stdout",
          "text": [
            "Run 1\n",
            "ACC mean 75.78\n",
            "ACC interval 71.20 80.35\n",
            "Run 2\n",
            "ACC mean 75.78\n",
            "ACC interval 71.20 80.35\n",
            "Run 3\n",
            "ACC mean 78.68\n",
            "ACC interval 75.39 81.97\n",
            "Run 4\n",
            "ACC mean 78.66\n",
            "ACC interval 75.33 81.99\n",
            "Run 5\n",
            "ACC mean 78.60\n",
            "ACC interval 75.38 81.82\n",
            "Run 6\n",
            "ACC mean 78.25\n",
            "ACC interval 74.51 81.98\n",
            "Run 7\n",
            "ACC mean 77.91\n",
            "ACC interval 73.76 82.06\n",
            "Run 8\n",
            "ACC mean 77.78\n",
            "ACC interval 74.29 81.27\n",
            "Run 9\n",
            "ACC mean 77.32\n",
            "ACC interval 74.05 80.59\n",
            "Run 10\n",
            "ACC mean 76.74\n",
            "ACC interval 73.97 79.51\n",
            "Run 11\n",
            "ACC mean 76.14\n",
            "ACC interval 73.27 79.01\n",
            "Run 12\n",
            "ACC mean 75.73\n",
            "ACC interval 72.98 78.48\n",
            "Run 13\n",
            "ACC mean 75.41\n",
            "ACC interval 72.59 78.24\n",
            "Run 14\n",
            "ACC mean 74.91\n",
            "ACC interval 72.10 77.71\n",
            "Run 15\n",
            "ACC mean 74.38\n",
            "ACC interval 72.05 76.71\n",
            "Run 16\n",
            "ACC mean 74.63\n",
            "ACC interval 71.95 77.31\n",
            "Run 17\n",
            "ACC mean 74.22\n",
            "ACC interval 72.34 76.11\n",
            "Run 18\n",
            "ACC mean 74.11\n",
            "ACC interval 72.14 76.09\n",
            "Run 19\n",
            "ACC mean 73.21\n",
            "ACC interval 71.23 75.18\n",
            "Run 20\n",
            "ACC mean 73.20\n",
            "ACC interval 71.28 75.11\n",
            "Run 21\n",
            "ACC mean 73.08\n",
            "ACC interval 70.74 75.42\n",
            "Run 22\n",
            "ACC mean 72.80\n",
            "ACC interval 70.68 74.91\n",
            "Run 23\n",
            "ACC mean 72.46\n",
            "ACC interval 70.38 74.54\n",
            "Run 24\n",
            "ACC mean 72.33\n",
            "ACC interval 70.33 74.33\n",
            "Run 25\n",
            "ACC mean 72.06\n",
            "ACC interval 70.32 73.81\n",
            "Run 26\n",
            "ACC mean 71.70\n",
            "ACC interval 70.21 73.19\n",
            "Run 27\n",
            "ACC mean 71.47\n",
            "ACC interval 70.13 72.82\n",
            "Run 28\n",
            "ACC mean 71.54\n",
            "ACC interval 70.37 72.70\n",
            "Run 29\n",
            "ACC mean 71.80\n",
            "ACC interval 70.74 72.85\n",
            "Run 30\n",
            "ACC mean 71.37\n",
            "ACC interval 69.89 72.84\n",
            "Run 31\n",
            "ACC mean 71.70\n",
            "ACC interval 70.28 73.12\n",
            "Run 32\n",
            "ACC mean 71.37\n",
            "ACC interval 69.88 72.85\n"
          ]
        }
      ]
    },
    {
      "cell_type": "markdown",
      "source": [
        "Until depth 2 the tree had higher acc values, after that, the acc only got worse. This is a classic example of overfitting. Using 32 max_depth, and using cross-validation based on the test data, the ACC will be worse.\n",
        "\n",
        "A validation using the train data will increase the ACC and make it almost perfect, but this makes the model closest only to the train data. If new data is offered to this model it will be biased to mistake.\n",
        "\n",
        "Machine learning is not a memorization, overfitting is the same as this example: \"One memorizes the multiplication table from 1 to 10. When it is offered with the data of 11*12, it returns a less acurate or wrong result.\""
      ],
      "metadata": {
        "id": "FR0DHFNEJvlP"
      }
    },
    {
      "cell_type": "code",
      "source": [
        "#confirming the overfitting\n",
        "np.random.seed(SEED)\n",
        "\n",
        "def model_run(max_depth):\n",
        "  model = DecisionTreeClassifier(max_depth=max_depth)\n",
        "  gkf = GroupKFold(n_splits=10)\n",
        "  cros_val = cross_validate(model, x, y, cv=gkf, groups=dados.rng_car_model,\n",
        "                          return_train_score=False)\n",
        "\n",
        "  results = cross_validate(model, x, y, cv=gkf,\n",
        "                           groups = dados.rng_car_model, return_train_score=True)\n",
        "  train_score =results['train_score'].mean()*100\n",
        "  test_score = results['test_score'].mean()*100\n",
        "  table = [max_depth, train_score, test_score]\n",
        "  return table\n",
        "\n",
        "table_ = [model_run(i) for i in range(1,33)]\n",
        "table_ = pd.DataFrame(table_, columns=['max_depth', 'train', 'test'])\n",
        "table_"
      ],
      "metadata": {
        "colab": {
          "base_uri": "https://localhost:8080/",
          "height": 1000
        },
        "id": "O2igIifZMCgP",
        "outputId": "f6dd5daf-ff52-4864-ddd5-c21ec0f3a136"
      },
      "execution_count": null,
      "outputs": [
        {
          "output_type": "execute_result",
          "data": {
            "text/plain": [
              "    max_depth      train       test\n",
              "0           1  75.791077  75.776810\n",
              "1           2  75.791077  75.776810\n",
              "2           3  78.753336  78.679035\n",
              "3           4  78.796657  78.659055\n",
              "4           5  78.947832  78.579890\n",
              "5           6  79.110087  78.245793\n",
              "6           7  79.453302  77.868946\n",
              "7           8  79.872040  77.820158\n",
              "8           9  80.377692  77.329886\n",
              "9          10  81.132029  76.814082\n",
              "10         11  81.930897  76.157196\n",
              "11         12  82.793076  75.534752\n",
              "12         13  83.825271  75.336119\n",
              "13         14  84.841938  75.017672\n",
              "14         15  85.772943  74.136078\n",
              "15         16  86.908631  74.569419\n",
              "16         17  87.833962  74.238703\n",
              "17         18  88.859517  73.780442\n",
              "18         19  89.961916  73.366247\n",
              "19         20  90.967492  73.144689\n",
              "20         21  91.851806  73.078625\n",
              "21         22  92.787454  72.848031\n",
              "22         23  93.585259  72.469107\n",
              "23         24  94.404237  72.534422\n",
              "24         25  95.263166  72.081564\n",
              "25         26  95.904099  72.181224\n",
              "26         27  96.447552  71.596911\n",
              "27         28  96.969770  71.314764\n",
              "28         29  97.532936  71.753234\n",
              "29         30  97.950706  71.494493\n",
              "30         31  98.258410  71.438188\n",
              "31         32  98.524978  71.375616"
            ],
            "text/html": [
              "\n",
              "  <div id=\"df-1fabb62a-a2c3-4ac3-95c1-dfb3eeb2e54e\">\n",
              "    <div class=\"colab-df-container\">\n",
              "      <div>\n",
              "<style scoped>\n",
              "    .dataframe tbody tr th:only-of-type {\n",
              "        vertical-align: middle;\n",
              "    }\n",
              "\n",
              "    .dataframe tbody tr th {\n",
              "        vertical-align: top;\n",
              "    }\n",
              "\n",
              "    .dataframe thead th {\n",
              "        text-align: right;\n",
              "    }\n",
              "</style>\n",
              "<table border=\"1\" class=\"dataframe\">\n",
              "  <thead>\n",
              "    <tr style=\"text-align: right;\">\n",
              "      <th></th>\n",
              "      <th>max_depth</th>\n",
              "      <th>train</th>\n",
              "      <th>test</th>\n",
              "    </tr>\n",
              "  </thead>\n",
              "  <tbody>\n",
              "    <tr>\n",
              "      <th>0</th>\n",
              "      <td>1</td>\n",
              "      <td>75.791077</td>\n",
              "      <td>75.776810</td>\n",
              "    </tr>\n",
              "    <tr>\n",
              "      <th>1</th>\n",
              "      <td>2</td>\n",
              "      <td>75.791077</td>\n",
              "      <td>75.776810</td>\n",
              "    </tr>\n",
              "    <tr>\n",
              "      <th>2</th>\n",
              "      <td>3</td>\n",
              "      <td>78.753336</td>\n",
              "      <td>78.679035</td>\n",
              "    </tr>\n",
              "    <tr>\n",
              "      <th>3</th>\n",
              "      <td>4</td>\n",
              "      <td>78.796657</td>\n",
              "      <td>78.659055</td>\n",
              "    </tr>\n",
              "    <tr>\n",
              "      <th>4</th>\n",
              "      <td>5</td>\n",
              "      <td>78.947832</td>\n",
              "      <td>78.579890</td>\n",
              "    </tr>\n",
              "    <tr>\n",
              "      <th>5</th>\n",
              "      <td>6</td>\n",
              "      <td>79.110087</td>\n",
              "      <td>78.245793</td>\n",
              "    </tr>\n",
              "    <tr>\n",
              "      <th>6</th>\n",
              "      <td>7</td>\n",
              "      <td>79.453302</td>\n",
              "      <td>77.868946</td>\n",
              "    </tr>\n",
              "    <tr>\n",
              "      <th>7</th>\n",
              "      <td>8</td>\n",
              "      <td>79.872040</td>\n",
              "      <td>77.820158</td>\n",
              "    </tr>\n",
              "    <tr>\n",
              "      <th>8</th>\n",
              "      <td>9</td>\n",
              "      <td>80.377692</td>\n",
              "      <td>77.329886</td>\n",
              "    </tr>\n",
              "    <tr>\n",
              "      <th>9</th>\n",
              "      <td>10</td>\n",
              "      <td>81.132029</td>\n",
              "      <td>76.814082</td>\n",
              "    </tr>\n",
              "    <tr>\n",
              "      <th>10</th>\n",
              "      <td>11</td>\n",
              "      <td>81.930897</td>\n",
              "      <td>76.157196</td>\n",
              "    </tr>\n",
              "    <tr>\n",
              "      <th>11</th>\n",
              "      <td>12</td>\n",
              "      <td>82.793076</td>\n",
              "      <td>75.534752</td>\n",
              "    </tr>\n",
              "    <tr>\n",
              "      <th>12</th>\n",
              "      <td>13</td>\n",
              "      <td>83.825271</td>\n",
              "      <td>75.336119</td>\n",
              "    </tr>\n",
              "    <tr>\n",
              "      <th>13</th>\n",
              "      <td>14</td>\n",
              "      <td>84.841938</td>\n",
              "      <td>75.017672</td>\n",
              "    </tr>\n",
              "    <tr>\n",
              "      <th>14</th>\n",
              "      <td>15</td>\n",
              "      <td>85.772943</td>\n",
              "      <td>74.136078</td>\n",
              "    </tr>\n",
              "    <tr>\n",
              "      <th>15</th>\n",
              "      <td>16</td>\n",
              "      <td>86.908631</td>\n",
              "      <td>74.569419</td>\n",
              "    </tr>\n",
              "    <tr>\n",
              "      <th>16</th>\n",
              "      <td>17</td>\n",
              "      <td>87.833962</td>\n",
              "      <td>74.238703</td>\n",
              "    </tr>\n",
              "    <tr>\n",
              "      <th>17</th>\n",
              "      <td>18</td>\n",
              "      <td>88.859517</td>\n",
              "      <td>73.780442</td>\n",
              "    </tr>\n",
              "    <tr>\n",
              "      <th>18</th>\n",
              "      <td>19</td>\n",
              "      <td>89.961916</td>\n",
              "      <td>73.366247</td>\n",
              "    </tr>\n",
              "    <tr>\n",
              "      <th>19</th>\n",
              "      <td>20</td>\n",
              "      <td>90.967492</td>\n",
              "      <td>73.144689</td>\n",
              "    </tr>\n",
              "    <tr>\n",
              "      <th>20</th>\n",
              "      <td>21</td>\n",
              "      <td>91.851806</td>\n",
              "      <td>73.078625</td>\n",
              "    </tr>\n",
              "    <tr>\n",
              "      <th>21</th>\n",
              "      <td>22</td>\n",
              "      <td>92.787454</td>\n",
              "      <td>72.848031</td>\n",
              "    </tr>\n",
              "    <tr>\n",
              "      <th>22</th>\n",
              "      <td>23</td>\n",
              "      <td>93.585259</td>\n",
              "      <td>72.469107</td>\n",
              "    </tr>\n",
              "    <tr>\n",
              "      <th>23</th>\n",
              "      <td>24</td>\n",
              "      <td>94.404237</td>\n",
              "      <td>72.534422</td>\n",
              "    </tr>\n",
              "    <tr>\n",
              "      <th>24</th>\n",
              "      <td>25</td>\n",
              "      <td>95.263166</td>\n",
              "      <td>72.081564</td>\n",
              "    </tr>\n",
              "    <tr>\n",
              "      <th>25</th>\n",
              "      <td>26</td>\n",
              "      <td>95.904099</td>\n",
              "      <td>72.181224</td>\n",
              "    </tr>\n",
              "    <tr>\n",
              "      <th>26</th>\n",
              "      <td>27</td>\n",
              "      <td>96.447552</td>\n",
              "      <td>71.596911</td>\n",
              "    </tr>\n",
              "    <tr>\n",
              "      <th>27</th>\n",
              "      <td>28</td>\n",
              "      <td>96.969770</td>\n",
              "      <td>71.314764</td>\n",
              "    </tr>\n",
              "    <tr>\n",
              "      <th>28</th>\n",
              "      <td>29</td>\n",
              "      <td>97.532936</td>\n",
              "      <td>71.753234</td>\n",
              "    </tr>\n",
              "    <tr>\n",
              "      <th>29</th>\n",
              "      <td>30</td>\n",
              "      <td>97.950706</td>\n",
              "      <td>71.494493</td>\n",
              "    </tr>\n",
              "    <tr>\n",
              "      <th>30</th>\n",
              "      <td>31</td>\n",
              "      <td>98.258410</td>\n",
              "      <td>71.438188</td>\n",
              "    </tr>\n",
              "    <tr>\n",
              "      <th>31</th>\n",
              "      <td>32</td>\n",
              "      <td>98.524978</td>\n",
              "      <td>71.375616</td>\n",
              "    </tr>\n",
              "  </tbody>\n",
              "</table>\n",
              "</div>\n",
              "      <button class=\"colab-df-convert\" onclick=\"convertToInteractive('df-1fabb62a-a2c3-4ac3-95c1-dfb3eeb2e54e')\"\n",
              "              title=\"Convert this dataframe to an interactive table.\"\n",
              "              style=\"display:none;\">\n",
              "        \n",
              "  <svg xmlns=\"http://www.w3.org/2000/svg\" height=\"24px\"viewBox=\"0 0 24 24\"\n",
              "       width=\"24px\">\n",
              "    <path d=\"M0 0h24v24H0V0z\" fill=\"none\"/>\n",
              "    <path d=\"M18.56 5.44l.94 2.06.94-2.06 2.06-.94-2.06-.94-.94-2.06-.94 2.06-2.06.94zm-11 1L8.5 8.5l.94-2.06 2.06-.94-2.06-.94L8.5 2.5l-.94 2.06-2.06.94zm10 10l.94 2.06.94-2.06 2.06-.94-2.06-.94-.94-2.06-.94 2.06-2.06.94z\"/><path d=\"M17.41 7.96l-1.37-1.37c-.4-.4-.92-.59-1.43-.59-.52 0-1.04.2-1.43.59L10.3 9.45l-7.72 7.72c-.78.78-.78 2.05 0 2.83L4 21.41c.39.39.9.59 1.41.59.51 0 1.02-.2 1.41-.59l7.78-7.78 2.81-2.81c.8-.78.8-2.07 0-2.86zM5.41 20L4 18.59l7.72-7.72 1.47 1.35L5.41 20z\"/>\n",
              "  </svg>\n",
              "      </button>\n",
              "      \n",
              "  <style>\n",
              "    .colab-df-container {\n",
              "      display:flex;\n",
              "      flex-wrap:wrap;\n",
              "      gap: 12px;\n",
              "    }\n",
              "\n",
              "    .colab-df-convert {\n",
              "      background-color: #E8F0FE;\n",
              "      border: none;\n",
              "      border-radius: 50%;\n",
              "      cursor: pointer;\n",
              "      display: none;\n",
              "      fill: #1967D2;\n",
              "      height: 32px;\n",
              "      padding: 0 0 0 0;\n",
              "      width: 32px;\n",
              "    }\n",
              "\n",
              "    .colab-df-convert:hover {\n",
              "      background-color: #E2EBFA;\n",
              "      box-shadow: 0px 1px 2px rgba(60, 64, 67, 0.3), 0px 1px 3px 1px rgba(60, 64, 67, 0.15);\n",
              "      fill: #174EA6;\n",
              "    }\n",
              "\n",
              "    [theme=dark] .colab-df-convert {\n",
              "      background-color: #3B4455;\n",
              "      fill: #D2E3FC;\n",
              "    }\n",
              "\n",
              "    [theme=dark] .colab-df-convert:hover {\n",
              "      background-color: #434B5C;\n",
              "      box-shadow: 0px 1px 3px 1px rgba(0, 0, 0, 0.15);\n",
              "      filter: drop-shadow(0px 1px 2px rgba(0, 0, 0, 0.3));\n",
              "      fill: #FFFFFF;\n",
              "    }\n",
              "  </style>\n",
              "\n",
              "      <script>\n",
              "        const buttonEl =\n",
              "          document.querySelector('#df-1fabb62a-a2c3-4ac3-95c1-dfb3eeb2e54e button.colab-df-convert');\n",
              "        buttonEl.style.display =\n",
              "          google.colab.kernel.accessAllowed ? 'block' : 'none';\n",
              "\n",
              "        async function convertToInteractive(key) {\n",
              "          const element = document.querySelector('#df-1fabb62a-a2c3-4ac3-95c1-dfb3eeb2e54e');\n",
              "          const dataTable =\n",
              "            await google.colab.kernel.invokeFunction('convertToInteractive',\n",
              "                                                     [key], {});\n",
              "          if (!dataTable) return;\n",
              "\n",
              "          const docLinkHtml = 'Like what you see? Visit the ' +\n",
              "            '<a target=\"_blank\" href=https://colab.research.google.com/notebooks/data_table.ipynb>data table notebook</a>'\n",
              "            + ' to learn more about interactive tables.';\n",
              "          element.innerHTML = '';\n",
              "          dataTable['output_type'] = 'display_data';\n",
              "          await google.colab.output.renderOutput(dataTable, element);\n",
              "          const docLink = document.createElement('div');\n",
              "          docLink.innerHTML = docLinkHtml;\n",
              "          element.appendChild(docLink);\n",
              "        }\n",
              "      </script>\n",
              "    </div>\n",
              "  </div>\n",
              "  "
            ]
          },
          "metadata": {},
          "execution_count": 171
        }
      ]
    },
    {
      "cell_type": "code",
      "source": [
        "sns.lineplot(x='max_depth',y='train', data=table_)\n",
        "sns.lineplot(x='max_depth',y='test', data=table_)\n",
        "plt.legend(['Train','Test'])"
      ],
      "metadata": {
        "colab": {
          "base_uri": "https://localhost:8080/",
          "height": 467
        },
        "id": "qgu7oSQZ7SV8",
        "outputId": "05acd0fb-b572-41b5-a6aa-a624855ec4ff"
      },
      "execution_count": null,
      "outputs": [
        {
          "output_type": "execute_result",
          "data": {
            "text/plain": [
              "<matplotlib.legend.Legend at 0x7f394055ce50>"
            ]
          },
          "metadata": {},
          "execution_count": 172
        },
        {
          "output_type": "display_data",
          "data": {
            "text/plain": [
              "<Figure size 640x480 with 1 Axes>"
            ],
            "image/png": "[encoded data removed]"
          },
          "metadata": {}
        }
      ]
    },
    {
      "cell_type": "markdown",
      "source": [
        "This confirms the overfitting, and shows the true behavior of the model against the test data."
      ],
      "metadata": {
        "id": "UFlulQ9xQb80"
      }
    },
    {
      "cell_type": "code",
      "source": [
        "table_.sort_values('test', ascending=False).head(5) #top 5 best results"
      ],
      "metadata": {
        "id": "heeDIgzXQgib",
        "colab": {
          "base_uri": "https://localhost:8080/",
          "height": 206
        },
        "outputId": "7cf32c56-62d0-4fe4-ddfd-d8786601ecbf"
      },
      "execution_count": null,
      "outputs": [
        {
          "output_type": "execute_result",
          "data": {
            "text/plain": [
              "   max_depth      train       test\n",
              "2          3  78.753336  78.679035\n",
              "3          4  78.796657  78.659055\n",
              "4          5  78.947832  78.579890\n",
              "5          6  79.110087  78.245793\n",
              "6          7  79.453302  77.868946"
            ],
            "text/html": [
              "\n",
              "  <div id=\"df-acf535fa-979f-49f3-a736-b0f1ba124990\">\n",
              "    <div class=\"colab-df-container\">\n",
              "      <div>\n",
              "<style scoped>\n",
              "    .dataframe tbody tr th:only-of-type {\n",
              "        vertical-align: middle;\n",
              "    }\n",
              "\n",
              "    .dataframe tbody tr th {\n",
              "        vertical-align: top;\n",
              "    }\n",
              "\n",
              "    .dataframe thead th {\n",
              "        text-align: right;\n",
              "    }\n",
              "</style>\n",
              "<table border=\"1\" class=\"dataframe\">\n",
              "  <thead>\n",
              "    <tr style=\"text-align: right;\">\n",
              "      <th></th>\n",
              "      <th>max_depth</th>\n",
              "      <th>train</th>\n",
              "      <th>test</th>\n",
              "    </tr>\n",
              "  </thead>\n",
              "  <tbody>\n",
              "    <tr>\n",
              "      <th>2</th>\n",
              "      <td>3</td>\n",
              "      <td>78.753336</td>\n",
              "      <td>78.679035</td>\n",
              "    </tr>\n",
              "    <tr>\n",
              "      <th>3</th>\n",
              "      <td>4</td>\n",
              "      <td>78.796657</td>\n",
              "      <td>78.659055</td>\n",
              "    </tr>\n",
              "    <tr>\n",
              "      <th>4</th>\n",
              "      <td>5</td>\n",
              "      <td>78.947832</td>\n",
              "      <td>78.579890</td>\n",
              "    </tr>\n",
              "    <tr>\n",
              "      <th>5</th>\n",
              "      <td>6</td>\n",
              "      <td>79.110087</td>\n",
              "      <td>78.245793</td>\n",
              "    </tr>\n",
              "    <tr>\n",
              "      <th>6</th>\n",
              "      <td>7</td>\n",
              "      <td>79.453302</td>\n",
              "      <td>77.868946</td>\n",
              "    </tr>\n",
              "  </tbody>\n",
              "</table>\n",
              "</div>\n",
              "      <button class=\"colab-df-convert\" onclick=\"convertToInteractive('df-acf535fa-979f-49f3-a736-b0f1ba124990')\"\n",
              "              title=\"Convert this dataframe to an interactive table.\"\n",
              "              style=\"display:none;\">\n",
              "        \n",
              "  <svg xmlns=\"http://www.w3.org/2000/svg\" height=\"24px\"viewBox=\"0 0 24 24\"\n",
              "       width=\"24px\">\n",
              "    <path d=\"M0 0h24v24H0V0z\" fill=\"none\"/>\n",
              "    <path d=\"M18.56 5.44l.94 2.06.94-2.06 2.06-.94-2.06-.94-.94-2.06-.94 2.06-2.06.94zm-11 1L8.5 8.5l.94-2.06 2.06-.94-2.06-.94L8.5 2.5l-.94 2.06-2.06.94zm10 10l.94 2.06.94-2.06 2.06-.94-2.06-.94-.94-2.06-.94 2.06-2.06.94z\"/><path d=\"M17.41 7.96l-1.37-1.37c-.4-.4-.92-.59-1.43-.59-.52 0-1.04.2-1.43.59L10.3 9.45l-7.72 7.72c-.78.78-.78 2.05 0 2.83L4 21.41c.39.39.9.59 1.41.59.51 0 1.02-.2 1.41-.59l7.78-7.78 2.81-2.81c.8-.78.8-2.07 0-2.86zM5.41 20L4 18.59l7.72-7.72 1.47 1.35L5.41 20z\"/>\n",
              "  </svg>\n",
              "      </button>\n",
              "      \n",
              "  <style>\n",
              "    .colab-df-container {\n",
              "      display:flex;\n",
              "      flex-wrap:wrap;\n",
              "      gap: 12px;\n",
              "    }\n",
              "\n",
              "    .colab-df-convert {\n",
              "      background-color: #E8F0FE;\n",
              "      border: none;\n",
              "      border-radius: 50%;\n",
              "      cursor: pointer;\n",
              "      display: none;\n",
              "      fill: #1967D2;\n",
              "      height: 32px;\n",
              "      padding: 0 0 0 0;\n",
              "      width: 32px;\n",
              "    }\n",
              "\n",
              "    .colab-df-convert:hover {\n",
              "      background-color: #E2EBFA;\n",
              "      box-shadow: 0px 1px 2px rgba(60, 64, 67, 0.3), 0px 1px 3px 1px rgba(60, 64, 67, 0.15);\n",
              "      fill: #174EA6;\n",
              "    }\n",
              "\n",
              "    [theme=dark] .colab-df-convert {\n",
              "      background-color: #3B4455;\n",
              "      fill: #D2E3FC;\n",
              "    }\n",
              "\n",
              "    [theme=dark] .colab-df-convert:hover {\n",
              "      background-color: #434B5C;\n",
              "      box-shadow: 0px 1px 3px 1px rgba(0, 0, 0, 0.15);\n",
              "      filter: drop-shadow(0px 1px 2px rgba(0, 0, 0, 0.3));\n",
              "      fill: #FFFFFF;\n",
              "    }\n",
              "  </style>\n",
              "\n",
              "      <script>\n",
              "        const buttonEl =\n",
              "          document.querySelector('#df-acf535fa-979f-49f3-a736-b0f1ba124990 button.colab-df-convert');\n",
              "        buttonEl.style.display =\n",
              "          google.colab.kernel.accessAllowed ? 'block' : 'none';\n",
              "\n",
              "        async function convertToInteractive(key) {\n",
              "          const element = document.querySelector('#df-acf535fa-979f-49f3-a736-b0f1ba124990');\n",
              "          const dataTable =\n",
              "            await google.colab.kernel.invokeFunction('convertToInteractive',\n",
              "                                                     [key], {});\n",
              "          if (!dataTable) return;\n",
              "\n",
              "          const docLinkHtml = 'Like what you see? Visit the ' +\n",
              "            '<a target=\"_blank\" href=https://colab.research.google.com/notebooks/data_table.ipynb>data table notebook</a>'\n",
              "            + ' to learn more about interactive tables.';\n",
              "          element.innerHTML = '';\n",
              "          dataTable['output_type'] = 'display_data';\n",
              "          await google.colab.output.renderOutput(dataTable, element);\n",
              "          const docLink = document.createElement('div');\n",
              "          docLink.innerHTML = docLinkHtml;\n",
              "          element.appendChild(docLink);\n",
              "        }\n",
              "      </script>\n",
              "    </div>\n",
              "  </div>\n",
              "  "
            ]
          },
          "metadata": {},
          "execution_count": 173
        }
      ]
    },
    {
      "cell_type": "markdown",
      "source": [
        "This process of optimization takes a long time, and the decision tree has other hyperparameters. Is there any way to optimize the parameter optimization?"
      ],
      "metadata": {
        "id": "CUfYhiA9_MNA"
      }
    },
    {
      "cell_type": "markdown",
      "source": [
        "## max_depth  and min_samplez_leaf optimization"
      ],
      "metadata": {
        "id": "foHvDsD7u3jW"
      }
    },
    {
      "cell_type": "code",
      "source": [
        "np.random.seed(SEED)\n",
        "\n",
        "def model_run(max_depth, min_samples_leaf):\n",
        "  model = DecisionTreeClassifier(max_depth=max_depth, min_samples_leaf=min_samples_leaf)\n",
        "  gkf = GroupKFold(n_splits=10)\n",
        "  cros_val = cross_validate(model, x, y, cv=gkf, groups=dados.rng_car_model,\n",
        "                          return_train_score=False)\n",
        "\n",
        "  results = cross_validate(model, x, y, cv=gkf,\n",
        "                           groups = dados.rng_car_model, return_train_score=True)\n",
        "  train_score =results['train_score'].mean()*100\n",
        "  test_score = results['test_score'].mean()*100\n",
        "  table = [max_depth, min_samples_leaf, train_score, test_score]\n",
        "  return table\n",
        "def search():\n",
        "  results = []\n",
        "  for max_depth in range(1,33):\n",
        "    for min_samples_leaf in [32,64,128,256]: #empiracally choosing 4 min_samples_leaf\n",
        "      table = model_run(max_depth,min_samples_leaf)\n",
        "      results.append(table)\n",
        "  results = pd.DataFrame(results, columns=['max_depth','min_samples_leaf',\n",
        "                                              'train', 'test'])\n",
        "  return results\n",
        "results = search()\n",
        "results.sort_values('test', ascending=False).head(5)"
      ],
      "metadata": {
        "colab": {
          "base_uri": "https://localhost:8080/",
          "height": 206
        },
        "id": "D7uGYGVI_L0P",
        "outputId": "0dda8a91-d408-44c3-981e-40ff114531dc"
      },
      "execution_count": null,
      "outputs": [
        {
          "output_type": "execute_result",
          "data": {
            "text/plain": [
              "    max_depth  min_samples_leaf      train       test\n",
              "9           3                64  78.751106  78.679035\n",
              "11          3               256  78.751106  78.679035\n",
              "15          4               256  78.751106  78.679035\n",
              "14          4               128  78.751106  78.679035\n",
              "13          4                64  78.751106  78.679035"
            ],
            "text/html": [
              "\n",
              "  <div id=\"df-0edd8e9c-126d-4b43-8e9a-62e633500a99\">\n",
              "    <div class=\"colab-df-container\">\n",
              "      <div>\n",
              "<style scoped>\n",
              "    .dataframe tbody tr th:only-of-type {\n",
              "        vertical-align: middle;\n",
              "    }\n",
              "\n",
              "    .dataframe tbody tr th {\n",
              "        vertical-align: top;\n",
              "    }\n",
              "\n",
              "    .dataframe thead th {\n",
              "        text-align: right;\n",
              "    }\n",
              "</style>\n",
              "<table border=\"1\" class=\"dataframe\">\n",
              "  <thead>\n",
              "    <tr style=\"text-align: right;\">\n",
              "      <th></th>\n",
              "      <th>max_depth</th>\n",
              "      <th>min_samples_leaf</th>\n",
              "      <th>train</th>\n",
              "      <th>test</th>\n",
              "    </tr>\n",
              "  </thead>\n",
              "  <tbody>\n",
              "    <tr>\n",
              "      <th>9</th>\n",
              "      <td>3</td>\n",
              "      <td>64</td>\n",
              "      <td>78.751106</td>\n",
              "      <td>78.679035</td>\n",
              "    </tr>\n",
              "    <tr>\n",
              "      <th>11</th>\n",
              "      <td>3</td>\n",
              "      <td>256</td>\n",
              "      <td>78.751106</td>\n",
              "      <td>78.679035</td>\n",
              "    </tr>\n",
              "    <tr>\n",
              "      <th>15</th>\n",
              "      <td>4</td>\n",
              "      <td>256</td>\n",
              "      <td>78.751106</td>\n",
              "      <td>78.679035</td>\n",
              "    </tr>\n",
              "    <tr>\n",
              "      <th>14</th>\n",
              "      <td>4</td>\n",
              "      <td>128</td>\n",
              "      <td>78.751106</td>\n",
              "      <td>78.679035</td>\n",
              "    </tr>\n",
              "    <tr>\n",
              "      <th>13</th>\n",
              "      <td>4</td>\n",
              "      <td>64</td>\n",
              "      <td>78.751106</td>\n",
              "      <td>78.679035</td>\n",
              "    </tr>\n",
              "  </tbody>\n",
              "</table>\n",
              "</div>\n",
              "      <button class=\"colab-df-convert\" onclick=\"convertToInteractive('df-0edd8e9c-126d-4b43-8e9a-62e633500a99')\"\n",
              "              title=\"Convert this dataframe to an interactive table.\"\n",
              "              style=\"display:none;\">\n",
              "        \n",
              "  <svg xmlns=\"http://www.w3.org/2000/svg\" height=\"24px\"viewBox=\"0 0 24 24\"\n",
              "       width=\"24px\">\n",
              "    <path d=\"M0 0h24v24H0V0z\" fill=\"none\"/>\n",
              "    <path d=\"M18.56 5.44l.94 2.06.94-2.06 2.06-.94-2.06-.94-.94-2.06-.94 2.06-2.06.94zm-11 1L8.5 8.5l.94-2.06 2.06-.94-2.06-.94L8.5 2.5l-.94 2.06-2.06.94zm10 10l.94 2.06.94-2.06 2.06-.94-2.06-.94-.94-2.06-.94 2.06-2.06.94z\"/><path d=\"M17.41 7.96l-1.37-1.37c-.4-.4-.92-.59-1.43-.59-.52 0-1.04.2-1.43.59L10.3 9.45l-7.72 7.72c-.78.78-.78 2.05 0 2.83L4 21.41c.39.39.9.59 1.41.59.51 0 1.02-.2 1.41-.59l7.78-7.78 2.81-2.81c.8-.78.8-2.07 0-2.86zM5.41 20L4 18.59l7.72-7.72 1.47 1.35L5.41 20z\"/>\n",
              "  </svg>\n",
              "      </button>\n",
              "      \n",
              "  <style>\n",
              "    .colab-df-container {\n",
              "      display:flex;\n",
              "      flex-wrap:wrap;\n",
              "      gap: 12px;\n",
              "    }\n",
              "\n",
              "    .colab-df-convert {\n",
              "      background-color: #E8F0FE;\n",
              "      border: none;\n",
              "      border-radius: 50%;\n",
              "      cursor: pointer;\n",
              "      display: none;\n",
              "      fill: #1967D2;\n",
              "      height: 32px;\n",
              "      padding: 0 0 0 0;\n",
              "      width: 32px;\n",
              "    }\n",
              "\n",
              "    .colab-df-convert:hover {\n",
              "      background-color: #E2EBFA;\n",
              "      box-shadow: 0px 1px 2px rgba(60, 64, 67, 0.3), 0px 1px 3px 1px rgba(60, 64, 67, 0.15);\n",
              "      fill: #174EA6;\n",
              "    }\n",
              "\n",
              "    [theme=dark] .colab-df-convert {\n",
              "      background-color: #3B4455;\n",
              "      fill: #D2E3FC;\n",
              "    }\n",
              "\n",
              "    [theme=dark] .colab-df-convert:hover {\n",
              "      background-color: #434B5C;\n",
              "      box-shadow: 0px 1px 3px 1px rgba(0, 0, 0, 0.15);\n",
              "      filter: drop-shadow(0px 1px 2px rgba(0, 0, 0, 0.3));\n",
              "      fill: #FFFFFF;\n",
              "    }\n",
              "  </style>\n",
              "\n",
              "      <script>\n",
              "        const buttonEl =\n",
              "          document.querySelector('#df-0edd8e9c-126d-4b43-8e9a-62e633500a99 button.colab-df-convert');\n",
              "        buttonEl.style.display =\n",
              "          google.colab.kernel.accessAllowed ? 'block' : 'none';\n",
              "\n",
              "        async function convertToInteractive(key) {\n",
              "          const element = document.querySelector('#df-0edd8e9c-126d-4b43-8e9a-62e633500a99');\n",
              "          const dataTable =\n",
              "            await google.colab.kernel.invokeFunction('convertToInteractive',\n",
              "                                                     [key], {});\n",
              "          if (!dataTable) return;\n",
              "\n",
              "          const docLinkHtml = 'Like what you see? Visit the ' +\n",
              "            '<a target=\"_blank\" href=https://colab.research.google.com/notebooks/data_table.ipynb>data table notebook</a>'\n",
              "            + ' to learn more about interactive tables.';\n",
              "          element.innerHTML = '';\n",
              "          dataTable['output_type'] = 'display_data';\n",
              "          await google.colab.output.renderOutput(dataTable, element);\n",
              "          const docLink = document.createElement('div');\n",
              "          docLink.innerHTML = docLinkHtml;\n",
              "          element.appendChild(docLink);\n",
              "        }\n",
              "      </script>\n",
              "    </div>\n",
              "  </div>\n",
              "  "
            ]
          },
          "metadata": {},
          "execution_count": 174
        }
      ]
    },
    {
      "cell_type": "markdown",
      "source": [
        "Empiracally choosing 4 values for min_samples_leaf, took a very long time and returned the same result. This is not working...\n",
        "\n",
        "Is there any relation between the hiperparameters and the test score?"
      ],
      "metadata": {
        "id": "w3A0IRpZDarJ"
      }
    },
    {
      "cell_type": "code",
      "source": [
        "results.corr()"
      ],
      "metadata": {
        "colab": {
          "base_uri": "https://localhost:8080/",
          "height": 175
        },
        "id": "0mjfjNWjmD7b",
        "outputId": "dc779f4a-12cb-4576-dd7d-49064879a442"
      },
      "execution_count": null,
      "outputs": [
        {
          "output_type": "execute_result",
          "data": {
            "text/plain": [
              "                     max_depth  min_samples_leaf     train      test\n",
              "max_depth         1.000000e+00     -2.780775e-16  0.559841  0.026421\n",
              "min_samples_leaf -2.780775e-16      1.000000e+00 -0.392168  0.396500\n",
              "train             5.598407e-01     -3.921676e-01  1.000000  0.212525\n",
              "test              2.642111e-02      3.964997e-01  0.212525  1.000000"
            ],
            "text/html": [
              "\n",
              "  <div id=\"df-9d96802b-9f35-48d0-b556-3b7c4380a1e4\">\n",
              "    <div class=\"colab-df-container\">\n",
              "      <div>\n",
              "<style scoped>\n",
              "    .dataframe tbody tr th:only-of-type {\n",
              "        vertical-align: middle;\n",
              "    }\n",
              "\n",
              "    .dataframe tbody tr th {\n",
              "        vertical-align: top;\n",
              "    }\n",
              "\n",
              "    .dataframe thead th {\n",
              "        text-align: right;\n",
              "    }\n",
              "</style>\n",
              "<table border=\"1\" class=\"dataframe\">\n",
              "  <thead>\n",
              "    <tr style=\"text-align: right;\">\n",
              "      <th></th>\n",
              "      <th>max_depth</th>\n",
              "      <th>min_samples_leaf</th>\n",
              "      <th>train</th>\n",
              "      <th>test</th>\n",
              "    </tr>\n",
              "  </thead>\n",
              "  <tbody>\n",
              "    <tr>\n",
              "      <th>max_depth</th>\n",
              "      <td>1.000000e+00</td>\n",
              "      <td>-2.780775e-16</td>\n",
              "      <td>0.559841</td>\n",
              "      <td>0.026421</td>\n",
              "    </tr>\n",
              "    <tr>\n",
              "      <th>min_samples_leaf</th>\n",
              "      <td>-2.780775e-16</td>\n",
              "      <td>1.000000e+00</td>\n",
              "      <td>-0.392168</td>\n",
              "      <td>0.396500</td>\n",
              "    </tr>\n",
              "    <tr>\n",
              "      <th>train</th>\n",
              "      <td>5.598407e-01</td>\n",
              "      <td>-3.921676e-01</td>\n",
              "      <td>1.000000</td>\n",
              "      <td>0.212525</td>\n",
              "    </tr>\n",
              "    <tr>\n",
              "      <th>test</th>\n",
              "      <td>2.642111e-02</td>\n",
              "      <td>3.964997e-01</td>\n",
              "      <td>0.212525</td>\n",
              "      <td>1.000000</td>\n",
              "    </tr>\n",
              "  </tbody>\n",
              "</table>\n",
              "</div>\n",
              "      <button class=\"colab-df-convert\" onclick=\"convertToInteractive('df-9d96802b-9f35-48d0-b556-3b7c4380a1e4')\"\n",
              "              title=\"Convert this dataframe to an interactive table.\"\n",
              "              style=\"display:none;\">\n",
              "        \n",
              "  <svg xmlns=\"http://www.w3.org/2000/svg\" height=\"24px\"viewBox=\"0 0 24 24\"\n",
              "       width=\"24px\">\n",
              "    <path d=\"M0 0h24v24H0V0z\" fill=\"none\"/>\n",
              "    <path d=\"M18.56 5.44l.94 2.06.94-2.06 2.06-.94-2.06-.94-.94-2.06-.94 2.06-2.06.94zm-11 1L8.5 8.5l.94-2.06 2.06-.94-2.06-.94L8.5 2.5l-.94 2.06-2.06.94zm10 10l.94 2.06.94-2.06 2.06-.94-2.06-.94-.94-2.06-.94 2.06-2.06.94z\"/><path d=\"M17.41 7.96l-1.37-1.37c-.4-.4-.92-.59-1.43-.59-.52 0-1.04.2-1.43.59L10.3 9.45l-7.72 7.72c-.78.78-.78 2.05 0 2.83L4 21.41c.39.39.9.59 1.41.59.51 0 1.02-.2 1.41-.59l7.78-7.78 2.81-2.81c.8-.78.8-2.07 0-2.86zM5.41 20L4 18.59l7.72-7.72 1.47 1.35L5.41 20z\"/>\n",
              "  </svg>\n",
              "      </button>\n",
              "      \n",
              "  <style>\n",
              "    .colab-df-container {\n",
              "      display:flex;\n",
              "      flex-wrap:wrap;\n",
              "      gap: 12px;\n",
              "    }\n",
              "\n",
              "    .colab-df-convert {\n",
              "      background-color: #E8F0FE;\n",
              "      border: none;\n",
              "      border-radius: 50%;\n",
              "      cursor: pointer;\n",
              "      display: none;\n",
              "      fill: #1967D2;\n",
              "      height: 32px;\n",
              "      padding: 0 0 0 0;\n",
              "      width: 32px;\n",
              "    }\n",
              "\n",
              "    .colab-df-convert:hover {\n",
              "      background-color: #E2EBFA;\n",
              "      box-shadow: 0px 1px 2px rgba(60, 64, 67, 0.3), 0px 1px 3px 1px rgba(60, 64, 67, 0.15);\n",
              "      fill: #174EA6;\n",
              "    }\n",
              "\n",
              "    [theme=dark] .colab-df-convert {\n",
              "      background-color: #3B4455;\n",
              "      fill: #D2E3FC;\n",
              "    }\n",
              "\n",
              "    [theme=dark] .colab-df-convert:hover {\n",
              "      background-color: #434B5C;\n",
              "      box-shadow: 0px 1px 3px 1px rgba(0, 0, 0, 0.15);\n",
              "      filter: drop-shadow(0px 1px 2px rgba(0, 0, 0, 0.3));\n",
              "      fill: #FFFFFF;\n",
              "    }\n",
              "  </style>\n",
              "\n",
              "      <script>\n",
              "        const buttonEl =\n",
              "          document.querySelector('#df-9d96802b-9f35-48d0-b556-3b7c4380a1e4 button.colab-df-convert');\n",
              "        buttonEl.style.display =\n",
              "          google.colab.kernel.accessAllowed ? 'block' : 'none';\n",
              "\n",
              "        async function convertToInteractive(key) {\n",
              "          const element = document.querySelector('#df-9d96802b-9f35-48d0-b556-3b7c4380a1e4');\n",
              "          const dataTable =\n",
              "            await google.colab.kernel.invokeFunction('convertToInteractive',\n",
              "                                                     [key], {});\n",
              "          if (!dataTable) return;\n",
              "\n",
              "          const docLinkHtml = 'Like what you see? Visit the ' +\n",
              "            '<a target=\"_blank\" href=https://colab.research.google.com/notebooks/data_table.ipynb>data table notebook</a>'\n",
              "            + ' to learn more about interactive tables.';\n",
              "          element.innerHTML = '';\n",
              "          dataTable['output_type'] = 'display_data';\n",
              "          await google.colab.output.renderOutput(dataTable, element);\n",
              "          const docLink = document.createElement('div');\n",
              "          docLink.innerHTML = docLinkHtml;\n",
              "          element.appendChild(docLink);\n",
              "        }\n",
              "      </script>\n",
              "    </div>\n",
              "  </div>\n",
              "  "
            ]
          },
          "metadata": {},
          "execution_count": 175
        }
      ]
    },
    {
      "cell_type": "markdown",
      "source": [
        "It seens that as min_samples_leaf increases the test scores increases too."
      ],
      "metadata": {
        "id": "Ly18vLl6s9Ct"
      }
    },
    {
      "cell_type": "code",
      "source": [
        "def search():\n",
        "  results = []\n",
        "  for max_depth in range(1,33):\n",
        "    for min_samples_leaf in [192,256, 512]: #empiracally increasing the values\n",
        "      table = model_run(max_depth,min_samples_leaf)\n",
        "      results.append(table)\n",
        "  results = pd.DataFrame(results, columns=['max_depth','min_samples_leaf',\n",
        "                                              'train', 'test'])\n",
        "  return results\n",
        "results = search()\n",
        "results.sort_values('test', ascending=False).head(5)"
      ],
      "metadata": {
        "colab": {
          "base_uri": "https://localhost:8080/",
          "height": 206
        },
        "id": "YfBTg9yxs8x0",
        "outputId": "c1c3cdb9-afb2-450c-f0f4-cdb6de1b0510"
      },
      "execution_count": null,
      "outputs": [
        {
          "output_type": "execute_result",
          "data": {
            "text/plain": [
              "    max_depth  min_samples_leaf      train       test\n",
              "10          4               256  78.751106  78.679035\n",
              "6           3               192  78.751106  78.679035\n",
              "9           4               192  78.751106  78.679035\n",
              "7           3               256  78.751106  78.679035\n",
              "13          5               256  78.757767  78.547987"
            ],
            "text/html": [
              "\n",
              "  <div id=\"df-ca4de5fb-87cf-4e82-b448-173d220abefb\">\n",
              "    <div class=\"colab-df-container\">\n",
              "      <div>\n",
              "<style scoped>\n",
              "    .dataframe tbody tr th:only-of-type {\n",
              "        vertical-align: middle;\n",
              "    }\n",
              "\n",
              "    .dataframe tbody tr th {\n",
              "        vertical-align: top;\n",
              "    }\n",
              "\n",
              "    .dataframe thead th {\n",
              "        text-align: right;\n",
              "    }\n",
              "</style>\n",
              "<table border=\"1\" class=\"dataframe\">\n",
              "  <thead>\n",
              "    <tr style=\"text-align: right;\">\n",
              "      <th></th>\n",
              "      <th>max_depth</th>\n",
              "      <th>min_samples_leaf</th>\n",
              "      <th>train</th>\n",
              "      <th>test</th>\n",
              "    </tr>\n",
              "  </thead>\n",
              "  <tbody>\n",
              "    <tr>\n",
              "      <th>10</th>\n",
              "      <td>4</td>\n",
              "      <td>256</td>\n",
              "      <td>78.751106</td>\n",
              "      <td>78.679035</td>\n",
              "    </tr>\n",
              "    <tr>\n",
              "      <th>6</th>\n",
              "      <td>3</td>\n",
              "      <td>192</td>\n",
              "      <td>78.751106</td>\n",
              "      <td>78.679035</td>\n",
              "    </tr>\n",
              "    <tr>\n",
              "      <th>9</th>\n",
              "      <td>4</td>\n",
              "      <td>192</td>\n",
              "      <td>78.751106</td>\n",
              "      <td>78.679035</td>\n",
              "    </tr>\n",
              "    <tr>\n",
              "      <th>7</th>\n",
              "      <td>3</td>\n",
              "      <td>256</td>\n",
              "      <td>78.751106</td>\n",
              "      <td>78.679035</td>\n",
              "    </tr>\n",
              "    <tr>\n",
              "      <th>13</th>\n",
              "      <td>5</td>\n",
              "      <td>256</td>\n",
              "      <td>78.757767</td>\n",
              "      <td>78.547987</td>\n",
              "    </tr>\n",
              "  </tbody>\n",
              "</table>\n",
              "</div>\n",
              "      <button class=\"colab-df-convert\" onclick=\"convertToInteractive('df-ca4de5fb-87cf-4e82-b448-173d220abefb')\"\n",
              "              title=\"Convert this dataframe to an interactive table.\"\n",
              "              style=\"display:none;\">\n",
              "        \n",
              "  <svg xmlns=\"http://www.w3.org/2000/svg\" height=\"24px\"viewBox=\"0 0 24 24\"\n",
              "       width=\"24px\">\n",
              "    <path d=\"M0 0h24v24H0V0z\" fill=\"none\"/>\n",
              "    <path d=\"M18.56 5.44l.94 2.06.94-2.06 2.06-.94-2.06-.94-.94-2.06-.94 2.06-2.06.94zm-11 1L8.5 8.5l.94-2.06 2.06-.94-2.06-.94L8.5 2.5l-.94 2.06-2.06.94zm10 10l.94 2.06.94-2.06 2.06-.94-2.06-.94-.94-2.06-.94 2.06-2.06.94z\"/><path d=\"M17.41 7.96l-1.37-1.37c-.4-.4-.92-.59-1.43-.59-.52 0-1.04.2-1.43.59L10.3 9.45l-7.72 7.72c-.78.78-.78 2.05 0 2.83L4 21.41c.39.39.9.59 1.41.59.51 0 1.02-.2 1.41-.59l7.78-7.78 2.81-2.81c.8-.78.8-2.07 0-2.86zM5.41 20L4 18.59l7.72-7.72 1.47 1.35L5.41 20z\"/>\n",
              "  </svg>\n",
              "      </button>\n",
              "      \n",
              "  <style>\n",
              "    .colab-df-container {\n",
              "      display:flex;\n",
              "      flex-wrap:wrap;\n",
              "      gap: 12px;\n",
              "    }\n",
              "\n",
              "    .colab-df-convert {\n",
              "      background-color: #E8F0FE;\n",
              "      border: none;\n",
              "      border-radius: 50%;\n",
              "      cursor: pointer;\n",
              "      display: none;\n",
              "      fill: #1967D2;\n",
              "      height: 32px;\n",
              "      padding: 0 0 0 0;\n",
              "      width: 32px;\n",
              "    }\n",
              "\n",
              "    .colab-df-convert:hover {\n",
              "      background-color: #E2EBFA;\n",
              "      box-shadow: 0px 1px 2px rgba(60, 64, 67, 0.3), 0px 1px 3px 1px rgba(60, 64, 67, 0.15);\n",
              "      fill: #174EA6;\n",
              "    }\n",
              "\n",
              "    [theme=dark] .colab-df-convert {\n",
              "      background-color: #3B4455;\n",
              "      fill: #D2E3FC;\n",
              "    }\n",
              "\n",
              "    [theme=dark] .colab-df-convert:hover {\n",
              "      background-color: #434B5C;\n",
              "      box-shadow: 0px 1px 3px 1px rgba(0, 0, 0, 0.15);\n",
              "      filter: drop-shadow(0px 1px 2px rgba(0, 0, 0, 0.3));\n",
              "      fill: #FFFFFF;\n",
              "    }\n",
              "  </style>\n",
              "\n",
              "      <script>\n",
              "        const buttonEl =\n",
              "          document.querySelector('#df-ca4de5fb-87cf-4e82-b448-173d220abefb button.colab-df-convert');\n",
              "        buttonEl.style.display =\n",
              "          google.colab.kernel.accessAllowed ? 'block' : 'none';\n",
              "\n",
              "        async function convertToInteractive(key) {\n",
              "          const element = document.querySelector('#df-ca4de5fb-87cf-4e82-b448-173d220abefb');\n",
              "          const dataTable =\n",
              "            await google.colab.kernel.invokeFunction('convertToInteractive',\n",
              "                                                     [key], {});\n",
              "          if (!dataTable) return;\n",
              "\n",
              "          const docLinkHtml = 'Like what you see? Visit the ' +\n",
              "            '<a target=\"_blank\" href=https://colab.research.google.com/notebooks/data_table.ipynb>data table notebook</a>'\n",
              "            + ' to learn more about interactive tables.';\n",
              "          element.innerHTML = '';\n",
              "          dataTable['output_type'] = 'display_data';\n",
              "          await google.colab.output.renderOutput(dataTable, element);\n",
              "          const docLink = document.createElement('div');\n",
              "          docLink.innerHTML = docLinkHtml;\n",
              "          element.appendChild(docLink);\n",
              "        }\n",
              "      </script>\n",
              "    </div>\n",
              "  </div>\n",
              "  "
            ]
          },
          "metadata": {},
          "execution_count": 176
        }
      ]
    },
    {
      "cell_type": "code",
      "source": [
        "results.corr()"
      ],
      "metadata": {
        "colab": {
          "base_uri": "https://localhost:8080/",
          "height": 175
        },
        "id": "wMmkyrSktx0l",
        "outputId": "e827e0e3-16ad-4d8c-a8c7-504fc6057f65"
      },
      "execution_count": null,
      "outputs": [
        {
          "output_type": "execute_result",
          "data": {
            "text/plain": [
              "                     max_depth  min_samples_leaf     train      test\n",
              "max_depth         1.000000e+00     -2.523349e-16  0.325670  0.239458\n",
              "min_samples_leaf -2.523349e-16      1.000000e+00 -0.683457 -0.437605\n",
              "train             3.256696e-01     -6.834566e-01  1.000000  0.906157\n",
              "test              2.394577e-01     -4.376053e-01  0.906157  1.000000"
            ],
            "text/html": [
              "\n",
              "  <div id=\"df-cefaa59a-3a99-4321-b2fa-add385dc1447\">\n",
              "    <div class=\"colab-df-container\">\n",
              "      <div>\n",
              "<style scoped>\n",
              "    .dataframe tbody tr th:only-of-type {\n",
              "        vertical-align: middle;\n",
              "    }\n",
              "\n",
              "    .dataframe tbody tr th {\n",
              "        vertical-align: top;\n",
              "    }\n",
              "\n",
              "    .dataframe thead th {\n",
              "        text-align: right;\n",
              "    }\n",
              "</style>\n",
              "<table border=\"1\" class=\"dataframe\">\n",
              "  <thead>\n",
              "    <tr style=\"text-align: right;\">\n",
              "      <th></th>\n",
              "      <th>max_depth</th>\n",
              "      <th>min_samples_leaf</th>\n",
              "      <th>train</th>\n",
              "      <th>test</th>\n",
              "    </tr>\n",
              "  </thead>\n",
              "  <tbody>\n",
              "    <tr>\n",
              "      <th>max_depth</th>\n",
              "      <td>1.000000e+00</td>\n",
              "      <td>-2.523349e-16</td>\n",
              "      <td>0.325670</td>\n",
              "      <td>0.239458</td>\n",
              "    </tr>\n",
              "    <tr>\n",
              "      <th>min_samples_leaf</th>\n",
              "      <td>-2.523349e-16</td>\n",
              "      <td>1.000000e+00</td>\n",
              "      <td>-0.683457</td>\n",
              "      <td>-0.437605</td>\n",
              "    </tr>\n",
              "    <tr>\n",
              "      <th>train</th>\n",
              "      <td>3.256696e-01</td>\n",
              "      <td>-6.834566e-01</td>\n",
              "      <td>1.000000</td>\n",
              "      <td>0.906157</td>\n",
              "    </tr>\n",
              "    <tr>\n",
              "      <th>test</th>\n",
              "      <td>2.394577e-01</td>\n",
              "      <td>-4.376053e-01</td>\n",
              "      <td>0.906157</td>\n",
              "      <td>1.000000</td>\n",
              "    </tr>\n",
              "  </tbody>\n",
              "</table>\n",
              "</div>\n",
              "      <button class=\"colab-df-convert\" onclick=\"convertToInteractive('df-cefaa59a-3a99-4321-b2fa-add385dc1447')\"\n",
              "              title=\"Convert this dataframe to an interactive table.\"\n",
              "              style=\"display:none;\">\n",
              "        \n",
              "  <svg xmlns=\"http://www.w3.org/2000/svg\" height=\"24px\"viewBox=\"0 0 24 24\"\n",
              "       width=\"24px\">\n",
              "    <path d=\"M0 0h24v24H0V0z\" fill=\"none\"/>\n",
              "    <path d=\"M18.56 5.44l.94 2.06.94-2.06 2.06-.94-2.06-.94-.94-2.06-.94 2.06-2.06.94zm-11 1L8.5 8.5l.94-2.06 2.06-.94-2.06-.94L8.5 2.5l-.94 2.06-2.06.94zm10 10l.94 2.06.94-2.06 2.06-.94-2.06-.94-.94-2.06-.94 2.06-2.06.94z\"/><path d=\"M17.41 7.96l-1.37-1.37c-.4-.4-.92-.59-1.43-.59-.52 0-1.04.2-1.43.59L10.3 9.45l-7.72 7.72c-.78.78-.78 2.05 0 2.83L4 21.41c.39.39.9.59 1.41.59.51 0 1.02-.2 1.41-.59l7.78-7.78 2.81-2.81c.8-.78.8-2.07 0-2.86zM5.41 20L4 18.59l7.72-7.72 1.47 1.35L5.41 20z\"/>\n",
              "  </svg>\n",
              "      </button>\n",
              "      \n",
              "  <style>\n",
              "    .colab-df-container {\n",
              "      display:flex;\n",
              "      flex-wrap:wrap;\n",
              "      gap: 12px;\n",
              "    }\n",
              "\n",
              "    .colab-df-convert {\n",
              "      background-color: #E8F0FE;\n",
              "      border: none;\n",
              "      border-radius: 50%;\n",
              "      cursor: pointer;\n",
              "      display: none;\n",
              "      fill: #1967D2;\n",
              "      height: 32px;\n",
              "      padding: 0 0 0 0;\n",
              "      width: 32px;\n",
              "    }\n",
              "\n",
              "    .colab-df-convert:hover {\n",
              "      background-color: #E2EBFA;\n",
              "      box-shadow: 0px 1px 2px rgba(60, 64, 67, 0.3), 0px 1px 3px 1px rgba(60, 64, 67, 0.15);\n",
              "      fill: #174EA6;\n",
              "    }\n",
              "\n",
              "    [theme=dark] .colab-df-convert {\n",
              "      background-color: #3B4455;\n",
              "      fill: #D2E3FC;\n",
              "    }\n",
              "\n",
              "    [theme=dark] .colab-df-convert:hover {\n",
              "      background-color: #434B5C;\n",
              "      box-shadow: 0px 1px 3px 1px rgba(0, 0, 0, 0.15);\n",
              "      filter: drop-shadow(0px 1px 2px rgba(0, 0, 0, 0.3));\n",
              "      fill: #FFFFFF;\n",
              "    }\n",
              "  </style>\n",
              "\n",
              "      <script>\n",
              "        const buttonEl =\n",
              "          document.querySelector('#df-cefaa59a-3a99-4321-b2fa-add385dc1447 button.colab-df-convert');\n",
              "        buttonEl.style.display =\n",
              "          google.colab.kernel.accessAllowed ? 'block' : 'none';\n",
              "\n",
              "        async function convertToInteractive(key) {\n",
              "          const element = document.querySelector('#df-cefaa59a-3a99-4321-b2fa-add385dc1447');\n",
              "          const dataTable =\n",
              "            await google.colab.kernel.invokeFunction('convertToInteractive',\n",
              "                                                     [key], {});\n",
              "          if (!dataTable) return;\n",
              "\n",
              "          const docLinkHtml = 'Like what you see? Visit the ' +\n",
              "            '<a target=\"_blank\" href=https://colab.research.google.com/notebooks/data_table.ipynb>data table notebook</a>'\n",
              "            + ' to learn more about interactive tables.';\n",
              "          element.innerHTML = '';\n",
              "          dataTable['output_type'] = 'display_data';\n",
              "          await google.colab.output.renderOutput(dataTable, element);\n",
              "          const docLink = document.createElement('div');\n",
              "          docLink.innerHTML = docLinkHtml;\n",
              "          element.appendChild(docLink);\n",
              "        }\n",
              "      </script>\n",
              "    </div>\n",
              "  </div>\n",
              "  "
            ]
          },
          "metadata": {},
          "execution_count": 177
        }
      ]
    },
    {
      "cell_type": "markdown",
      "source": [
        "Now the result showed that the correlation between min_samples-leaf and the test is negative, still there is a number that defines the best hyperparameter, but it takes too long to find it and the scores do not change significantly. It is not worth searching for that number."
      ],
      "metadata": {
        "id": "vzrt2bjv95nY"
      }
    },
    {
      "cell_type": "markdown",
      "source": [
        "## max_depth, min_samples_leaf and min_samples_split optimization"
      ],
      "metadata": {
        "id": "CUtcL7aburgy"
      }
    },
    {
      "cell_type": "code",
      "source": [
        "def model_run(max_depth, min_samples_leaf,min_samples_split):\n",
        "  model = DecisionTreeClassifier(max_depth=max_depth, min_samples_leaf=min_samples_leaf,\n",
        "                                 min_samples_split=min_samples_split)\n",
        "  gkf = GroupKFold(n_splits=10)\n",
        "  cros_val = cross_validate(model, x, y, cv=gkf, groups=dados.rng_car_model,\n",
        "                          return_train_score=False)\n",
        "\n",
        "  results = cross_validate(model, x, y, cv=gkf,\n",
        "                           groups = dados.rng_car_model, return_train_score=True)\n",
        "  fit_time = results['fit_time'].mean()\n",
        "  score_time = results['score_time'].mean()\n",
        "\n",
        "  train_score =results['train_score'].mean()*100\n",
        "  test_score = results['test_score'].mean()*100\n",
        "  table = [max_depth, min_samples_leaf, min_samples_split,\n",
        "           train_score, test_score, fit_time, score_time]\n",
        "  return table\n",
        "\n",
        "def search():\n",
        "  results = []\n",
        "  for max_depth in [1,2,3,4,5,6]: #this time less depth, since one has low number of features\n",
        "    for min_samples_leaf in [192,256,512]:\n",
        "      for min_samples_split in[32,64,128,256]: #empiracally increasing the values\n",
        "        table = model_run(max_depth,min_samples_leaf,min_samples_split)\n",
        "        results.append(table)\n",
        "  results = pd.DataFrame(results, columns=['max_depth','min_samples_leaf','min_samples_split',\n",
        "                                              'train', 'test','fit_time','score_time'])\n",
        "  return results\n",
        "results = search()\n",
        "results.sort_values('test', ascending=False).head(5)"
      ],
      "metadata": {
        "colab": {
          "base_uri": "https://localhost:8080/",
          "height": 250
        },
        "id": "I0GbFXHYvO5m",
        "outputId": "6fb97a2b-12fd-4026-d949-614be5d7ef1c"
      },
      "execution_count": null,
      "outputs": [
        {
          "output_type": "execute_result",
          "data": {
            "text/plain": [
              "    max_depth  min_samples_leaf  min_samples_split      train       test  \\\n",
              "36          4               192                 32  78.751106  78.679035   \n",
              "43          4               256                256  78.751106  78.679035   \n",
              "41          4               256                 64  78.751106  78.679035   \n",
              "40          4               256                 32  78.751106  78.679035   \n",
              "39          4               192                256  78.751106  78.679035   \n",
              "\n",
              "    fit_time  score_time  \n",
              "36  0.015208    0.002712  \n",
              "43  0.015606    0.003020  \n",
              "41  0.015819    0.003107  \n",
              "40  0.014992    0.002681  \n",
              "39  0.014518    0.002838  "
            ],
            "text/html": [
              "\n",
              "  <div id=\"df-fe1f900f-1601-4945-bd1b-6602ebd03bba\">\n",
              "    <div class=\"colab-df-container\">\n",
              "      <div>\n",
              "<style scoped>\n",
              "    .dataframe tbody tr th:only-of-type {\n",
              "        vertical-align: middle;\n",
              "    }\n",
              "\n",
              "    .dataframe tbody tr th {\n",
              "        vertical-align: top;\n",
              "    }\n",
              "\n",
              "    .dataframe thead th {\n",
              "        text-align: right;\n",
              "    }\n",
              "</style>\n",
              "<table border=\"1\" class=\"dataframe\">\n",
              "  <thead>\n",
              "    <tr style=\"text-align: right;\">\n",
              "      <th></th>\n",
              "      <th>max_depth</th>\n",
              "      <th>min_samples_leaf</th>\n",
              "      <th>min_samples_split</th>\n",
              "      <th>train</th>\n",
              "      <th>test</th>\n",
              "      <th>fit_time</th>\n",
              "      <th>score_time</th>\n",
              "    </tr>\n",
              "  </thead>\n",
              "  <tbody>\n",
              "    <tr>\n",
              "      <th>36</th>\n",
              "      <td>4</td>\n",
              "      <td>192</td>\n",
              "      <td>32</td>\n",
              "      <td>78.751106</td>\n",
              "      <td>78.679035</td>\n",
              "      <td>0.015208</td>\n",
              "      <td>0.002712</td>\n",
              "    </tr>\n",
              "    <tr>\n",
              "      <th>43</th>\n",
              "      <td>4</td>\n",
              "      <td>256</td>\n",
              "      <td>256</td>\n",
              "      <td>78.751106</td>\n",
              "      <td>78.679035</td>\n",
              "      <td>0.015606</td>\n",
              "      <td>0.003020</td>\n",
              "    </tr>\n",
              "    <tr>\n",
              "      <th>41</th>\n",
              "      <td>4</td>\n",
              "      <td>256</td>\n",
              "      <td>64</td>\n",
              "      <td>78.751106</td>\n",
              "      <td>78.679035</td>\n",
              "      <td>0.015819</td>\n",
              "      <td>0.003107</td>\n",
              "    </tr>\n",
              "    <tr>\n",
              "      <th>40</th>\n",
              "      <td>4</td>\n",
              "      <td>256</td>\n",
              "      <td>32</td>\n",
              "      <td>78.751106</td>\n",
              "      <td>78.679035</td>\n",
              "      <td>0.014992</td>\n",
              "      <td>0.002681</td>\n",
              "    </tr>\n",
              "    <tr>\n",
              "      <th>39</th>\n",
              "      <td>4</td>\n",
              "      <td>192</td>\n",
              "      <td>256</td>\n",
              "      <td>78.751106</td>\n",
              "      <td>78.679035</td>\n",
              "      <td>0.014518</td>\n",
              "      <td>0.002838</td>\n",
              "    </tr>\n",
              "  </tbody>\n",
              "</table>\n",
              "</div>\n",
              "      <button class=\"colab-df-convert\" onclick=\"convertToInteractive('df-fe1f900f-1601-4945-bd1b-6602ebd03bba')\"\n",
              "              title=\"Convert this dataframe to an interactive table.\"\n",
              "              style=\"display:none;\">\n",
              "        \n",
              "  <svg xmlns=\"http://www.w3.org/2000/svg\" height=\"24px\"viewBox=\"0 0 24 24\"\n",
              "       width=\"24px\">\n",
              "    <path d=\"M0 0h24v24H0V0z\" fill=\"none\"/>\n",
              "    <path d=\"M18.56 5.44l.94 2.06.94-2.06 2.06-.94-2.06-.94-.94-2.06-.94 2.06-2.06.94zm-11 1L8.5 8.5l.94-2.06 2.06-.94-2.06-.94L8.5 2.5l-.94 2.06-2.06.94zm10 10l.94 2.06.94-2.06 2.06-.94-2.06-.94-.94-2.06-.94 2.06-2.06.94z\"/><path d=\"M17.41 7.96l-1.37-1.37c-.4-.4-.92-.59-1.43-.59-.52 0-1.04.2-1.43.59L10.3 9.45l-7.72 7.72c-.78.78-.78 2.05 0 2.83L4 21.41c.39.39.9.59 1.41.59.51 0 1.02-.2 1.41-.59l7.78-7.78 2.81-2.81c.8-.78.8-2.07 0-2.86zM5.41 20L4 18.59l7.72-7.72 1.47 1.35L5.41 20z\"/>\n",
              "  </svg>\n",
              "      </button>\n",
              "      \n",
              "  <style>\n",
              "    .colab-df-container {\n",
              "      display:flex;\n",
              "      flex-wrap:wrap;\n",
              "      gap: 12px;\n",
              "    }\n",
              "\n",
              "    .colab-df-convert {\n",
              "      background-color: #E8F0FE;\n",
              "      border: none;\n",
              "      border-radius: 50%;\n",
              "      cursor: pointer;\n",
              "      display: none;\n",
              "      fill: #1967D2;\n",
              "      height: 32px;\n",
              "      padding: 0 0 0 0;\n",
              "      width: 32px;\n",
              "    }\n",
              "\n",
              "    .colab-df-convert:hover {\n",
              "      background-color: #E2EBFA;\n",
              "      box-shadow: 0px 1px 2px rgba(60, 64, 67, 0.3), 0px 1px 3px 1px rgba(60, 64, 67, 0.15);\n",
              "      fill: #174EA6;\n",
              "    }\n",
              "\n",
              "    [theme=dark] .colab-df-convert {\n",
              "      background-color: #3B4455;\n",
              "      fill: #D2E3FC;\n",
              "    }\n",
              "\n",
              "    [theme=dark] .colab-df-convert:hover {\n",
              "      background-color: #434B5C;\n",
              "      box-shadow: 0px 1px 3px 1px rgba(0, 0, 0, 0.15);\n",
              "      filter: drop-shadow(0px 1px 2px rgba(0, 0, 0, 0.3));\n",
              "      fill: #FFFFFF;\n",
              "    }\n",
              "  </style>\n",
              "\n",
              "      <script>\n",
              "        const buttonEl =\n",
              "          document.querySelector('#df-fe1f900f-1601-4945-bd1b-6602ebd03bba button.colab-df-convert');\n",
              "        buttonEl.style.display =\n",
              "          google.colab.kernel.accessAllowed ? 'block' : 'none';\n",
              "\n",
              "        async function convertToInteractive(key) {\n",
              "          const element = document.querySelector('#df-fe1f900f-1601-4945-bd1b-6602ebd03bba');\n",
              "          const dataTable =\n",
              "            await google.colab.kernel.invokeFunction('convertToInteractive',\n",
              "                                                     [key], {});\n",
              "          if (!dataTable) return;\n",
              "\n",
              "          const docLinkHtml = 'Like what you see? Visit the ' +\n",
              "            '<a target=\"_blank\" href=https://colab.research.google.com/notebooks/data_table.ipynb>data table notebook</a>'\n",
              "            + ' to learn more about interactive tables.';\n",
              "          element.innerHTML = '';\n",
              "          dataTable['output_type'] = 'display_data';\n",
              "          await google.colab.output.renderOutput(dataTable, element);\n",
              "          const docLink = document.createElement('div');\n",
              "          docLink.innerHTML = docLinkHtml;\n",
              "          element.appendChild(docLink);\n",
              "        }\n",
              "      </script>\n",
              "    </div>\n",
              "  </div>\n",
              "  "
            ]
          },
          "metadata": {},
          "execution_count": 178
        }
      ]
    },
    {
      "cell_type": "code",
      "source": [
        "results.corr()"
      ],
      "metadata": {
        "colab": {
          "base_uri": "https://localhost:8080/",
          "height": 368
        },
        "id": "3HVWGFl3yyjK",
        "outputId": "10d76e9e-a2d5-4572-aeef-94afe0c70547"
      },
      "execution_count": null,
      "outputs": [
        {
          "output_type": "execute_result",
          "data": {
            "text/plain": [
              "                      max_depth  min_samples_leaf  min_samples_split  \\\n",
              "max_depth          1.000000e+00      5.082349e-16      -3.771928e-17   \n",
              "min_samples_leaf   5.082349e-16      1.000000e+00       1.277988e-17   \n",
              "min_samples_split -3.771928e-17      1.277988e-17       1.000000e+00   \n",
              "train              7.730462e-01     -2.978091e-01      -4.423910e-16   \n",
              "test               7.584180e-01     -2.733737e-01       1.278094e-16   \n",
              "fit_time           3.930870e-01     -1.214225e-01       7.767791e-02   \n",
              "score_time         1.646679e-02     -4.718126e-02       1.075637e-01   \n",
              "\n",
              "                          train          test  fit_time  score_time  \n",
              "max_depth          7.730462e-01  7.584180e-01  0.393087    0.016467  \n",
              "min_samples_leaf  -2.978091e-01 -2.733737e-01 -0.121422   -0.047181  \n",
              "min_samples_split -4.423910e-16  1.278094e-16  0.077678    0.107564  \n",
              "train              1.000000e+00  9.978852e-01  0.478492    0.148135  \n",
              "test               9.978852e-01  1.000000e+00  0.475361    0.153417  \n",
              "fit_time           4.784917e-01  4.753611e-01  1.000000    0.836840  \n",
              "score_time         1.481355e-01  1.534169e-01  0.836840    1.000000  "
            ],
            "text/html": [
              "\n",
              "  <div id=\"df-397fcc00-f6de-4c3e-a5b5-e10d0d3a9a2b\">\n",
              "    <div class=\"colab-df-container\">\n",
              "      <div>\n",
              "<style scoped>\n",
              "    .dataframe tbody tr th:only-of-type {\n",
              "        vertical-align: middle;\n",
              "    }\n",
              "\n",
              "    .dataframe tbody tr th {\n",
              "        vertical-align: top;\n",
              "    }\n",
              "\n",
              "    .dataframe thead th {\n",
              "        text-align: right;\n",
              "    }\n",
              "</style>\n",
              "<table border=\"1\" class=\"dataframe\">\n",
              "  <thead>\n",
              "    <tr style=\"text-align: right;\">\n",
              "      <th></th>\n",
              "      <th>max_depth</th>\n",
              "      <th>min_samples_leaf</th>\n",
              "      <th>min_samples_split</th>\n",
              "      <th>train</th>\n",
              "      <th>test</th>\n",
              "      <th>fit_time</th>\n",
              "      <th>score_time</th>\n",
              "    </tr>\n",
              "  </thead>\n",
              "  <tbody>\n",
              "    <tr>\n",
              "      <th>max_depth</th>\n",
              "      <td>1.000000e+00</td>\n",
              "      <td>5.082349e-16</td>\n",
              "      <td>-3.771928e-17</td>\n",
              "      <td>7.730462e-01</td>\n",
              "      <td>7.584180e-01</td>\n",
              "      <td>0.393087</td>\n",
              "      <td>0.016467</td>\n",
              "    </tr>\n",
              "    <tr>\n",
              "      <th>min_samples_leaf</th>\n",
              "      <td>5.082349e-16</td>\n",
              "      <td>1.000000e+00</td>\n",
              "      <td>1.277988e-17</td>\n",
              "      <td>-2.978091e-01</td>\n",
              "      <td>-2.733737e-01</td>\n",
              "      <td>-0.121422</td>\n",
              "      <td>-0.047181</td>\n",
              "    </tr>\n",
              "    <tr>\n",
              "      <th>min_samples_split</th>\n",
              "      <td>-3.771928e-17</td>\n",
              "      <td>1.277988e-17</td>\n",
              "      <td>1.000000e+00</td>\n",
              "      <td>-4.423910e-16</td>\n",
              "      <td>1.278094e-16</td>\n",
              "      <td>0.077678</td>\n",
              "      <td>0.107564</td>\n",
              "    </tr>\n",
              "    <tr>\n",
              "      <th>train</th>\n",
              "      <td>7.730462e-01</td>\n",
              "      <td>-2.978091e-01</td>\n",
              "      <td>-4.423910e-16</td>\n",
              "      <td>1.000000e+00</td>\n",
              "      <td>9.978852e-01</td>\n",
              "      <td>0.478492</td>\n",
              "      <td>0.148135</td>\n",
              "    </tr>\n",
              "    <tr>\n",
              "      <th>test</th>\n",
              "      <td>7.584180e-01</td>\n",
              "      <td>-2.733737e-01</td>\n",
              "      <td>1.278094e-16</td>\n",
              "      <td>9.978852e-01</td>\n",
              "      <td>1.000000e+00</td>\n",
              "      <td>0.475361</td>\n",
              "      <td>0.153417</td>\n",
              "    </tr>\n",
              "    <tr>\n",
              "      <th>fit_time</th>\n",
              "      <td>3.930870e-01</td>\n",
              "      <td>-1.214225e-01</td>\n",
              "      <td>7.767791e-02</td>\n",
              "      <td>4.784917e-01</td>\n",
              "      <td>4.753611e-01</td>\n",
              "      <td>1.000000</td>\n",
              "      <td>0.836840</td>\n",
              "    </tr>\n",
              "    <tr>\n",
              "      <th>score_time</th>\n",
              "      <td>1.646679e-02</td>\n",
              "      <td>-4.718126e-02</td>\n",
              "      <td>1.075637e-01</td>\n",
              "      <td>1.481355e-01</td>\n",
              "      <td>1.534169e-01</td>\n",
              "      <td>0.836840</td>\n",
              "      <td>1.000000</td>\n",
              "    </tr>\n",
              "  </tbody>\n",
              "</table>\n",
              "</div>\n",
              "      <button class=\"colab-df-convert\" onclick=\"convertToInteractive('df-397fcc00-f6de-4c3e-a5b5-e10d0d3a9a2b')\"\n",
              "              title=\"Convert this dataframe to an interactive table.\"\n",
              "              style=\"display:none;\">\n",
              "        \n",
              "  <svg xmlns=\"http://www.w3.org/2000/svg\" height=\"24px\"viewBox=\"0 0 24 24\"\n",
              "       width=\"24px\">\n",
              "    <path d=\"M0 0h24v24H0V0z\" fill=\"none\"/>\n",
              "    <path d=\"M18.56 5.44l.94 2.06.94-2.06 2.06-.94-2.06-.94-.94-2.06-.94 2.06-2.06.94zm-11 1L8.5 8.5l.94-2.06 2.06-.94-2.06-.94L8.5 2.5l-.94 2.06-2.06.94zm10 10l.94 2.06.94-2.06 2.06-.94-2.06-.94-.94-2.06-.94 2.06-2.06.94z\"/><path d=\"M17.41 7.96l-1.37-1.37c-.4-.4-.92-.59-1.43-.59-.52 0-1.04.2-1.43.59L10.3 9.45l-7.72 7.72c-.78.78-.78 2.05 0 2.83L4 21.41c.39.39.9.59 1.41.59.51 0 1.02-.2 1.41-.59l7.78-7.78 2.81-2.81c.8-.78.8-2.07 0-2.86zM5.41 20L4 18.59l7.72-7.72 1.47 1.35L5.41 20z\"/>\n",
              "  </svg>\n",
              "      </button>\n",
              "      \n",
              "  <style>\n",
              "    .colab-df-container {\n",
              "      display:flex;\n",
              "      flex-wrap:wrap;\n",
              "      gap: 12px;\n",
              "    }\n",
              "\n",
              "    .colab-df-convert {\n",
              "      background-color: #E8F0FE;\n",
              "      border: none;\n",
              "      border-radius: 50%;\n",
              "      cursor: pointer;\n",
              "      display: none;\n",
              "      fill: #1967D2;\n",
              "      height: 32px;\n",
              "      padding: 0 0 0 0;\n",
              "      width: 32px;\n",
              "    }\n",
              "\n",
              "    .colab-df-convert:hover {\n",
              "      background-color: #E2EBFA;\n",
              "      box-shadow: 0px 1px 2px rgba(60, 64, 67, 0.3), 0px 1px 3px 1px rgba(60, 64, 67, 0.15);\n",
              "      fill: #174EA6;\n",
              "    }\n",
              "\n",
              "    [theme=dark] .colab-df-convert {\n",
              "      background-color: #3B4455;\n",
              "      fill: #D2E3FC;\n",
              "    }\n",
              "\n",
              "    [theme=dark] .colab-df-convert:hover {\n",
              "      background-color: #434B5C;\n",
              "      box-shadow: 0px 1px 3px 1px rgba(0, 0, 0, 0.15);\n",
              "      filter: drop-shadow(0px 1px 2px rgba(0, 0, 0, 0.3));\n",
              "      fill: #FFFFFF;\n",
              "    }\n",
              "  </style>\n",
              "\n",
              "      <script>\n",
              "        const buttonEl =\n",
              "          document.querySelector('#df-397fcc00-f6de-4c3e-a5b5-e10d0d3a9a2b button.colab-df-convert');\n",
              "        buttonEl.style.display =\n",
              "          google.colab.kernel.accessAllowed ? 'block' : 'none';\n",
              "\n",
              "        async function convertToInteractive(key) {\n",
              "          const element = document.querySelector('#df-397fcc00-f6de-4c3e-a5b5-e10d0d3a9a2b');\n",
              "          const dataTable =\n",
              "            await google.colab.kernel.invokeFunction('convertToInteractive',\n",
              "                                                     [key], {});\n",
              "          if (!dataTable) return;\n",
              "\n",
              "          const docLinkHtml = 'Like what you see? Visit the ' +\n",
              "            '<a target=\"_blank\" href=https://colab.research.google.com/notebooks/data_table.ipynb>data table notebook</a>'\n",
              "            + ' to learn more about interactive tables.';\n",
              "          element.innerHTML = '';\n",
              "          dataTable['output_type'] = 'display_data';\n",
              "          await google.colab.output.renderOutput(dataTable, element);\n",
              "          const docLink = document.createElement('div');\n",
              "          docLink.innerHTML = docLinkHtml;\n",
              "          element.appendChild(docLink);\n",
              "        }\n",
              "      </script>\n",
              "    </div>\n",
              "  </div>\n",
              "  "
            ]
          },
          "metadata": {},
          "execution_count": 66
        }
      ]
    },
    {
      "cell_type": "markdown",
      "source": [
        "This process is not efficient, and do not result in an optimization, but a more complex way to obtain hiperparameters.\n",
        "\n",
        "Sklearn offers a way to ease this job. One can use GridSearch, for the best model."
      ],
      "metadata": {
        "id": "1IwrPhyGzYqh"
      }
    },
    {
      "cell_type": "markdown",
      "source": [
        "# Model optimization, this time for sure"
      ],
      "metadata": {
        "id": "s9SkLtPGz8aT"
      }
    },
    {
      "cell_type": "code",
      "source": [
        "from sklearn.model_selection import GridSearchCV\n",
        "\n",
        "np.random.seed(SEED)\n",
        "\n",
        "grid = {\n",
        "    'max_depth':[3,4,5],\n",
        "    'min_samples_split':[32,64,128,192,256],\n",
        "    'min_samples_leaf':[32,64,128,192,256],\n",
        "    'criterion': ['gini', 'entropy'],\n",
        "}\n",
        "\n",
        "search = GridSearchCV(DecisionTreeClassifier(), grid, cv=gkf)\n",
        "search.fit(x, y, groups = dados.rng_car_model)\n",
        "results = pd.DataFrame(search.cv_results_)\n",
        "results.head()"
      ],
      "metadata": {
        "colab": {
          "base_uri": "https://localhost:8080/",
          "height": 647
        },
        "id": "-U7_oxGEz_qr",
        "outputId": "9ebf8b66-ce20-418c-929d-ca513121d4c6"
      },
      "execution_count": null,
      "outputs": [
        {
          "output_type": "execute_result",
          "data": {
            "text/plain": [
              "   mean_fit_time  std_fit_time  mean_score_time  std_score_time  \\\n",
              "0       0.013667      0.001227         0.002981        0.000453   \n",
              "1       0.014976      0.002045         0.003376        0.000957   \n",
              "2       0.013156      0.000900         0.002733        0.000323   \n",
              "3       0.013752      0.001345         0.002950        0.000653   \n",
              "4       0.013553      0.001279         0.002824        0.000510   \n",
              "\n",
              "  param_criterion param_max_depth param_min_samples_leaf  \\\n",
              "0            gini               3                     32   \n",
              "1            gini               3                     32   \n",
              "2            gini               3                     32   \n",
              "3            gini               3                     32   \n",
              "4            gini               3                     32   \n",
              "\n",
              "  param_min_samples_split                                             params  \\\n",
              "0                      32  {'criterion': 'gini', 'max_depth': 3, 'min_sam...   \n",
              "1                      64  {'criterion': 'gini', 'max_depth': 3, 'min_sam...   \n",
              "2                     128  {'criterion': 'gini', 'max_depth': 3, 'min_sam...   \n",
              "3                     192  {'criterion': 'gini', 'max_depth': 3, 'min_sam...   \n",
              "4                     256  {'criterion': 'gini', 'max_depth': 3, 'min_sam...   \n",
              "\n",
              "   split0_test_score  ...  split3_test_score  split4_test_score  \\\n",
              "0           0.790467  ...           0.805444           0.768131   \n",
              "1           0.790467  ...           0.805444           0.768131   \n",
              "2           0.790467  ...           0.805444           0.768131   \n",
              "3           0.790467  ...           0.805444           0.768131   \n",
              "4           0.790467  ...           0.805444           0.768131   \n",
              "\n",
              "   split5_test_score  split6_test_score  split7_test_score  split8_test_score  \\\n",
              "0           0.771845           0.800777           0.760936             0.7852   \n",
              "1           0.771845           0.800777           0.760936             0.7852   \n",
              "2           0.771845           0.800777           0.760936             0.7852   \n",
              "3           0.771845           0.800777           0.760936             0.7852   \n",
              "4           0.771845           0.800777           0.760936             0.7852   \n",
              "\n",
              "   split9_test_score  mean_test_score  std_test_score  rank_test_score  \n",
              "0           0.773438          0.78679        0.016456                1  \n",
              "1           0.773438          0.78679        0.016456                1  \n",
              "2           0.773438          0.78679        0.016456                1  \n",
              "3           0.773438          0.78679        0.016456                1  \n",
              "4           0.773438          0.78679        0.016456                1  \n",
              "\n",
              "[5 rows x 22 columns]"
            ],
            "text/html": [
              "\n",
              "  <div id=\"df-7737d9a4-23ac-4acf-97ed-9158a5cb48cb\">\n",
              "    <div class=\"colab-df-container\">\n",
              "      <div>\n",
              "<style scoped>\n",
              "    .dataframe tbody tr th:only-of-type {\n",
              "        vertical-align: middle;\n",
              "    }\n",
              "\n",
              "    .dataframe tbody tr th {\n",
              "        vertical-align: top;\n",
              "    }\n",
              "\n",
              "    .dataframe thead th {\n",
              "        text-align: right;\n",
              "    }\n",
              "</style>\n",
              "<table border=\"1\" class=\"dataframe\">\n",
              "  <thead>\n",
              "    <tr style=\"text-align: right;\">\n",
              "      <th></th>\n",
              "      <th>mean_fit_time</th>\n",
              "      <th>std_fit_time</th>\n",
              "      <th>mean_score_time</th>\n",
              "      <th>std_score_time</th>\n",
              "      <th>param_criterion</th>\n",
              "      <th>param_max_depth</th>\n",
              "      <th>param_min_samples_leaf</th>\n",
              "      <th>param_min_samples_split</th>\n",
              "      <th>params</th>\n",
              "      <th>split0_test_score</th>\n",
              "      <th>...</th>\n",
              "      <th>split3_test_score</th>\n",
              "      <th>split4_test_score</th>\n",
              "      <th>split5_test_score</th>\n",
              "      <th>split6_test_score</th>\n",
              "      <th>split7_test_score</th>\n",
              "      <th>split8_test_score</th>\n",
              "      <th>split9_test_score</th>\n",
              "      <th>mean_test_score</th>\n",
              "      <th>std_test_score</th>\n",
              "      <th>rank_test_score</th>\n",
              "    </tr>\n",
              "  </thead>\n",
              "  <tbody>\n",
              "    <tr>\n",
              "      <th>0</th>\n",
              "      <td>0.013667</td>\n",
              "      <td>0.001227</td>\n",
              "      <td>0.002981</td>\n",
              "      <td>0.000453</td>\n",
              "      <td>gini</td>\n",
              "      <td>3</td>\n",
              "      <td>32</td>\n",
              "      <td>32</td>\n",
              "      <td>{'criterion': 'gini', 'max_depth': 3, 'min_sam...</td>\n",
              "      <td>0.790467</td>\n",
              "      <td>...</td>\n",
              "      <td>0.805444</td>\n",
              "      <td>0.768131</td>\n",
              "      <td>0.771845</td>\n",
              "      <td>0.800777</td>\n",
              "      <td>0.760936</td>\n",
              "      <td>0.7852</td>\n",
              "      <td>0.773438</td>\n",
              "      <td>0.78679</td>\n",
              "      <td>0.016456</td>\n",
              "      <td>1</td>\n",
              "    </tr>\n",
              "    <tr>\n",
              "      <th>1</th>\n",
              "      <td>0.014976</td>\n",
              "      <td>0.002045</td>\n",
              "      <td>0.003376</td>\n",
              "      <td>0.000957</td>\n",
              "      <td>gini</td>\n",
              "      <td>3</td>\n",
              "      <td>32</td>\n",
              "      <td>64</td>\n",
              "      <td>{'criterion': 'gini', 'max_depth': 3, 'min_sam...</td>\n",
              "      <td>0.790467</td>\n",
              "      <td>...</td>\n",
              "      <td>0.805444</td>\n",
              "      <td>0.768131</td>\n",
              "      <td>0.771845</td>\n",
              "      <td>0.800777</td>\n",
              "      <td>0.760936</td>\n",
              "      <td>0.7852</td>\n",
              "      <td>0.773438</td>\n",
              "      <td>0.78679</td>\n",
              "      <td>0.016456</td>\n",
              "      <td>1</td>\n",
              "    </tr>\n",
              "    <tr>\n",
              "      <th>2</th>\n",
              "      <td>0.013156</td>\n",
              "      <td>0.000900</td>\n",
              "      <td>0.002733</td>\n",
              "      <td>0.000323</td>\n",
              "      <td>gini</td>\n",
              "      <td>3</td>\n",
              "      <td>32</td>\n",
              "      <td>128</td>\n",
              "      <td>{'criterion': 'gini', 'max_depth': 3, 'min_sam...</td>\n",
              "      <td>0.790467</td>\n",
              "      <td>...</td>\n",
              "      <td>0.805444</td>\n",
              "      <td>0.768131</td>\n",
              "      <td>0.771845</td>\n",
              "      <td>0.800777</td>\n",
              "      <td>0.760936</td>\n",
              "      <td>0.7852</td>\n",
              "      <td>0.773438</td>\n",
              "      <td>0.78679</td>\n",
              "      <td>0.016456</td>\n",
              "      <td>1</td>\n",
              "    </tr>\n",
              "    <tr>\n",
              "      <th>3</th>\n",
              "      <td>0.013752</td>\n",
              "      <td>0.001345</td>\n",
              "      <td>0.002950</td>\n",
              "      <td>0.000653</td>\n",
              "      <td>gini</td>\n",
              "      <td>3</td>\n",
              "      <td>32</td>\n",
              "      <td>192</td>\n",
              "      <td>{'criterion': 'gini', 'max_depth': 3, 'min_sam...</td>\n",
              "      <td>0.790467</td>\n",
              "      <td>...</td>\n",
              "      <td>0.805444</td>\n",
              "      <td>0.768131</td>\n",
              "      <td>0.771845</td>\n",
              "      <td>0.800777</td>\n",
              "      <td>0.760936</td>\n",
              "      <td>0.7852</td>\n",
              "      <td>0.773438</td>\n",
              "      <td>0.78679</td>\n",
              "      <td>0.016456</td>\n",
              "      <td>1</td>\n",
              "    </tr>\n",
              "    <tr>\n",
              "      <th>4</th>\n",
              "      <td>0.013553</td>\n",
              "      <td>0.001279</td>\n",
              "      <td>0.002824</td>\n",
              "      <td>0.000510</td>\n",
              "      <td>gini</td>\n",
              "      <td>3</td>\n",
              "      <td>32</td>\n",
              "      <td>256</td>\n",
              "      <td>{'criterion': 'gini', 'max_depth': 3, 'min_sam...</td>\n",
              "      <td>0.790467</td>\n",
              "      <td>...</td>\n",
              "      <td>0.805444</td>\n",
              "      <td>0.768131</td>\n",
              "      <td>0.771845</td>\n",
              "      <td>0.800777</td>\n",
              "      <td>0.760936</td>\n",
              "      <td>0.7852</td>\n",
              "      <td>0.773438</td>\n",
              "      <td>0.78679</td>\n",
              "      <td>0.016456</td>\n",
              "      <td>1</td>\n",
              "    </tr>\n",
              "  </tbody>\n",
              "</table>\n",
              "<p>5 rows × 22 columns</p>\n",
              "</div>\n",
              "      <button class=\"colab-df-convert\" onclick=\"convertToInteractive('df-7737d9a4-23ac-4acf-97ed-9158a5cb48cb')\"\n",
              "              title=\"Convert this dataframe to an interactive table.\"\n",
              "              style=\"display:none;\">\n",
              "        \n",
              "  <svg xmlns=\"http://www.w3.org/2000/svg\" height=\"24px\"viewBox=\"0 0 24 24\"\n",
              "       width=\"24px\">\n",
              "    <path d=\"M0 0h24v24H0V0z\" fill=\"none\"/>\n",
              "    <path d=\"M18.56 5.44l.94 2.06.94-2.06 2.06-.94-2.06-.94-.94-2.06-.94 2.06-2.06.94zm-11 1L8.5 8.5l.94-2.06 2.06-.94-2.06-.94L8.5 2.5l-.94 2.06-2.06.94zm10 10l.94 2.06.94-2.06 2.06-.94-2.06-.94-.94-2.06-.94 2.06-2.06.94z\"/><path d=\"M17.41 7.96l-1.37-1.37c-.4-.4-.92-.59-1.43-.59-.52 0-1.04.2-1.43.59L10.3 9.45l-7.72 7.72c-.78.78-.78 2.05 0 2.83L4 21.41c.39.39.9.59 1.41.59.51 0 1.02-.2 1.41-.59l7.78-7.78 2.81-2.81c.8-.78.8-2.07 0-2.86zM5.41 20L4 18.59l7.72-7.72 1.47 1.35L5.41 20z\"/>\n",
              "  </svg>\n",
              "      </button>\n",
              "      \n",
              "  <style>\n",
              "    .colab-df-container {\n",
              "      display:flex;\n",
              "      flex-wrap:wrap;\n",
              "      gap: 12px;\n",
              "    }\n",
              "\n",
              "    .colab-df-convert {\n",
              "      background-color: #E8F0FE;\n",
              "      border: none;\n",
              "      border-radius: 50%;\n",
              "      cursor: pointer;\n",
              "      display: none;\n",
              "      fill: #1967D2;\n",
              "      height: 32px;\n",
              "      padding: 0 0 0 0;\n",
              "      width: 32px;\n",
              "    }\n",
              "\n",
              "    .colab-df-convert:hover {\n",
              "      background-color: #E2EBFA;\n",
              "      box-shadow: 0px 1px 2px rgba(60, 64, 67, 0.3), 0px 1px 3px 1px rgba(60, 64, 67, 0.15);\n",
              "      fill: #174EA6;\n",
              "    }\n",
              "\n",
              "    [theme=dark] .colab-df-convert {\n",
              "      background-color: #3B4455;\n",
              "      fill: #D2E3FC;\n",
              "    }\n",
              "\n",
              "    [theme=dark] .colab-df-convert:hover {\n",
              "      background-color: #434B5C;\n",
              "      box-shadow: 0px 1px 3px 1px rgba(0, 0, 0, 0.15);\n",
              "      filter: drop-shadow(0px 1px 2px rgba(0, 0, 0, 0.3));\n",
              "      fill: #FFFFFF;\n",
              "    }\n",
              "  </style>\n",
              "\n",
              "      <script>\n",
              "        const buttonEl =\n",
              "          document.querySelector('#df-7737d9a4-23ac-4acf-97ed-9158a5cb48cb button.colab-df-convert');\n",
              "        buttonEl.style.display =\n",
              "          google.colab.kernel.accessAllowed ? 'block' : 'none';\n",
              "\n",
              "        async function convertToInteractive(key) {\n",
              "          const element = document.querySelector('#df-7737d9a4-23ac-4acf-97ed-9158a5cb48cb');\n",
              "          const dataTable =\n",
              "            await google.colab.kernel.invokeFunction('convertToInteractive',\n",
              "                                                     [key], {});\n",
              "          if (!dataTable) return;\n",
              "\n",
              "          const docLinkHtml = 'Like what you see? Visit the ' +\n",
              "            '<a target=\"_blank\" href=https://colab.research.google.com/notebooks/data_table.ipynb>data table notebook</a>'\n",
              "            + ' to learn more about interactive tables.';\n",
              "          element.innerHTML = '';\n",
              "          dataTable['output_type'] = 'display_data';\n",
              "          await google.colab.output.renderOutput(dataTable, element);\n",
              "          const docLink = document.createElement('div');\n",
              "          docLink.innerHTML = docLinkHtml;\n",
              "          element.appendChild(docLink);\n",
              "        }\n",
              "      </script>\n",
              "    </div>\n",
              "  </div>\n",
              "  "
            ]
          },
          "metadata": {},
          "execution_count": 67
        }
      ]
    },
    {
      "cell_type": "code",
      "source": [
        "print(f'The best params were {search.best_params_}, with the best score of {search.best_score_*100:.2f}')\n",
        "print(f'\\nThe best model hiperparameters were {search.best_estimator_}')"
      ],
      "metadata": {
        "colab": {
          "base_uri": "https://localhost:8080/"
        },
        "id": "fcMmC-Ib1tyH",
        "outputId": "09df2032-6658-4eee-c4ac-a040a8b42c91"
      },
      "execution_count": null,
      "outputs": [
        {
          "output_type": "stream",
          "name": "stdout",
          "text": [
            "The best params were {'criterion': 'gini', 'max_depth': 3, 'min_samples_leaf': 32, 'min_samples_split': 32}, with the best score of 78.68\n",
            "\n",
            "The best model hiperparameters were DecisionTreeClassifier(max_depth=3, min_samples_leaf=32, min_samples_split=32)\n"
          ]
        }
      ]
    },
    {
      "cell_type": "markdown",
      "source": [
        "## Testing the best model predicitons"
      ],
      "metadata": {
        "id": "EYKWn1NB3HGB"
      }
    },
    {
      "cell_type": "markdown",
      "source": [
        "## Optimistic prediction\n",
        "\n",
        "The prediction below is based on a single prediction, with all the data. This method will always return better scores, that's why it is called optimistic. One wants the true best result and not the biased best result."
      ],
      "metadata": {
        "id": "S5oPWiL07Rd3"
      }
    },
    {
      "cell_type": "code",
      "source": [
        "best_model = search.best_estimator_\n",
        "best_model_pred= best_model.predict(x)\n",
        "old_model_pred= model.predict(x)\n",
        "print(f'The old model acc was {accuracy_score(old_model_pred, y)*100:.2f}\\n'\n",
        "f'The best model acc was {accuracy_score(best_model_pred, y)*100:.2f}')"
      ],
      "metadata": {
        "colab": {
          "base_uri": "https://localhost:8080/"
        },
        "id": "7-6phH9U20-9",
        "outputId": "a0da1b8b-031e-42cd-a51d-7ee62cefe8f0"
      },
      "execution_count": null,
      "outputs": [
        {
          "output_type": "stream",
          "name": "stderr",
          "text": [
            "/usr/local/lib/python3.10/dist-packages/sklearn/base.py:432: UserWarning: X has feature names, but SVC was fitted without feature names\n",
            "  warnings.warn(\n"
          ]
        },
        {
          "output_type": "stream",
          "name": "stdout",
          "text": [
            "The old model acc was 58.00\n",
            "The best model acc was 78.75\n"
          ]
        }
      ]
    },
    {
      "cell_type": "markdown",
      "source": [
        "## Nested cross validation and the true score of the model\n",
        "\n",
        "The nested cv will execute a loop of train/validation/test splits on the data, making sure that maximum scores are obtained while optimizing the model."
      ],
      "metadata": {
        "id": "hF3cjoAY8CMb"
      }
    },
    {
      "cell_type": "code",
      "source": [
        "from sklearn.model_selection import cross_val_score\n",
        "\n",
        "np.random.seed(SEED)\n",
        "\n",
        "grid = {\n",
        "    'max_depth':[3,4,5],\n",
        "    'min_samples_split':[32,64,128],\n",
        "    'min_samples_leaf':[32,64,128,192,256],\n",
        "    'criterion': ['gini', 'entropy'],\n",
        "}\n",
        "\n",
        "search = GridSearchCV(DecisionTreeClassifier(), grid, cv=KFold(n_splits=5, shuffle=True))\n",
        "search.fit(x, y)\n",
        "results = pd.DataFrame(search.cv_results_)\n",
        "results.head()\n",
        "\n",
        "scores = cross_val_score(search, x, y, cv =KFold(n_splits=5, shuffle=True))\n",
        "scores.mean()*100\n",
        "\n",
        "score_search = scores.mean()*100"
      ],
      "metadata": {
        "id": "m_HTLfA78Gj9"
      },
      "execution_count": null,
      "outputs": []
    },
    {
      "cell_type": "markdown",
      "source": [
        "Grouped K-fold is still bugged, when applied to pandas, so K-fold shuffle true was used.\n",
        "\n",
        "Nothing changed in the score's mean, but this is a good way to optimize the model. Grid search uses less computacional resourses and time.\n",
        "\n",
        "Now one will visualize the new model tree."
      ],
      "metadata": {
        "id": "vOcGDgPMBp6o"
      }
    },
    {
      "cell_type": "code",
      "source": [
        "features=x.columns\n",
        "dot_data = export_graphviz(search.best_estimator_, out_file=None,\n",
        "                           filled=True, rounded=True,\n",
        "                           feature_names = features,\n",
        "                           class_names =['No', 'Yes'] )\n",
        "\n",
        "graph = graphviz.Source(dot_data)\n",
        "graph"
      ],
      "metadata": {
        "colab": {
          "base_uri": "https://localhost:8080/",
          "height": 618
        },
        "id": "JMSyitH-COM7",
        "outputId": "cbdb0355-c060-43fb-9268-c770f76a43d5"
      },
      "execution_count": null,
      "outputs": [
        {
          "output_type": "execute_result",
          "data": {
            "image/svg+xml": "<?xml version=\"1.0\" encoding=\"UTF-8\" standalone=\"no\"?>\n<!DOCTYPE svg PUBLIC \"-//W3C//DTD SVG 1.1//EN\"\n \"http://www.w3.org/Graphics/SVG/1.1/DTD/svg11.dtd\">\n<!-- Generated by graphviz version 2.43.0 (0)\n -->\n<!-- Title: Tree Pages: 1 -->\n<svg width=\"864pt\" height=\"433pt\"\n viewBox=\"0.00 0.00 864.00 433.00\" xmlns=\"http://www.w3.org/2000/svg\" xmlns:xlink=\"http://www.w3.org/1999/xlink\">\n<g id=\"graph0\" class=\"graph\" transform=\"scale(1 1) rotate(0) translate(4 429)\">\n<title>Tree</title>\n<polygon fill=\"white\" stroke=\"transparent\" points=\"-4,4 -4,-429 860,-429 860,4 -4,4\"/>\n<!-- 0 -->\n<g id=\"node1\" class=\"node\">\n<title>0</title>\n<path fill=\"#c8e4f8\" stroke=\"black\" d=\"M352.5,-425C352.5,-425 236.5,-425 236.5,-425 230.5,-425 224.5,-419 224.5,-413 224.5,-413 224.5,-354 224.5,-354 224.5,-348 230.5,-342 236.5,-342 236.5,-342 352.5,-342 352.5,-342 358.5,-342 364.5,-348 364.5,-354 364.5,-354 364.5,-413 364.5,-413 364.5,-419 358.5,-425 352.5,-425\"/>\n<text text-anchor=\"middle\" x=\"294.5\" y=\"-409.8\" font-family=\"Helvetica,sans-Serif\" font-size=\"14.00\">price &lt;= 59982.246</text>\n<text text-anchor=\"middle\" x=\"294.5\" y=\"-394.8\" font-family=\"Helvetica,sans-Serif\" font-size=\"14.00\">gini = 0.487</text>\n<text text-anchor=\"middle\" x=\"294.5\" y=\"-379.8\" font-family=\"Helvetica,sans-Serif\" font-size=\"14.00\">samples = 10000</text>\n<text text-anchor=\"middle\" x=\"294.5\" y=\"-364.8\" font-family=\"Helvetica,sans-Serif\" font-size=\"14.00\">value = [4200, 5800]</text>\n<text text-anchor=\"middle\" x=\"294.5\" y=\"-349.8\" font-family=\"Helvetica,sans-Serif\" font-size=\"14.00\">class = Yes</text>\n</g>\n<!-- 1 -->\n<g id=\"node2\" class=\"node\">\n<title>1</title>\n<path fill=\"#52a9e8\" stroke=\"black\" d=\"M257.5,-306C257.5,-306 147.5,-306 147.5,-306 141.5,-306 135.5,-300 135.5,-294 135.5,-294 135.5,-235 135.5,-235 135.5,-229 141.5,-223 147.5,-223 147.5,-223 257.5,-223 257.5,-223 263.5,-223 269.5,-229 269.5,-235 269.5,-235 269.5,-294 269.5,-294 269.5,-300 263.5,-306 257.5,-306\"/>\n<text text-anchor=\"middle\" x=\"202.5\" y=\"-290.8\" font-family=\"Helvetica,sans-Serif\" font-size=\"14.00\">price &lt;= 40083.385</text>\n<text text-anchor=\"middle\" x=\"202.5\" y=\"-275.8\" font-family=\"Helvetica,sans-Serif\" font-size=\"14.00\">gini = 0.198</text>\n<text text-anchor=\"middle\" x=\"202.5\" y=\"-260.8\" font-family=\"Helvetica,sans-Serif\" font-size=\"14.00\">samples = 4347</text>\n<text text-anchor=\"middle\" x=\"202.5\" y=\"-245.8\" font-family=\"Helvetica,sans-Serif\" font-size=\"14.00\">value = [484, 3863]</text>\n<text text-anchor=\"middle\" x=\"202.5\" y=\"-230.8\" font-family=\"Helvetica,sans-Serif\" font-size=\"14.00\">class = Yes</text>\n</g>\n<!-- 0&#45;&gt;1 -->\n<g id=\"edge1\" class=\"edge\">\n<title>0&#45;&gt;1</title>\n<path fill=\"none\" stroke=\"black\" d=\"M262.58,-341.91C255.52,-332.92 247.96,-323.32 240.68,-314.05\"/>\n<polygon fill=\"black\" stroke=\"black\" points=\"243.3,-311.72 234.36,-306.02 237.79,-316.05 243.3,-311.72\"/>\n<text text-anchor=\"middle\" x=\"231.39\" y=\"-327.14\" font-family=\"Helvetica,sans-Serif\" font-size=\"14.00\">True</text>\n</g>\n<!-- 6 -->\n<g id=\"node7\" class=\"node\">\n<title>6</title>\n<path fill=\"#f3c3a0\" stroke=\"black\" d=\"M525.5,-306C525.5,-306 351.5,-306 351.5,-306 345.5,-306 339.5,-300 339.5,-294 339.5,-294 339.5,-235 339.5,-235 339.5,-229 345.5,-223 351.5,-223 351.5,-223 525.5,-223 525.5,-223 531.5,-223 537.5,-229 537.5,-235 537.5,-235 537.5,-294 537.5,-294 537.5,-300 531.5,-306 525.5,-306\"/>\n<text text-anchor=\"middle\" x=\"438.5\" y=\"-290.8\" font-family=\"Helvetica,sans-Serif\" font-size=\"14.00\">mileage_per_year &lt;= 14990.0</text>\n<text text-anchor=\"middle\" x=\"438.5\" y=\"-275.8\" font-family=\"Helvetica,sans-Serif\" font-size=\"14.00\">gini = 0.45</text>\n<text text-anchor=\"middle\" x=\"438.5\" y=\"-260.8\" font-family=\"Helvetica,sans-Serif\" font-size=\"14.00\">samples = 5653</text>\n<text text-anchor=\"middle\" x=\"438.5\" y=\"-245.8\" font-family=\"Helvetica,sans-Serif\" font-size=\"14.00\">value = [3716, 1937]</text>\n<text text-anchor=\"middle\" x=\"438.5\" y=\"-230.8\" font-family=\"Helvetica,sans-Serif\" font-size=\"14.00\">class = No</text>\n</g>\n<!-- 0&#45;&gt;6 -->\n<g id=\"edge6\" class=\"edge\">\n<title>0&#45;&gt;6</title>\n<path fill=\"none\" stroke=\"black\" d=\"M344.46,-341.91C356.19,-332.38 368.78,-322.15 380.81,-312.37\"/>\n<polygon fill=\"black\" stroke=\"black\" points=\"383.07,-315.04 388.63,-306.02 378.66,-309.61 383.07,-315.04\"/>\n<text text-anchor=\"middle\" x=\"386.06\" y=\"-327.19\" font-family=\"Helvetica,sans-Serif\" font-size=\"14.00\">False</text>\n</g>\n<!-- 2 -->\n<g id=\"node3\" class=\"node\">\n<title>2</title>\n<path fill=\"#399de5\" stroke=\"black\" d=\"M105,-179.5C105,-179.5 12,-179.5 12,-179.5 6,-179.5 0,-173.5 0,-167.5 0,-167.5 0,-123.5 0,-123.5 0,-117.5 6,-111.5 12,-111.5 12,-111.5 105,-111.5 105,-111.5 111,-111.5 117,-117.5 117,-123.5 117,-123.5 117,-167.5 117,-167.5 117,-173.5 111,-179.5 105,-179.5\"/>\n<text text-anchor=\"middle\" x=\"58.5\" y=\"-164.3\" font-family=\"Helvetica,sans-Serif\" font-size=\"14.00\">gini = 0.0</text>\n<text text-anchor=\"middle\" x=\"58.5\" y=\"-149.3\" font-family=\"Helvetica,sans-Serif\" font-size=\"14.00\">samples = 1935</text>\n<text text-anchor=\"middle\" x=\"58.5\" y=\"-134.3\" font-family=\"Helvetica,sans-Serif\" font-size=\"14.00\">value = [0, 1935]</text>\n<text text-anchor=\"middle\" x=\"58.5\" y=\"-119.3\" font-family=\"Helvetica,sans-Serif\" font-size=\"14.00\">class = Yes</text>\n</g>\n<!-- 1&#45;&gt;2 -->\n<g id=\"edge2\" class=\"edge\">\n<title>1&#45;&gt;2</title>\n<path fill=\"none\" stroke=\"black\" d=\"M152.54,-222.91C137.87,-210.99 121.85,-197.98 107.26,-186.12\"/>\n<polygon fill=\"black\" stroke=\"black\" points=\"109.29,-183.26 99.32,-179.67 104.87,-188.69 109.29,-183.26\"/>\n</g>\n<!-- 3 -->\n<g id=\"node4\" class=\"node\">\n<title>3</title>\n<path fill=\"#6bb6ec\" stroke=\"black\" d=\"M257.5,-187C257.5,-187 147.5,-187 147.5,-187 141.5,-187 135.5,-181 135.5,-175 135.5,-175 135.5,-116 135.5,-116 135.5,-110 141.5,-104 147.5,-104 147.5,-104 257.5,-104 257.5,-104 263.5,-104 269.5,-110 269.5,-116 269.5,-116 269.5,-175 269.5,-175 269.5,-181 263.5,-187 257.5,-187\"/>\n<text text-anchor=\"middle\" x=\"202.5\" y=\"-171.8\" font-family=\"Helvetica,sans-Serif\" font-size=\"14.00\">price &lt;= 42685.801</text>\n<text text-anchor=\"middle\" x=\"202.5\" y=\"-156.8\" font-family=\"Helvetica,sans-Serif\" font-size=\"14.00\">gini = 0.321</text>\n<text text-anchor=\"middle\" x=\"202.5\" y=\"-141.8\" font-family=\"Helvetica,sans-Serif\" font-size=\"14.00\">samples = 2412</text>\n<text text-anchor=\"middle\" x=\"202.5\" y=\"-126.8\" font-family=\"Helvetica,sans-Serif\" font-size=\"14.00\">value = [484, 1928]</text>\n<text text-anchor=\"middle\" x=\"202.5\" y=\"-111.8\" font-family=\"Helvetica,sans-Serif\" font-size=\"14.00\">class = Yes</text>\n</g>\n<!-- 1&#45;&gt;3 -->\n<g id=\"edge3\" class=\"edge\">\n<title>1&#45;&gt;3</title>\n<path fill=\"none\" stroke=\"black\" d=\"M202.5,-222.91C202.5,-214.65 202.5,-205.86 202.5,-197.3\"/>\n<polygon fill=\"black\" stroke=\"black\" points=\"206,-197.02 202.5,-187.02 199,-197.02 206,-197.02\"/>\n</g>\n<!-- 4 -->\n<g id=\"node5\" class=\"node\">\n<title>4</title>\n<path fill=\"#7dbeee\" stroke=\"black\" d=\"M106,-68C106,-68 13,-68 13,-68 7,-68 1,-62 1,-56 1,-56 1,-12 1,-12 1,-6 7,0 13,0 13,0 106,0 106,0 112,0 118,-6 118,-12 118,-12 118,-56 118,-56 118,-62 112,-68 106,-68\"/>\n<text text-anchor=\"middle\" x=\"59.5\" y=\"-52.8\" font-family=\"Helvetica,sans-Serif\" font-size=\"14.00\">gini = 0.38</text>\n<text text-anchor=\"middle\" x=\"59.5\" y=\"-37.8\" font-family=\"Helvetica,sans-Serif\" font-size=\"14.00\">samples = 322</text>\n<text text-anchor=\"middle\" x=\"59.5\" y=\"-22.8\" font-family=\"Helvetica,sans-Serif\" font-size=\"14.00\">value = [82, 240]</text>\n<text text-anchor=\"middle\" x=\"59.5\" y=\"-7.8\" font-family=\"Helvetica,sans-Serif\" font-size=\"14.00\">class = Yes</text>\n</g>\n<!-- 3&#45;&gt;4 -->\n<g id=\"edge4\" class=\"edge\">\n<title>3&#45;&gt;4</title>\n<path fill=\"none\" stroke=\"black\" d=\"M149.25,-103.73C136.75,-94.15 123.44,-83.96 111.01,-74.44\"/>\n<polygon fill=\"black\" stroke=\"black\" points=\"113.05,-71.6 102.99,-68.3 108.8,-77.16 113.05,-71.6\"/>\n</g>\n<!-- 5 -->\n<g id=\"node6\" class=\"node\">\n<title>5</title>\n<path fill=\"#68b4eb\" stroke=\"black\" d=\"M256.5,-68C256.5,-68 148.5,-68 148.5,-68 142.5,-68 136.5,-62 136.5,-56 136.5,-56 136.5,-12 136.5,-12 136.5,-6 142.5,0 148.5,0 148.5,0 256.5,0 256.5,0 262.5,0 268.5,-6 268.5,-12 268.5,-12 268.5,-56 268.5,-56 268.5,-62 262.5,-68 256.5,-68\"/>\n<text text-anchor=\"middle\" x=\"202.5\" y=\"-52.8\" font-family=\"Helvetica,sans-Serif\" font-size=\"14.00\">gini = 0.311</text>\n<text text-anchor=\"middle\" x=\"202.5\" y=\"-37.8\" font-family=\"Helvetica,sans-Serif\" font-size=\"14.00\">samples = 2090</text>\n<text text-anchor=\"middle\" x=\"202.5\" y=\"-22.8\" font-family=\"Helvetica,sans-Serif\" font-size=\"14.00\">value = [402, 1688]</text>\n<text text-anchor=\"middle\" x=\"202.5\" y=\"-7.8\" font-family=\"Helvetica,sans-Serif\" font-size=\"14.00\">class = Yes</text>\n</g>\n<!-- 3&#45;&gt;5 -->\n<g id=\"edge5\" class=\"edge\">\n<title>3&#45;&gt;5</title>\n<path fill=\"none\" stroke=\"black\" d=\"M202.5,-103.73C202.5,-95.52 202.5,-86.86 202.5,-78.56\"/>\n<polygon fill=\"black\" stroke=\"black\" points=\"206,-78.3 202.5,-68.3 199,-78.3 206,-78.3\"/>\n</g>\n<!-- 7 -->\n<g id=\"node8\" class=\"node\">\n<title>7</title>\n<path fill=\"#fcefe5\" stroke=\"black\" d=\"M496.5,-187C496.5,-187 380.5,-187 380.5,-187 374.5,-187 368.5,-181 368.5,-175 368.5,-175 368.5,-116 368.5,-116 368.5,-110 374.5,-104 380.5,-104 380.5,-104 496.5,-104 496.5,-104 502.5,-104 508.5,-110 508.5,-116 508.5,-116 508.5,-175 508.5,-175 508.5,-181 502.5,-187 496.5,-187\"/>\n<text text-anchor=\"middle\" x=\"438.5\" y=\"-171.8\" font-family=\"Helvetica,sans-Serif\" font-size=\"14.00\">price &lt;= 99974.41</text>\n<text text-anchor=\"middle\" x=\"438.5\" y=\"-156.8\" font-family=\"Helvetica,sans-Serif\" font-size=\"14.00\">gini = 0.498</text>\n<text text-anchor=\"middle\" x=\"438.5\" y=\"-141.8\" font-family=\"Helvetica,sans-Serif\" font-size=\"14.00\">samples = 3513</text>\n<text text-anchor=\"middle\" x=\"438.5\" y=\"-126.8\" font-family=\"Helvetica,sans-Serif\" font-size=\"14.00\">value = [1879, 1634]</text>\n<text text-anchor=\"middle\" x=\"438.5\" y=\"-111.8\" font-family=\"Helvetica,sans-Serif\" font-size=\"14.00\">class = No</text>\n</g>\n<!-- 6&#45;&gt;7 -->\n<g id=\"edge7\" class=\"edge\">\n<title>6&#45;&gt;7</title>\n<path fill=\"none\" stroke=\"black\" d=\"M438.5,-222.91C438.5,-214.65 438.5,-205.86 438.5,-197.3\"/>\n<polygon fill=\"black\" stroke=\"black\" points=\"442,-197.02 438.5,-187.02 435,-197.02 442,-197.02\"/>\n</g>\n<!-- 10 -->\n<g id=\"node11\" class=\"node\">\n<title>10</title>\n<path fill=\"#e9965a\" stroke=\"black\" d=\"M709,-187C709,-187 592,-187 592,-187 586,-187 580,-181 580,-175 580,-175 580,-116 580,-116 580,-110 586,-104 592,-104 592,-104 709,-104 709,-104 715,-104 721,-110 721,-116 721,-116 721,-175 721,-175 721,-181 715,-187 709,-187\"/>\n<text text-anchor=\"middle\" x=\"650.5\" y=\"-171.8\" font-family=\"Helvetica,sans-Serif\" font-size=\"14.00\">price &lt;= 100076.957</text>\n<text text-anchor=\"middle\" x=\"650.5\" y=\"-156.8\" font-family=\"Helvetica,sans-Serif\" font-size=\"14.00\">gini = 0.243</text>\n<text text-anchor=\"middle\" x=\"650.5\" y=\"-141.8\" font-family=\"Helvetica,sans-Serif\" font-size=\"14.00\">samples = 2140</text>\n<text text-anchor=\"middle\" x=\"650.5\" y=\"-126.8\" font-family=\"Helvetica,sans-Serif\" font-size=\"14.00\">value = [1837, 303]</text>\n<text text-anchor=\"middle\" x=\"650.5\" y=\"-111.8\" font-family=\"Helvetica,sans-Serif\" font-size=\"14.00\">class = No</text>\n</g>\n<!-- 6&#45;&gt;10 -->\n<g id=\"edge10\" class=\"edge\">\n<title>6&#45;&gt;10</title>\n<path fill=\"none\" stroke=\"black\" d=\"M512.05,-222.91C531.13,-212.38 551.77,-200.99 571.14,-190.3\"/>\n<polygon fill=\"black\" stroke=\"black\" points=\"572.87,-193.34 579.93,-185.44 569.49,-187.21 572.87,-193.34\"/>\n</g>\n<!-- 8 -->\n<g id=\"node9\" class=\"node\">\n<title>8</title>\n<path fill=\"#f9e0ce\" stroke=\"black\" d=\"M414.5,-68C414.5,-68 298.5,-68 298.5,-68 292.5,-68 286.5,-62 286.5,-56 286.5,-56 286.5,-12 286.5,-12 286.5,-6 292.5,0 298.5,0 298.5,0 414.5,0 414.5,0 420.5,0 426.5,-6 426.5,-12 426.5,-12 426.5,-56 426.5,-56 426.5,-62 420.5,-68 414.5,-68\"/>\n<text text-anchor=\"middle\" x=\"356.5\" y=\"-52.8\" font-family=\"Helvetica,sans-Serif\" font-size=\"14.00\">gini = 0.49</text>\n<text text-anchor=\"middle\" x=\"356.5\" y=\"-37.8\" font-family=\"Helvetica,sans-Serif\" font-size=\"14.00\">samples = 2944</text>\n<text text-anchor=\"middle\" x=\"356.5\" y=\"-22.8\" font-family=\"Helvetica,sans-Serif\" font-size=\"14.00\">value = [1682, 1262]</text>\n<text text-anchor=\"middle\" x=\"356.5\" y=\"-7.8\" font-family=\"Helvetica,sans-Serif\" font-size=\"14.00\">class = No</text>\n</g>\n<!-- 7&#45;&gt;8 -->\n<g id=\"edge8\" class=\"edge\">\n<title>7&#45;&gt;8</title>\n<path fill=\"none\" stroke=\"black\" d=\"M407.97,-103.73C401.27,-94.79 394.18,-85.32 387.47,-76.36\"/>\n<polygon fill=\"black\" stroke=\"black\" points=\"390.23,-74.21 381.44,-68.3 384.63,-78.4 390.23,-74.21\"/>\n</g>\n<!-- 9 -->\n<g id=\"node10\" class=\"node\">\n<title>9</title>\n<path fill=\"#a2d1f3\" stroke=\"black\" d=\"M558,-68C558,-68 457,-68 457,-68 451,-68 445,-62 445,-56 445,-56 445,-12 445,-12 445,-6 451,0 457,0 457,0 558,0 558,0 564,0 570,-6 570,-12 570,-12 570,-56 570,-56 570,-62 564,-68 558,-68\"/>\n<text text-anchor=\"middle\" x=\"507.5\" y=\"-52.8\" font-family=\"Helvetica,sans-Serif\" font-size=\"14.00\">gini = 0.453</text>\n<text text-anchor=\"middle\" x=\"507.5\" y=\"-37.8\" font-family=\"Helvetica,sans-Serif\" font-size=\"14.00\">samples = 569</text>\n<text text-anchor=\"middle\" x=\"507.5\" y=\"-22.8\" font-family=\"Helvetica,sans-Serif\" font-size=\"14.00\">value = [197, 372]</text>\n<text text-anchor=\"middle\" x=\"507.5\" y=\"-7.8\" font-family=\"Helvetica,sans-Serif\" font-size=\"14.00\">class = Yes</text>\n</g>\n<!-- 7&#45;&gt;9 -->\n<g id=\"edge9\" class=\"edge\">\n<title>7&#45;&gt;9</title>\n<path fill=\"none\" stroke=\"black\" d=\"M464.19,-103.73C469.71,-94.97 475.55,-85.7 481.09,-76.91\"/>\n<polygon fill=\"black\" stroke=\"black\" points=\"484.15,-78.63 486.52,-68.3 478.22,-74.89 484.15,-78.63\"/>\n</g>\n<!-- 11 -->\n<g id=\"node12\" class=\"node\">\n<title>11</title>\n<path fill=\"#e68742\" stroke=\"black\" d=\"M701,-68C701,-68 600,-68 600,-68 594,-68 588,-62 588,-56 588,-56 588,-12 588,-12 588,-6 594,0 600,0 600,0 701,0 701,0 707,0 713,-6 713,-12 713,-12 713,-56 713,-56 713,-62 707,-68 701,-68\"/>\n<text text-anchor=\"middle\" x=\"650.5\" y=\"-52.8\" font-family=\"Helvetica,sans-Serif\" font-size=\"14.00\">gini = 0.082</text>\n<text text-anchor=\"middle\" x=\"650.5\" y=\"-37.8\" font-family=\"Helvetica,sans-Serif\" font-size=\"14.00\">samples = 1809</text>\n<text text-anchor=\"middle\" x=\"650.5\" y=\"-22.8\" font-family=\"Helvetica,sans-Serif\" font-size=\"14.00\">value = [1732, 77]</text>\n<text text-anchor=\"middle\" x=\"650.5\" y=\"-7.8\" font-family=\"Helvetica,sans-Serif\" font-size=\"14.00\">class = No</text>\n</g>\n<!-- 10&#45;&gt;11 -->\n<g id=\"edge11\" class=\"edge\">\n<title>10&#45;&gt;11</title>\n<path fill=\"none\" stroke=\"black\" d=\"M650.5,-103.73C650.5,-95.52 650.5,-86.86 650.5,-78.56\"/>\n<polygon fill=\"black\" stroke=\"black\" points=\"654,-78.3 650.5,-68.3 647,-78.3 654,-78.3\"/>\n</g>\n<!-- 12 -->\n<g id=\"node13\" class=\"node\">\n<title>12</title>\n<path fill=\"#95cbf1\" stroke=\"black\" d=\"M844,-68C844,-68 743,-68 743,-68 737,-68 731,-62 731,-56 731,-56 731,-12 731,-12 731,-6 737,0 743,0 743,0 844,0 844,0 850,0 856,-6 856,-12 856,-12 856,-56 856,-56 856,-62 850,-68 844,-68\"/>\n<text text-anchor=\"middle\" x=\"793.5\" y=\"-52.8\" font-family=\"Helvetica,sans-Serif\" font-size=\"14.00\">gini = 0.433</text>\n<text text-anchor=\"middle\" x=\"793.5\" y=\"-37.8\" font-family=\"Helvetica,sans-Serif\" font-size=\"14.00\">samples = 331</text>\n<text text-anchor=\"middle\" x=\"793.5\" y=\"-22.8\" font-family=\"Helvetica,sans-Serif\" font-size=\"14.00\">value = [105, 226]</text>\n<text text-anchor=\"middle\" x=\"793.5\" y=\"-7.8\" font-family=\"Helvetica,sans-Serif\" font-size=\"14.00\">class = Yes</text>\n</g>\n<!-- 10&#45;&gt;12 -->\n<g id=\"edge12\" class=\"edge\">\n<title>10&#45;&gt;12</title>\n<path fill=\"none\" stroke=\"black\" d=\"M703.75,-103.73C716.25,-94.15 729.56,-83.96 741.99,-74.44\"/>\n<polygon fill=\"black\" stroke=\"black\" points=\"744.2,-77.16 750.01,-68.3 739.95,-71.6 744.2,-77.16\"/>\n</g>\n</g>\n</svg>\n",
            "text/plain": [
              "<graphviz.sources.Source at 0x7f3948dba920>"
            ]
          },
          "metadata": {},
          "execution_count": 85
        }
      ]
    },
    {
      "cell_type": "markdown",
      "source": [
        "Small changes can be seen in this new tree, but now one has more trust in the model and has metrics enough to confirm its results.\n",
        "\n",
        "All the optimization done here teaches one how to correctly validate a model, compared with the older non-optimized model. Although they were almost equal in terms of score values, one could trust in it and create an even more complex model with the best hyperparameters."
      ],
      "metadata": {
        "id": "ZV_Mp_NDCqPv"
      }
    },
    {
      "cell_type": "markdown",
      "source": [
        "# Optimization based on random exploration\n",
        "\n",
        "This time an optimization will be based on random hiperparameter optimization. This method allows one to obtain hiperparameters with less computational time and resourses. One will define the goal of this problem's acc, and the search will happen randomly until that acc is achieved"
      ],
      "metadata": {
        "id": "XuXuNwdSEav9"
      }
    },
    {
      "cell_type": "code",
      "source": [
        "from sklearn.model_selection import RandomizedSearchCV\n",
        "\n",
        "np.random.seed(SEED)\n",
        "\n",
        "grid = {\n",
        "    'max_depth':[3,4,5],\n",
        "    'min_samples_split':[32,64,128],\n",
        "    'min_samples_leaf':[32,64,128,192,256],\n",
        "    'criterion': ['gini', 'entropy'],\n",
        "}\n",
        "\n",
        "search = RandomizedSearchCV(DecisionTreeClassifier(), grid,\n",
        "                            cv=KFold(n_splits=5, shuffle=True),\n",
        "                            n_iter=22) #chosen empirically\n",
        "search.fit(x, y)\n",
        "results = pd.DataFrame(search.cv_results_)\n",
        "results.head()\n",
        "\n",
        "scores = cross_val_score(search, x, y, cv =KFold(n_splits=5, shuffle=True))\n",
        "\n",
        "score_rng_search= scores.mean()*100\n",
        "print(score_search, score_rng_search)"
      ],
      "metadata": {
        "colab": {
          "base_uri": "https://localhost:8080/"
        },
        "id": "bx2kZqdHE2vQ",
        "outputId": "8579869e-de4f-428e-cdf6-be1555b4c0de"
      },
      "execution_count": null,
      "outputs": [
        {
          "output_type": "stream",
          "name": "stdout",
          "text": [
            "78.67 78.69\n"
          ]
        }
      ]
    },
    {
      "cell_type": "markdown",
      "source": [
        "A small improvement was observed, while using less computational resources and time.\n",
        "\n",
        "There are still other parameters that can be used to optimize the model. This time a bigger grid will be used."
      ],
      "metadata": {
        "id": "PY7uz9WpIULz"
      }
    },
    {
      "cell_type": "code",
      "source": [
        "from scipy.stats import randint\n",
        "\n",
        "np.random.seed(SEED)\n",
        "\n",
        "grid = {\n",
        "    'max_depth': randint(3,10), #n=6\n",
        "    'min_samples_split': randint(32,129), #n=127\n",
        "    'min_samples_leaf': randint(32,129), #n=127\n",
        "    'criterion': ['gini', 'entropy'], #n=2\n",
        "}\n",
        "#total grid combinations = 6*127*127*2 = 193548 combinations\n",
        "\n",
        "search = RandomizedSearchCV(DecisionTreeClassifier(), grid,\n",
        "                            cv=KFold(n_splits=5, shuffle=True),\n",
        "                            n_iter=22) #chosen empirically\n",
        "search.fit(x, y)\n",
        "results = pd.DataFrame(search.cv_results_)\n",
        "results.head()\n",
        "\n",
        "scores = cross_val_score(search, x, y, cv =KFold(n_splits=5, shuffle=True))\n",
        "\n",
        "score_rng_search= scores.mean()*100\n",
        "print(score_search, score_rng_search)"
      ],
      "metadata": {
        "colab": {
          "base_uri": "https://localhost:8080/"
        },
        "id": "C5HWYFypIcIl",
        "outputId": "edfd301c-6d78-4013-e00e-8af12e929148"
      },
      "execution_count": null,
      "outputs": [
        {
          "output_type": "stream",
          "name": "stdout",
          "text": [
            "78.67 78.71000000000001\n"
          ]
        }
      ]
    },
    {
      "cell_type": "markdown",
      "source": [
        "An improvement again! Even exploring only 22 points of the 193548 points grid."
      ],
      "metadata": {
        "id": "Kowl948DLTLa"
      }
    },
    {
      "cell_type": "code",
      "source": [
        "sorted_results = results.sort_values('mean_test_score', ascending=False)\n",
        "for index, row in sorted_results.iterrows():\n",
        "  print(f'{row.mean_test_score*100 :.2f}, +-{row.std_test_score*2:.2f}, {row.params}')"
      ],
      "metadata": {
        "colab": {
          "base_uri": "https://localhost:8080/"
        },
        "id": "YLSTY9c1L32h",
        "outputId": "dde77d98-92f0-4da9-bea8-d90269d81995"
      },
      "execution_count": null,
      "outputs": [
        {
          "output_type": "stream",
          "name": "stdout",
          "text": [
            "78.68, +-0.02, {'criterion': 'entropy', 'max_depth': 4, 'min_samples_leaf': 110, 'min_samples_split': 74}\n",
            "78.26, +-0.02, {'criterion': 'entropy', 'max_depth': 5, 'min_samples_leaf': 47, 'min_samples_split': 127}\n",
            "78.21, +-0.02, {'criterion': 'gini', 'max_depth': 6, 'min_samples_leaf': 50, 'min_samples_split': 102}\n",
            "78.17, +-0.02, {'criterion': 'gini', 'max_depth': 6, 'min_samples_leaf': 48, 'min_samples_split': 50}\n",
            "78.16, +-0.02, {'criterion': 'entropy', 'max_depth': 8, 'min_samples_leaf': 109, 'min_samples_split': 49}\n",
            "78.15, +-0.02, {'criterion': 'gini', 'max_depth': 8, 'min_samples_leaf': 107, 'min_samples_split': 90}\n",
            "78.14, +-0.02, {'criterion': 'gini', 'max_depth': 5, 'min_samples_leaf': 41, 'min_samples_split': 52}\n",
            "78.11, +-0.02, {'criterion': 'entropy', 'max_depth': 7, 'min_samples_leaf': 54, 'min_samples_split': 46}\n",
            "78.08, +-0.02, {'criterion': 'gini', 'max_depth': 6, 'min_samples_leaf': 107, 'min_samples_split': 40}\n",
            "78.08, +-0.02, {'criterion': 'entropy', 'max_depth': 6, 'min_samples_leaf': 106, 'min_samples_split': 107}\n",
            "78.05, +-0.02, {'criterion': 'gini', 'max_depth': 5, 'min_samples_leaf': 111, 'min_samples_split': 114}\n",
            "78.05, +-0.02, {'criterion': 'gini', 'max_depth': 5, 'min_samples_leaf': 115, 'min_samples_split': 48}\n",
            "78.04, +-0.02, {'criterion': 'entropy', 'max_depth': 5, 'min_samples_leaf': 91, 'min_samples_split': 103}\n",
            "78.03, +-0.01, {'criterion': 'entropy', 'max_depth': 9, 'min_samples_leaf': 103, 'min_samples_split': 66}\n",
            "77.96, +-0.01, {'criterion': 'entropy', 'max_depth': 9, 'min_samples_leaf': 107, 'min_samples_split': 50}\n",
            "77.93, +-0.01, {'criterion': 'gini', 'max_depth': 9, 'min_samples_leaf': 64, 'min_samples_split': 42}\n",
            "77.88, +-0.03, {'criterion': 'entropy', 'max_depth': 8, 'min_samples_leaf': 115, 'min_samples_split': 89}\n",
            "77.85, +-0.01, {'criterion': 'entropy', 'max_depth': 9, 'min_samples_leaf': 61, 'min_samples_split': 77}\n",
            "77.75, +-0.02, {'criterion': 'entropy', 'max_depth': 9, 'min_samples_leaf': 94, 'min_samples_split': 48}\n",
            "77.67, +-0.01, {'criterion': 'gini', 'max_depth': 9, 'min_samples_leaf': 72, 'min_samples_split': 117}\n",
            "77.50, +-0.01, {'criterion': 'entropy', 'max_depth': 8, 'min_samples_leaf': 39, 'min_samples_split': 38}\n",
            "77.35, +-0.01, {'criterion': 'gini', 'max_depth': 9, 'min_samples_leaf': 56, 'min_samples_split': 50}\n"
          ]
        }
      ]
    },
    {
      "cell_type": "markdown",
      "source": [
        "Now with a higher value of n_iter one can explore more the grid and see if there is a combination that increases even more the scores."
      ],
      "metadata": {
        "id": "g7nDNqxAN6tf"
      }
    },
    {
      "cell_type": "code",
      "source": [
        "np.random.seed(SEED)\n",
        "\n",
        "grid = {\n",
        "    'max_depth': randint(3,10), #n=6\n",
        "    'min_samples_split': randint(32,129), #n=127\n",
        "    'min_samples_leaf': randint(32,129), #n=127\n",
        "    'criterion': ['gini', 'entropy'], #n=2\n",
        "}\n",
        "#total grid combinations = 6*127*127*2 = 193548 combinations\n",
        "\n",
        "search = RandomizedSearchCV(DecisionTreeClassifier(), grid,\n",
        "                            cv=KFold(n_splits=5, shuffle=True),\n",
        "                            n_iter=100) #increased from 22 to 100\n",
        "search.fit(x, y)\n",
        "results = pd.DataFrame(search.cv_results_)\n",
        "results.head()\n",
        "\n",
        "scores = cross_val_score(search, x, y, cv =KFold(n_splits=5, shuffle=True))\n",
        "\n",
        "score_rng_search= scores.mean()*100\n",
        "print(score_search, score_rng_search)"
      ],
      "metadata": {
        "colab": {
          "base_uri": "https://localhost:8080/"
        },
        "id": "39FpRW11O_dw",
        "outputId": "486d6793-c5c5-4141-df5f-83c2988ee673"
      },
      "execution_count": null,
      "outputs": [
        {
          "output_type": "stream",
          "name": "stdout",
          "text": [
            "78.67 78.55\n"
          ]
        }
      ]
    },
    {
      "cell_type": "code",
      "source": [
        "sorted_results = results.sort_values('mean_test_score', ascending=False)\n",
        "for index, row in sorted_results.iterrows():\n",
        "  print(f'{row.mean_test_score*100 :.2f}, +-{row.std_test_score*2:.2f}, {row.params}')"
      ],
      "metadata": {
        "colab": {
          "base_uri": "https://localhost:8080/"
        },
        "id": "3cnO4X1JPPeE",
        "outputId": "b712a462-c570-447f-ca60-27f9ae2ed80d"
      },
      "execution_count": null,
      "outputs": [
        {
          "output_type": "stream",
          "name": "stdout",
          "text": [
            "78.68, +-0.01, {'criterion': 'entropy', 'max_depth': 3, 'min_samples_leaf': 102, 'min_samples_split': 102}\n",
            "78.68, +-0.01, {'criterion': 'gini', 'max_depth': 4, 'min_samples_leaf': 100, 'min_samples_split': 114}\n",
            "78.68, +-0.01, {'criterion': 'gini', 'max_depth': 3, 'min_samples_leaf': 108, 'min_samples_split': 110}\n",
            "78.68, +-0.01, {'criterion': 'gini', 'max_depth': 4, 'min_samples_leaf': 55, 'min_samples_split': 127}\n",
            "78.68, +-0.01, {'criterion': 'gini', 'max_depth': 3, 'min_samples_leaf': 51, 'min_samples_split': 80}\n",
            "78.68, +-0.01, {'criterion': 'gini', 'max_depth': 4, 'min_samples_leaf': 72, 'min_samples_split': 43}\n",
            "78.68, +-0.01, {'criterion': 'entropy', 'max_depth': 3, 'min_samples_leaf': 90, 'min_samples_split': 118}\n",
            "78.68, +-0.01, {'criterion': 'gini', 'max_depth': 4, 'min_samples_leaf': 106, 'min_samples_split': 128}\n",
            "78.68, +-0.01, {'criterion': 'gini', 'max_depth': 3, 'min_samples_leaf': 39, 'min_samples_split': 78}\n",
            "78.68, +-0.01, {'criterion': 'gini', 'max_depth': 3, 'min_samples_leaf': 112, 'min_samples_split': 76}\n",
            "78.68, +-0.01, {'criterion': 'entropy', 'max_depth': 4, 'min_samples_leaf': 110, 'min_samples_split': 74}\n",
            "78.68, +-0.01, {'criterion': 'gini', 'max_depth': 4, 'min_samples_leaf': 46, 'min_samples_split': 63}\n",
            "78.68, +-0.01, {'criterion': 'gini', 'max_depth': 4, 'min_samples_leaf': 53, 'min_samples_split': 37}\n",
            "78.68, +-0.01, {'criterion': 'gini', 'max_depth': 4, 'min_samples_leaf': 106, 'min_samples_split': 59}\n",
            "78.68, +-0.01, {'criterion': 'gini', 'max_depth': 3, 'min_samples_leaf': 36, 'min_samples_split': 107}\n",
            "78.68, +-0.01, {'criterion': 'gini', 'max_depth': 3, 'min_samples_leaf': 65, 'min_samples_split': 36}\n",
            "78.68, +-0.01, {'criterion': 'entropy', 'max_depth': 4, 'min_samples_leaf': 77, 'min_samples_split': 113}\n",
            "78.68, +-0.01, {'criterion': 'gini', 'max_depth': 3, 'min_samples_leaf': 75, 'min_samples_split': 60}\n",
            "78.68, +-0.01, {'criterion': 'entropy', 'max_depth': 3, 'min_samples_leaf': 53, 'min_samples_split': 32}\n",
            "78.68, +-0.01, {'criterion': 'gini', 'max_depth': 3, 'min_samples_leaf': 104, 'min_samples_split': 81}\n",
            "78.68, +-0.01, {'criterion': 'gini', 'max_depth': 4, 'min_samples_leaf': 65, 'min_samples_split': 55}\n",
            "78.68, +-0.01, {'criterion': 'entropy', 'max_depth': 3, 'min_samples_leaf': 117, 'min_samples_split': 70}\n",
            "78.68, +-0.01, {'criterion': 'gini', 'max_depth': 3, 'min_samples_leaf': 90, 'min_samples_split': 111}\n",
            "78.63, +-0.01, {'criterion': 'gini', 'max_depth': 5, 'min_samples_leaf': 102, 'min_samples_split': 82}\n",
            "78.63, +-0.01, {'criterion': 'gini', 'max_depth': 5, 'min_samples_leaf': 111, 'min_samples_split': 114}\n",
            "78.63, +-0.01, {'criterion': 'entropy', 'max_depth': 5, 'min_samples_leaf': 101, 'min_samples_split': 49}\n",
            "78.63, +-0.01, {'criterion': 'entropy', 'max_depth': 5, 'min_samples_leaf': 106, 'min_samples_split': 101}\n",
            "78.62, +-0.02, {'criterion': 'entropy', 'max_depth': 5, 'min_samples_leaf': 83, 'min_samples_split': 44}\n",
            "78.62, +-0.02, {'criterion': 'entropy', 'max_depth': 5, 'min_samples_leaf': 115, 'min_samples_split': 68}\n",
            "78.62, +-0.02, {'criterion': 'entropy', 'max_depth': 5, 'min_samples_leaf': 67, 'min_samples_split': 119}\n",
            "78.62, +-0.02, {'criterion': 'entropy', 'max_depth': 5, 'min_samples_leaf': 96, 'min_samples_split': 65}\n",
            "78.62, +-0.02, {'criterion': 'entropy', 'max_depth': 5, 'min_samples_leaf': 47, 'min_samples_split': 127}\n",
            "78.62, +-0.02, {'criterion': 'entropy', 'max_depth': 5, 'min_samples_leaf': 49, 'min_samples_split': 72}\n",
            "78.62, +-0.02, {'criterion': 'gini', 'max_depth': 5, 'min_samples_leaf': 92, 'min_samples_split': 116}\n",
            "78.62, +-0.02, {'criterion': 'gini', 'max_depth': 5, 'min_samples_leaf': 115, 'min_samples_split': 48}\n",
            "78.62, +-0.02, {'criterion': 'entropy', 'max_depth': 5, 'min_samples_leaf': 91, 'min_samples_split': 103}\n",
            "78.61, +-0.02, {'criterion': 'entropy', 'max_depth': 5, 'min_samples_leaf': 98, 'min_samples_split': 62}\n",
            "78.54, +-0.01, {'criterion': 'gini', 'max_depth': 5, 'min_samples_leaf': 41, 'min_samples_split': 52}\n",
            "78.40, +-0.02, {'criterion': 'gini', 'max_depth': 5, 'min_samples_leaf': 34, 'min_samples_split': 71}\n",
            "78.29, +-0.01, {'criterion': 'entropy', 'max_depth': 6, 'min_samples_leaf': 55, 'min_samples_split': 83}\n",
            "78.27, +-0.01, {'criterion': 'entropy', 'max_depth': 6, 'min_samples_leaf': 64, 'min_samples_split': 56}\n",
            "78.26, +-0.01, {'criterion': 'entropy', 'max_depth': 8, 'min_samples_leaf': 115, 'min_samples_split': 89}\n",
            "78.26, +-0.01, {'criterion': 'entropy', 'max_depth': 6, 'min_samples_leaf': 51, 'min_samples_split': 72}\n",
            "78.23, +-0.02, {'criterion': 'gini', 'max_depth': 7, 'min_samples_leaf': 92, 'min_samples_split': 77}\n",
            "78.22, +-0.01, {'criterion': 'gini', 'max_depth': 6, 'min_samples_leaf': 48, 'min_samples_split': 50}\n",
            "78.21, +-0.01, {'criterion': 'entropy', 'max_depth': 6, 'min_samples_leaf': 106, 'min_samples_split': 107}\n",
            "78.21, +-0.01, {'criterion': 'gini', 'max_depth': 6, 'min_samples_leaf': 50, 'min_samples_split': 102}\n",
            "78.20, +-0.02, {'criterion': 'gini', 'max_depth': 8, 'min_samples_leaf': 86, 'min_samples_split': 124}\n",
            "78.20, +-0.02, {'criterion': 'gini', 'max_depth': 7, 'min_samples_leaf': 80, 'min_samples_split': 127}\n",
            "78.19, +-0.01, {'criterion': 'gini', 'max_depth': 8, 'min_samples_leaf': 107, 'min_samples_split': 90}\n",
            "78.19, +-0.01, {'criterion': 'gini', 'max_depth': 8, 'min_samples_leaf': 107, 'min_samples_split': 115}\n",
            "78.19, +-0.01, {'criterion': 'entropy', 'max_depth': 8, 'min_samples_leaf': 109, 'min_samples_split': 49}\n",
            "78.18, +-0.01, {'criterion': 'gini', 'max_depth': 6, 'min_samples_leaf': 42, 'min_samples_split': 65}\n",
            "78.15, +-0.01, {'criterion': 'gini', 'max_depth': 8, 'min_samples_leaf': 121, 'min_samples_split': 115}\n",
            "78.14, +-0.01, {'criterion': 'gini', 'max_depth': 7, 'min_samples_leaf': 96, 'min_samples_split': 87}\n",
            "78.13, +-0.01, {'criterion': 'gini', 'max_depth': 6, 'min_samples_leaf': 118, 'min_samples_split': 111}\n",
            "78.13, +-0.01, {'criterion': 'gini', 'max_depth': 6, 'min_samples_leaf': 117, 'min_samples_split': 59}\n",
            "78.12, +-0.01, {'criterion': 'entropy', 'max_depth': 7, 'min_samples_leaf': 105, 'min_samples_split': 43}\n",
            "78.11, +-0.02, {'criterion': 'entropy', 'max_depth': 9, 'min_samples_leaf': 107, 'min_samples_split': 50}\n",
            "78.10, +-0.01, {'criterion': 'gini', 'max_depth': 6, 'min_samples_leaf': 107, 'min_samples_split': 40}\n",
            "78.10, +-0.02, {'criterion': 'entropy', 'max_depth': 6, 'min_samples_leaf': 102, 'min_samples_split': 105}\n",
            "78.09, +-0.02, {'criterion': 'entropy', 'max_depth': 9, 'min_samples_leaf': 113, 'min_samples_split': 105}\n",
            "78.06, +-0.02, {'criterion': 'gini', 'max_depth': 9, 'min_samples_leaf': 85, 'min_samples_split': 105}\n",
            "78.06, +-0.02, {'criterion': 'entropy', 'max_depth': 8, 'min_samples_leaf': 92, 'min_samples_split': 34}\n",
            "78.04, +-0.02, {'criterion': 'entropy', 'max_depth': 8, 'min_samples_leaf': 63, 'min_samples_split': 99}\n",
            "78.01, +-0.02, {'criterion': 'gini', 'max_depth': 6, 'min_samples_leaf': 87, 'min_samples_split': 97}\n",
            "78.00, +-0.02, {'criterion': 'entropy', 'max_depth': 9, 'min_samples_leaf': 103, 'min_samples_split': 66}\n",
            "77.99, +-0.01, {'criterion': 'entropy', 'max_depth': 7, 'min_samples_leaf': 92, 'min_samples_split': 55}\n",
            "77.96, +-0.02, {'criterion': 'entropy', 'max_depth': 8, 'min_samples_leaf': 98, 'min_samples_split': 47}\n",
            "77.95, +-0.01, {'criterion': 'entropy', 'max_depth': 8, 'min_samples_leaf': 57, 'min_samples_split': 73}\n",
            "77.95, +-0.02, {'criterion': 'entropy', 'max_depth': 8, 'min_samples_leaf': 86, 'min_samples_split': 65}\n",
            "77.94, +-0.01, {'criterion': 'entropy', 'max_depth': 7, 'min_samples_leaf': 103, 'min_samples_split': 91}\n",
            "77.93, +-0.02, {'criterion': 'entropy', 'max_depth': 7, 'min_samples_leaf': 54, 'min_samples_split': 46}\n",
            "77.93, +-0.02, {'criterion': 'gini', 'max_depth': 7, 'min_samples_leaf': 68, 'min_samples_split': 124}\n",
            "77.93, +-0.01, {'criterion': 'entropy', 'max_depth': 8, 'min_samples_leaf': 71, 'min_samples_split': 48}\n",
            "77.92, +-0.01, {'criterion': 'entropy', 'max_depth': 8, 'min_samples_leaf': 68, 'min_samples_split': 109}\n",
            "77.92, +-0.01, {'criterion': 'gini', 'max_depth': 9, 'min_samples_leaf': 72, 'min_samples_split': 117}\n",
            "77.90, +-0.01, {'criterion': 'gini', 'max_depth': 8, 'min_samples_leaf': 58, 'min_samples_split': 47}\n",
            "77.87, +-0.02, {'criterion': 'entropy', 'max_depth': 9, 'min_samples_leaf': 94, 'min_samples_split': 48}\n",
            "77.86, +-0.02, {'criterion': 'entropy', 'max_depth': 7, 'min_samples_leaf': 65, 'min_samples_split': 53}\n",
            "77.85, +-0.01, {'criterion': 'entropy', 'max_depth': 9, 'min_samples_leaf': 75, 'min_samples_split': 56}\n",
            "77.83, +-0.02, {'criterion': 'gini', 'max_depth': 9, 'min_samples_leaf': 70, 'min_samples_split': 103}\n",
            "77.83, +-0.01, {'criterion': 'entropy', 'max_depth': 9, 'min_samples_leaf': 75, 'min_samples_split': 90}\n",
            "77.82, +-0.02, {'criterion': 'entropy', 'max_depth': 9, 'min_samples_leaf': 66, 'min_samples_split': 64}\n",
            "77.81, +-0.02, {'criterion': 'entropy', 'max_depth': 9, 'min_samples_leaf': 97, 'min_samples_split': 62}\n",
            "77.80, +-0.02, {'criterion': 'gini', 'max_depth': 7, 'min_samples_leaf': 38, 'min_samples_split': 50}\n",
            "77.80, +-0.02, {'criterion': 'gini', 'max_depth': 9, 'min_samples_leaf': 97, 'min_samples_split': 76}\n",
            "77.78, +-0.02, {'criterion': 'entropy', 'max_depth': 9, 'min_samples_leaf': 61, 'min_samples_split': 77}\n",
            "77.77, +-0.02, {'criterion': 'entropy', 'max_depth': 7, 'min_samples_leaf': 50, 'min_samples_split': 41}\n",
            "77.76, +-0.01, {'criterion': 'entropy', 'max_depth': 9, 'min_samples_leaf': 71, 'min_samples_split': 119}\n",
            "77.73, +-0.02, {'criterion': 'entropy', 'max_depth': 9, 'min_samples_leaf': 68, 'min_samples_split': 40}\n",
            "77.71, +-0.02, {'criterion': 'entropy', 'max_depth': 9, 'min_samples_leaf': 82, 'min_samples_split': 33}\n",
            "77.71, +-0.02, {'criterion': 'entropy', 'max_depth': 9, 'min_samples_leaf': 77, 'min_samples_split': 117}\n",
            "77.64, +-0.02, {'criterion': 'entropy', 'max_depth': 9, 'min_samples_leaf': 67, 'min_samples_split': 107}\n",
            "77.62, +-0.01, {'criterion': 'entropy', 'max_depth': 8, 'min_samples_leaf': 42, 'min_samples_split': 70}\n",
            "77.59, +-0.01, {'criterion': 'entropy', 'max_depth': 8, 'min_samples_leaf': 39, 'min_samples_split': 38}\n",
            "77.52, +-0.02, {'criterion': 'gini', 'max_depth': 9, 'min_samples_leaf': 64, 'min_samples_split': 42}\n",
            "77.39, +-0.01, {'criterion': 'entropy', 'max_depth': 9, 'min_samples_leaf': 43, 'min_samples_split': 36}\n",
            "77.37, +-0.02, {'criterion': 'gini', 'max_depth': 9, 'min_samples_leaf': 56, 'min_samples_split': 50}\n",
            "77.31, +-0.01, {'criterion': 'gini', 'max_depth': 8, 'min_samples_leaf': 38, 'min_samples_split': 91}\n"
          ]
        }
      ]
    },
    {
      "cell_type": "markdown",
      "source": [
        "It has improved again, but again a small improvement, even using 100 combinations."
      ],
      "metadata": {
        "id": "qh60nQQuPgcv"
      }
    },
    {
      "cell_type": "markdown",
      "source": [
        "## Confirming which search was really the best\n",
        "\n",
        "This comparison is not to be used for all other examples and cases. This is only based on this dataset. Do not accept this result as an alpha and omega truth.\n",
        "\n",
        "To do this comparison one will be using a random classifier like the RandomForestClassifier, applied with grid and random search, to see if the searchs performs best."
      ],
      "metadata": {
        "id": "jWGyp4X5P-8u"
      }
    },
    {
      "cell_type": "code",
      "source": [
        "from sklearn.ensemble import RandomForestClassifier\n",
        "import time\n",
        "grid = {\n",
        "    'max_depth': [3,5], #n=2\n",
        "    'min_samples_split': [32,64,128], #n=3\n",
        "    'min_samples_leaf': [32,64,128], #n=3\n",
        "    'criterion': ['gini', 'entropy'],#n=2\n",
        "    'n_estimators': [10, 100], #n=2\n",
        "    'bootstrap': [True, False] #n=2\n",
        "}\n",
        "#total grid combinations = 4*3*3*2*2*2 = 288 combinations\n",
        "time_0=time.time()\n",
        "\n",
        "search = GridSearchCV(RandomForestClassifier(), grid,\n",
        "                            cv=KFold(n_splits=5, shuffle=True))\n",
        "search.fit(x, y)\n",
        "time_f = time.time()\n",
        "total_time= time_f-time_0\n",
        "print(f'The total time was{total_time}')\n",
        "\n",
        "results = pd.DataFrame(search.cv_results_)\n",
        "results.head()\n"
      ],
      "metadata": {
        "colab": {
          "base_uri": "https://localhost:8080/",
          "height": 635
        },
        "id": "YN4ywJaMPgKC",
        "outputId": "93194e73-bf8b-45a0-a605-bcfc1f599d75"
      },
      "execution_count": null,
      "outputs": [
        {
          "output_type": "stream",
          "name": "stdout",
          "text": [
            "The total time was342.06605076789856\n"
          ]
        },
        {
          "output_type": "execute_result",
          "data": {
            "text/plain": [
              "   mean_fit_time  std_fit_time  mean_score_time  std_score_time  \\\n",
              "0       0.068272      0.003634         0.006396        0.000492   \n",
              "1       0.584671      0.019254         0.032066        0.008222   \n",
              "2       0.060905      0.002187         0.006293        0.001034   \n",
              "3       0.741837      0.101965         0.038440        0.007889   \n",
              "4       0.059782      0.002892         0.005856        0.000561   \n",
              "\n",
              "  param_bootstrap param_criterion param_max_depth param_min_samples_leaf  \\\n",
              "0            True            gini               3                     32   \n",
              "1            True            gini               3                     32   \n",
              "2            True            gini               3                     32   \n",
              "3            True            gini               3                     32   \n",
              "4            True            gini               3                     32   \n",
              "\n",
              "  param_min_samples_split param_n_estimators  \\\n",
              "0                      32                 10   \n",
              "1                      32                100   \n",
              "2                      64                 10   \n",
              "3                      64                100   \n",
              "4                     128                 10   \n",
              "\n",
              "                                              params  split0_test_score  \\\n",
              "0  {'bootstrap': True, 'criterion': 'gini', 'max_...             0.7675   \n",
              "1  {'bootstrap': True, 'criterion': 'gini', 'max_...             0.7700   \n",
              "2  {'bootstrap': True, 'criterion': 'gini', 'max_...             0.7705   \n",
              "3  {'bootstrap': True, 'criterion': 'gini', 'max_...             0.7705   \n",
              "4  {'bootstrap': True, 'criterion': 'gini', 'max_...             0.7705   \n",
              "\n",
              "   split1_test_score  split2_test_score  split3_test_score  split4_test_score  \\\n",
              "0             0.7815             0.7770             0.7735             0.7855   \n",
              "1             0.7810             0.7700             0.7785             0.7755   \n",
              "2             0.7810             0.7730             0.7795             0.7750   \n",
              "3             0.7810             0.7705             0.7795             0.7745   \n",
              "4             0.7915             0.7690             0.7790             0.7740   \n",
              "\n",
              "   mean_test_score  std_test_score  rank_test_score  \n",
              "0           0.7770        0.006245               79  \n",
              "1           0.7750        0.004438              120  \n",
              "2           0.7758        0.003932               87  \n",
              "3           0.7752        0.004400              109  \n",
              "4           0.7768        0.008115               83  "
            ],
            "text/html": [
              "\n",
              "  <div id=\"df-8b5c8796-0217-42b4-b4f4-f4cc22ae37f6\">\n",
              "    <div class=\"colab-df-container\">\n",
              "      <div>\n",
              "<style scoped>\n",
              "    .dataframe tbody tr th:only-of-type {\n",
              "        vertical-align: middle;\n",
              "    }\n",
              "\n",
              "    .dataframe tbody tr th {\n",
              "        vertical-align: top;\n",
              "    }\n",
              "\n",
              "    .dataframe thead th {\n",
              "        text-align: right;\n",
              "    }\n",
              "</style>\n",
              "<table border=\"1\" class=\"dataframe\">\n",
              "  <thead>\n",
              "    <tr style=\"text-align: right;\">\n",
              "      <th></th>\n",
              "      <th>mean_fit_time</th>\n",
              "      <th>std_fit_time</th>\n",
              "      <th>mean_score_time</th>\n",
              "      <th>std_score_time</th>\n",
              "      <th>param_bootstrap</th>\n",
              "      <th>param_criterion</th>\n",
              "      <th>param_max_depth</th>\n",
              "      <th>param_min_samples_leaf</th>\n",
              "      <th>param_min_samples_split</th>\n",
              "      <th>param_n_estimators</th>\n",
              "      <th>params</th>\n",
              "      <th>split0_test_score</th>\n",
              "      <th>split1_test_score</th>\n",
              "      <th>split2_test_score</th>\n",
              "      <th>split3_test_score</th>\n",
              "      <th>split4_test_score</th>\n",
              "      <th>mean_test_score</th>\n",
              "      <th>std_test_score</th>\n",
              "      <th>rank_test_score</th>\n",
              "    </tr>\n",
              "  </thead>\n",
              "  <tbody>\n",
              "    <tr>\n",
              "      <th>0</th>\n",
              "      <td>0.068272</td>\n",
              "      <td>0.003634</td>\n",
              "      <td>0.006396</td>\n",
              "      <td>0.000492</td>\n",
              "      <td>True</td>\n",
              "      <td>gini</td>\n",
              "      <td>3</td>\n",
              "      <td>32</td>\n",
              "      <td>32</td>\n",
              "      <td>10</td>\n",
              "      <td>{'bootstrap': True, 'criterion': 'gini', 'max_...</td>\n",
              "      <td>0.7675</td>\n",
              "      <td>0.7815</td>\n",
              "      <td>0.7770</td>\n",
              "      <td>0.7735</td>\n",
              "      <td>0.7855</td>\n",
              "      <td>0.7770</td>\n",
              "      <td>0.006245</td>\n",
              "      <td>79</td>\n",
              "    </tr>\n",
              "    <tr>\n",
              "      <th>1</th>\n",
              "      <td>0.584671</td>\n",
              "      <td>0.019254</td>\n",
              "      <td>0.032066</td>\n",
              "      <td>0.008222</td>\n",
              "      <td>True</td>\n",
              "      <td>gini</td>\n",
              "      <td>3</td>\n",
              "      <td>32</td>\n",
              "      <td>32</td>\n",
              "      <td>100</td>\n",
              "      <td>{'bootstrap': True, 'criterion': 'gini', 'max_...</td>\n",
              "      <td>0.7700</td>\n",
              "      <td>0.7810</td>\n",
              "      <td>0.7700</td>\n",
              "      <td>0.7785</td>\n",
              "      <td>0.7755</td>\n",
              "      <td>0.7750</td>\n",
              "      <td>0.004438</td>\n",
              "      <td>120</td>\n",
              "    </tr>\n",
              "    <tr>\n",
              "      <th>2</th>\n",
              "      <td>0.060905</td>\n",
              "      <td>0.002187</td>\n",
              "      <td>0.006293</td>\n",
              "      <td>0.001034</td>\n",
              "      <td>True</td>\n",
              "      <td>gini</td>\n",
              "      <td>3</td>\n",
              "      <td>32</td>\n",
              "      <td>64</td>\n",
              "      <td>10</td>\n",
              "      <td>{'bootstrap': True, 'criterion': 'gini', 'max_...</td>\n",
              "      <td>0.7705</td>\n",
              "      <td>0.7810</td>\n",
              "      <td>0.7730</td>\n",
              "      <td>0.7795</td>\n",
              "      <td>0.7750</td>\n",
              "      <td>0.7758</td>\n",
              "      <td>0.003932</td>\n",
              "      <td>87</td>\n",
              "    </tr>\n",
              "    <tr>\n",
              "      <th>3</th>\n",
              "      <td>0.741837</td>\n",
              "      <td>0.101965</td>\n",
              "      <td>0.038440</td>\n",
              "      <td>0.007889</td>\n",
              "      <td>True</td>\n",
              "      <td>gini</td>\n",
              "      <td>3</td>\n",
              "      <td>32</td>\n",
              "      <td>64</td>\n",
              "      <td>100</td>\n",
              "      <td>{'bootstrap': True, 'criterion': 'gini', 'max_...</td>\n",
              "      <td>0.7705</td>\n",
              "      <td>0.7810</td>\n",
              "      <td>0.7705</td>\n",
              "      <td>0.7795</td>\n",
              "      <td>0.7745</td>\n",
              "      <td>0.7752</td>\n",
              "      <td>0.004400</td>\n",
              "      <td>109</td>\n",
              "    </tr>\n",
              "    <tr>\n",
              "      <th>4</th>\n",
              "      <td>0.059782</td>\n",
              "      <td>0.002892</td>\n",
              "      <td>0.005856</td>\n",
              "      <td>0.000561</td>\n",
              "      <td>True</td>\n",
              "      <td>gini</td>\n",
              "      <td>3</td>\n",
              "      <td>32</td>\n",
              "      <td>128</td>\n",
              "      <td>10</td>\n",
              "      <td>{'bootstrap': True, 'criterion': 'gini', 'max_...</td>\n",
              "      <td>0.7705</td>\n",
              "      <td>0.7915</td>\n",
              "      <td>0.7690</td>\n",
              "      <td>0.7790</td>\n",
              "      <td>0.7740</td>\n",
              "      <td>0.7768</td>\n",
              "      <td>0.008115</td>\n",
              "      <td>83</td>\n",
              "    </tr>\n",
              "  </tbody>\n",
              "</table>\n",
              "</div>\n",
              "      <button class=\"colab-df-convert\" onclick=\"convertToInteractive('df-8b5c8796-0217-42b4-b4f4-f4cc22ae37f6')\"\n",
              "              title=\"Convert this dataframe to an interactive table.\"\n",
              "              style=\"display:none;\">\n",
              "        \n",
              "  <svg xmlns=\"http://www.w3.org/2000/svg\" height=\"24px\"viewBox=\"0 0 24 24\"\n",
              "       width=\"24px\">\n",
              "    <path d=\"M0 0h24v24H0V0z\" fill=\"none\"/>\n",
              "    <path d=\"M18.56 5.44l.94 2.06.94-2.06 2.06-.94-2.06-.94-.94-2.06-.94 2.06-2.06.94zm-11 1L8.5 8.5l.94-2.06 2.06-.94-2.06-.94L8.5 2.5l-.94 2.06-2.06.94zm10 10l.94 2.06.94-2.06 2.06-.94-2.06-.94-.94-2.06-.94 2.06-2.06.94z\"/><path d=\"M17.41 7.96l-1.37-1.37c-.4-.4-.92-.59-1.43-.59-.52 0-1.04.2-1.43.59L10.3 9.45l-7.72 7.72c-.78.78-.78 2.05 0 2.83L4 21.41c.39.39.9.59 1.41.59.51 0 1.02-.2 1.41-.59l7.78-7.78 2.81-2.81c.8-.78.8-2.07 0-2.86zM5.41 20L4 18.59l7.72-7.72 1.47 1.35L5.41 20z\"/>\n",
              "  </svg>\n",
              "      </button>\n",
              "      \n",
              "  <style>\n",
              "    .colab-df-container {\n",
              "      display:flex;\n",
              "      flex-wrap:wrap;\n",
              "      gap: 12px;\n",
              "    }\n",
              "\n",
              "    .colab-df-convert {\n",
              "      background-color: #E8F0FE;\n",
              "      border: none;\n",
              "      border-radius: 50%;\n",
              "      cursor: pointer;\n",
              "      display: none;\n",
              "      fill: #1967D2;\n",
              "      height: 32px;\n",
              "      padding: 0 0 0 0;\n",
              "      width: 32px;\n",
              "    }\n",
              "\n",
              "    .colab-df-convert:hover {\n",
              "      background-color: #E2EBFA;\n",
              "      box-shadow: 0px 1px 2px rgba(60, 64, 67, 0.3), 0px 1px 3px 1px rgba(60, 64, 67, 0.15);\n",
              "      fill: #174EA6;\n",
              "    }\n",
              "\n",
              "    [theme=dark] .colab-df-convert {\n",
              "      background-color: #3B4455;\n",
              "      fill: #D2E3FC;\n",
              "    }\n",
              "\n",
              "    [theme=dark] .colab-df-convert:hover {\n",
              "      background-color: #434B5C;\n",
              "      box-shadow: 0px 1px 3px 1px rgba(0, 0, 0, 0.15);\n",
              "      filter: drop-shadow(0px 1px 2px rgba(0, 0, 0, 0.3));\n",
              "      fill: #FFFFFF;\n",
              "    }\n",
              "  </style>\n",
              "\n",
              "      <script>\n",
              "        const buttonEl =\n",
              "          document.querySelector('#df-8b5c8796-0217-42b4-b4f4-f4cc22ae37f6 button.colab-df-convert');\n",
              "        buttonEl.style.display =\n",
              "          google.colab.kernel.accessAllowed ? 'block' : 'none';\n",
              "\n",
              "        async function convertToInteractive(key) {\n",
              "          const element = document.querySelector('#df-8b5c8796-0217-42b4-b4f4-f4cc22ae37f6');\n",
              "          const dataTable =\n",
              "            await google.colab.kernel.invokeFunction('convertToInteractive',\n",
              "                                                     [key], {});\n",
              "          if (!dataTable) return;\n",
              "\n",
              "          const docLinkHtml = 'Like what you see? Visit the ' +\n",
              "            '<a target=\"_blank\" href=https://colab.research.google.com/notebooks/data_table.ipynb>data table notebook</a>'\n",
              "            + ' to learn more about interactive tables.';\n",
              "          element.innerHTML = '';\n",
              "          dataTable['output_type'] = 'display_data';\n",
              "          await google.colab.output.renderOutput(dataTable, element);\n",
              "          const docLink = document.createElement('div');\n",
              "          docLink.innerHTML = docLinkHtml;\n",
              "          element.appendChild(docLink);\n",
              "        }\n",
              "      </script>\n",
              "    </div>\n",
              "  </div>\n",
              "  "
            ]
          },
          "metadata": {},
          "execution_count": 108
        }
      ]
    },
    {
      "cell_type": "markdown",
      "source": [
        "It took 342 seconds, meaning that the cross validation will take even longer time. Be freee to execute it."
      ],
      "metadata": {
        "id": "rHVLf0kSXBEf"
      }
    },
    {
      "cell_type": "code",
      "source": [
        "'''scores = cross_val_score(search, x, y, cv =KFold(n_splits=5, shuffle=True))\n",
        "\n",
        "score_rng_search= scores.mean()*100\n",
        "print(score_search, score_rng_search)'''"
      ],
      "metadata": {
        "id": "2C3p48ndah8L"
      },
      "execution_count": null,
      "outputs": []
    },
    {
      "cell_type": "code",
      "source": [
        "np.random.seed(SEED)\n",
        "\n",
        "grid = {\n",
        "    'max_depth': [3,5],\n",
        "    'min_samples_split': [32,64,128],\n",
        "    'min_samples_leaf': [32,64,128],\n",
        "    'criterion': ['gini', 'entropy'],\n",
        "    'n_estimators': [10, 100],\n",
        "    'bootstrap': [True, False]\n",
        "}\n",
        "\n",
        "time_0=time.time()\n",
        "search = RandomizedSearchCV(RandomForestClassifier(),grid,\n",
        "                            cv=KFold(n_splits=5, shuffle=True),\n",
        "                            n_iter=20)\n",
        "search.fit(x, y)\n",
        "results = pd.DataFrame(search.cv_results_)\n",
        "results.head()\n",
        "\n",
        "time_f=time.time()\n",
        "\n",
        "total_time_rng= time_f - time_0\n",
        "'''\n",
        "scores = cross_val_score(search, x, y, cv =KFold(n_splits=5, shuffle=True))\n",
        "\n",
        "score_rng_search= scores.mean()*100'''\n",
        "#it will take longer than 10 minutes..."
      ],
      "metadata": {
        "colab": {
          "base_uri": "https://localhost:8080/",
          "height": 52
        },
        "id": "dk9LVRPNcEXp",
        "outputId": "be434e02-8955-4810-b840-578ec2410e4b"
      },
      "execution_count": null,
      "outputs": [
        {
          "output_type": "execute_result",
          "data": {
            "text/plain": [
              "'\\nscores = cross_val_score(search, x, y, cv =KFold(n_splits=5, shuffle=True))\\n\\nscore_rng_search= scores.mean()*100'"
            ],
            "application/vnd.google.colaboratory.intrinsic+json": {
              "type": "string"
            }
          },
          "metadata": {},
          "execution_count": 184
        }
      ]
    },
    {
      "cell_type": "code",
      "source": [
        "print(f'The total time of random search was{total_time_rng}')\n",
        "print(f'The total time of grid search was{total_time}')"
      ],
      "metadata": {
        "colab": {
          "base_uri": "https://localhost:8080/"
        },
        "id": "HVImS-HFhv_F",
        "outputId": "a351e212-3dff-40a9-a88b-7d82fef2a7a8"
      },
      "execution_count": null,
      "outputs": [
        {
          "output_type": "stream",
          "name": "stdout",
          "text": [
            "The total time of random search was52.33719182014465\n",
            "The total time of grid search was342.06605076789856\n"
          ]
        }
      ]
    },
    {
      "cell_type": "markdown",
      "source": [
        "So random search performed better, considering the time it took. Based on all the other optimizations done, all the results didn't differ that much, and the validation takes too much computational power. There is another way to do optimization and return scores, but being faster than KFold and the others.\n",
        "\n",
        "This method can't be generalized to all datasets, but for dataset like this, and the condition of low computational power  it can be done."
      ],
      "metadata": {
        "id": "JcY1p_N6XMuC"
      }
    },
    {
      "cell_type": "markdown",
      "source": [
        "# Validation with less computacional capacity\n",
        "\n",
        "Using cross-validation there is no need to separate the data in train and test data. One can use all the data as a training set and predict it. Without cross-validation, it is required to do 3 separations of the data 60% for train, 20% for testing and 20% for validation."
      ],
      "metadata": {
        "id": "FMYCBuJe3tcO"
      }
    },
    {
      "cell_type": "code",
      "source": [
        "from sklearn.model_selection import StratifiedShuffleSplit\n",
        "np.random.seed(SEED)\n",
        "\n",
        "x_train_test, x_val, y_train_test, y_val = train_test_split(x, y, shuffle=True,\n",
        "                                                            test_size=0.2, stratify=y)\n",
        "\n",
        "grid = {\n",
        "    'max_depth': [3,5],\n",
        "    'min_samples_split': [32,64,128],\n",
        "    'min_samples_leaf': [32,64,128],\n",
        "    'criterion': ['gini', 'entropy'],\n",
        "    'n_estimators': [10, 100],\n",
        "    'bootstrap': [True, False]\n",
        "}\n",
        "split = StratifiedShuffleSplit(n_splits=1, test_size=0.25)\n",
        "#from the 0.8 train to get 0.2 one needs to use 0.25 test size\n",
        "\n",
        "time_0=time.time()\n",
        "search = RandomizedSearchCV(RandomForestClassifier(),grid,\n",
        "                            cv=KFold(n_splits=5, shuffle=True),\n",
        "                            n_iter=40)\n",
        "search.fit(x_train_test, y_train_test)\n",
        "results = pd.DataFrame(search.cv_results_)\n",
        "results.head()\n",
        "\n",
        "time_f=time.time()\n",
        "\n",
        "total_time_rng= time_f - time_0\n",
        "print(f'The total time of random search was{total_time}')"
      ],
      "metadata": {
        "id": "nnOVH68p4CXY"
      },
      "execution_count": null,
      "outputs": []
    },
    {
      "cell_type": "code",
      "source": [
        "time_0=time.time()\n",
        "scores = cross_val_score(search, x_val, y_val, cv =split)\n",
        "\n",
        "time_f=time.time()\n",
        "total_time= time_f - time_0\n",
        "\n",
        "print(f'The total time of random search was {total_time:.3f}, and the score was {scores.mean()*100:.3f}')"
      ],
      "metadata": {
        "colab": {
          "base_uri": "https://localhost:8080/"
        },
        "id": "kGNQGDCJ9gEK",
        "outputId": "a047988b-519f-4a83-a31b-4bfff887ea1f"
      },
      "execution_count": null,
      "outputs": [
        {
          "output_type": "stream",
          "name": "stdout",
          "text": [
            "The total time of random search was 39.493, and the score was 77.600\n"
          ]
        }
      ]
    },
    {
      "cell_type": "markdown",
      "source": [
        "We lost some of the scores, but that is paid by the time, which was almost 10 times less, compared to the 342 seconds of the random search done earlier."
      ],
      "metadata": {
        "id": "Yf8mI8Y_-S2-"
      }
    },
    {
      "cell_type": "markdown",
      "source": [
        "# Final considerations\n",
        "\n",
        "The optimization process can be done. Sometimes it results in models that do not increase significantly the validation scores.\n",
        "\n",
        "There are plenty of ways to ease and make a faster optimization of hyperparameters. Here one explored some of the ways."
      ],
      "metadata": {
        "id": "RoZYVBuV_LkD"
      }
    }
  ]
}