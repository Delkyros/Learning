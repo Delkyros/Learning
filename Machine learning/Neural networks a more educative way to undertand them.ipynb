{
 "cells": [
  {
   "cell_type": "markdown",
   "metadata": {},
   "source": [
    "# Introduction\n",
    "\n",
    "This notebook will teach one how to build a neural network using only Pandas, Numpy and matplotlib. Here one can learn the math and the code behind the tensorflow.keras framework."
   ]
  },
  {
   "cell_type": "markdown",
   "metadata": {},
   "source": [
    "# Dataset \n",
    "\n",
    "Since this notebook will be for education purposes one will be using the MNIST dataset (https://www.kaggle.com/competitions/digit-recognizer/data). The main objective is to create a model to recognize digits."
   ]
  },
  {
   "cell_type": "markdown",
   "metadata": {},
   "source": [
    "# Imports "
   ]
  },
  {
   "cell_type": "code",
   "execution_count": 41,
   "metadata": {},
   "outputs": [],
   "source": [
    "import pandas as pd\n",
    "import numpy as np\n",
    "import matplotlib.pyplot as plt"
   ]
  },
  {
   "cell_type": "markdown",
   "metadata": {},
   "source": [
    "# Starting"
   ]
  },
  {
   "cell_type": "code",
   "execution_count": 42,
   "metadata": {},
   "outputs": [
    {
     "name": "stdout",
     "output_type": "stream",
     "text": [
      "42000 785\n"
     ]
    }
   ],
   "source": [
    "train = pd.read_csv('train.csv')\n",
    "train = np.array(train)\n",
    "# shuffling data to avoid overfitting\n",
    "np.random.shuffle(train)\n",
    "\n",
    "\n",
    "# geting the number of rows and columns\n",
    "rows, columns = train.shape\n",
    "print(rows, columns)"
   ]
  },
  {
   "cell_type": "code",
   "execution_count": 43,
   "metadata": {},
   "outputs": [],
   "source": [
    "# spliting the data\n",
    "#test\n",
    "train_dev = train[0:1000].T # transposing to make columns out of the rows\n",
    "Y_dev = train_dev[0]\n",
    "X_dev = train_dev[1:columns]\n",
    "X_dev = X_dev / 255.\n",
    "\n",
    "#train\n",
    "data_train = train[1000:rows].T\n",
    "Y_train = data_train[0]\n",
    "X_train = data_train[1:columns]\n",
    "X_train = X_train / 255.\n",
    "_,m_train = X_train.shape"
   ]
  },
  {
   "cell_type": "code",
   "execution_count": 44,
   "metadata": {},
   "outputs": [
    {
     "name": "stdout",
     "output_type": "stream",
     "text": [
      "(41000,)\n",
      "(784,)\n"
     ]
    }
   ],
   "source": [
    "print(X_train[0].shape)\n",
    "print(X_train[:,0].shape)"
   ]
  },
  {
   "cell_type": "markdown",
   "metadata": {},
   "source": [
    "## Defining all the functions that a neural network use"
   ]
  },
  {
   "cell_type": "code",
   "execution_count": 99,
   "metadata": {},
   "outputs": [],
   "source": [
    "def init_params():\n",
    "    #layer 1\n",
    "    w1 = np.random.rand(50, 784) - 0.5\n",
    "    b1 = np.random.rand(50, 1) - 0.5\n",
    "    #layer 2\n",
    "    w2 = np.random.rand(50, 50) - 0.5\n",
    "    b2 = np.random.rand(50, 1) - 0.5\n",
    "    #layer 3\n",
    "    w3 = np.random.rand(10, 50) - 0.5\n",
    "    b3 = np.random.rand(10, 1) - 0.5\n",
    "    return w1, b1, w2, b2, w3, b3\n",
    "\n",
    "def forward_propagation(w1, b1, w2, b2, w3, b3, X):\n",
    "    z1 = w1.dot(X) + b1\n",
    "    a1 = activation_ReLU(z1)\n",
    "    z2 = w2.dot(a1) + b2\n",
    "    a2 = activation_ReLU(z2)\n",
    "    z3 = w3.dot(a2) + b3\n",
    "    a3 = activation_softmax(z3)\n",
    "    return z1, a1, z2, a2, z3, a3\n",
    "\n",
    "def backward_propagation(z1, a1, z2, a2, z3, a3, w1, w2, w3, X, Y):\n",
    "    one_hot_encoded_Y = one_hot_encode(Y)\n",
    "    dz3 = a3 - one_hot_encoded_Y\n",
    "    dw3 = 1 / X.shape[1] * dz3.dot(a2.T)\n",
    "    db3 = 1 / X.shape[1] * np.sum(dz3)\n",
    "    dz2 = w3.T.dot(dz3) * activation_ReLU_deriv(z2)\n",
    "    dw2 = 1 / X.shape[1] * dz2.dot(a1.T)\n",
    "    db2 = 1 / X.shape[1] * np.sum(dz2)\n",
    "    dz1 = w2.T.dot(dz2) * activation_ReLU_deriv(z1)\n",
    "    dw1 = 1 / X.shape[1] * dz1.dot(X.T)\n",
    "    db1 = 1 / X.shape[1] * np.sum(dz1)\n",
    "    return dw1, db1, dw2, db2, dw3, db3\n",
    "\n",
    "def activation_ReLU(z):\n",
    "    return np.maximum(z, 0)\n",
    "\n",
    "def activation_softmax(z):\n",
    "    a = np.exp(z) / sum(np.exp(z))\n",
    "    return a\n",
    "\n",
    "def activation_ReLU_deriv(z):\n",
    "    return z > 0\n",
    "\n",
    "def one_hot_encode(Y):\n",
    "    one_hot_encoded_Y = np.zeros((Y.size, Y.max() + 1))\n",
    "    one_hot_encoded_Y[np.arange(Y.size), Y] = 1\n",
    "    one_hot_encoded_Y = one_hot_encoded_Y.T\n",
    "    return one_hot_encoded_Y\n",
    "\n",
    "def update_params(w1, b1, w2, b2, w3, b3, dw1, db1, dw2, db2, dw3, db3, alpha):\n",
    "    w1 = w1 - alpha * dw1\n",
    "    b1 = b1 - alpha * db1    \n",
    "    w2 = w2 - alpha * dw2  \n",
    "    b2 = b2 - alpha * db2\n",
    "    w3 = w3 - alpha * dw3\n",
    "    b3 = b3 - alpha * db3\n",
    "    return w1, b1, w2, b2, w3, b3\n",
    "\n",
    "    \n",
    "def get_predictions(a2):\n",
    "    return np.argmax(a2, 0)\n",
    "\n",
    "def get_accuracy(predictions, Y):\n",
    "    print(predictions, Y)\n",
    "    return np.sum(predictions == Y) / Y.size\n",
    "\n",
    "def gradient_descent(X, Y, alpha, iterations):\n",
    "    w1, b1, w2, b2, w3, b3 = init_params()\n",
    "    iteration_accuracy = []  # To store (iteration, accuracy) pairs\n",
    "\n",
    "    for i in range(iterations):\n",
    "        z1, a1, z2, a2, z3, a3 = forward_propagation(w1, b1, w2, b2, w3, b3, X)\n",
    "        dw1, db1, dw2, db2, dw3, db3 = backward_propagation(z1, a1, z2, a2, z3, a3, w1, w2, w3, X, Y)\n",
    "        w1, b1, w2, b2, w3, b3 = update_params(w1, b1, w2, b2, w3, b3, dw1, db1, dw2, db2, dw3, db3, alpha)\n",
    "        if i % 1 == 0:\n",
    "            print(f\"Current Iteration: {i}\")\n",
    "            predictions = get_predictions(a3)\n",
    "            accuracy = get_accuracy(predictions, Y)\n",
    "            print(f'Current accuracy {accuracy:.2f}')\n",
    "            iteration_accuracy.append((i, accuracy))\n",
    "\n",
    "    return w1, b1, w2, b2, w3, b3, iteration_accuracy"
   ]
  },
  {
   "cell_type": "markdown",
   "metadata": {},
   "source": [
    "## Results and explanations"
   ]
  },
  {
   "cell_type": "code",
   "execution_count": 100,
   "metadata": {},
   "outputs": [
    {
     "name": "stdout",
     "output_type": "stream",
     "text": [
      "Current Iteration: 0\n",
      "[4 7 4 ... 4 4 4] [9 0 8 ... 4 0 5]\n",
      "Current accuracy 0.07\n",
      "Current Iteration: 1\n",
      "[5 7 5 ... 3 8 5] [9 0 8 ... 4 0 5]\n",
      "Current accuracy 0.13\n",
      "Current Iteration: 2\n",
      "[8 8 0 ... 0 8 6] [9 0 8 ... 4 0 5]\n",
      "Current accuracy 0.15\n",
      "Current Iteration: 3\n",
      "[8 8 0 ... 0 8 5] [9 0 8 ... 4 0 5]\n",
      "Current accuracy 0.20\n",
      "Current Iteration: 4\n",
      "[8 8 0 ... 0 8 5] [9 0 8 ... 4 0 5]\n",
      "Current accuracy 0.23\n",
      "Current Iteration: 5\n",
      "[8 8 0 ... 0 8 5] [9 0 8 ... 4 0 5]\n",
      "Current accuracy 0.26\n",
      "Current Iteration: 6\n",
      "[8 8 0 ... 0 8 5] [9 0 8 ... 4 0 5]\n",
      "Current accuracy 0.28\n",
      "Current Iteration: 7\n",
      "[8 8 0 ... 0 8 5] [9 0 8 ... 4 0 5]\n",
      "Current accuracy 0.30\n",
      "Current Iteration: 8\n",
      "[8 8 0 ... 0 8 5] [9 0 8 ... 4 0 5]\n",
      "Current accuracy 0.32\n",
      "Current Iteration: 9\n",
      "[8 0 0 ... 0 8 5] [9 0 8 ... 4 0 5]\n",
      "Current accuracy 0.33\n",
      "Current Iteration: 10\n",
      "[8 0 0 ... 0 8 5] [9 0 8 ... 4 0 5]\n",
      "Current accuracy 0.35\n",
      "Current Iteration: 11\n",
      "[8 0 0 ... 0 8 5] [9 0 8 ... 4 0 5]\n",
      "Current accuracy 0.37\n",
      "Current Iteration: 12\n",
      "[8 0 0 ... 0 8 5] [9 0 8 ... 4 0 5]\n",
      "Current accuracy 0.39\n",
      "Current Iteration: 13\n",
      "[8 0 0 ... 4 8 5] [9 0 8 ... 4 0 5]\n",
      "Current accuracy 0.40\n",
      "Current Iteration: 14\n",
      "[8 0 0 ... 4 8 5] [9 0 8 ... 4 0 5]\n",
      "Current accuracy 0.42\n",
      "Current Iteration: 15\n",
      "[9 0 0 ... 4 8 5] [9 0 8 ... 4 0 5]\n",
      "Current accuracy 0.43\n",
      "Current Iteration: 16\n",
      "[9 0 0 ... 4 8 5] [9 0 8 ... 4 0 5]\n",
      "Current accuracy 0.44\n",
      "Current Iteration: 17\n",
      "[9 0 0 ... 4 8 5] [9 0 8 ... 4 0 5]\n",
      "Current accuracy 0.46\n",
      "Current Iteration: 18\n",
      "[9 0 0 ... 4 8 5] [9 0 8 ... 4 0 5]\n",
      "Current accuracy 0.47\n",
      "Current Iteration: 19\n",
      "[9 0 0 ... 4 8 5] [9 0 8 ... 4 0 5]\n",
      "Current accuracy 0.48\n",
      "Current Iteration: 20\n",
      "[9 0 0 ... 4 8 5] [9 0 8 ... 4 0 5]\n",
      "Current accuracy 0.49\n",
      "Current Iteration: 21\n",
      "[9 0 0 ... 4 8 5] [9 0 8 ... 4 0 5]\n",
      "Current accuracy 0.50\n",
      "Current Iteration: 22\n",
      "[9 0 0 ... 4 8 5] [9 0 8 ... 4 0 5]\n",
      "Current accuracy 0.52\n",
      "Current Iteration: 23\n",
      "[9 0 0 ... 4 8 5] [9 0 8 ... 4 0 5]\n",
      "Current accuracy 0.53\n",
      "Current Iteration: 24\n",
      "[9 0 0 ... 4 8 5] [9 0 8 ... 4 0 5]\n",
      "Current accuracy 0.53\n",
      "Current Iteration: 25\n",
      "[9 0 0 ... 4 8 5] [9 0 8 ... 4 0 5]\n",
      "Current accuracy 0.54\n",
      "Current Iteration: 26\n",
      "[9 0 0 ... 4 8 5] [9 0 8 ... 4 0 5]\n",
      "Current accuracy 0.55\n",
      "Current Iteration: 27\n",
      "[9 0 0 ... 4 8 5] [9 0 8 ... 4 0 5]\n",
      "Current accuracy 0.56\n",
      "Current Iteration: 28\n",
      "[9 0 0 ... 4 8 5] [9 0 8 ... 4 0 5]\n",
      "Current accuracy 0.57\n",
      "Current Iteration: 29\n",
      "[9 0 0 ... 4 8 5] [9 0 8 ... 4 0 5]\n",
      "Current accuracy 0.57\n",
      "Current Iteration: 30\n",
      "[9 0 0 ... 4 8 5] [9 0 8 ... 4 0 5]\n",
      "Current accuracy 0.58\n",
      "Current Iteration: 31\n",
      "[9 0 0 ... 4 8 5] [9 0 8 ... 4 0 5]\n",
      "Current accuracy 0.59\n",
      "Current Iteration: 32\n",
      "[9 0 0 ... 4 8 5] [9 0 8 ... 4 0 5]\n",
      "Current accuracy 0.59\n",
      "Current Iteration: 33\n",
      "[9 0 0 ... 4 8 5] [9 0 8 ... 4 0 5]\n",
      "Current accuracy 0.60\n",
      "Current Iteration: 34\n",
      "[9 0 0 ... 4 8 5] [9 0 8 ... 4 0 5]\n",
      "Current accuracy 0.61\n",
      "Current Iteration: 35\n",
      "[9 0 0 ... 4 8 5] [9 0 8 ... 4 0 5]\n",
      "Current accuracy 0.61\n",
      "Current Iteration: 36\n",
      "[9 0 0 ... 4 8 5] [9 0 8 ... 4 0 5]\n",
      "Current accuracy 0.62\n",
      "Current Iteration: 37\n",
      "[9 0 8 ... 4 8 5] [9 0 8 ... 4 0 5]\n",
      "Current accuracy 0.63\n",
      "Current Iteration: 38\n",
      "[9 0 8 ... 4 8 5] [9 0 8 ... 4 0 5]\n",
      "Current accuracy 0.63\n",
      "Current Iteration: 39\n",
      "[9 0 8 ... 4 0 5] [9 0 8 ... 4 0 5]\n",
      "Current accuracy 0.64\n",
      "Current Iteration: 40\n",
      "[9 0 8 ... 4 0 5] [9 0 8 ... 4 0 5]\n",
      "Current accuracy 0.64\n",
      "Current Iteration: 41\n",
      "[9 0 8 ... 4 0 5] [9 0 8 ... 4 0 5]\n",
      "Current accuracy 0.65\n",
      "Current Iteration: 42\n",
      "[9 0 8 ... 4 0 5] [9 0 8 ... 4 0 5]\n",
      "Current accuracy 0.65\n",
      "Current Iteration: 43\n",
      "[9 0 8 ... 4 0 5] [9 0 8 ... 4 0 5]\n",
      "Current accuracy 0.65\n",
      "Current Iteration: 44\n",
      "[9 0 8 ... 4 0 5] [9 0 8 ... 4 0 5]\n",
      "Current accuracy 0.66\n",
      "Current Iteration: 45\n",
      "[9 0 8 ... 4 0 5] [9 0 8 ... 4 0 5]\n",
      "Current accuracy 0.66\n",
      "Current Iteration: 46\n",
      "[9 0 8 ... 4 0 5] [9 0 8 ... 4 0 5]\n",
      "Current accuracy 0.67\n",
      "Current Iteration: 47\n",
      "[9 0 8 ... 4 0 5] [9 0 8 ... 4 0 5]\n",
      "Current accuracy 0.67\n",
      "Current Iteration: 48\n",
      "[9 0 8 ... 4 0 5] [9 0 8 ... 4 0 5]\n",
      "Current accuracy 0.68\n",
      "Current Iteration: 49\n",
      "[9 0 8 ... 4 0 5] [9 0 8 ... 4 0 5]\n",
      "Current accuracy 0.68\n",
      "Current Iteration: 50\n",
      "[9 0 8 ... 4 0 5] [9 0 8 ... 4 0 5]\n",
      "Current accuracy 0.68\n",
      "Current Iteration: 51\n",
      "[9 0 8 ... 4 0 5] [9 0 8 ... 4 0 5]\n",
      "Current accuracy 0.69\n",
      "Current Iteration: 52\n",
      "[9 0 8 ... 4 0 5] [9 0 8 ... 4 0 5]\n",
      "Current accuracy 0.69\n",
      "Current Iteration: 53\n",
      "[9 0 8 ... 4 0 5] [9 0 8 ... 4 0 5]\n",
      "Current accuracy 0.69\n",
      "Current Iteration: 54\n",
      "[9 0 8 ... 4 0 5] [9 0 8 ... 4 0 5]\n",
      "Current accuracy 0.70\n",
      "Current Iteration: 55\n",
      "[9 0 8 ... 4 0 5] [9 0 8 ... 4 0 5]\n",
      "Current accuracy 0.70\n",
      "Current Iteration: 56\n",
      "[9 0 8 ... 4 0 5] [9 0 8 ... 4 0 5]\n",
      "Current accuracy 0.70\n",
      "Current Iteration: 57\n",
      "[9 0 8 ... 4 0 5] [9 0 8 ... 4 0 5]\n",
      "Current accuracy 0.71\n",
      "Current Iteration: 58\n",
      "[9 0 8 ... 4 0 5] [9 0 8 ... 4 0 5]\n",
      "Current accuracy 0.71\n",
      "Current Iteration: 59\n",
      "[9 0 8 ... 4 0 5] [9 0 8 ... 4 0 5]\n",
      "Current accuracy 0.71\n",
      "Current Iteration: 60\n",
      "[9 0 8 ... 4 0 5] [9 0 8 ... 4 0 5]\n",
      "Current accuracy 0.72\n",
      "Current Iteration: 61\n",
      "[9 0 8 ... 4 0 5] [9 0 8 ... 4 0 5]\n",
      "Current accuracy 0.72\n",
      "Current Iteration: 62\n",
      "[9 0 8 ... 4 0 5] [9 0 8 ... 4 0 5]\n",
      "Current accuracy 0.72\n",
      "Current Iteration: 63\n",
      "[9 0 8 ... 4 0 5] [9 0 8 ... 4 0 5]\n",
      "Current accuracy 0.72\n",
      "Current Iteration: 64\n",
      "[9 0 8 ... 4 0 5] [9 0 8 ... 4 0 5]\n",
      "Current accuracy 0.73\n",
      "Current Iteration: 65\n",
      "[9 0 8 ... 4 0 5] [9 0 8 ... 4 0 5]\n",
      "Current accuracy 0.73\n",
      "Current Iteration: 66\n",
      "[9 0 8 ... 4 0 5] [9 0 8 ... 4 0 5]\n",
      "Current accuracy 0.73\n",
      "Current Iteration: 67\n",
      "[9 0 8 ... 4 0 5] [9 0 8 ... 4 0 5]\n",
      "Current accuracy 0.73\n",
      "Current Iteration: 68\n",
      "[9 0 8 ... 4 0 5] [9 0 8 ... 4 0 5]\n",
      "Current accuracy 0.73\n",
      "Current Iteration: 69\n",
      "[9 0 8 ... 4 0 5] [9 0 8 ... 4 0 5]\n",
      "Current accuracy 0.74\n",
      "Current Iteration: 70\n",
      "[9 0 8 ... 4 0 5] [9 0 8 ... 4 0 5]\n",
      "Current accuracy 0.74\n",
      "Current Iteration: 71\n",
      "[9 0 8 ... 4 0 5] [9 0 8 ... 4 0 5]\n",
      "Current accuracy 0.74\n",
      "Current Iteration: 72\n",
      "[9 0 8 ... 4 0 5] [9 0 8 ... 4 0 5]\n",
      "Current accuracy 0.74\n",
      "Current Iteration: 73\n",
      "[9 0 8 ... 4 0 5] [9 0 8 ... 4 0 5]\n",
      "Current accuracy 0.75\n",
      "Current Iteration: 74\n",
      "[9 0 8 ... 4 0 5] [9 0 8 ... 4 0 5]\n",
      "Current accuracy 0.75\n",
      "Current Iteration: 75\n",
      "[9 0 8 ... 4 0 5] [9 0 8 ... 4 0 5]\n",
      "Current accuracy 0.75\n",
      "Current Iteration: 76\n",
      "[9 0 8 ... 4 0 5] [9 0 8 ... 4 0 5]\n",
      "Current accuracy 0.75\n",
      "Current Iteration: 77\n",
      "[9 0 8 ... 4 0 5] [9 0 8 ... 4 0 5]\n",
      "Current accuracy 0.75\n",
      "Current Iteration: 78\n",
      "[9 0 8 ... 4 0 5] [9 0 8 ... 4 0 5]\n",
      "Current accuracy 0.76\n",
      "Current Iteration: 79\n",
      "[9 0 8 ... 4 0 5] [9 0 8 ... 4 0 5]\n",
      "Current accuracy 0.76\n",
      "Current Iteration: 80\n",
      "[9 0 8 ... 4 0 5] [9 0 8 ... 4 0 5]\n",
      "Current accuracy 0.76\n",
      "Current Iteration: 81\n",
      "[9 0 8 ... 4 0 5] [9 0 8 ... 4 0 5]\n",
      "Current accuracy 0.76\n",
      "Current Iteration: 82\n",
      "[9 0 8 ... 4 0 5] [9 0 8 ... 4 0 5]\n",
      "Current accuracy 0.76\n",
      "Current Iteration: 83\n",
      "[9 0 8 ... 4 0 5] [9 0 8 ... 4 0 5]\n",
      "Current accuracy 0.77\n",
      "Current Iteration: 84\n",
      "[9 0 8 ... 4 0 5] [9 0 8 ... 4 0 5]\n",
      "Current accuracy 0.77\n",
      "Current Iteration: 85\n",
      "[9 0 8 ... 4 0 5] [9 0 8 ... 4 0 5]\n",
      "Current accuracy 0.77\n",
      "Current Iteration: 86\n",
      "[9 0 8 ... 4 0 5] [9 0 8 ... 4 0 5]\n",
      "Current accuracy 0.77\n",
      "Current Iteration: 87\n",
      "[9 0 8 ... 4 0 5] [9 0 8 ... 4 0 5]\n",
      "Current accuracy 0.77\n",
      "Current Iteration: 88\n",
      "[9 0 8 ... 4 0 5] [9 0 8 ... 4 0 5]\n",
      "Current accuracy 0.77\n",
      "Current Iteration: 89\n",
      "[9 0 8 ... 4 0 5] [9 0 8 ... 4 0 5]\n",
      "Current accuracy 0.77\n",
      "Current Iteration: 90\n",
      "[9 0 8 ... 4 0 5] [9 0 8 ... 4 0 5]\n",
      "Current accuracy 0.78\n",
      "Current Iteration: 91\n",
      "[9 0 8 ... 4 0 5] [9 0 8 ... 4 0 5]\n",
      "Current accuracy 0.78\n",
      "Current Iteration: 92\n",
      "[9 0 8 ... 4 0 5] [9 0 8 ... 4 0 5]\n",
      "Current accuracy 0.78\n",
      "Current Iteration: 93\n",
      "[9 0 8 ... 4 0 5] [9 0 8 ... 4 0 5]\n",
      "Current accuracy 0.78\n",
      "Current Iteration: 94\n",
      "[9 0 8 ... 4 0 5] [9 0 8 ... 4 0 5]\n",
      "Current accuracy 0.78\n",
      "Current Iteration: 95\n",
      "[9 0 8 ... 4 0 5] [9 0 8 ... 4 0 5]\n",
      "Current accuracy 0.78\n",
      "Current Iteration: 96\n",
      "[9 0 8 ... 4 0 5] [9 0 8 ... 4 0 5]\n",
      "Current accuracy 0.78\n",
      "Current Iteration: 97\n",
      "[9 0 8 ... 4 0 5] [9 0 8 ... 4 0 5]\n",
      "Current accuracy 0.78\n",
      "Current Iteration: 98\n",
      "[9 0 8 ... 4 0 5] [9 0 8 ... 4 0 5]\n",
      "Current accuracy 0.79\n",
      "Current Iteration: 99\n",
      "[9 0 8 ... 4 0 5] [9 0 8 ... 4 0 5]\n",
      "Current accuracy 0.79\n"
     ]
    }
   ],
   "source": [
    "w1, b1, w2, b2, w3, b3, iteration_accuracy = gradient_descent(X_train, Y_train, 0.1, 100)"
   ]
  },
  {
   "cell_type": "markdown",
   "metadata": {},
   "source": [
    "After 100 epochs the model was able to achieve 0.80 accuracy."
   ]
  },
  {
   "cell_type": "code",
   "execution_count": 114,
   "metadata": {},
   "outputs": [
    {
     "data": {
      "image/png": "[encoded data removed]",
      "text/plain": [
       "<Figure size 640x480 with 1 Axes>"
      ]
     },
     "metadata": {},
     "output_type": "display_data"
    }
   ],
   "source": [
    "iterations, accuracies = zip(*iteration_accuracy)\n",
    "\n",
    "plt.plot(iterations, accuracies, marker='o')\n",
    "plt.title('Accuracy vs. Iteration')\n",
    "plt.xlabel('Iteration')\n",
    "plt.ylabel('Accuracy')\n",
    "plt.grid(True)\n",
    "plt.show()"
   ]
  },
  {
   "cell_type": "code",
   "execution_count": 76,
   "metadata": {},
   "outputs": [],
   "source": [
    "def model_predict(X, w1, b1, w2, b2, w3, b3):\n",
    "    _, _, _, _, _, a2 = forward_propagation(w1, b1, w2, b2, w3, b3, X)\n",
    "    predictions = get_predictions(a2)\n",
    "    return predictions\n",
    "\n",
    "def test_prediction(index, w1, b1, w2, b2, w3, b3):\n",
    "    current_digit_image = X_train[:, index, None]\n",
    "    prediction = model_predict(X_train[:, index, None], w1, b1, w2, b2, w3, b3)\n",
    "    label = Y_train[index]\n",
    "    print(\"Prediction: \", prediction)\n",
    "    print(\"Label: \", label)\n",
    "    \n",
    "    current_digit_image = current_digit_image.reshape((28, 28)) * 255\n",
    "    plt.gray()\n",
    "    plt.imshow(current_digit_image, interpolation='nearest')\n",
    "    plt.show()"
   ]
  },
  {
   "cell_type": "code",
   "execution_count": 77,
   "metadata": {},
   "outputs": [
    {
     "name": "stdout",
     "output_type": "stream",
     "text": [
      "Prediction:  [9]\n",
      "Label:  9\n"
     ]
    },
    {
     "data": {
      "image/png": "[encoded data removed]",
      "text/plain": [
       "<Figure size 640x480 with 1 Axes>"
      ]
     },
     "metadata": {},
     "output_type": "display_data"
    },
    {
     "name": "stdout",
     "output_type": "stream",
     "text": [
      "Prediction:  [0]\n",
      "Label:  0\n"
     ]
    },
    {
     "data": {
      "image/png": "[encoded data removed]",
      "text/plain": [
       "<Figure size 640x480 with 1 Axes>"
      ]
     },
     "metadata": {},
     "output_type": "display_data"
    },
    {
     "name": "stdout",
     "output_type": "stream",
     "text": [
      "Prediction:  [8]\n",
      "Label:  8\n"
     ]
    },
    {
     "data": {
      "image/png": "[encoded data removed]",
      "text/plain": [
       "<Figure size 640x480 with 1 Axes>"
      ]
     },
     "metadata": {},
     "output_type": "display_data"
    },
    {
     "name": "stdout",
     "output_type": "stream",
     "text": [
      "Prediction:  [8]\n",
      "Label:  4\n"
     ]
    },
    {
     "data": {
      "image/png": "[encoded data removed]",
      "text/plain": [
       "<Figure size 640x480 with 1 Axes>"
      ]
     },
     "metadata": {},
     "output_type": "display_data"
    }
   ],
   "source": [
    "test_prediction(0, w1, b1, w2, b2, w3, b3)\n",
    "test_prediction(1, w1, b1, w2, b2, w3, b3)\n",
    "test_prediction(2, w1, b1, w2, b2, w3, b3)\n",
    "test_prediction(3, w1, b1, w2, b2, w3, b3)"
   ]
  },
  {
   "cell_type": "markdown",
   "metadata": {},
   "source": [
    "As expected the model was 75% correct in this test. "
   ]
  },
  {
   "cell_type": "markdown",
   "metadata": {},
   "source": [
    "# Checking if the model converged\n",
    "\n",
    "This final test, will allow one to see if the accuracy of the model is trully what its value shows. Now the model will try to predict the data of the dev dataset, separated before."
   ]
  },
  {
   "cell_type": "code",
   "execution_count": 79,
   "metadata": {},
   "outputs": [
    {
     "name": "stdout",
     "output_type": "stream",
     "text": [
      "[5 7 6 2 1 7 0 2 6 4 4 7 2 2 9 6 3 6 5 2 7 9 4 2 9 3 1 8 2 2 0 8 6 5 4 4 5\n",
      " 1 5 9 6 0 1 0 7 7 2 1 7 6 0 8 1 8 3 4 8 0 2 4 0 2 2 5 9 7 1 6 9 0 9 0 0 1\n",
      " 4 0 5 2 4 4 3 4 2 9 4 1 1 6 1 1 4 2 9 4 0 5 9 2 7 9 8 7 2 3 7 1 0 3 1 0 4\n",
      " 8 3 2 9 6 4 2 8 4 0 4 9 9 2 7 0 6 7 0 9 5 9 3 8 2 3 3 2 8 1 1 3 7 8 3 5 3\n",
      " 2 0 1 1 9 1 1 0 8 4 4 1 4 8 6 7 8 9 1 5 5 0 1 8 2 4 2 5 2 8 8 7 5 8 2 8 5\n",
      " 1 1 9 2 6 5 3 7 9 8 2 4 5 2 1 7 4 9 0 2 2 5 0 2 7 0 9 3 5 0 7 8 2 7 3 9 9\n",
      " 9 7 1 3 5 1 8 9 6 4 7 6 9 1 1 5 5 7 0 7 0 1 5 4 6 8 1 0 3 8 4 1 9 1 1 6 0\n",
      " 6 5 1 2 3 5 9 3 7 0 5 1 9 0 2 0 1 0 7 1 4 8 4 0 2 9 9 1 7 9 6 8 2 8 8 3 7\n",
      " 2 8 0 8 0 8 2 4 7 6 8 8 1 9 0 7 3 1 6 4 6 6 8 4 4 4 3 6 0 0 5 7 6 1 2 8 7\n",
      " 6 1 9 3 5 4 5 1 7 9 7 3 4 3 3 3 2 6 7 0 9 8 6 4 5 7 6 6 4 7 8 7 0 7 5 3 0\n",
      " 6 7 1 9 8 1 8 5 5 8 4 3 9 0 1 6 7 7 2 6 8 1 7 1 8 8 5 7 2 0 7 4 9 7 8 6 1\n",
      " 0 1 1 6 9 4 4 6 9 1 4 0 5 2 6 3 5 2 1 3 6 9 5 9 4 3 1 0 0 3 9 4 3 6 9 6 7\n",
      " 4 0 3 1 0 9 9 4 0 6 8 0 7 1 7 0 5 5 2 9 6 5 2 2 2 1 5 8 3 6 3 1 8 7 9 2 1\n",
      " 4 5 3 1 5 2 2 9 6 4 1 7 8 2 1 0 9 3 6 9 9 1 4 4 1 2 7 6 3 6 4 4 8 9 1 5 8\n",
      " 9 4 0 1 7 4 3 1 2 0 8 4 2 3 4 8 6 3 8 6 2 4 6 4 0 7 0 5 1 9 0 0 5 9 8 4 3\n",
      " 8 2 2 3 5 3 5 4 6 3 7 5 1 1 6 4 9 1 9 7 3 1 4 2 3 3 2 5 5 2 9 2 0 7 1 7 6\n",
      " 9 3 2 1 5 5 1 9 5 7 5 2 2 1 6 0 1 9 6 0 4 5 4 7 1 3 4 9 0 6 0 5 1 4 0 8 6\n",
      " 0 4 1 0 1 4 9 7 1 8 0 4 3 7 8 8 9 6 0 9 8 8 7 5 2 0 4 2 9 2 6 6 0 0 4 8 9\n",
      " 7 7 8 4 1 3 1 2 1 6 9 6 1 9 3 2 3 7 7 8 4 2 6 7 9 1 9 3 7 1 4 1 8 7 8 3 3\n",
      " 9 3 7 1 1 0 9 3 9 3 0 2 2 0 8 8 3 3 4 0 8 8 9 6 3 8 6 9 9 9 0 0 7 1 8 9 2\n",
      " 3 0 6 6 4 4 3 3 9 8 1 9 8 2 1 0 1 0 6 6 7 0 7 7 9 0 3 7 9 5 8 4 8 6 4 7 8\n",
      " 4 6 9 5 9 2 4 5 2 5 6 3 9 7 4 2 5 1 0 1 7 8 7 1 0 8 8 4 7 1 1 2 6 3 3 8 9\n",
      " 3 8 7 8 1 7 4 5 8 4 1 7 7 5 9 9 2 7 6 1 5 9 4 9 3 9 3 1 7 4 4 3 5 6 2 8 5\n",
      " 1 7 8 1 4 2 9 4 4 2 8 8 9 7 9 8 1 2 0 5 5 0 8 6 3 6 9 7 1 9 7 0 4 7 8 7 3\n",
      " 0 0 3 1 5 3 7 2 5 8 3 7 1 3 2 8 5 5 1 6 4 7 5 9 7 6 7 9 6 2 8 7 4 5 4 1 8\n",
      " 8 6 7 0 7 0 6 7 0 2 3 0 9 8 3 3 4 2 5 5 8 4 4 8 3 4 0 9 3 9 1 1 8 6 3 9 7\n",
      " 1 1 9 2 4 2 3 6 9 1 9 9 4 9 7 5 0 2 3 7 1 8 0 9 9 8 3 8 5 7 0 3 2 5 0 7 4\n",
      " 1] [5 2 6 2 1 7 0 2 6 4 4 7 2 2 9 5 3 6 5 2 7 8 4 0 9 3 3 9 8 2 0 8 2 5 4 8 3\n",
      " 1 5 9 6 0 1 0 7 7 2 1 7 6 0 2 1 6 3 4 8 0 2 4 0 3 2 3 9 7 1 6 4 0 4 0 0 1\n",
      " 3 0 5 2 4 4 3 4 2 9 4 1 1 6 1 1 4 2 9 4 0 5 9 4 7 9 8 7 2 3 7 8 0 5 1 0 4\n",
      " 9 3 6 9 6 4 2 2 4 3 4 4 9 2 7 0 6 7 0 9 5 9 3 5 2 3 3 2 2 1 1 2 7 8 8 5 3\n",
      " 3 0 1 1 9 1 1 0 8 4 4 1 4 3 6 9 0 9 1 5 5 0 1 8 2 4 8 5 6 5 8 7 5 8 2 8 0\n",
      " 1 1 9 2 6 3 3 4 9 1 5 4 0 7 1 7 9 9 6 2 1 5 0 2 7 0 9 3 5 0 7 6 2 2 3 9 9\n",
      " 9 7 1 2 5 7 5 9 6 4 7 6 9 8 1 8 5 7 5 7 0 1 5 4 6 8 1 0 3 2 4 1 9 8 1 6 0\n",
      " 6 5 1 2 3 5 7 3 7 0 5 1 9 6 3 7 1 0 9 1 4 8 4 0 2 4 9 1 7 9 0 8 2 8 8 5 9\n",
      " 2 8 0 8 0 8 2 2 7 6 8 8 1 9 0 7 1 1 6 8 6 9 8 4 4 9 3 6 0 0 5 7 6 1 2 2 7\n",
      " 6 1 9 8 0 4 5 1 7 9 7 3 9 3 5 3 2 6 7 0 9 8 6 4 3 7 6 6 4 7 8 7 0 7 5 3 0\n",
      " 6 7 4 9 8 1 8 3 5 8 4 3 9 7 1 6 7 7 2 5 8 1 7 1 8 8 5 7 2 3 7 4 9 7 8 6 1\n",
      " 7 2 1 6 9 4 4 6 9 1 8 0 3 7 2 8 8 3 1 3 5 9 5 7 4 3 1 0 6 3 4 4 8 6 9 6 7\n",
      " 9 0 3 1 0 9 9 7 0 6 0 0 7 1 7 0 5 5 2 9 6 5 2 3 2 1 5 8 3 6 3 1 8 7 9 4 1\n",
      " 9 5 3 1 5 2 9 9 6 4 1 7 5 2 1 0 9 3 6 9 9 1 7 4 3 7 6 6 2 6 4 4 3 7 1 3 2\n",
      " 8 4 0 1 7 9 3 1 2 7 8 9 3 3 5 8 6 3 8 6 1 4 6 4 5 7 0 5 1 4 0 5 5 9 8 4 8\n",
      " 9 8 1 2 5 3 5 4 4 3 3 5 1 1 6 6 3 1 9 7 3 1 4 2 3 3 2 9 5 2 7 2 0 7 1 9 6\n",
      " 9 5 2 1 5 3 1 9 5 7 5 2 2 1 6 0 1 9 6 0 4 8 4 7 1 3 4 4 0 6 0 5 1 4 0 8 6\n",
      " 0 4 1 0 1 4 9 7 1 3 0 4 1 9 5 8 9 5 0 9 8 8 7 5 2 0 4 2 9 2 6 6 0 0 4 8 5\n",
      " 7 9 2 8 1 8 1 2 1 6 4 6 1 9 5 2 5 7 4 8 9 2 6 7 9 1 9 3 7 1 4 2 8 7 8 2 3\n",
      " 9 3 9 1 1 0 9 3 9 3 0 2 2 0 8 8 8 5 4 0 5 4 9 6 3 8 9 9 4 9 0 0 7 1 8 9 2\n",
      " 3 0 6 5 4 4 3 3 9 6 1 9 8 2 1 0 1 0 6 5 7 9 7 7 9 0 3 7 9 3 8 4 8 6 4 7 8\n",
      " 4 6 4 9 9 3 4 5 2 3 6 3 9 7 4 2 5 1 0 1 7 9 9 1 0 8 6 6 7 1 1 3 6 3 3 8 9\n",
      " 5 3 7 8 1 4 4 5 8 4 1 7 7 5 9 9 2 7 6 1 5 9 4 9 3 3 3 8 7 4 4 5 5 6 6 8 5\n",
      " 1 7 8 1 4 2 9 4 4 2 8 8 9 7 4 0 1 2 0 5 6 0 8 6 3 6 9 7 1 9 5 0 4 7 8 7 3\n",
      " 0 0 3 1 5 3 7 2 5 8 3 7 1 8 6 8 0 5 1 6 4 7 5 9 9 6 7 9 6 3 8 7 4 8 4 1 8\n",
      " 8 6 7 4 7 0 6 7 0 2 3 0 9 8 2 3 4 3 3 5 5 4 4 8 7 7 0 9 8 9 1 1 8 6 8 3 7\n",
      " 6 1 9 4 4 2 3 6 9 1 9 9 4 9 7 6 0 2 6 7 1 8 0 9 5 8 3 8 5 7 5 7 1 5 0 5 4\n",
      " 9]\n"
     ]
    },
    {
     "data": {
      "text/plain": [
       "0.787"
      ]
     },
     "execution_count": 79,
     "metadata": {},
     "output_type": "execute_result"
    }
   ],
   "source": [
    "dev_predictions = model_predict(X_dev, w1, b1, w2, b2, w3, b3)\n",
    "get_accuracy(dev_predictions, Y_dev)"
   ]
  },
  {
   "cell_type": "markdown",
   "metadata": {},
   "source": [
    "The accuracy for a non trained data is almost equal the one from the trained data, this confirms tha the the model converged!"
   ]
  }
 ],
 "metadata": {
  "kernelspec": {
   "display_name": "Python 3",
   "language": "python",
   "name": "python3"
  },
  "language_info": {
   "codemirror_mode": {
    "name": "ipython",
    "version": 3
   },
   "file_extension": ".py",
   "mimetype": "text/x-python",
   "name": "python",
   "nbconvert_exporter": "python",
   "pygments_lexer": "ipython3",
   "version": "3.11.6"
  }
 },
 "nbformat": 4,
 "nbformat_minor": 2
}
