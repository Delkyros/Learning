{
  "nbformat": 4,
  "nbformat_minor": 0,
  "metadata": {
    "colab": {
      "provenance": []
    },
    "kernelspec": {
      "name": "python3",
      "display_name": "Python 3"
    },
    "language_info": {
      "name": "python"
    }
  },
  "cells": [
    {
      "cell_type": "markdown",
      "source": [
        "# Introduction"
      ],
      "metadata": {
        "id": "0BK3zyFAQFOC"
      }
    },
    {
      "cell_type": "markdown",
      "source": [
        "What is the risk of a client not paying its credit card invoince in the next month?\n",
        "\n",
        "The clients will have 3 classificatons: High risk, average risk and low risk.\n",
        "\n",
        "One can also predict the behavior of the client using credit card.\n",
        "\n",
        "The dataset used will be https://www.kaggle.com/datasets/arjunbhasin2013/ccdata"
      ],
      "metadata": {
        "id": "dfrO9e06NtuE"
      }
    },
    {
      "cell_type": "markdown",
      "source": [
        "# Pre-Processing data"
      ],
      "metadata": {
        "id": "nJiT3PeuTdeP"
      }
    },
    {
      "cell_type": "code",
      "source": [
        "import pandas as pd\n",
        "data = pd.read_csv('CC GENERAL.csv')\n",
        "data.drop(columns=['CUST_ID','TENURE'], inplace=True)\n",
        "data.head()"
      ],
      "metadata": {
        "colab": {
          "base_uri": "https://localhost:8080/",
          "height": 270
        },
        "id": "z1F2LQxnN1w2",
        "outputId": "297da33e-658d-4ddb-9205-b12da1e5b060"
      },
      "execution_count": 70,
      "outputs": [
        {
          "output_type": "execute_result",
          "data": {
            "text/plain": [
              "       BALANCE  BALANCE_FREQUENCY  PURCHASES  ONEOFF_PURCHASES  \\\n",
              "0    40.900749           0.818182      95.40              0.00   \n",
              "1  3202.467416           0.909091       0.00              0.00   \n",
              "2  2495.148862           1.000000     773.17            773.17   \n",
              "3  1666.670542           0.636364    1499.00           1499.00   \n",
              "4   817.714335           1.000000      16.00             16.00   \n",
              "\n",
              "   INSTALLMENTS_PURCHASES  CASH_ADVANCE  PURCHASES_FREQUENCY  \\\n",
              "0                    95.4      0.000000             0.166667   \n",
              "1                     0.0   6442.945483             0.000000   \n",
              "2                     0.0      0.000000             1.000000   \n",
              "3                     0.0    205.788017             0.083333   \n",
              "4                     0.0      0.000000             0.083333   \n",
              "\n",
              "   ONEOFF_PURCHASES_FREQUENCY  PURCHASES_INSTALLMENTS_FREQUENCY  \\\n",
              "0                    0.000000                          0.083333   \n",
              "1                    0.000000                          0.000000   \n",
              "2                    1.000000                          0.000000   \n",
              "3                    0.083333                          0.000000   \n",
              "4                    0.083333                          0.000000   \n",
              "\n",
              "   CASH_ADVANCE_FREQUENCY  CASH_ADVANCE_TRX  PURCHASES_TRX  CREDIT_LIMIT  \\\n",
              "0                0.000000                 0              2        1000.0   \n",
              "1                0.250000                 4              0        7000.0   \n",
              "2                0.000000                 0             12        7500.0   \n",
              "3                0.083333                 1              1        7500.0   \n",
              "4                0.000000                 0              1        1200.0   \n",
              "\n",
              "      PAYMENTS  MINIMUM_PAYMENTS  PRC_FULL_PAYMENT  \n",
              "0   201.802084        139.509787          0.000000  \n",
              "1  4103.032597       1072.340217          0.222222  \n",
              "2   622.066742        627.284787          0.000000  \n",
              "3     0.000000               NaN          0.000000  \n",
              "4   678.334763        244.791237          0.000000  "
            ],
            "text/html": [
              "\n",
              "  <div id=\"df-fe39e561-6582-4d05-bf58-3343196079b1\">\n",
              "    <div class=\"colab-df-container\">\n",
              "      <div>\n",
              "<style scoped>\n",
              "    .dataframe tbody tr th:only-of-type {\n",
              "        vertical-align: middle;\n",
              "    }\n",
              "\n",
              "    .dataframe tbody tr th {\n",
              "        vertical-align: top;\n",
              "    }\n",
              "\n",
              "    .dataframe thead th {\n",
              "        text-align: right;\n",
              "    }\n",
              "</style>\n",
              "<table border=\"1\" class=\"dataframe\">\n",
              "  <thead>\n",
              "    <tr style=\"text-align: right;\">\n",
              "      <th></th>\n",
              "      <th>BALANCE</th>\n",
              "      <th>BALANCE_FREQUENCY</th>\n",
              "      <th>PURCHASES</th>\n",
              "      <th>ONEOFF_PURCHASES</th>\n",
              "      <th>INSTALLMENTS_PURCHASES</th>\n",
              "      <th>CASH_ADVANCE</th>\n",
              "      <th>PURCHASES_FREQUENCY</th>\n",
              "      <th>ONEOFF_PURCHASES_FREQUENCY</th>\n",
              "      <th>PURCHASES_INSTALLMENTS_FREQUENCY</th>\n",
              "      <th>CASH_ADVANCE_FREQUENCY</th>\n",
              "      <th>CASH_ADVANCE_TRX</th>\n",
              "      <th>PURCHASES_TRX</th>\n",
              "      <th>CREDIT_LIMIT</th>\n",
              "      <th>PAYMENTS</th>\n",
              "      <th>MINIMUM_PAYMENTS</th>\n",
              "      <th>PRC_FULL_PAYMENT</th>\n",
              "    </tr>\n",
              "  </thead>\n",
              "  <tbody>\n",
              "    <tr>\n",
              "      <th>0</th>\n",
              "      <td>40.900749</td>\n",
              "      <td>0.818182</td>\n",
              "      <td>95.40</td>\n",
              "      <td>0.00</td>\n",
              "      <td>95.4</td>\n",
              "      <td>0.000000</td>\n",
              "      <td>0.166667</td>\n",
              "      <td>0.000000</td>\n",
              "      <td>0.083333</td>\n",
              "      <td>0.000000</td>\n",
              "      <td>0</td>\n",
              "      <td>2</td>\n",
              "      <td>1000.0</td>\n",
              "      <td>201.802084</td>\n",
              "      <td>139.509787</td>\n",
              "      <td>0.000000</td>\n",
              "    </tr>\n",
              "    <tr>\n",
              "      <th>1</th>\n",
              "      <td>3202.467416</td>\n",
              "      <td>0.909091</td>\n",
              "      <td>0.00</td>\n",
              "      <td>0.00</td>\n",
              "      <td>0.0</td>\n",
              "      <td>6442.945483</td>\n",
              "      <td>0.000000</td>\n",
              "      <td>0.000000</td>\n",
              "      <td>0.000000</td>\n",
              "      <td>0.250000</td>\n",
              "      <td>4</td>\n",
              "      <td>0</td>\n",
              "      <td>7000.0</td>\n",
              "      <td>4103.032597</td>\n",
              "      <td>1072.340217</td>\n",
              "      <td>0.222222</td>\n",
              "    </tr>\n",
              "    <tr>\n",
              "      <th>2</th>\n",
              "      <td>2495.148862</td>\n",
              "      <td>1.000000</td>\n",
              "      <td>773.17</td>\n",
              "      <td>773.17</td>\n",
              "      <td>0.0</td>\n",
              "      <td>0.000000</td>\n",
              "      <td>1.000000</td>\n",
              "      <td>1.000000</td>\n",
              "      <td>0.000000</td>\n",
              "      <td>0.000000</td>\n",
              "      <td>0</td>\n",
              "      <td>12</td>\n",
              "      <td>7500.0</td>\n",
              "      <td>622.066742</td>\n",
              "      <td>627.284787</td>\n",
              "      <td>0.000000</td>\n",
              "    </tr>\n",
              "    <tr>\n",
              "      <th>3</th>\n",
              "      <td>1666.670542</td>\n",
              "      <td>0.636364</td>\n",
              "      <td>1499.00</td>\n",
              "      <td>1499.00</td>\n",
              "      <td>0.0</td>\n",
              "      <td>205.788017</td>\n",
              "      <td>0.083333</td>\n",
              "      <td>0.083333</td>\n",
              "      <td>0.000000</td>\n",
              "      <td>0.083333</td>\n",
              "      <td>1</td>\n",
              "      <td>1</td>\n",
              "      <td>7500.0</td>\n",
              "      <td>0.000000</td>\n",
              "      <td>NaN</td>\n",
              "      <td>0.000000</td>\n",
              "    </tr>\n",
              "    <tr>\n",
              "      <th>4</th>\n",
              "      <td>817.714335</td>\n",
              "      <td>1.000000</td>\n",
              "      <td>16.00</td>\n",
              "      <td>16.00</td>\n",
              "      <td>0.0</td>\n",
              "      <td>0.000000</td>\n",
              "      <td>0.083333</td>\n",
              "      <td>0.083333</td>\n",
              "      <td>0.000000</td>\n",
              "      <td>0.000000</td>\n",
              "      <td>0</td>\n",
              "      <td>1</td>\n",
              "      <td>1200.0</td>\n",
              "      <td>678.334763</td>\n",
              "      <td>244.791237</td>\n",
              "      <td>0.000000</td>\n",
              "    </tr>\n",
              "  </tbody>\n",
              "</table>\n",
              "</div>\n",
              "      <button class=\"colab-df-convert\" onclick=\"convertToInteractive('df-fe39e561-6582-4d05-bf58-3343196079b1')\"\n",
              "              title=\"Convert this dataframe to an interactive table.\"\n",
              "              style=\"display:none;\">\n",
              "        \n",
              "  <svg xmlns=\"http://www.w3.org/2000/svg\" height=\"24px\"viewBox=\"0 0 24 24\"\n",
              "       width=\"24px\">\n",
              "    <path d=\"M0 0h24v24H0V0z\" fill=\"none\"/>\n",
              "    <path d=\"M18.56 5.44l.94 2.06.94-2.06 2.06-.94-2.06-.94-.94-2.06-.94 2.06-2.06.94zm-11 1L8.5 8.5l.94-2.06 2.06-.94-2.06-.94L8.5 2.5l-.94 2.06-2.06.94zm10 10l.94 2.06.94-2.06 2.06-.94-2.06-.94-.94-2.06-.94 2.06-2.06.94z\"/><path d=\"M17.41 7.96l-1.37-1.37c-.4-.4-.92-.59-1.43-.59-.52 0-1.04.2-1.43.59L10.3 9.45l-7.72 7.72c-.78.78-.78 2.05 0 2.83L4 21.41c.39.39.9.59 1.41.59.51 0 1.02-.2 1.41-.59l7.78-7.78 2.81-2.81c.8-.78.8-2.07 0-2.86zM5.41 20L4 18.59l7.72-7.72 1.47 1.35L5.41 20z\"/>\n",
              "  </svg>\n",
              "      </button>\n",
              "      \n",
              "  <style>\n",
              "    .colab-df-container {\n",
              "      display:flex;\n",
              "      flex-wrap:wrap;\n",
              "      gap: 12px;\n",
              "    }\n",
              "\n",
              "    .colab-df-convert {\n",
              "      background-color: #E8F0FE;\n",
              "      border: none;\n",
              "      border-radius: 50%;\n",
              "      cursor: pointer;\n",
              "      display: none;\n",
              "      fill: #1967D2;\n",
              "      height: 32px;\n",
              "      padding: 0 0 0 0;\n",
              "      width: 32px;\n",
              "    }\n",
              "\n",
              "    .colab-df-convert:hover {\n",
              "      background-color: #E2EBFA;\n",
              "      box-shadow: 0px 1px 2px rgba(60, 64, 67, 0.3), 0px 1px 3px 1px rgba(60, 64, 67, 0.15);\n",
              "      fill: #174EA6;\n",
              "    }\n",
              "\n",
              "    [theme=dark] .colab-df-convert {\n",
              "      background-color: #3B4455;\n",
              "      fill: #D2E3FC;\n",
              "    }\n",
              "\n",
              "    [theme=dark] .colab-df-convert:hover {\n",
              "      background-color: #434B5C;\n",
              "      box-shadow: 0px 1px 3px 1px rgba(0, 0, 0, 0.15);\n",
              "      filter: drop-shadow(0px 1px 2px rgba(0, 0, 0, 0.3));\n",
              "      fill: #FFFFFF;\n",
              "    }\n",
              "  </style>\n",
              "\n",
              "      <script>\n",
              "        const buttonEl =\n",
              "          document.querySelector('#df-fe39e561-6582-4d05-bf58-3343196079b1 button.colab-df-convert');\n",
              "        buttonEl.style.display =\n",
              "          google.colab.kernel.accessAllowed ? 'block' : 'none';\n",
              "\n",
              "        async function convertToInteractive(key) {\n",
              "          const element = document.querySelector('#df-fe39e561-6582-4d05-bf58-3343196079b1');\n",
              "          const dataTable =\n",
              "            await google.colab.kernel.invokeFunction('convertToInteractive',\n",
              "                                                     [key], {});\n",
              "          if (!dataTable) return;\n",
              "\n",
              "          const docLinkHtml = 'Like what you see? Visit the ' +\n",
              "            '<a target=\"_blank\" href=https://colab.research.google.com/notebooks/data_table.ipynb>data table notebook</a>'\n",
              "            + ' to learn more about interactive tables.';\n",
              "          element.innerHTML = '';\n",
              "          dataTable['output_type'] = 'display_data';\n",
              "          await google.colab.output.renderOutput(dataTable, element);\n",
              "          const docLink = document.createElement('div');\n",
              "          docLink.innerHTML = docLinkHtml;\n",
              "          element.appendChild(docLink);\n",
              "        }\n",
              "      </script>\n",
              "    </div>\n",
              "  </div>\n",
              "  "
            ]
          },
          "metadata": {},
          "execution_count": 70
        }
      ]
    },
    {
      "cell_type": "code",
      "source": [
        "nans = data.isna().sum()\n",
        "nans"
      ],
      "metadata": {
        "colab": {
          "base_uri": "https://localhost:8080/"
        },
        "id": "eG1Hk0KvS33j",
        "outputId": "1243f916-cdc7-490e-cbf8-a6905d4ad98c"
      },
      "execution_count": 71,
      "outputs": [
        {
          "output_type": "execute_result",
          "data": {
            "text/plain": [
              "BALANCE                               0\n",
              "BALANCE_FREQUENCY                     0\n",
              "PURCHASES                             0\n",
              "ONEOFF_PURCHASES                      0\n",
              "INSTALLMENTS_PURCHASES                0\n",
              "CASH_ADVANCE                          0\n",
              "PURCHASES_FREQUENCY                   0\n",
              "ONEOFF_PURCHASES_FREQUENCY            0\n",
              "PURCHASES_INSTALLMENTS_FREQUENCY      0\n",
              "CASH_ADVANCE_FREQUENCY                0\n",
              "CASH_ADVANCE_TRX                      0\n",
              "PURCHASES_TRX                         0\n",
              "CREDIT_LIMIT                          1\n",
              "PAYMENTS                              0\n",
              "MINIMUM_PAYMENTS                    313\n",
              "PRC_FULL_PAYMENT                      0\n",
              "dtype: int64"
            ]
          },
          "metadata": {},
          "execution_count": 71
        }
      ]
    },
    {
      "cell_type": "code",
      "source": [
        "data.fillna(data.median(), inplace=True)\n",
        "nans = data.isna().sum()\n",
        "nans"
      ],
      "metadata": {
        "colab": {
          "base_uri": "https://localhost:8080/"
        },
        "id": "5vf7UsAqTOV0",
        "outputId": "db7ac476-97a1-4fb2-f0b5-fecedc770cd3"
      },
      "execution_count": 72,
      "outputs": [
        {
          "output_type": "execute_result",
          "data": {
            "text/plain": [
              "BALANCE                             0\n",
              "BALANCE_FREQUENCY                   0\n",
              "PURCHASES                           0\n",
              "ONEOFF_PURCHASES                    0\n",
              "INSTALLMENTS_PURCHASES              0\n",
              "CASH_ADVANCE                        0\n",
              "PURCHASES_FREQUENCY                 0\n",
              "ONEOFF_PURCHASES_FREQUENCY          0\n",
              "PURCHASES_INSTALLMENTS_FREQUENCY    0\n",
              "CASH_ADVANCE_FREQUENCY              0\n",
              "CASH_ADVANCE_TRX                    0\n",
              "PURCHASES_TRX                       0\n",
              "CREDIT_LIMIT                        0\n",
              "PAYMENTS                            0\n",
              "MINIMUM_PAYMENTS                    0\n",
              "PRC_FULL_PAYMENT                    0\n",
              "dtype: int64"
            ]
          },
          "metadata": {},
          "execution_count": 72
        }
      ]
    },
    {
      "cell_type": "markdown",
      "source": [
        "# Normalization"
      ],
      "metadata": {
        "id": "fN8LZvW3ThfU"
      }
    },
    {
      "cell_type": "code",
      "source": [
        "from sklearn.preprocessing import Normalizer\n",
        "values = Normalizer().fit_transform(data.values)\n",
        "values"
      ],
      "metadata": {
        "colab": {
          "base_uri": "https://localhost:8080/"
        },
        "id": "fESZuJ5NTm3c",
        "outputId": "cecaecd1-7794-43a6-bbef-ace99ec6b238"
      },
      "execution_count": 73,
      "outputs": [
        {
          "output_type": "execute_result",
          "data": {
            "text/plain": [
              "array([[3.93555441e-02, 7.87271593e-04, 9.17958473e-02, ...,\n",
              "        1.94178127e-01, 1.34239194e-01, 0.00000000e+00],\n",
              "       [2.93875903e-01, 8.34231560e-05, 0.00000000e+00, ...,\n",
              "        3.76516684e-01, 9.84037959e-02, 2.03923046e-05],\n",
              "       [3.10798149e-01, 1.24560965e-04, 9.63068011e-02, ...,\n",
              "        7.74852335e-02, 7.81351982e-02, 0.00000000e+00],\n",
              "       ...,\n",
              "       [2.27733092e-02, 8.11060955e-04, 1.40540698e-01, ...,\n",
              "        7.90986945e-02, 8.02156174e-02, 2.43318384e-04],\n",
              "       [2.65257948e-02, 1.64255731e-03, 0.00000000e+00, ...,\n",
              "        1.03579625e-01, 1.09898221e-01, 4.92767391e-04],\n",
              "       [1.86406219e-01, 3.33426837e-04, 5.46778061e-01, ...,\n",
              "        3.15915455e-02, 4.41568390e-02, 0.00000000e+00]])"
            ]
          },
          "metadata": {},
          "execution_count": 73
        }
      ]
    },
    {
      "cell_type": "markdown",
      "source": [
        "# Using Kmeans"
      ],
      "metadata": {
        "id": "Tp82phLsUGk_"
      }
    },
    {
      "cell_type": "code",
      "source": [
        "from sklearn.cluster import KMeans"
      ],
      "metadata": {
        "id": "1XvG5wnvUFjr"
      },
      "execution_count": 74,
      "outputs": []
    },
    {
      "cell_type": "code",
      "source": [
        "kmn = KMeans(n_clusters=5, n_init=10, max_iter=300)\n",
        "y_pred = kmn.fit_transform(values)"
      ],
      "metadata": {
        "id": "YWehYCQyUNrp"
      },
      "execution_count": 75,
      "outputs": []
    },
    {
      "cell_type": "markdown",
      "source": [
        "## Validation and explanation"
      ],
      "metadata": {
        "id": "trbS1basUrzo"
      }
    },
    {
      "cell_type": "markdown",
      "source": [
        "Checking the silhoute coeficient or how compact is the clusterization.\n",
        "\n",
        "![image.png](data:image/png;base64,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)\n",
        "\n",
        "To use silhoute one must calculate the mean of euclidean distances between the points of the same cluster to obtain a.\n",
        "\n",
        "![image.png](data:image/png;base64,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)\n",
        "\n",
        "To obtain b, one must calculate the mean of the other clusters, but will use only the closest cluster points or the lowest value to be b.\n",
        "\n"
      ],
      "metadata": {
        "id": "QBTQ4YVsVpap"
      }
    },
    {
      "cell_type": "code",
      "source": [
        "from sklearn import metrics\n",
        "labels = kmn.labels_\n",
        "silhouette = metrics.silhouette_score(values, labels, metric='euclidean')\n",
        "silhouette"
      ],
      "metadata": {
        "colab": {
          "base_uri": "https://localhost:8080/"
        },
        "id": "YQwbRIz5XW9u",
        "outputId": "f35050c0-a9df-4ff4-f732-6138b9a3409c"
      },
      "execution_count": 76,
      "outputs": [
        {
          "output_type": "execute_result",
          "data": {
            "text/plain": [
              "0.3645635430091902"
            ]
          },
          "metadata": {},
          "execution_count": 76
        }
      ]
    },
    {
      "cell_type": "markdown",
      "source": [
        "The value obtained is considered good, since it is above zero. This coeficient have a minumum value of -1 and a maximum value of 1. The closest to 1 the more separated the clusters will be."
      ],
      "metadata": {
        "id": "J8So4HnGYRVA"
      }
    },
    {
      "cell_type": "markdown",
      "source": [
        "## Using Davies-Bouldin (DB) index"
      ],
      "metadata": {
        "id": "Ta0sZ4JgYxy0"
      }
    },
    {
      "cell_type": "markdown",
      "source": [
        "The Davies-Bouldin index is a clustering validation measure that is used to evaluate the quality of clustering algorithms. It provides a quantitative assessment of the separation between clusters and the similarity within clusters.\n",
        "\n",
        "![image.png](data:image/png;base64,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)\n",
        "\n",
        "\n",
        "R is a similarity number that will define how equal a cluster i is about j.\n",
        "\n",
        "s is based on the center of the a cluster i (si), which is a virtual point called centroid. The centroid is calculated based on the mean of all the euclidean distances from x-axis and y-axis, based on the points inside that cluster. s is determined for each cluster.\n",
        "\n",
        "d is the euclidean distance between each cluster's centroid.\n",
        "\n",
        "\n",
        "![image.png](data:image/png;base64,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)\n",
        "\n",
        "Using the worst values of R (highest value) makes a good evaluation, since if the worst cluster has that value the others will always be better. For DB, values closer to zero are the  best."
      ],
      "metadata": {
        "id": "4meEZfd1ZAHk"
      }
    },
    {
      "cell_type": "code",
      "source": [
        "from sklearn import metrics\n",
        "dbs = metrics.davies_bouldin_score(values, labels)\n",
        "dbs"
      ],
      "metadata": {
        "colab": {
          "base_uri": "https://localhost:8080/"
        },
        "id": "hvFvP2DEY7sq",
        "outputId": "ffe284de-c594-4712-8dd8-0946cb058a8a"
      },
      "execution_count": 77,
      "outputs": [
        {
          "output_type": "execute_result",
          "data": {
            "text/plain": [
              "1.0748719314525408"
            ]
          },
          "metadata": {},
          "execution_count": 77
        }
      ]
    },
    {
      "cell_type": "markdown",
      "source": [
        "## Calinski-Harabasz index"
      ],
      "metadata": {
        "id": "vPyWil3okSrg"
      }
    },
    {
      "cell_type": "markdown",
      "source": [
        "The Calinski-Harabasz index, also known as the Variance Ratio Criterion, is another clustering validation measure that is used to evaluate the quality of clustering results. This index is based on the idea that a good clustering solution should have high inter-cluster variance (between-cluster dispersion) and low intra-cluster variance (within-cluster dispersion). In other words, clusters should be well-separated from each other while maintaining tight and compact internal structures.\n",
        "\n",
        "![image.png](data:image/png;base64,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)\n",
        "\n",
        "k = total number of clusters\n",
        "\n",
        "ne = Number of elements inside a cluster\n",
        "\n",
        "wk = Dispersion of elements within a cluster\n",
        "\n",
        "![image.png](data:image/png;base64,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)\n",
        "\n",
        "Wk is a sum based on the matrix of covariance estimative.\n",
        "\n",
        "Bk = Dispersion of elements between clusters\n",
        "![image.png](data:image/png;base64,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)\n",
        "\n",
        "nq= Numer of elements in the cluster\n",
        "cq= cluster's centroid\n",
        "ce= element's centroid\n",
        "\n",
        "\n"
      ],
      "metadata": {
        "id": "WNGjuKeEkquy"
      }
    },
    {
      "cell_type": "code",
      "source": [
        "calinski = metrics.calinski_harabasz_score(values, labels)\n",
        "calinski"
      ],
      "metadata": {
        "colab": {
          "base_uri": "https://localhost:8080/"
        },
        "id": "w26ZY8yL0wgr",
        "outputId": "d87f6148-9781-4155-da97-4935ecef0d6e"
      },
      "execution_count": 78,
      "outputs": [
        {
          "output_type": "execute_result",
          "data": {
            "text/plain": [
              "3431.563803699364"
            ]
          },
          "metadata": {},
          "execution_count": 78
        }
      ]
    },
    {
      "cell_type": "markdown",
      "source": [
        "## Relative validation"
      ],
      "metadata": {
        "id": "4mDgw7us1T3Y"
      }
    },
    {
      "cell_type": "markdown",
      "source": [
        "There is no other way to compare those scores. So it is necessary to create new clusters and new scores to obtain the best validation condition."
      ],
      "metadata": {
        "id": "lsiivAJz2t8e"
      }
    },
    {
      "cell_type": "code",
      "source": [
        "def clust_algo(n_clusters, dataset):\n",
        "  kmn = KMeans(n_clusters=n_clusters, n_init=10, max_iter=300)\n",
        "  labels = kmn.fit_predict(dataset)\n",
        "  s = metrics.silhouette_score(dataset, labels, metric='euclidean')\n",
        "  dbs = metrics.davies_bouldin_score(dataset, labels)\n",
        "  cal_har = metrics.calinski_harabasz_score(dataset,labels)\n",
        "  return s, dbs, cal_har\n"
      ],
      "metadata": {
        "id": "HbgDx3wH0-6-"
      },
      "execution_count": 79,
      "outputs": []
    },
    {
      "cell_type": "code",
      "source": [
        "s1, dbs1, cal_har1 = clust_algo(3, values)\n",
        "s2, dbs2, cal_har2 = clust_algo(5, values)\n",
        "s3, dbs3, cal_har3 = clust_algo(10, values)\n",
        "s4, dbs4, cal_har4 = clust_algo(20, values)\n",
        "s5, dbs5, cal_har5 = clust_algo(50, values)\n",
        "print(f'n_clusters=3 Silhouette={s1:.2f}, Davies-Bouldin={dbs1:.2f}, Calinski Harabasz={cal_har1:.2f}\\n'\n",
        "f'n_clusters=5 Silhouette={s2:.2f}, Davies-Bouldin={dbs2:.2f}, Calinski Harabasz={cal_har2:.2f}\\n'\n",
        "f'n_clusters=10 Silhouette={s3:.2f}, Davies-Bouldin={dbs3:.2f}, Calinski Harabasz={cal_har3:.2f}\\n'\n",
        "f'n_clusters=20 Silhouette={s4:.2f}, Davies-Bouldin={dbs4:.2f}, Calinski Harabasz={cal_har4:.2f}\\n'\n",
        "f'n_clusters=50 Silhouette={s5:.2f}, Davies-Bouldin={dbs5:.2f}, Calinski Harabasz={cal_har5:.2f}\\n')"
      ],
      "metadata": {
        "colab": {
          "base_uri": "https://localhost:8080/"
        },
        "id": "cbWOaPAw4nD_",
        "outputId": "fdd339a0-76d6-4528-8ac0-3c5aac939ea7"
      },
      "execution_count": 80,
      "outputs": [
        {
          "output_type": "stream",
          "name": "stdout",
          "text": [
            "n_clusters=3 Silhouette=0.33, Davies-Bouldin=1.31, Calinski Harabasz=3526.44\n",
            "n_clusters=5 Silhouette=0.36, Davies-Bouldin=1.08, Calinski Harabasz=3431.78\n",
            "n_clusters=10 Silhouette=0.35, Davies-Bouldin=1.11, Calinski Harabasz=3019.11\n",
            "n_clusters=20 Silhouette=0.28, Davies-Bouldin=1.22, Calinski Harabasz=2390.14\n",
            "n_clusters=50 Silhouette=0.24, Davies-Bouldin=1.22, Calinski Harabasz=1608.88\n",
            "\n"
          ]
        }
      ]
    },
    {
      "cell_type": "markdown",
      "source": [
        "Based on the n_clusters=5 parameter, 5 groups of clients will be clustered, since this will better explain the client's behavior in a less cardinal portion. Also, the best values of the validation were between 3 and 5.\n",
        "\n",
        "Now one can use another way to validate this decision, by using a random dataset for comparison."
      ],
      "metadata": {
        "id": "2YfKe1Ts9i5X"
      }
    },
    {
      "cell_type": "markdown",
      "source": [
        "## Generating a random dataset"
      ],
      "metadata": {
        "id": "11Xalf8J_DV2"
      }
    },
    {
      "cell_type": "code",
      "source": [
        "data.info()"
      ],
      "metadata": {
        "colab": {
          "base_uri": "https://localhost:8080/"
        },
        "id": "CPCQMKee_C5u",
        "outputId": "868f9b74-6e92-46f6-ea98-70ef34da4a59"
      },
      "execution_count": 81,
      "outputs": [
        {
          "output_type": "stream",
          "name": "stdout",
          "text": [
            "<class 'pandas.core.frame.DataFrame'>\n",
            "RangeIndex: 8950 entries, 0 to 8949\n",
            "Data columns (total 16 columns):\n",
            " #   Column                            Non-Null Count  Dtype  \n",
            "---  ------                            --------------  -----  \n",
            " 0   BALANCE                           8950 non-null   float64\n",
            " 1   BALANCE_FREQUENCY                 8950 non-null   float64\n",
            " 2   PURCHASES                         8950 non-null   float64\n",
            " 3   ONEOFF_PURCHASES                  8950 non-null   float64\n",
            " 4   INSTALLMENTS_PURCHASES            8950 non-null   float64\n",
            " 5   CASH_ADVANCE                      8950 non-null   float64\n",
            " 6   PURCHASES_FREQUENCY               8950 non-null   float64\n",
            " 7   ONEOFF_PURCHASES_FREQUENCY        8950 non-null   float64\n",
            " 8   PURCHASES_INSTALLMENTS_FREQUENCY  8950 non-null   float64\n",
            " 9   CASH_ADVANCE_FREQUENCY            8950 non-null   float64\n",
            " 10  CASH_ADVANCE_TRX                  8950 non-null   int64  \n",
            " 11  PURCHASES_TRX                     8950 non-null   int64  \n",
            " 12  CREDIT_LIMIT                      8950 non-null   float64\n",
            " 13  PAYMENTS                          8950 non-null   float64\n",
            " 14  MINIMUM_PAYMENTS                  8950 non-null   float64\n",
            " 15  PRC_FULL_PAYMENT                  8950 non-null   float64\n",
            "dtypes: float64(14), int64(2)\n",
            "memory usage: 1.1 MB\n"
          ]
        }
      ]
    },
    {
      "cell_type": "code",
      "source": [
        "import numpy as np"
      ],
      "metadata": {
        "id": "Y66mnLQU-xCF"
      },
      "execution_count": 82,
      "outputs": []
    },
    {
      "cell_type": "code",
      "source": [
        "rng_data = np.random.rand(8950,16)\n",
        "s, dbs, cal_har = clust_algo(5, rng_data)\n",
        "print(f'Selected n_clusters=5 Silhouette={s2:.2f}, Davies-Bouldin={dbs2:.2f}, Calinski Harabasz={cal_har2:.2f}\\n'\n",
        "    f'rng_data n_clusters=5 Silhouette={s:.2f}, Davies-Bouldin={dbs:.2f}, Calinski Harabasz={cal_har:.2f}')"
      ],
      "metadata": {
        "colab": {
          "base_uri": "https://localhost:8080/"
        },
        "id": "elc-zqmo_TKT",
        "outputId": "f3c0e0dc-2351-43af-9865-765a08fc84d9"
      },
      "execution_count": 83,
      "outputs": [
        {
          "output_type": "stream",
          "name": "stdout",
          "text": [
            "Selected n_clusters=5 Silhouette=0.36, Davies-Bouldin=1.08, Calinski Harabasz=3431.78\n",
            "rng_data n_clusters=5 Silhouette=0.04, Davies-Bouldin=3.57, Calinski Harabasz=302.47\n"
          ]
        }
      ]
    },
    {
      "cell_type": "markdown",
      "source": [
        "Here one can assume that rng_data had a big difference between the dataset. Values of s and cal_har were higher for the dataset, while dbs had lower values if comparing the dataset with rng_data respectively. This result confirms the validation of n_clusters=5 having a better separation of the data."
      ],
      "metadata": {
        "id": "L3HTiNfBAGb3"
      }
    },
    {
      "cell_type": "markdown",
      "source": [
        "## Cluster stability validation"
      ],
      "metadata": {
        "id": "VnyTrCtPA2Rp"
      }
    },
    {
      "cell_type": "code",
      "source": [
        "set1, set2, set3 = np.array_split(values, 3)\n",
        "s1, dbs1, cal_har1 = clust_algo(5, set1)\n",
        "s2, dbs2, cal_har2 = clust_algo(5, set2)\n",
        "s3, dbs3, cal_har3 = clust_algo(5, set3)\n",
        "\n",
        "print(f'n_clusters=3 Silhouette={s1:.2f}, Davies-Bouldin={dbs1:.2f}, Calinski Harabasz={cal_har1:.2f}\\n'\n",
        "f'n_clusters=5 Silhouette={s2:.2f}, Davies-Bouldin={dbs2:.2f}, Calinski Harabasz={cal_har2:.2f}\\n'\n",
        "f'n_clusters=10 Silhouette={s3:.2f}, Davies-Bouldin={dbs3:.2f}, Calinski Harabasz={cal_har3:.2f}\\n')\n"
      ],
      "metadata": {
        "colab": {
          "base_uri": "https://localhost:8080/"
        },
        "id": "MfJncSTpA0_C",
        "outputId": "ba1786d3-c83b-4c3e-c00a-e546b954772f"
      },
      "execution_count": 84,
      "outputs": [
        {
          "output_type": "stream",
          "name": "stdout",
          "text": [
            "n_clusters=3 Silhouette=0.37, Davies-Bouldin=1.06, Calinski Harabasz=1204.11\n",
            "n_clusters=5 Silhouette=0.35, Davies-Bouldin=1.14, Calinski Harabasz=1194.95\n",
            "n_clusters=10 Silhouette=0.37, Davies-Bouldin=1.10, Calinski Harabasz=1167.51\n",
            "\n"
          ]
        }
      ]
    },
    {
      "cell_type": "markdown",
      "source": [
        "Those sets of separated data that were clustered and tested, tell one that they have almost the same values. This means that the cluster stability is good and validated."
      ],
      "metadata": {
        "id": "5hvCCaTkBlLX"
      }
    },
    {
      "cell_type": "markdown",
      "source": [
        "## Cluster interpretation"
      ],
      "metadata": {
        "id": "FMo_zNSBB4t2"
      }
    },
    {
      "cell_type": "code",
      "source": [
        "data['cluster']= labels\n",
        "data.groupby('cluster').describe()"
      ],
      "metadata": {
        "colab": {
          "base_uri": "https://localhost:8080/",
          "height": 343
        },
        "id": "ERHu5EFHB7hO",
        "outputId": "cead3f88-86f9-4d0d-af23-4a62744af05b"
      },
      "execution_count": 85,
      "outputs": [
        {
          "output_type": "execute_result",
          "data": {
            "text/plain": [
              "        BALANCE                                                    \\\n",
              "          count         mean          std        min          25%   \n",
              "cluster                                                             \n",
              "0        1546.0  1141.897935  1661.843122   0.000000   211.969616   \n",
              "1        2643.0  3044.136810  2482.112440   6.824905  1261.851516   \n",
              "2        1081.0  1800.909055  1979.686042   0.000000   509.872908   \n",
              "3        3282.0   445.348234   847.853452   0.000000    23.392341   \n",
              "4         398.0  1966.347536  1837.856615  70.794108  1010.501276   \n",
              "\n",
              "                                                BALANCE_FREQUENCY            \\\n",
              "                 50%          75%           max             count      mean   \n",
              "cluster                                                                       \n",
              "0         555.745265  1371.943854  19043.138560            1546.0  0.927273   \n",
              "1        2173.970603  4241.157156  18495.558550            2643.0  0.964904   \n",
              "2        1100.941072  2321.846501  14581.459140            1081.0  0.862756   \n",
              "3          83.203408   413.489525   9630.367575            3282.0  0.774360   \n",
              "4        1319.413416  2127.881172  11670.179850             398.0  0.989143   \n",
              "\n",
              "         ... MINIMUM_PAYMENTS               PRC_FULL_PAYMENT            \\\n",
              "         ...              75%           max            count      mean   \n",
              "cluster  ...                                                             \n",
              "0        ...       525.358701  18621.013310           1546.0  0.277813   \n",
              "1        ...      1331.738882   8345.641905           2643.0  0.001772   \n",
              "2        ...       886.322345  21235.065300           1081.0  0.115960   \n",
              "3        ...       249.249987   4483.503862           3282.0  0.246249   \n",
              "4        ...      7316.774661  76406.207520            398.0  0.020159   \n",
              "\n",
              "                                                      \n",
              "              std  min  25%       50%       75%  max  \n",
              "cluster                                               \n",
              "0        0.366762  0.0  0.0  0.083333  0.545455  1.0  \n",
              "1        0.023232  0.0  0.0  0.000000  0.000000  0.6  \n",
              "2        0.186377  0.0  0.0  0.083333  0.142857  1.0  \n",
              "3        0.346497  0.0  0.0  0.000000  0.444444  1.0  \n",
              "4        0.092358  0.0  0.0  0.000000  0.000000  1.0  \n",
              "\n",
              "[5 rows x 128 columns]"
            ],
            "text/html": [
              "\n",
              "  <div id=\"df-b849311c-70c8-4703-8e87-ef12dc76933c\">\n",
              "    <div class=\"colab-df-container\">\n",
              "      <div>\n",
              "<style scoped>\n",
              "    .dataframe tbody tr th:only-of-type {\n",
              "        vertical-align: middle;\n",
              "    }\n",
              "\n",
              "    .dataframe tbody tr th {\n",
              "        vertical-align: top;\n",
              "    }\n",
              "\n",
              "    .dataframe thead tr th {\n",
              "        text-align: left;\n",
              "    }\n",
              "\n",
              "    .dataframe thead tr:last-of-type th {\n",
              "        text-align: right;\n",
              "    }\n",
              "</style>\n",
              "<table border=\"1\" class=\"dataframe\">\n",
              "  <thead>\n",
              "    <tr>\n",
              "      <th></th>\n",
              "      <th colspan=\"8\" halign=\"left\">BALANCE</th>\n",
              "      <th colspan=\"2\" halign=\"left\">BALANCE_FREQUENCY</th>\n",
              "      <th>...</th>\n",
              "      <th colspan=\"2\" halign=\"left\">MINIMUM_PAYMENTS</th>\n",
              "      <th colspan=\"8\" halign=\"left\">PRC_FULL_PAYMENT</th>\n",
              "    </tr>\n",
              "    <tr>\n",
              "      <th></th>\n",
              "      <th>count</th>\n",
              "      <th>mean</th>\n",
              "      <th>std</th>\n",
              "      <th>min</th>\n",
              "      <th>25%</th>\n",
              "      <th>50%</th>\n",
              "      <th>75%</th>\n",
              "      <th>max</th>\n",
              "      <th>count</th>\n",
              "      <th>mean</th>\n",
              "      <th>...</th>\n",
              "      <th>75%</th>\n",
              "      <th>max</th>\n",
              "      <th>count</th>\n",
              "      <th>mean</th>\n",
              "      <th>std</th>\n",
              "      <th>min</th>\n",
              "      <th>25%</th>\n",
              "      <th>50%</th>\n",
              "      <th>75%</th>\n",
              "      <th>max</th>\n",
              "    </tr>\n",
              "    <tr>\n",
              "      <th>cluster</th>\n",
              "      <th></th>\n",
              "      <th></th>\n",
              "      <th></th>\n",
              "      <th></th>\n",
              "      <th></th>\n",
              "      <th></th>\n",
              "      <th></th>\n",
              "      <th></th>\n",
              "      <th></th>\n",
              "      <th></th>\n",
              "      <th></th>\n",
              "      <th></th>\n",
              "      <th></th>\n",
              "      <th></th>\n",
              "      <th></th>\n",
              "      <th></th>\n",
              "      <th></th>\n",
              "      <th></th>\n",
              "      <th></th>\n",
              "      <th></th>\n",
              "      <th></th>\n",
              "    </tr>\n",
              "  </thead>\n",
              "  <tbody>\n",
              "    <tr>\n",
              "      <th>0</th>\n",
              "      <td>1546.0</td>\n",
              "      <td>1141.897935</td>\n",
              "      <td>1661.843122</td>\n",
              "      <td>0.000000</td>\n",
              "      <td>211.969616</td>\n",
              "      <td>555.745265</td>\n",
              "      <td>1371.943854</td>\n",
              "      <td>19043.138560</td>\n",
              "      <td>1546.0</td>\n",
              "      <td>0.927273</td>\n",
              "      <td>...</td>\n",
              "      <td>525.358701</td>\n",
              "      <td>18621.013310</td>\n",
              "      <td>1546.0</td>\n",
              "      <td>0.277813</td>\n",
              "      <td>0.366762</td>\n",
              "      <td>0.0</td>\n",
              "      <td>0.0</td>\n",
              "      <td>0.083333</td>\n",
              "      <td>0.545455</td>\n",
              "      <td>1.0</td>\n",
              "    </tr>\n",
              "    <tr>\n",
              "      <th>1</th>\n",
              "      <td>2643.0</td>\n",
              "      <td>3044.136810</td>\n",
              "      <td>2482.112440</td>\n",
              "      <td>6.824905</td>\n",
              "      <td>1261.851516</td>\n",
              "      <td>2173.970603</td>\n",
              "      <td>4241.157156</td>\n",
              "      <td>18495.558550</td>\n",
              "      <td>2643.0</td>\n",
              "      <td>0.964904</td>\n",
              "      <td>...</td>\n",
              "      <td>1331.738882</td>\n",
              "      <td>8345.641905</td>\n",
              "      <td>2643.0</td>\n",
              "      <td>0.001772</td>\n",
              "      <td>0.023232</td>\n",
              "      <td>0.0</td>\n",
              "      <td>0.0</td>\n",
              "      <td>0.000000</td>\n",
              "      <td>0.000000</td>\n",
              "      <td>0.6</td>\n",
              "    </tr>\n",
              "    <tr>\n",
              "      <th>2</th>\n",
              "      <td>1081.0</td>\n",
              "      <td>1800.909055</td>\n",
              "      <td>1979.686042</td>\n",
              "      <td>0.000000</td>\n",
              "      <td>509.872908</td>\n",
              "      <td>1100.941072</td>\n",
              "      <td>2321.846501</td>\n",
              "      <td>14581.459140</td>\n",
              "      <td>1081.0</td>\n",
              "      <td>0.862756</td>\n",
              "      <td>...</td>\n",
              "      <td>886.322345</td>\n",
              "      <td>21235.065300</td>\n",
              "      <td>1081.0</td>\n",
              "      <td>0.115960</td>\n",
              "      <td>0.186377</td>\n",
              "      <td>0.0</td>\n",
              "      <td>0.0</td>\n",
              "      <td>0.083333</td>\n",
              "      <td>0.142857</td>\n",
              "      <td>1.0</td>\n",
              "    </tr>\n",
              "    <tr>\n",
              "      <th>3</th>\n",
              "      <td>3282.0</td>\n",
              "      <td>445.348234</td>\n",
              "      <td>847.853452</td>\n",
              "      <td>0.000000</td>\n",
              "      <td>23.392341</td>\n",
              "      <td>83.203408</td>\n",
              "      <td>413.489525</td>\n",
              "      <td>9630.367575</td>\n",
              "      <td>3282.0</td>\n",
              "      <td>0.774360</td>\n",
              "      <td>...</td>\n",
              "      <td>249.249987</td>\n",
              "      <td>4483.503862</td>\n",
              "      <td>3282.0</td>\n",
              "      <td>0.246249</td>\n",
              "      <td>0.346497</td>\n",
              "      <td>0.0</td>\n",
              "      <td>0.0</td>\n",
              "      <td>0.000000</td>\n",
              "      <td>0.444444</td>\n",
              "      <td>1.0</td>\n",
              "    </tr>\n",
              "    <tr>\n",
              "      <th>4</th>\n",
              "      <td>398.0</td>\n",
              "      <td>1966.347536</td>\n",
              "      <td>1837.856615</td>\n",
              "      <td>70.794108</td>\n",
              "      <td>1010.501276</td>\n",
              "      <td>1319.413416</td>\n",
              "      <td>2127.881172</td>\n",
              "      <td>11670.179850</td>\n",
              "      <td>398.0</td>\n",
              "      <td>0.989143</td>\n",
              "      <td>...</td>\n",
              "      <td>7316.774661</td>\n",
              "      <td>76406.207520</td>\n",
              "      <td>398.0</td>\n",
              "      <td>0.020159</td>\n",
              "      <td>0.092358</td>\n",
              "      <td>0.0</td>\n",
              "      <td>0.0</td>\n",
              "      <td>0.000000</td>\n",
              "      <td>0.000000</td>\n",
              "      <td>1.0</td>\n",
              "    </tr>\n",
              "  </tbody>\n",
              "</table>\n",
              "<p>5 rows × 128 columns</p>\n",
              "</div>\n",
              "      <button class=\"colab-df-convert\" onclick=\"convertToInteractive('df-b849311c-70c8-4703-8e87-ef12dc76933c')\"\n",
              "              title=\"Convert this dataframe to an interactive table.\"\n",
              "              style=\"display:none;\">\n",
              "        \n",
              "  <svg xmlns=\"http://www.w3.org/2000/svg\" height=\"24px\"viewBox=\"0 0 24 24\"\n",
              "       width=\"24px\">\n",
              "    <path d=\"M0 0h24v24H0V0z\" fill=\"none\"/>\n",
              "    <path d=\"M18.56 5.44l.94 2.06.94-2.06 2.06-.94-2.06-.94-.94-2.06-.94 2.06-2.06.94zm-11 1L8.5 8.5l.94-2.06 2.06-.94-2.06-.94L8.5 2.5l-.94 2.06-2.06.94zm10 10l.94 2.06.94-2.06 2.06-.94-2.06-.94-.94-2.06-.94 2.06-2.06.94z\"/><path d=\"M17.41 7.96l-1.37-1.37c-.4-.4-.92-.59-1.43-.59-.52 0-1.04.2-1.43.59L10.3 9.45l-7.72 7.72c-.78.78-.78 2.05 0 2.83L4 21.41c.39.39.9.59 1.41.59.51 0 1.02-.2 1.41-.59l7.78-7.78 2.81-2.81c.8-.78.8-2.07 0-2.86zM5.41 20L4 18.59l7.72-7.72 1.47 1.35L5.41 20z\"/>\n",
              "  </svg>\n",
              "      </button>\n",
              "      \n",
              "  <style>\n",
              "    .colab-df-container {\n",
              "      display:flex;\n",
              "      flex-wrap:wrap;\n",
              "      gap: 12px;\n",
              "    }\n",
              "\n",
              "    .colab-df-convert {\n",
              "      background-color: #E8F0FE;\n",
              "      border: none;\n",
              "      border-radius: 50%;\n",
              "      cursor: pointer;\n",
              "      display: none;\n",
              "      fill: #1967D2;\n",
              "      height: 32px;\n",
              "      padding: 0 0 0 0;\n",
              "      width: 32px;\n",
              "    }\n",
              "\n",
              "    .colab-df-convert:hover {\n",
              "      background-color: #E2EBFA;\n",
              "      box-shadow: 0px 1px 2px rgba(60, 64, 67, 0.3), 0px 1px 3px 1px rgba(60, 64, 67, 0.15);\n",
              "      fill: #174EA6;\n",
              "    }\n",
              "\n",
              "    [theme=dark] .colab-df-convert {\n",
              "      background-color: #3B4455;\n",
              "      fill: #D2E3FC;\n",
              "    }\n",
              "\n",
              "    [theme=dark] .colab-df-convert:hover {\n",
              "      background-color: #434B5C;\n",
              "      box-shadow: 0px 1px 3px 1px rgba(0, 0, 0, 0.15);\n",
              "      filter: drop-shadow(0px 1px 2px rgba(0, 0, 0, 0.3));\n",
              "      fill: #FFFFFF;\n",
              "    }\n",
              "  </style>\n",
              "\n",
              "      <script>\n",
              "        const buttonEl =\n",
              "          document.querySelector('#df-b849311c-70c8-4703-8e87-ef12dc76933c button.colab-df-convert');\n",
              "        buttonEl.style.display =\n",
              "          google.colab.kernel.accessAllowed ? 'block' : 'none';\n",
              "\n",
              "        async function convertToInteractive(key) {\n",
              "          const element = document.querySelector('#df-b849311c-70c8-4703-8e87-ef12dc76933c');\n",
              "          const dataTable =\n",
              "            await google.colab.kernel.invokeFunction('convertToInteractive',\n",
              "                                                     [key], {});\n",
              "          if (!dataTable) return;\n",
              "\n",
              "          const docLinkHtml = 'Like what you see? Visit the ' +\n",
              "            '<a target=\"_blank\" href=https://colab.research.google.com/notebooks/data_table.ipynb>data table notebook</a>'\n",
              "            + ' to learn more about interactive tables.';\n",
              "          element.innerHTML = '';\n",
              "          dataTable['output_type'] = 'display_data';\n",
              "          await google.colab.output.renderOutput(dataTable, element);\n",
              "          const docLink = document.createElement('div');\n",
              "          docLink.innerHTML = docLinkHtml;\n",
              "          element.appendChild(docLink);\n",
              "        }\n",
              "      </script>\n",
              "    </div>\n",
              "  </div>\n",
              "  "
            ]
          },
          "metadata": {},
          "execution_count": 85
        }
      ]
    },
    {
      "cell_type": "code",
      "source": [
        "centroids = kmn.cluster_centers_\n",
        "centroids"
      ],
      "metadata": {
        "colab": {
          "base_uri": "https://localhost:8080/"
        },
        "id": "S8wNrFF15eS-",
        "outputId": "777d1a33-5a50-4096-ede4-5206cee7a67f"
      },
      "execution_count": 86,
      "outputs": [
        {
          "output_type": "execute_result",
          "data": {
            "text/plain": [
              "array([[1.59944767e-01, 2.45345727e-04, 4.37529692e-01, 2.56150524e-01,\n",
              "        1.81549571e-01, 2.61413545e-02, 2.04673627e-04, 8.87261791e-05,\n",
              "        1.51042738e-04, 9.41920561e-06, 1.73139274e-04, 6.16594657e-03,\n",
              "        6.03452310e-01, 4.03757423e-01, 8.57257696e-02, 7.24355202e-05],\n",
              "       [5.06043862e-01, 2.73226520e-04, 6.26577318e-02, 3.68504950e-02,\n",
              "        2.58289910e-02, 2.49873249e-01, 6.84893110e-05, 2.62662030e-05,\n",
              "        4.57093105e-05, 5.70157569e-05, 1.14511021e-03, 1.35321690e-03,\n",
              "        7.18651448e-01, 1.66368493e-01, 1.80801699e-01, 5.33402138e-07],\n",
              "       [2.36780148e-01, 2.17066137e-04, 5.87704098e-02, 3.34033982e-02,\n",
              "        2.53721875e-02, 4.04426109e-01, 5.16628255e-05, 2.01593750e-05,\n",
              "        3.43648457e-05, 6.61712090e-05, 1.58861012e-03, 1.09514832e-03,\n",
              "        5.37512996e-01, 5.92345688e-01, 1.04915260e-01, 2.74318680e-05],\n",
              "       [6.93093532e-02, 2.30451275e-04, 1.21142872e-01, 4.79899933e-02,\n",
              "        7.32531074e-02, 2.47454873e-02, 1.72378171e-04, 3.36754126e-05,\n",
              "        1.39851228e-04, 7.97873420e-06, 1.25603235e-04, 2.85713335e-03,\n",
              "        9.43662392e-01, 1.53507598e-01, 5.68461153e-02, 7.57052902e-05],\n",
              "       [3.24079118e-01, 2.64056245e-04, 1.56312425e-01, 3.19274007e-02,\n",
              "        1.24783261e-01, 5.87676688e-02, 1.64202787e-04, 2.30797195e-05,\n",
              "        1.47871644e-04, 1.95202586e-05, 4.27723322e-04, 3.83482168e-03,\n",
              "        3.69001581e-01, 2.52382351e-01, 6.89049825e-01, 4.44035883e-06]])"
            ]
          },
          "metadata": {},
          "execution_count": 86
        }
      ]
    },
    {
      "cell_type": "markdown",
      "source": [
        "list[n] represents a list of  5 clusters and the values of list[n][n] represent a single cluster and list [n][n][n] represents a feature of the data on that cluster."
      ],
      "metadata": {
        "id": "yzAee2fU546t"
      }
    },
    {
      "cell_type": "code",
      "source": [
        "max = len(centroids[0])\n",
        "for i in range(max):\n",
        "  print(data.columns.values[i],'\\n{:.4f}'.format(centroids[:,i].var()))"
      ],
      "metadata": {
        "colab": {
          "base_uri": "https://localhost:8080/"
        },
        "id": "VYKkMccL53lb",
        "outputId": "77338f08-d42e-4329-bafc-e6c6f129067e"
      },
      "execution_count": 87,
      "outputs": [
        {
          "output_type": "stream",
          "name": "stdout",
          "text": [
            "BALANCE \n",
            "0.0223\n",
            "BALANCE_FREQUENCY \n",
            "0.0000\n",
            "PURCHASES \n",
            "0.0196\n",
            "ONEOFF_PURCHASES \n",
            "0.0077\n",
            "INSTALLMENTS_PURCHASES \n",
            "0.0036\n",
            "CASH_ADVANCE \n",
            "0.0228\n",
            "PURCHASES_FREQUENCY \n",
            "0.0000\n",
            "ONEOFF_PURCHASES_FREQUENCY \n",
            "0.0000\n",
            "PURCHASES_INSTALLMENTS_FREQUENCY \n",
            "0.0000\n",
            "CASH_ADVANCE_FREQUENCY \n",
            "0.0000\n",
            "CASH_ADVANCE_TRX \n",
            "0.0000\n",
            "PURCHASES_TRX \n",
            "0.0000\n",
            "CREDIT_LIMIT \n",
            "0.0367\n",
            "PAYMENTS \n",
            "0.0274\n",
            "MINIMUM_PAYMENTS \n",
            "0.0559\n",
            "PRC_FULL_PAYMENT \n",
            "0.0000\n"
          ]
        }
      ]
    },
    {
      "cell_type": "markdown",
      "source": [
        "Considering the highest variance values one can infer that:\n",
        "\n",
        "BALANCE 0.0224\n",
        "\n",
        "PURCHASES 0.0197\n",
        "\n",
        "CASH_ADVANCE 0.0226\n",
        "\n",
        "CREDIT_LIMIT 0.0361\n",
        "\n",
        "PAYMENTS 0.0280\n",
        "\n",
        "have the highest variance and will be selected for further analysis."
      ],
      "metadata": {
        "id": "j--3VWe17tHm"
      }
    },
    {
      "cell_type": "code",
      "source": [
        "descr = data.groupby('cluster')['BALANCE', 'PURCHASES', 'CASH_ADVANCE', 'CREDIT_LIMIT','PAYMENTS']\n",
        "n_clients = descr.size()\n",
        "descr = descr.mean()\n",
        "descr['n_clients'] = n_clients\n",
        "descr"
      ],
      "metadata": {
        "colab": {
          "base_uri": "https://localhost:8080/",
          "height": 273
        },
        "id": "ssB8m95p8M5t",
        "outputId": "640f3a3b-810b-490b-b8e9-702f293cf640"
      },
      "execution_count": 88,
      "outputs": [
        {
          "output_type": "stream",
          "name": "stderr",
          "text": [
            "<ipython-input-88-191ec6f72f9d>:1: FutureWarning: Indexing with multiple keys (implicitly converted to a tuple of keys) will be deprecated, use a list instead.\n",
            "  descr = data.groupby('cluster')['BALANCE', 'PURCHASES', 'CASH_ADVANCE', 'CREDIT_LIMIT','PAYMENTS']\n"
          ]
        },
        {
          "output_type": "execute_result",
          "data": {
            "text/plain": [
              "             BALANCE    PURCHASES  CASH_ADVANCE  CREDIT_LIMIT     PAYMENTS  \\\n",
              "cluster                                                                      \n",
              "0        1141.897935  3262.872387    183.597762   4088.331275  3041.324095   \n",
              "1        3044.136810   388.990988   1621.238206   4488.289822   967.935661   \n",
              "2        1800.909055   466.019473   3287.022132   3987.068651  4667.483007   \n",
              "3         445.348234   628.734909    143.912402   5134.002671   814.150752   \n",
              "4        1966.347536   851.518467    418.417864   2213.316583  1341.468777   \n",
              "\n",
              "         n_clients  \n",
              "cluster             \n",
              "0             1546  \n",
              "1             2643  \n",
              "2             1081  \n",
              "3             3282  \n",
              "4              398  "
            ],
            "text/html": [
              "\n",
              "  <div id=\"df-8e09d9ad-f9d8-4796-90ae-16fe6528a4a7\">\n",
              "    <div class=\"colab-df-container\">\n",
              "      <div>\n",
              "<style scoped>\n",
              "    .dataframe tbody tr th:only-of-type {\n",
              "        vertical-align: middle;\n",
              "    }\n",
              "\n",
              "    .dataframe tbody tr th {\n",
              "        vertical-align: top;\n",
              "    }\n",
              "\n",
              "    .dataframe thead th {\n",
              "        text-align: right;\n",
              "    }\n",
              "</style>\n",
              "<table border=\"1\" class=\"dataframe\">\n",
              "  <thead>\n",
              "    <tr style=\"text-align: right;\">\n",
              "      <th></th>\n",
              "      <th>BALANCE</th>\n",
              "      <th>PURCHASES</th>\n",
              "      <th>CASH_ADVANCE</th>\n",
              "      <th>CREDIT_LIMIT</th>\n",
              "      <th>PAYMENTS</th>\n",
              "      <th>n_clients</th>\n",
              "    </tr>\n",
              "    <tr>\n",
              "      <th>cluster</th>\n",
              "      <th></th>\n",
              "      <th></th>\n",
              "      <th></th>\n",
              "      <th></th>\n",
              "      <th></th>\n",
              "      <th></th>\n",
              "    </tr>\n",
              "  </thead>\n",
              "  <tbody>\n",
              "    <tr>\n",
              "      <th>0</th>\n",
              "      <td>1141.897935</td>\n",
              "      <td>3262.872387</td>\n",
              "      <td>183.597762</td>\n",
              "      <td>4088.331275</td>\n",
              "      <td>3041.324095</td>\n",
              "      <td>1546</td>\n",
              "    </tr>\n",
              "    <tr>\n",
              "      <th>1</th>\n",
              "      <td>3044.136810</td>\n",
              "      <td>388.990988</td>\n",
              "      <td>1621.238206</td>\n",
              "      <td>4488.289822</td>\n",
              "      <td>967.935661</td>\n",
              "      <td>2643</td>\n",
              "    </tr>\n",
              "    <tr>\n",
              "      <th>2</th>\n",
              "      <td>1800.909055</td>\n",
              "      <td>466.019473</td>\n",
              "      <td>3287.022132</td>\n",
              "      <td>3987.068651</td>\n",
              "      <td>4667.483007</td>\n",
              "      <td>1081</td>\n",
              "    </tr>\n",
              "    <tr>\n",
              "      <th>3</th>\n",
              "      <td>445.348234</td>\n",
              "      <td>628.734909</td>\n",
              "      <td>143.912402</td>\n",
              "      <td>5134.002671</td>\n",
              "      <td>814.150752</td>\n",
              "      <td>3282</td>\n",
              "    </tr>\n",
              "    <tr>\n",
              "      <th>4</th>\n",
              "      <td>1966.347536</td>\n",
              "      <td>851.518467</td>\n",
              "      <td>418.417864</td>\n",
              "      <td>2213.316583</td>\n",
              "      <td>1341.468777</td>\n",
              "      <td>398</td>\n",
              "    </tr>\n",
              "  </tbody>\n",
              "</table>\n",
              "</div>\n",
              "      <button class=\"colab-df-convert\" onclick=\"convertToInteractive('df-8e09d9ad-f9d8-4796-90ae-16fe6528a4a7')\"\n",
              "              title=\"Convert this dataframe to an interactive table.\"\n",
              "              style=\"display:none;\">\n",
              "        \n",
              "  <svg xmlns=\"http://www.w3.org/2000/svg\" height=\"24px\"viewBox=\"0 0 24 24\"\n",
              "       width=\"24px\">\n",
              "    <path d=\"M0 0h24v24H0V0z\" fill=\"none\"/>\n",
              "    <path d=\"M18.56 5.44l.94 2.06.94-2.06 2.06-.94-2.06-.94-.94-2.06-.94 2.06-2.06.94zm-11 1L8.5 8.5l.94-2.06 2.06-.94-2.06-.94L8.5 2.5l-.94 2.06-2.06.94zm10 10l.94 2.06.94-2.06 2.06-.94-2.06-.94-.94-2.06-.94 2.06-2.06.94z\"/><path d=\"M17.41 7.96l-1.37-1.37c-.4-.4-.92-.59-1.43-.59-.52 0-1.04.2-1.43.59L10.3 9.45l-7.72 7.72c-.78.78-.78 2.05 0 2.83L4 21.41c.39.39.9.59 1.41.59.51 0 1.02-.2 1.41-.59l7.78-7.78 2.81-2.81c.8-.78.8-2.07 0-2.86zM5.41 20L4 18.59l7.72-7.72 1.47 1.35L5.41 20z\"/>\n",
              "  </svg>\n",
              "      </button>\n",
              "      \n",
              "  <style>\n",
              "    .colab-df-container {\n",
              "      display:flex;\n",
              "      flex-wrap:wrap;\n",
              "      gap: 12px;\n",
              "    }\n",
              "\n",
              "    .colab-df-convert {\n",
              "      background-color: #E8F0FE;\n",
              "      border: none;\n",
              "      border-radius: 50%;\n",
              "      cursor: pointer;\n",
              "      display: none;\n",
              "      fill: #1967D2;\n",
              "      height: 32px;\n",
              "      padding: 0 0 0 0;\n",
              "      width: 32px;\n",
              "    }\n",
              "\n",
              "    .colab-df-convert:hover {\n",
              "      background-color: #E2EBFA;\n",
              "      box-shadow: 0px 1px 2px rgba(60, 64, 67, 0.3), 0px 1px 3px 1px rgba(60, 64, 67, 0.15);\n",
              "      fill: #174EA6;\n",
              "    }\n",
              "\n",
              "    [theme=dark] .colab-df-convert {\n",
              "      background-color: #3B4455;\n",
              "      fill: #D2E3FC;\n",
              "    }\n",
              "\n",
              "    [theme=dark] .colab-df-convert:hover {\n",
              "      background-color: #434B5C;\n",
              "      box-shadow: 0px 1px 3px 1px rgba(0, 0, 0, 0.15);\n",
              "      filter: drop-shadow(0px 1px 2px rgba(0, 0, 0, 0.3));\n",
              "      fill: #FFFFFF;\n",
              "    }\n",
              "  </style>\n",
              "\n",
              "      <script>\n",
              "        const buttonEl =\n",
              "          document.querySelector('#df-8e09d9ad-f9d8-4796-90ae-16fe6528a4a7 button.colab-df-convert');\n",
              "        buttonEl.style.display =\n",
              "          google.colab.kernel.accessAllowed ? 'block' : 'none';\n",
              "\n",
              "        async function convertToInteractive(key) {\n",
              "          const element = document.querySelector('#df-8e09d9ad-f9d8-4796-90ae-16fe6528a4a7');\n",
              "          const dataTable =\n",
              "            await google.colab.kernel.invokeFunction('convertToInteractive',\n",
              "                                                     [key], {});\n",
              "          if (!dataTable) return;\n",
              "\n",
              "          const docLinkHtml = 'Like what you see? Visit the ' +\n",
              "            '<a target=\"_blank\" href=https://colab.research.google.com/notebooks/data_table.ipynb>data table notebook</a>'\n",
              "            + ' to learn more about interactive tables.';\n",
              "          element.innerHTML = '';\n",
              "          dataTable['output_type'] = 'display_data';\n",
              "          await google.colab.output.renderOutput(dataTable, element);\n",
              "          const docLink = document.createElement('div');\n",
              "          docLink.innerHTML = docLinkHtml;\n",
              "          element.appendChild(docLink);\n",
              "        }\n",
              "      </script>\n",
              "    </div>\n",
              "  </div>\n",
              "  "
            ]
          },
          "metadata": {},
          "execution_count": 88
        }
      ]
    },
    {
      "cell_type": "code",
      "source": [
        "def get_highest_value_indexes(df):\n",
        "    for column in df.columns:\n",
        "        max_value = df[column].max()\n",
        "        max_index = df[column].idxmax()\n",
        "        yield max_index, column\n",
        "def get_lowest_value_indexes(df):\n",
        "    for column in df.columns:\n",
        "        min_value = df[column].min()\n",
        "        min_index = df[column].idxmin()\n",
        "        yield min_index, column\n",
        "\n",
        "for index, column in get_highest_value_indexes(descr):\n",
        "    print(f\"The highest values of {column} are in the Cluster {index} clients data\")\n",
        "print('\\n')\n",
        "for index, column in get_lowest_value_indexes(descr):\n",
        "   print(f\"The lowest values of {column} are in the Cluster {index} clients data\")\n"
      ],
      "metadata": {
        "colab": {
          "base_uri": "https://localhost:8080/"
        },
        "id": "tE97yaJa8mmx",
        "outputId": "d1b69558-330a-452a-fdf5-1228075183eb"
      },
      "execution_count": 89,
      "outputs": [
        {
          "output_type": "stream",
          "name": "stdout",
          "text": [
            "The highest values of BALANCE are in the Cluster 1 clients data\n",
            "The highest values of PURCHASES are in the Cluster 0 clients data\n",
            "The highest values of CASH_ADVANCE are in the Cluster 2 clients data\n",
            "The highest values of CREDIT_LIMIT are in the Cluster 3 clients data\n",
            "The highest values of PAYMENTS are in the Cluster 2 clients data\n",
            "The highest values of n_clients are in the Cluster 3 clients data\n",
            "\n",
            "\n",
            "The lowest values of BALANCE are in the Cluster 3 clients data\n",
            "The lowest values of PURCHASES are in the Cluster 1 clients data\n",
            "The lowest values of CASH_ADVANCE are in the Cluster 3 clients data\n",
            "The lowest values of CREDIT_LIMIT are in the Cluster 4 clients data\n",
            "The lowest values of PAYMENTS are in the Cluster 3 clients data\n",
            "The lowest values of n_clients are in the Cluster 4 clients data\n"
          ]
        }
      ]
    },
    {
      "cell_type": "markdown",
      "source": [
        "in cluster 0 the clients do not spend that much money, but also have the highest credit limit. in Cluster 1 the clients spend more money and also require more cash advance. Clients in cluster 2 spend more money buying\n",
        " adn clients in cluster 3 with cash advance, so they have the smallest limit. The quantity of clients in cluster 4 are the lowest and those clients pay more than the others, so this could tell that they are the the \"good clients\". or not?"
      ],
      "metadata": {
        "id": "pPecfuDoJO3B"
      }
    },
    {
      "cell_type": "code",
      "source": [
        "data.groupby('cluster')['PRC_FULL_PAYMENT'].describe()"
      ],
      "metadata": {
        "colab": {
          "base_uri": "https://localhost:8080/",
          "height": 238
        },
        "id": "gSviYLdOMH2K",
        "outputId": "ae9e0131-cc70-4490-ffc5-0246b4e7c41f"
      },
      "execution_count": 91,
      "outputs": [
        {
          "output_type": "execute_result",
          "data": {
            "text/plain": [
              "          count      mean       std  min  25%       50%       75%  max\n",
              "cluster                                                               \n",
              "0        1546.0  0.277813  0.366762  0.0  0.0  0.083333  0.545455  1.0\n",
              "1        2643.0  0.001772  0.023232  0.0  0.0  0.000000  0.000000  0.6\n",
              "2        1081.0  0.115960  0.186377  0.0  0.0  0.083333  0.142857  1.0\n",
              "3        3282.0  0.246249  0.346497  0.0  0.0  0.000000  0.444444  1.0\n",
              "4         398.0  0.020159  0.092358  0.0  0.0  0.000000  0.000000  1.0"
            ],
            "text/html": [
              "\n",
              "  <div id=\"df-ebcb6baf-ecc6-4ee1-9463-34a35e72308c\">\n",
              "    <div class=\"colab-df-container\">\n",
              "      <div>\n",
              "<style scoped>\n",
              "    .dataframe tbody tr th:only-of-type {\n",
              "        vertical-align: middle;\n",
              "    }\n",
              "\n",
              "    .dataframe tbody tr th {\n",
              "        vertical-align: top;\n",
              "    }\n",
              "\n",
              "    .dataframe thead th {\n",
              "        text-align: right;\n",
              "    }\n",
              "</style>\n",
              "<table border=\"1\" class=\"dataframe\">\n",
              "  <thead>\n",
              "    <tr style=\"text-align: right;\">\n",
              "      <th></th>\n",
              "      <th>count</th>\n",
              "      <th>mean</th>\n",
              "      <th>std</th>\n",
              "      <th>min</th>\n",
              "      <th>25%</th>\n",
              "      <th>50%</th>\n",
              "      <th>75%</th>\n",
              "      <th>max</th>\n",
              "    </tr>\n",
              "    <tr>\n",
              "      <th>cluster</th>\n",
              "      <th></th>\n",
              "      <th></th>\n",
              "      <th></th>\n",
              "      <th></th>\n",
              "      <th></th>\n",
              "      <th></th>\n",
              "      <th></th>\n",
              "      <th></th>\n",
              "    </tr>\n",
              "  </thead>\n",
              "  <tbody>\n",
              "    <tr>\n",
              "      <th>0</th>\n",
              "      <td>1546.0</td>\n",
              "      <td>0.277813</td>\n",
              "      <td>0.366762</td>\n",
              "      <td>0.0</td>\n",
              "      <td>0.0</td>\n",
              "      <td>0.083333</td>\n",
              "      <td>0.545455</td>\n",
              "      <td>1.0</td>\n",
              "    </tr>\n",
              "    <tr>\n",
              "      <th>1</th>\n",
              "      <td>2643.0</td>\n",
              "      <td>0.001772</td>\n",
              "      <td>0.023232</td>\n",
              "      <td>0.0</td>\n",
              "      <td>0.0</td>\n",
              "      <td>0.000000</td>\n",
              "      <td>0.000000</td>\n",
              "      <td>0.6</td>\n",
              "    </tr>\n",
              "    <tr>\n",
              "      <th>2</th>\n",
              "      <td>1081.0</td>\n",
              "      <td>0.115960</td>\n",
              "      <td>0.186377</td>\n",
              "      <td>0.0</td>\n",
              "      <td>0.0</td>\n",
              "      <td>0.083333</td>\n",
              "      <td>0.142857</td>\n",
              "      <td>1.0</td>\n",
              "    </tr>\n",
              "    <tr>\n",
              "      <th>3</th>\n",
              "      <td>3282.0</td>\n",
              "      <td>0.246249</td>\n",
              "      <td>0.346497</td>\n",
              "      <td>0.0</td>\n",
              "      <td>0.0</td>\n",
              "      <td>0.000000</td>\n",
              "      <td>0.444444</td>\n",
              "      <td>1.0</td>\n",
              "    </tr>\n",
              "    <tr>\n",
              "      <th>4</th>\n",
              "      <td>398.0</td>\n",
              "      <td>0.020159</td>\n",
              "      <td>0.092358</td>\n",
              "      <td>0.0</td>\n",
              "      <td>0.0</td>\n",
              "      <td>0.000000</td>\n",
              "      <td>0.000000</td>\n",
              "      <td>1.0</td>\n",
              "    </tr>\n",
              "  </tbody>\n",
              "</table>\n",
              "</div>\n",
              "      <button class=\"colab-df-convert\" onclick=\"convertToInteractive('df-ebcb6baf-ecc6-4ee1-9463-34a35e72308c')\"\n",
              "              title=\"Convert this dataframe to an interactive table.\"\n",
              "              style=\"display:none;\">\n",
              "        \n",
              "  <svg xmlns=\"http://www.w3.org/2000/svg\" height=\"24px\"viewBox=\"0 0 24 24\"\n",
              "       width=\"24px\">\n",
              "    <path d=\"M0 0h24v24H0V0z\" fill=\"none\"/>\n",
              "    <path d=\"M18.56 5.44l.94 2.06.94-2.06 2.06-.94-2.06-.94-.94-2.06-.94 2.06-2.06.94zm-11 1L8.5 8.5l.94-2.06 2.06-.94-2.06-.94L8.5 2.5l-.94 2.06-2.06.94zm10 10l.94 2.06.94-2.06 2.06-.94-2.06-.94-.94-2.06-.94 2.06-2.06.94z\"/><path d=\"M17.41 7.96l-1.37-1.37c-.4-.4-.92-.59-1.43-.59-.52 0-1.04.2-1.43.59L10.3 9.45l-7.72 7.72c-.78.78-.78 2.05 0 2.83L4 21.41c.39.39.9.59 1.41.59.51 0 1.02-.2 1.41-.59l7.78-7.78 2.81-2.81c.8-.78.8-2.07 0-2.86zM5.41 20L4 18.59l7.72-7.72 1.47 1.35L5.41 20z\"/>\n",
              "  </svg>\n",
              "      </button>\n",
              "      \n",
              "  <style>\n",
              "    .colab-df-container {\n",
              "      display:flex;\n",
              "      flex-wrap:wrap;\n",
              "      gap: 12px;\n",
              "    }\n",
              "\n",
              "    .colab-df-convert {\n",
              "      background-color: #E8F0FE;\n",
              "      border: none;\n",
              "      border-radius: 50%;\n",
              "      cursor: pointer;\n",
              "      display: none;\n",
              "      fill: #1967D2;\n",
              "      height: 32px;\n",
              "      padding: 0 0 0 0;\n",
              "      width: 32px;\n",
              "    }\n",
              "\n",
              "    .colab-df-convert:hover {\n",
              "      background-color: #E2EBFA;\n",
              "      box-shadow: 0px 1px 2px rgba(60, 64, 67, 0.3), 0px 1px 3px 1px rgba(60, 64, 67, 0.15);\n",
              "      fill: #174EA6;\n",
              "    }\n",
              "\n",
              "    [theme=dark] .colab-df-convert {\n",
              "      background-color: #3B4455;\n",
              "      fill: #D2E3FC;\n",
              "    }\n",
              "\n",
              "    [theme=dark] .colab-df-convert:hover {\n",
              "      background-color: #434B5C;\n",
              "      box-shadow: 0px 1px 3px 1px rgba(0, 0, 0, 0.15);\n",
              "      filter: drop-shadow(0px 1px 2px rgba(0, 0, 0, 0.3));\n",
              "      fill: #FFFFFF;\n",
              "    }\n",
              "  </style>\n",
              "\n",
              "      <script>\n",
              "        const buttonEl =\n",
              "          document.querySelector('#df-ebcb6baf-ecc6-4ee1-9463-34a35e72308c button.colab-df-convert');\n",
              "        buttonEl.style.display =\n",
              "          google.colab.kernel.accessAllowed ? 'block' : 'none';\n",
              "\n",
              "        async function convertToInteractive(key) {\n",
              "          const element = document.querySelector('#df-ebcb6baf-ecc6-4ee1-9463-34a35e72308c');\n",
              "          const dataTable =\n",
              "            await google.colab.kernel.invokeFunction('convertToInteractive',\n",
              "                                                     [key], {});\n",
              "          if (!dataTable) return;\n",
              "\n",
              "          const docLinkHtml = 'Like what you see? Visit the ' +\n",
              "            '<a target=\"_blank\" href=https://colab.research.google.com/notebooks/data_table.ipynb>data table notebook</a>'\n",
              "            + ' to learn more about interactive tables.';\n",
              "          element.innerHTML = '';\n",
              "          dataTable['output_type'] = 'display_data';\n",
              "          await google.colab.output.renderOutput(dataTable, element);\n",
              "          const docLink = document.createElement('div');\n",
              "          docLink.innerHTML = docLinkHtml;\n",
              "          element.appendChild(docLink);\n",
              "        }\n",
              "      </script>\n",
              "    </div>\n",
              "  </div>\n",
              "  "
            ]
          },
          "metadata": {},
          "execution_count": 91
        }
      ]
    },
    {
      "cell_type": "markdown",
      "source": [
        "This feature can be used to tell if the clients of certain cluster are paying more from their credit card bill, based on the percentage of the total debt. This tells us that clients from cluster 0 and 3 are the best payers, not clients from cluster 4 and 1, those are the worst paying clients.\n"
      ],
      "metadata": {
        "id": "yvoTukgWMmof"
      }
    },
    {
      "cell_type": "markdown",
      "source": [
        "# Classification of the clients for the company"
      ],
      "metadata": {
        "id": "ZUIe3T-wO8JL"
      }
    },
    {
      "cell_type": "markdown",
      "source": [
        "Considering all characteristics of the clustered clients above and their classification and behavior, based on their credit card invoices.\n",
        "\n",
        "The company decided to create a system of point rewards to increase the income the company. The focus will be based on clients in group 0 since it has the greatest amount of clients, credit limit, and are good payers. This could make them spend more and pay more, increasing the company's income."
      ],
      "metadata": {
        "id": "DZ3u1aC4PG4J"
      }
    }
  ]
}