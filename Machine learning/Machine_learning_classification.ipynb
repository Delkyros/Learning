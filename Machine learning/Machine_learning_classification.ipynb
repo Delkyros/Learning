{
  "nbformat": 4,
  "nbformat_minor": 0,
  "metadata": {
    "colab": {
      "provenance": []
    },
    "kernelspec": {
      "name": "python3",
      "display_name": "Python 3"
    },
    "language_info": {
      "name": "python"
    }
  },
  "cells": [
    {
      "cell_type": "markdown",
      "source": [
        "#Objectives"
      ],
      "metadata": {
        "id": "sFKVVFpg2MyS"
      }
    },
    {
      "cell_type": "markdown",
      "source": [
        "I was hired to predict the clients that have certain tendencies relating their retention to the company, or the clients that leave our company services.\n"
      ],
      "metadata": {
        "id": "k4JTSA-Z2Qhu"
      }
    },
    {
      "cell_type": "code",
      "execution_count": 19,
      "metadata": {
        "id": "XbD4Ua4HsPsN"
      },
      "outputs": [],
      "source": [
        "import pandas as pd"
      ]
    },
    {
      "cell_type": "code",
      "source": [
        "data = pd.read_csv('/content/Customer-Churn.csv')\n",
        "data.head()"
      ],
      "metadata": {
        "colab": {
          "base_uri": "https://localhost:8080/",
          "height": 270
        },
        "id": "6C8EVpNPtMjq",
        "outputId": "f3a32f77-c7a8-4970-e39f-3c438962feec"
      },
      "execution_count": 2,
      "outputs": [
        {
          "output_type": "execute_result",
          "data": {
            "text/plain": [
              "   Maior65Anos Conjuge Dependentes  MesesDeContrato TelefoneFixo  \\\n",
              "0            0     Sim         Nao                1          Nao   \n",
              "1            0     Nao         Nao               34          Sim   \n",
              "2            0     Nao         Nao                2          Sim   \n",
              "3            0     Nao         Nao               45          Nao   \n",
              "4            0     Nao         Nao                2          Sim   \n",
              "\n",
              "  VariasLinhasTelefonicas ServicoDeInternet SegurancaOnline BackupOnline  \\\n",
              "0    SemServicoTelefonico               DSL             Nao          Sim   \n",
              "1                     Nao               DSL             Sim          Nao   \n",
              "2                     Nao               DSL             Sim          Sim   \n",
              "3    SemServicoTelefonico               DSL             Sim          Nao   \n",
              "4                     Nao       FibraOptica             Nao          Nao   \n",
              "\n",
              "  SeguroNoDispositivo SuporteTecnico TVaCabo StreamingDeFilmes TipoDeContrato  \\\n",
              "0                 Nao            Nao     Nao               Nao    Mensalmente   \n",
              "1                 Sim            Nao     Nao               Nao          UmAno   \n",
              "2                 Nao            Nao     Nao               Nao    Mensalmente   \n",
              "3                 Sim            Sim     Nao               Nao          UmAno   \n",
              "4                 Nao            Nao     Nao               Nao    Mensalmente   \n",
              "\n",
              "  PagamentoOnline FormaDePagamento  ContaMensal Churn  \n",
              "0             Sim    ChequeDigital        29.85   Nao  \n",
              "1             Nao      ChequePapel        56.95   Nao  \n",
              "2             Sim      ChequePapel        53.85   Sim  \n",
              "3             Nao    DebitoEmConta        42.30   Nao  \n",
              "4             Sim    ChequeDigital        70.70   Sim  "
            ],
            "text/html": [
              "\n",
              "  <div id=\"df-7b6c1707-0c42-4552-94a4-42320c035bfa\">\n",
              "    <div class=\"colab-df-container\">\n",
              "      <div>\n",
              "<style scoped>\n",
              "    .dataframe tbody tr th:only-of-type {\n",
              "        vertical-align: middle;\n",
              "    }\n",
              "\n",
              "    .dataframe tbody tr th {\n",
              "        vertical-align: top;\n",
              "    }\n",
              "\n",
              "    .dataframe thead th {\n",
              "        text-align: right;\n",
              "    }\n",
              "</style>\n",
              "<table border=\"1\" class=\"dataframe\">\n",
              "  <thead>\n",
              "    <tr style=\"text-align: right;\">\n",
              "      <th></th>\n",
              "      <th>Maior65Anos</th>\n",
              "      <th>Conjuge</th>\n",
              "      <th>Dependentes</th>\n",
              "      <th>MesesDeContrato</th>\n",
              "      <th>TelefoneFixo</th>\n",
              "      <th>VariasLinhasTelefonicas</th>\n",
              "      <th>ServicoDeInternet</th>\n",
              "      <th>SegurancaOnline</th>\n",
              "      <th>BackupOnline</th>\n",
              "      <th>SeguroNoDispositivo</th>\n",
              "      <th>SuporteTecnico</th>\n",
              "      <th>TVaCabo</th>\n",
              "      <th>StreamingDeFilmes</th>\n",
              "      <th>TipoDeContrato</th>\n",
              "      <th>PagamentoOnline</th>\n",
              "      <th>FormaDePagamento</th>\n",
              "      <th>ContaMensal</th>\n",
              "      <th>Churn</th>\n",
              "    </tr>\n",
              "  </thead>\n",
              "  <tbody>\n",
              "    <tr>\n",
              "      <th>0</th>\n",
              "      <td>0</td>\n",
              "      <td>Sim</td>\n",
              "      <td>Nao</td>\n",
              "      <td>1</td>\n",
              "      <td>Nao</td>\n",
              "      <td>SemServicoTelefonico</td>\n",
              "      <td>DSL</td>\n",
              "      <td>Nao</td>\n",
              "      <td>Sim</td>\n",
              "      <td>Nao</td>\n",
              "      <td>Nao</td>\n",
              "      <td>Nao</td>\n",
              "      <td>Nao</td>\n",
              "      <td>Mensalmente</td>\n",
              "      <td>Sim</td>\n",
              "      <td>ChequeDigital</td>\n",
              "      <td>29.85</td>\n",
              "      <td>Nao</td>\n",
              "    </tr>\n",
              "    <tr>\n",
              "      <th>1</th>\n",
              "      <td>0</td>\n",
              "      <td>Nao</td>\n",
              "      <td>Nao</td>\n",
              "      <td>34</td>\n",
              "      <td>Sim</td>\n",
              "      <td>Nao</td>\n",
              "      <td>DSL</td>\n",
              "      <td>Sim</td>\n",
              "      <td>Nao</td>\n",
              "      <td>Sim</td>\n",
              "      <td>Nao</td>\n",
              "      <td>Nao</td>\n",
              "      <td>Nao</td>\n",
              "      <td>UmAno</td>\n",
              "      <td>Nao</td>\n",
              "      <td>ChequePapel</td>\n",
              "      <td>56.95</td>\n",
              "      <td>Nao</td>\n",
              "    </tr>\n",
              "    <tr>\n",
              "      <th>2</th>\n",
              "      <td>0</td>\n",
              "      <td>Nao</td>\n",
              "      <td>Nao</td>\n",
              "      <td>2</td>\n",
              "      <td>Sim</td>\n",
              "      <td>Nao</td>\n",
              "      <td>DSL</td>\n",
              "      <td>Sim</td>\n",
              "      <td>Sim</td>\n",
              "      <td>Nao</td>\n",
              "      <td>Nao</td>\n",
              "      <td>Nao</td>\n",
              "      <td>Nao</td>\n",
              "      <td>Mensalmente</td>\n",
              "      <td>Sim</td>\n",
              "      <td>ChequePapel</td>\n",
              "      <td>53.85</td>\n",
              "      <td>Sim</td>\n",
              "    </tr>\n",
              "    <tr>\n",
              "      <th>3</th>\n",
              "      <td>0</td>\n",
              "      <td>Nao</td>\n",
              "      <td>Nao</td>\n",
              "      <td>45</td>\n",
              "      <td>Nao</td>\n",
              "      <td>SemServicoTelefonico</td>\n",
              "      <td>DSL</td>\n",
              "      <td>Sim</td>\n",
              "      <td>Nao</td>\n",
              "      <td>Sim</td>\n",
              "      <td>Sim</td>\n",
              "      <td>Nao</td>\n",
              "      <td>Nao</td>\n",
              "      <td>UmAno</td>\n",
              "      <td>Nao</td>\n",
              "      <td>DebitoEmConta</td>\n",
              "      <td>42.30</td>\n",
              "      <td>Nao</td>\n",
              "    </tr>\n",
              "    <tr>\n",
              "      <th>4</th>\n",
              "      <td>0</td>\n",
              "      <td>Nao</td>\n",
              "      <td>Nao</td>\n",
              "      <td>2</td>\n",
              "      <td>Sim</td>\n",
              "      <td>Nao</td>\n",
              "      <td>FibraOptica</td>\n",
              "      <td>Nao</td>\n",
              "      <td>Nao</td>\n",
              "      <td>Nao</td>\n",
              "      <td>Nao</td>\n",
              "      <td>Nao</td>\n",
              "      <td>Nao</td>\n",
              "      <td>Mensalmente</td>\n",
              "      <td>Sim</td>\n",
              "      <td>ChequeDigital</td>\n",
              "      <td>70.70</td>\n",
              "      <td>Sim</td>\n",
              "    </tr>\n",
              "  </tbody>\n",
              "</table>\n",
              "</div>\n",
              "      <button class=\"colab-df-convert\" onclick=\"convertToInteractive('df-7b6c1707-0c42-4552-94a4-42320c035bfa')\"\n",
              "              title=\"Convert this dataframe to an interactive table.\"\n",
              "              style=\"display:none;\">\n",
              "        \n",
              "  <svg xmlns=\"http://www.w3.org/2000/svg\" height=\"24px\"viewBox=\"0 0 24 24\"\n",
              "       width=\"24px\">\n",
              "    <path d=\"M0 0h24v24H0V0z\" fill=\"none\"/>\n",
              "    <path d=\"M18.56 5.44l.94 2.06.94-2.06 2.06-.94-2.06-.94-.94-2.06-.94 2.06-2.06.94zm-11 1L8.5 8.5l.94-2.06 2.06-.94-2.06-.94L8.5 2.5l-.94 2.06-2.06.94zm10 10l.94 2.06.94-2.06 2.06-.94-2.06-.94-.94-2.06-.94 2.06-2.06.94z\"/><path d=\"M17.41 7.96l-1.37-1.37c-.4-.4-.92-.59-1.43-.59-.52 0-1.04.2-1.43.59L10.3 9.45l-7.72 7.72c-.78.78-.78 2.05 0 2.83L4 21.41c.39.39.9.59 1.41.59.51 0 1.02-.2 1.41-.59l7.78-7.78 2.81-2.81c.8-.78.8-2.07 0-2.86zM5.41 20L4 18.59l7.72-7.72 1.47 1.35L5.41 20z\"/>\n",
              "  </svg>\n",
              "      </button>\n",
              "      \n",
              "  <style>\n",
              "    .colab-df-container {\n",
              "      display:flex;\n",
              "      flex-wrap:wrap;\n",
              "      gap: 12px;\n",
              "    }\n",
              "\n",
              "    .colab-df-convert {\n",
              "      background-color: #E8F0FE;\n",
              "      border: none;\n",
              "      border-radius: 50%;\n",
              "      cursor: pointer;\n",
              "      display: none;\n",
              "      fill: #1967D2;\n",
              "      height: 32px;\n",
              "      padding: 0 0 0 0;\n",
              "      width: 32px;\n",
              "    }\n",
              "\n",
              "    .colab-df-convert:hover {\n",
              "      background-color: #E2EBFA;\n",
              "      box-shadow: 0px 1px 2px rgba(60, 64, 67, 0.3), 0px 1px 3px 1px rgba(60, 64, 67, 0.15);\n",
              "      fill: #174EA6;\n",
              "    }\n",
              "\n",
              "    [theme=dark] .colab-df-convert {\n",
              "      background-color: #3B4455;\n",
              "      fill: #D2E3FC;\n",
              "    }\n",
              "\n",
              "    [theme=dark] .colab-df-convert:hover {\n",
              "      background-color: #434B5C;\n",
              "      box-shadow: 0px 1px 3px 1px rgba(0, 0, 0, 0.15);\n",
              "      filter: drop-shadow(0px 1px 2px rgba(0, 0, 0, 0.3));\n",
              "      fill: #FFFFFF;\n",
              "    }\n",
              "  </style>\n",
              "\n",
              "      <script>\n",
              "        const buttonEl =\n",
              "          document.querySelector('#df-7b6c1707-0c42-4552-94a4-42320c035bfa button.colab-df-convert');\n",
              "        buttonEl.style.display =\n",
              "          google.colab.kernel.accessAllowed ? 'block' : 'none';\n",
              "\n",
              "        async function convertToInteractive(key) {\n",
              "          const element = document.querySelector('#df-7b6c1707-0c42-4552-94a4-42320c035bfa');\n",
              "          const dataTable =\n",
              "            await google.colab.kernel.invokeFunction('convertToInteractive',\n",
              "                                                     [key], {});\n",
              "          if (!dataTable) return;\n",
              "\n",
              "          const docLinkHtml = 'Like what you see? Visit the ' +\n",
              "            '<a target=\"_blank\" href=https://colab.research.google.com/notebooks/data_table.ipynb>data table notebook</a>'\n",
              "            + ' to learn more about interactive tables.';\n",
              "          element.innerHTML = '';\n",
              "          dataTable['output_type'] = 'display_data';\n",
              "          await google.colab.output.renderOutput(dataTable, element);\n",
              "          const docLink = document.createElement('div');\n",
              "          docLink.innerHTML = docLinkHtml;\n",
              "          element.appendChild(docLink);\n",
              "        }\n",
              "      </script>\n",
              "    </div>\n",
              "  </div>\n",
              "  "
            ]
          },
          "metadata": {},
          "execution_count": 2
        }
      ]
    },
    {
      "cell_type": "code",
      "source": [
        "data.info()"
      ],
      "metadata": {
        "colab": {
          "base_uri": "https://localhost:8080/"
        },
        "id": "W69twPOGuFFT",
        "outputId": "646345ea-977f-4191-91ba-4f4199f564fd"
      },
      "execution_count": 3,
      "outputs": [
        {
          "output_type": "stream",
          "name": "stdout",
          "text": [
            "<class 'pandas.core.frame.DataFrame'>\n",
            "RangeIndex: 7043 entries, 0 to 7042\n",
            "Data columns (total 18 columns):\n",
            " #   Column                   Non-Null Count  Dtype  \n",
            "---  ------                   --------------  -----  \n",
            " 0   Maior65Anos              7043 non-null   int64  \n",
            " 1   Conjuge                  7043 non-null   object \n",
            " 2   Dependentes              7043 non-null   object \n",
            " 3   MesesDeContrato          7043 non-null   int64  \n",
            " 4   TelefoneFixo             7043 non-null   object \n",
            " 5   VariasLinhasTelefonicas  7043 non-null   object \n",
            " 6   ServicoDeInternet        7043 non-null   object \n",
            " 7   SegurancaOnline          7043 non-null   object \n",
            " 8   BackupOnline             7043 non-null   object \n",
            " 9   SeguroNoDispositivo      7043 non-null   object \n",
            " 10  SuporteTecnico           7043 non-null   object \n",
            " 11  TVaCabo                  7043 non-null   object \n",
            " 12  StreamingDeFilmes        7043 non-null   object \n",
            " 13  TipoDeContrato           7043 non-null   object \n",
            " 14  PagamentoOnline          7043 non-null   object \n",
            " 15  FormaDePagamento         7043 non-null   object \n",
            " 16  ContaMensal              7043 non-null   float64\n",
            " 17  Churn                    7043 non-null   object \n",
            "dtypes: float64(1), int64(2), object(15)\n",
            "memory usage: 990.5+ KB\n"
          ]
        }
      ]
    },
    {
      "cell_type": "code",
      "source": [
        "rep_dict = {'Sim':1, 'Nao':0}\n",
        "data_mod = data[['Conjuge', 'Dependentes', 'TelefoneFixo', 'PagamentoOnline', 'Churn']].replace(rep_dict)\n",
        "dummie_data = pd.get_dummies(data.drop(['Conjuge', 'Dependentes', 'TelefoneFixo', 'PagamentoOnline', 'Churn'], axis=1))\n",
        "data_final = pd.concat([data_mod, dummie_data], axis=1)"
      ],
      "metadata": {
        "id": "Q4jH_Xxsub6u"
      },
      "execution_count": 15,
      "outputs": []
    },
    {
      "cell_type": "code",
      "source": [
        "pd.set_option('display.max_columns', 39)\n",
        "data_final.head()"
      ],
      "metadata": {
        "colab": {
          "base_uri": "https://localhost:8080/",
          "height": 270
        },
        "id": "GOKXnYo1vjm7",
        "outputId": "4598e313-00ec-4cd9-c828-ec833f10c64e"
      },
      "execution_count": 18,
      "outputs": [
        {
          "output_type": "execute_result",
          "data": {
            "text/plain": [
              "   Conjuge  Dependentes  TelefoneFixo  PagamentoOnline  Churn  Maior65Anos  \\\n",
              "0        1            0             0                1      0            0   \n",
              "1        0            0             1                0      0            0   \n",
              "2        0            0             1                1      1            0   \n",
              "3        0            0             0                0      0            0   \n",
              "4        0            0             1                1      1            0   \n",
              "\n",
              "   MesesDeContrato  ContaMensal  VariasLinhasTelefonicas_0  \\\n",
              "0                1        29.85                          0   \n",
              "1               34        56.95                          1   \n",
              "2                2        53.85                          1   \n",
              "3               45        42.30                          0   \n",
              "4                2        70.70                          1   \n",
              "\n",
              "   VariasLinhasTelefonicas_1  VariasLinhasTelefonicas_SemServicoTelefonico  \\\n",
              "0                          0                                             1   \n",
              "1                          0                                             0   \n",
              "2                          0                                             0   \n",
              "3                          0                                             1   \n",
              "4                          0                                             0   \n",
              "\n",
              "   ServicoDeInternet_0  ServicoDeInternet_DSL  ServicoDeInternet_FibraOptica  \\\n",
              "0                    0                      1                              0   \n",
              "1                    0                      1                              0   \n",
              "2                    0                      1                              0   \n",
              "3                    0                      1                              0   \n",
              "4                    0                      0                              1   \n",
              "\n",
              "   SegurancaOnline_0  SegurancaOnline_1  SegurancaOnline_SemServicoDeInternet  \\\n",
              "0                  1                  0                                     0   \n",
              "1                  0                  1                                     0   \n",
              "2                  0                  1                                     0   \n",
              "3                  0                  1                                     0   \n",
              "4                  1                  0                                     0   \n",
              "\n",
              "   BackupOnline_0  BackupOnline_1  BackupOnline_SemServicoDeInternet  \\\n",
              "0               0               1                                  0   \n",
              "1               1               0                                  0   \n",
              "2               0               1                                  0   \n",
              "3               1               0                                  0   \n",
              "4               1               0                                  0   \n",
              "\n",
              "   SeguroNoDispositivo_0  SeguroNoDispositivo_1  \\\n",
              "0                      1                      0   \n",
              "1                      0                      1   \n",
              "2                      1                      0   \n",
              "3                      0                      1   \n",
              "4                      1                      0   \n",
              "\n",
              "   SeguroNoDispositivo_SemServicoDeInternet  SuporteTecnico_0  \\\n",
              "0                                         0                 1   \n",
              "1                                         0                 1   \n",
              "2                                         0                 1   \n",
              "3                                         0                 0   \n",
              "4                                         0                 1   \n",
              "\n",
              "   SuporteTecnico_1  SuporteTecnico_SemServicoDeInternet  TVaCabo_0  \\\n",
              "0                 0                                    0          1   \n",
              "1                 0                                    0          1   \n",
              "2                 0                                    0          1   \n",
              "3                 1                                    0          1   \n",
              "4                 0                                    0          1   \n",
              "\n",
              "   TVaCabo_1  TVaCabo_SemServicoDeInternet  StreamingDeFilmes_0  \\\n",
              "0          0                             0                    1   \n",
              "1          0                             0                    1   \n",
              "2          0                             0                    1   \n",
              "3          0                             0                    1   \n",
              "4          0                             0                    1   \n",
              "\n",
              "   StreamingDeFilmes_1  StreamingDeFilmes_SemServicoDeInternet  \\\n",
              "0                    0                                       0   \n",
              "1                    0                                       0   \n",
              "2                    0                                       0   \n",
              "3                    0                                       0   \n",
              "4                    0                                       0   \n",
              "\n",
              "   TipoDeContrato_DoisAnos  TipoDeContrato_Mensalmente  TipoDeContrato_UmAno  \\\n",
              "0                        0                           1                     0   \n",
              "1                        0                           0                     1   \n",
              "2                        0                           1                     0   \n",
              "3                        0                           0                     1   \n",
              "4                        0                           1                     0   \n",
              "\n",
              "   FormaDePagamento_CartaoDeCredito  FormaDePagamento_ChequeDigital  \\\n",
              "0                                 0                               1   \n",
              "1                                 0                               0   \n",
              "2                                 0                               0   \n",
              "3                                 0                               0   \n",
              "4                                 0                               1   \n",
              "\n",
              "   FormaDePagamento_ChequePapel  FormaDePagamento_DebitoEmConta  \n",
              "0                             0                               0  \n",
              "1                             1                               0  \n",
              "2                             1                               0  \n",
              "3                             0                               1  \n",
              "4                             0                               0  "
            ],
            "text/html": [
              "\n",
              "  <div id=\"df-a75e3a91-867b-4f50-bfea-6f5bdb37d855\">\n",
              "    <div class=\"colab-df-container\">\n",
              "      <div>\n",
              "<style scoped>\n",
              "    .dataframe tbody tr th:only-of-type {\n",
              "        vertical-align: middle;\n",
              "    }\n",
              "\n",
              "    .dataframe tbody tr th {\n",
              "        vertical-align: top;\n",
              "    }\n",
              "\n",
              "    .dataframe thead th {\n",
              "        text-align: right;\n",
              "    }\n",
              "</style>\n",
              "<table border=\"1\" class=\"dataframe\">\n",
              "  <thead>\n",
              "    <tr style=\"text-align: right;\">\n",
              "      <th></th>\n",
              "      <th>Conjuge</th>\n",
              "      <th>Dependentes</th>\n",
              "      <th>TelefoneFixo</th>\n",
              "      <th>PagamentoOnline</th>\n",
              "      <th>Churn</th>\n",
              "      <th>Maior65Anos</th>\n",
              "      <th>MesesDeContrato</th>\n",
              "      <th>ContaMensal</th>\n",
              "      <th>VariasLinhasTelefonicas_0</th>\n",
              "      <th>VariasLinhasTelefonicas_1</th>\n",
              "      <th>VariasLinhasTelefonicas_SemServicoTelefonico</th>\n",
              "      <th>ServicoDeInternet_0</th>\n",
              "      <th>ServicoDeInternet_DSL</th>\n",
              "      <th>ServicoDeInternet_FibraOptica</th>\n",
              "      <th>SegurancaOnline_0</th>\n",
              "      <th>SegurancaOnline_1</th>\n",
              "      <th>SegurancaOnline_SemServicoDeInternet</th>\n",
              "      <th>BackupOnline_0</th>\n",
              "      <th>BackupOnline_1</th>\n",
              "      <th>BackupOnline_SemServicoDeInternet</th>\n",
              "      <th>SeguroNoDispositivo_0</th>\n",
              "      <th>SeguroNoDispositivo_1</th>\n",
              "      <th>SeguroNoDispositivo_SemServicoDeInternet</th>\n",
              "      <th>SuporteTecnico_0</th>\n",
              "      <th>SuporteTecnico_1</th>\n",
              "      <th>SuporteTecnico_SemServicoDeInternet</th>\n",
              "      <th>TVaCabo_0</th>\n",
              "      <th>TVaCabo_1</th>\n",
              "      <th>TVaCabo_SemServicoDeInternet</th>\n",
              "      <th>StreamingDeFilmes_0</th>\n",
              "      <th>StreamingDeFilmes_1</th>\n",
              "      <th>StreamingDeFilmes_SemServicoDeInternet</th>\n",
              "      <th>TipoDeContrato_DoisAnos</th>\n",
              "      <th>TipoDeContrato_Mensalmente</th>\n",
              "      <th>TipoDeContrato_UmAno</th>\n",
              "      <th>FormaDePagamento_CartaoDeCredito</th>\n",
              "      <th>FormaDePagamento_ChequeDigital</th>\n",
              "      <th>FormaDePagamento_ChequePapel</th>\n",
              "      <th>FormaDePagamento_DebitoEmConta</th>\n",
              "    </tr>\n",
              "  </thead>\n",
              "  <tbody>\n",
              "    <tr>\n",
              "      <th>0</th>\n",
              "      <td>1</td>\n",
              "      <td>0</td>\n",
              "      <td>0</td>\n",
              "      <td>1</td>\n",
              "      <td>0</td>\n",
              "      <td>0</td>\n",
              "      <td>1</td>\n",
              "      <td>29.85</td>\n",
              "      <td>0</td>\n",
              "      <td>0</td>\n",
              "      <td>1</td>\n",
              "      <td>0</td>\n",
              "      <td>1</td>\n",
              "      <td>0</td>\n",
              "      <td>1</td>\n",
              "      <td>0</td>\n",
              "      <td>0</td>\n",
              "      <td>0</td>\n",
              "      <td>1</td>\n",
              "      <td>0</td>\n",
              "      <td>1</td>\n",
              "      <td>0</td>\n",
              "      <td>0</td>\n",
              "      <td>1</td>\n",
              "      <td>0</td>\n",
              "      <td>0</td>\n",
              "      <td>1</td>\n",
              "      <td>0</td>\n",
              "      <td>0</td>\n",
              "      <td>1</td>\n",
              "      <td>0</td>\n",
              "      <td>0</td>\n",
              "      <td>0</td>\n",
              "      <td>1</td>\n",
              "      <td>0</td>\n",
              "      <td>0</td>\n",
              "      <td>1</td>\n",
              "      <td>0</td>\n",
              "      <td>0</td>\n",
              "    </tr>\n",
              "    <tr>\n",
              "      <th>1</th>\n",
              "      <td>0</td>\n",
              "      <td>0</td>\n",
              "      <td>1</td>\n",
              "      <td>0</td>\n",
              "      <td>0</td>\n",
              "      <td>0</td>\n",
              "      <td>34</td>\n",
              "      <td>56.95</td>\n",
              "      <td>1</td>\n",
              "      <td>0</td>\n",
              "      <td>0</td>\n",
              "      <td>0</td>\n",
              "      <td>1</td>\n",
              "      <td>0</td>\n",
              "      <td>0</td>\n",
              "      <td>1</td>\n",
              "      <td>0</td>\n",
              "      <td>1</td>\n",
              "      <td>0</td>\n",
              "      <td>0</td>\n",
              "      <td>0</td>\n",
              "      <td>1</td>\n",
              "      <td>0</td>\n",
              "      <td>1</td>\n",
              "      <td>0</td>\n",
              "      <td>0</td>\n",
              "      <td>1</td>\n",
              "      <td>0</td>\n",
              "      <td>0</td>\n",
              "      <td>1</td>\n",
              "      <td>0</td>\n",
              "      <td>0</td>\n",
              "      <td>0</td>\n",
              "      <td>0</td>\n",
              "      <td>1</td>\n",
              "      <td>0</td>\n",
              "      <td>0</td>\n",
              "      <td>1</td>\n",
              "      <td>0</td>\n",
              "    </tr>\n",
              "    <tr>\n",
              "      <th>2</th>\n",
              "      <td>0</td>\n",
              "      <td>0</td>\n",
              "      <td>1</td>\n",
              "      <td>1</td>\n",
              "      <td>1</td>\n",
              "      <td>0</td>\n",
              "      <td>2</td>\n",
              "      <td>53.85</td>\n",
              "      <td>1</td>\n",
              "      <td>0</td>\n",
              "      <td>0</td>\n",
              "      <td>0</td>\n",
              "      <td>1</td>\n",
              "      <td>0</td>\n",
              "      <td>0</td>\n",
              "      <td>1</td>\n",
              "      <td>0</td>\n",
              "      <td>0</td>\n",
              "      <td>1</td>\n",
              "      <td>0</td>\n",
              "      <td>1</td>\n",
              "      <td>0</td>\n",
              "      <td>0</td>\n",
              "      <td>1</td>\n",
              "      <td>0</td>\n",
              "      <td>0</td>\n",
              "      <td>1</td>\n",
              "      <td>0</td>\n",
              "      <td>0</td>\n",
              "      <td>1</td>\n",
              "      <td>0</td>\n",
              "      <td>0</td>\n",
              "      <td>0</td>\n",
              "      <td>1</td>\n",
              "      <td>0</td>\n",
              "      <td>0</td>\n",
              "      <td>0</td>\n",
              "      <td>1</td>\n",
              "      <td>0</td>\n",
              "    </tr>\n",
              "    <tr>\n",
              "      <th>3</th>\n",
              "      <td>0</td>\n",
              "      <td>0</td>\n",
              "      <td>0</td>\n",
              "      <td>0</td>\n",
              "      <td>0</td>\n",
              "      <td>0</td>\n",
              "      <td>45</td>\n",
              "      <td>42.30</td>\n",
              "      <td>0</td>\n",
              "      <td>0</td>\n",
              "      <td>1</td>\n",
              "      <td>0</td>\n",
              "      <td>1</td>\n",
              "      <td>0</td>\n",
              "      <td>0</td>\n",
              "      <td>1</td>\n",
              "      <td>0</td>\n",
              "      <td>1</td>\n",
              "      <td>0</td>\n",
              "      <td>0</td>\n",
              "      <td>0</td>\n",
              "      <td>1</td>\n",
              "      <td>0</td>\n",
              "      <td>0</td>\n",
              "      <td>1</td>\n",
              "      <td>0</td>\n",
              "      <td>1</td>\n",
              "      <td>0</td>\n",
              "      <td>0</td>\n",
              "      <td>1</td>\n",
              "      <td>0</td>\n",
              "      <td>0</td>\n",
              "      <td>0</td>\n",
              "      <td>0</td>\n",
              "      <td>1</td>\n",
              "      <td>0</td>\n",
              "      <td>0</td>\n",
              "      <td>0</td>\n",
              "      <td>1</td>\n",
              "    </tr>\n",
              "    <tr>\n",
              "      <th>4</th>\n",
              "      <td>0</td>\n",
              "      <td>0</td>\n",
              "      <td>1</td>\n",
              "      <td>1</td>\n",
              "      <td>1</td>\n",
              "      <td>0</td>\n",
              "      <td>2</td>\n",
              "      <td>70.70</td>\n",
              "      <td>1</td>\n",
              "      <td>0</td>\n",
              "      <td>0</td>\n",
              "      <td>0</td>\n",
              "      <td>0</td>\n",
              "      <td>1</td>\n",
              "      <td>1</td>\n",
              "      <td>0</td>\n",
              "      <td>0</td>\n",
              "      <td>1</td>\n",
              "      <td>0</td>\n",
              "      <td>0</td>\n",
              "      <td>1</td>\n",
              "      <td>0</td>\n",
              "      <td>0</td>\n",
              "      <td>1</td>\n",
              "      <td>0</td>\n",
              "      <td>0</td>\n",
              "      <td>1</td>\n",
              "      <td>0</td>\n",
              "      <td>0</td>\n",
              "      <td>1</td>\n",
              "      <td>0</td>\n",
              "      <td>0</td>\n",
              "      <td>0</td>\n",
              "      <td>1</td>\n",
              "      <td>0</td>\n",
              "      <td>0</td>\n",
              "      <td>1</td>\n",
              "      <td>0</td>\n",
              "      <td>0</td>\n",
              "    </tr>\n",
              "  </tbody>\n",
              "</table>\n",
              "</div>\n",
              "      <button class=\"colab-df-convert\" onclick=\"convertToInteractive('df-a75e3a91-867b-4f50-bfea-6f5bdb37d855')\"\n",
              "              title=\"Convert this dataframe to an interactive table.\"\n",
              "              style=\"display:none;\">\n",
              "        \n",
              "  <svg xmlns=\"http://www.w3.org/2000/svg\" height=\"24px\"viewBox=\"0 0 24 24\"\n",
              "       width=\"24px\">\n",
              "    <path d=\"M0 0h24v24H0V0z\" fill=\"none\"/>\n",
              "    <path d=\"M18.56 5.44l.94 2.06.94-2.06 2.06-.94-2.06-.94-.94-2.06-.94 2.06-2.06.94zm-11 1L8.5 8.5l.94-2.06 2.06-.94-2.06-.94L8.5 2.5l-.94 2.06-2.06.94zm10 10l.94 2.06.94-2.06 2.06-.94-2.06-.94-.94-2.06-.94 2.06-2.06.94z\"/><path d=\"M17.41 7.96l-1.37-1.37c-.4-.4-.92-.59-1.43-.59-.52 0-1.04.2-1.43.59L10.3 9.45l-7.72 7.72c-.78.78-.78 2.05 0 2.83L4 21.41c.39.39.9.59 1.41.59.51 0 1.02-.2 1.41-.59l7.78-7.78 2.81-2.81c.8-.78.8-2.07 0-2.86zM5.41 20L4 18.59l7.72-7.72 1.47 1.35L5.41 20z\"/>\n",
              "  </svg>\n",
              "      </button>\n",
              "      \n",
              "  <style>\n",
              "    .colab-df-container {\n",
              "      display:flex;\n",
              "      flex-wrap:wrap;\n",
              "      gap: 12px;\n",
              "    }\n",
              "\n",
              "    .colab-df-convert {\n",
              "      background-color: #E8F0FE;\n",
              "      border: none;\n",
              "      border-radius: 50%;\n",
              "      cursor: pointer;\n",
              "      display: none;\n",
              "      fill: #1967D2;\n",
              "      height: 32px;\n",
              "      padding: 0 0 0 0;\n",
              "      width: 32px;\n",
              "    }\n",
              "\n",
              "    .colab-df-convert:hover {\n",
              "      background-color: #E2EBFA;\n",
              "      box-shadow: 0px 1px 2px rgba(60, 64, 67, 0.3), 0px 1px 3px 1px rgba(60, 64, 67, 0.15);\n",
              "      fill: #174EA6;\n",
              "    }\n",
              "\n",
              "    [theme=dark] .colab-df-convert {\n",
              "      background-color: #3B4455;\n",
              "      fill: #D2E3FC;\n",
              "    }\n",
              "\n",
              "    [theme=dark] .colab-df-convert:hover {\n",
              "      background-color: #434B5C;\n",
              "      box-shadow: 0px 1px 3px 1px rgba(0, 0, 0, 0.15);\n",
              "      filter: drop-shadow(0px 1px 2px rgba(0, 0, 0, 0.3));\n",
              "      fill: #FFFFFF;\n",
              "    }\n",
              "  </style>\n",
              "\n",
              "      <script>\n",
              "        const buttonEl =\n",
              "          document.querySelector('#df-a75e3a91-867b-4f50-bfea-6f5bdb37d855 button.colab-df-convert');\n",
              "        buttonEl.style.display =\n",
              "          google.colab.kernel.accessAllowed ? 'block' : 'none';\n",
              "\n",
              "        async function convertToInteractive(key) {\n",
              "          const element = document.querySelector('#df-a75e3a91-867b-4f50-bfea-6f5bdb37d855');\n",
              "          const dataTable =\n",
              "            await google.colab.kernel.invokeFunction('convertToInteractive',\n",
              "                                                     [key], {});\n",
              "          if (!dataTable) return;\n",
              "\n",
              "          const docLinkHtml = 'Like what you see? Visit the ' +\n",
              "            '<a target=\"_blank\" href=https://colab.research.google.com/notebooks/data_table.ipynb>data table notebook</a>'\n",
              "            + ' to learn more about interactive tables.';\n",
              "          element.innerHTML = '';\n",
              "          dataTable['output_type'] = 'display_data';\n",
              "          await google.colab.output.renderOutput(dataTable, element);\n",
              "          const docLink = document.createElement('div');\n",
              "          docLink.innerHTML = docLinkHtml;\n",
              "          element.appendChild(docLink);\n",
              "        }\n",
              "      </script>\n",
              "    </div>\n",
              "  </div>\n",
              "  "
            ]
          },
          "metadata": {},
          "execution_count": 18
        }
      ]
    },
    {
      "cell_type": "markdown",
      "source": [
        "## Predicting a new clients behavior"
      ],
      "metadata": {
        "id": "dZUo5X4O3S4-"
      }
    },
    {
      "cell_type": "code",
      "source": [
        "new_client = [[0,0,1,1,0,0,39.90,1,0,0,0,1,0,1,0,0,0,0,1,1,1,0,0,1,0,1,0,0,0,0,1,0,0,1,0,0,0,1]]\n",
        "#consider the new client as X, what is its behavior (Y)?"
      ],
      "metadata": {
        "id": "lJ9hnFjcxH-u"
      },
      "execution_count": 20,
      "outputs": []
    },
    {
      "cell_type": "code",
      "source": [
        "X = data_final.drop('Churn', axis=1)\n",
        "Y = data_final['Churn']"
      ],
      "metadata": {
        "id": "emAzapAi2DeS"
      },
      "execution_count": 21,
      "outputs": []
    },
    {
      "cell_type": "code",
      "source": [
        "from sklearn.preprocessing import StandardScaler\n",
        "scaler = StandardScaler()\n",
        "X_scale = scaler.fit_transform(X)\n",
        "new_client_scale= scaler.transform(pd.DataFrame(new_client, columns = X.columns))"
      ],
      "metadata": {
        "colab": {
          "base_uri": "https://localhost:8080/"
        },
        "id": "O_XciX4H69Kf",
        "outputId": "2f57430d-6f46-4aef-b455-e75ace637d98"
      },
      "execution_count": 28,
      "outputs": [
        {
          "output_type": "execute_result",
          "data": {
            "text/plain": [
              "array([[-0.96662231, -0.65401193,  0.32743831,  0.8297975 , -0.43991649,\n",
              "        -1.31816495, -0.82630172,  1.03806605, -0.85417615, -0.32743831,\n",
              "        -0.52592737,  1.38171215, -0.88565976,  1.00669571, -0.63393298,\n",
              "        -0.52592737, -0.88361972, -0.72556272,  1.90140322,  1.12942721,\n",
              "         1.38127743, -0.52592737, -0.98632101,  1.56387171, -0.52592737,\n",
              "         1.2273572 , -0.79013171, -0.52592737, -0.80874158, -0.79607014,\n",
              "         1.90140322, -0.56297505, -1.1059698 ,  1.94458183, -0.52504733,\n",
              "        -0.71102597, -0.54480692,  1.88720123]])"
            ]
          },
          "metadata": {},
          "execution_count": 28
        }
      ]
    },
    {
      "cell_type": "markdown",
      "source": [
        "##Using KNN"
      ],
      "metadata": {
        "id": "pFq0qlyd5oZG"
      }
    },
    {
      "cell_type": "markdown",
      "source": [
        "Things to take care:\n",
        "\n",
        "High values of k = Overfitting\n",
        "\n",
        "Small values of k = Underfitting\n",
        "\n",
        "When using supervised learning, one must take care with the inputs of the algorithm. Overfitting will be perfect to the x_train values, when something new comes around it will be not classified, even it fits the train data requiremetns. Underfitting will create errors based on including others on the group that they do not belong."
      ],
      "metadata": {
        "id": "xXg_E8so5vvs"
      }
    },
    {
      "cell_type": "code",
      "source": [
        "import numpy as np"
      ],
      "metadata": {
        "id": "BVR3z5OU8eyE"
      },
      "execution_count": 29,
      "outputs": []
    },
    {
      "cell_type": "code",
      "source": [
        "a = new_client_scale\n",
        "b = X_scale[0] #using the data of client 0 from the dataset"
      ],
      "metadata": {
        "id": "QoRgl6aK8gaG"
      },
      "execution_count": 31,
      "outputs": []
    },
    {
      "cell_type": "markdown",
      "source": [
        "Using KNN equation and numpy we can calculate the euclidian distance between client 0 and the new client.\n",
        "\n",
        "![image.png](data:image/png;base64,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)"
      ],
      "metadata": {
        "id": "JXnODWaG9JI-"
      }
    },
    {
      "cell_type": "code",
      "source": [
        "print(f'The new_client distante from Client 0 is {np.sqrt(np.sum(np.square(a-b)))}')"
      ],
      "metadata": {
        "colab": {
          "base_uri": "https://localhost:8080/"
        },
        "id": "mjnhc_hP8rnF",
        "outputId": "049e4609-1f07-4868-f767-0ec593b04586"
      },
      "execution_count": 37,
      "outputs": [
        {
          "output_type": "stream",
          "name": "stdout",
          "text": [
            "The new_client distante from Client 0 is 9.224124747811146\n"
          ]
        }
      ]
    },
    {
      "cell_type": "code",
      "source": [
        "from sklearn.model_selection import train_test_split\n",
        "X_train, X_test, Y_train, Y_test = train_test_split(X_scale, Y, test_size=0.3, random_state=123)"
      ],
      "metadata": {
        "id": "6DYwqUIM8t-W"
      },
      "execution_count": 38,
      "outputs": []
    },
    {
      "cell_type": "code",
      "source": [
        "from sklearn.neighbors import KNeighborsClassifier\n",
        "knn = KNeighborsClassifier(metric='euclidean')\n",
        "knn.fit(X_train, Y_train)\n",
        "knn_prediction = knn.predict(X_test)"
      ],
      "metadata": {
        "colab": {
          "base_uri": "https://localhost:8080/"
        },
        "id": "I38-DAkR-awJ",
        "outputId": "09a40159-d965-4be4-cb5e-25f978b67858"
      },
      "execution_count": 42,
      "outputs": [
        {
          "output_type": "execute_result",
          "data": {
            "text/plain": [
              "array([1, 0, 0, ..., 0, 0, 0])"
            ]
          },
          "metadata": {},
          "execution_count": 42
        }
      ]
    },
    {
      "cell_type": "markdown",
      "source": [
        "## Using Naive Bayes"
      ],
      "metadata": {
        "id": "IHLuAYov_8gG"
      }
    },
    {
      "cell_type": "markdown",
      "source": [
        "Based on the equation bellow, Naive Bayes returns the probability of certain classification, based on the X(A) and Y(B) entryies.\n",
        "\n",
        "\n",
        "![image.png](data:image/png;base64,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)"
      ],
      "metadata": {
        "id": "X7Yf4tnpB6qo"
      }
    },
    {
      "cell_type": "code",
      "source": [
        "from sklearn.naive_bayes import BernoulliNB\n",
        "bnb = BernoulliNB(binarize=abs(np.median(X_train))) #threshold based the median of the X_train\n",
        "bnb.fit(X_train, Y_train)\n",
        "bnb_predictions = bnb.predict(X_test)\n",
        "bnb_predictions"
      ],
      "metadata": {
        "colab": {
          "base_uri": "https://localhost:8080/"
        },
        "id": "TgVJdKtc-1Nf",
        "outputId": "ccb008f3-7c18-4e19-982b-a4cee3604eb6"
      },
      "execution_count": 47,
      "outputs": [
        {
          "output_type": "execute_result",
          "data": {
            "text/plain": [
              "array([1, 0, 0, ..., 0, 1, 0])"
            ]
          },
          "metadata": {},
          "execution_count": 47
        }
      ]
    },
    {
      "cell_type": "markdown",
      "source": [
        "## Using the decision tree"
      ],
      "metadata": {
        "id": "PvlhTyf6H-u7"
      }
    },
    {
      "cell_type": "markdown",
      "source": [
        "From root (lesser impure and with best attributes data), to branches (decision nodes, based on the best way to divide the data), to leaf (final decision, or classifier). The decision tree needs homogeneity in the data, so normalization is not required. It can work with all types of data, but overfitting (a very big tree) is a common mistake made by the use of this model. This model can also be highly unstable, in other words, any treatment or new data added, changes the decision tree to a completely new one.\n",
        "To create each decision, the tree can use criteria like the Gini index, which determines the heterogeneity of the data. Higher values mean higher heterogeneity and impurity.\n",
        "\n",
        "\n",
        "![image.png](data:image/png;base64,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)\n",
        "\n",
        "\n",
        "Another criterion used is entropy. This calculation is based on the disorder of the data, based on a classificatory variable. Like the Gini Index, entropy returns the impurity and heterogeneity of the data.\n",
        "\n",
        "![image.png](data:image/png;base64,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)"
      ],
      "metadata": {
        "id": "GcR19t1yIJWv"
      }
    },
    {
      "cell_type": "code",
      "source": [
        "from sklearn.tree import DecisionTreeClassifier\n",
        "dtc = DecisionTreeClassifier(criterion='entropy', random_state=42)\n",
        "dtc.fit(X_train, Y_train)\n",
        "dtc_pred = dtc.predict(X_test)\n",
        "dtc_pred"
      ],
      "metadata": {
        "colab": {
          "base_uri": "https://localhost:8080/"
        },
        "id": "IeYV-g10H-Pa",
        "outputId": "2d58100e-e306-4b66-f256-95761dc978ca"
      },
      "execution_count": 51,
      "outputs": [
        {
          "output_type": "execute_result",
          "data": {
            "text/plain": [
              "array([1, 0, 0, ..., 1, 0, 0])"
            ]
          },
          "metadata": {},
          "execution_count": 51
        }
      ]
    },
    {
      "cell_type": "markdown",
      "source": [
        "#Validation"
      ],
      "metadata": {
        "id": "b-7UM97KOHcz"
      }
    },
    {
      "cell_type": "code",
      "source": [
        "from sklearn.metrics import confusion_matrix\n",
        "print(f' KNN\\n{confusion_matrix(Y_test, knn_prediction)}\\n\\n NB\\n{confusion_matrix(Y_test, bnb_predictions)}\\n\\nDecisionTree\\n{confusion_matrix(Y_test, dtc_pred)}')"
      ],
      "metadata": {
        "colab": {
          "base_uri": "https://localhost:8080/"
        },
        "id": "_YLBQV_qHrfu",
        "outputId": "7afb5b15-657c-4d9c-ff4e-3beb448bb16f"
      },
      "execution_count": 60,
      "outputs": [
        {
          "output_type": "stream",
          "name": "stdout",
          "text": [
            " KNN\n",
            "[[1305  218]\n",
            " [ 317  273]]\n",
            "\n",
            " NB\n",
            "[[1059  464]\n",
            " [ 120  470]]\n",
            "\n",
            "DecisionTree\n",
            "[[1246  277]\n",
            " [ 285  305]]\n"
          ]
        }
      ]
    },
    {
      "cell_type": "markdown",
      "source": [
        "##Accuracy"
      ],
      "metadata": {
        "id": "NLTjlkjVQwRq"
      }
    },
    {
      "cell_type": "code",
      "source": [
        "from sklearn.metrics import accuracy_score"
      ],
      "metadata": {
        "id": "fO2qCpf1QwKU"
      },
      "execution_count": 61,
      "outputs": []
    },
    {
      "cell_type": "code",
      "source": [
        "print(f' KNN\\n{accuracy_score(Y_test, knn_prediction)}\\n\\n NB\\n{accuracy_score(Y_test, bnb_predictions)}\\n\\nDecisionTree\\n{accuracy_score(Y_test, dtc_pred)}')"
      ],
      "metadata": {
        "colab": {
          "base_uri": "https://localhost:8080/"
        },
        "id": "8MgSxZmfPRwH",
        "outputId": "bc5526bf-219e-489f-8690-8164ed0ceb7f"
      },
      "execution_count": 62,
      "outputs": [
        {
          "output_type": "stream",
          "name": "stdout",
          "text": [
            " KNN\n",
            "0.7468054898248935\n",
            "\n",
            " NB\n",
            "0.7236157122574538\n",
            "\n",
            "DecisionTree\n",
            "0.7340274491244676\n"
          ]
        }
      ]
    },
    {
      "cell_type": "markdown",
      "source": [
        "All models had similar ACC, but the best one is knn to predict the Churn feature and the clients behavior. This metric is based on the less mistakes made by the models. In other words it measures if the models have less false positives or false negatives."
      ],
      "metadata": {
        "id": "z5GUhQ6mRJqn"
      }
    },
    {
      "cell_type": "markdown",
      "source": [
        "## Precision"
      ],
      "metadata": {
        "id": "xJcYHhOZRaKa"
      }
    },
    {
      "cell_type": "markdown",
      "source": [
        "This metric is related to the true negative and true positives predicitions of the models."
      ],
      "metadata": {
        "id": "KKX5sqXFR7F6"
      }
    },
    {
      "cell_type": "code",
      "source": [
        "from sklearn.metrics import precision_score\n",
        "print(f' KNN\\n{precision_score(Y_test, knn_prediction)}\\n\\n NB\\n{precision_score(Y_test, bnb_predictions)}\\n\\nDecisionTree\\n{precision_score(Y_test, dtc_pred)}')"
      ],
      "metadata": {
        "colab": {
          "base_uri": "https://localhost:8080/"
        },
        "id": "f960W9wLRcxY",
        "outputId": "8c8e0442-04ac-4499-bb3d-5f62f008cf0a"
      },
      "execution_count": 64,
      "outputs": [
        {
          "output_type": "stream",
          "name": "stdout",
          "text": [
            " KNN\n",
            "0.5560081466395111\n",
            "\n",
            " NB\n",
            "0.5032119914346895\n",
            "\n",
            "DecisionTree\n",
            "0.5240549828178694\n"
          ]
        }
      ]
    },
    {
      "cell_type": "markdown",
      "source": [
        "As it was to KNN ACC, precision scores for KNN are better."
      ],
      "metadata": {
        "id": "eam0IKLYcyXf"
      }
    },
    {
      "cell_type": "markdown",
      "source": [
        "## Recall"
      ],
      "metadata": {
        "id": "WxucDMIQdGWi"
      }
    },
    {
      "cell_type": "markdown",
      "source": [
        "This metric is related to the true positive values and the false negative values. It will return a value that states the sensibility of the model in relation to the prediction of true positive results."
      ],
      "metadata": {
        "id": "rdzXVQpGdPaC"
      }
    },
    {
      "cell_type": "code",
      "source": [
        "from sklearn.metrics import recall_score\n",
        "print(f' KNN\\n{recall_score(Y_test, knn_prediction)}\\n\\n NB\\n{recall_score(Y_test, bnb_predictions)}\\n\\nDecisionTree\\n{recall_score(Y_test, dtc_pred)}')"
      ],
      "metadata": {
        "colab": {
          "base_uri": "https://localhost:8080/"
        },
        "id": "lkPjbKanc93n",
        "outputId": "153eebaf-e541-4be1-8dc2-ede5d57a4f7d"
      },
      "execution_count": 66,
      "outputs": [
        {
          "output_type": "stream",
          "name": "stdout",
          "text": [
            " KNN\n",
            "0.46271186440677964\n",
            "\n",
            " NB\n",
            "0.7966101694915254\n",
            "\n",
            "DecisionTree\n",
            "0.5169491525423728\n"
          ]
        }
      ]
    },
    {
      "cell_type": "markdown",
      "source": [
        "This time, NB was the better one for true positive values."
      ],
      "metadata": {
        "id": "rbfWOqFTdzPv"
      }
    },
    {
      "cell_type": "markdown",
      "source": [
        "## F1 Score"
      ],
      "metadata": {
        "id": "QOAlbNB1ePku"
      }
    },
    {
      "cell_type": "markdown",
      "source": [
        "This score is based on the transformation of precision and recall values."
      ],
      "metadata": {
        "id": "zQBk09PKeR1e"
      }
    },
    {
      "cell_type": "code",
      "source": [
        "F1_KNN = 2* (precision_score(Y_test, knn_prediction)*recall_score(Y_test, knn_prediction))/(precision_score(Y_test, knn_prediction) + recall_score(Y_test, knn_prediction))"
      ],
      "metadata": {
        "id": "tVlQ_qo2eZ2q"
      },
      "execution_count": 74,
      "outputs": []
    },
    {
      "cell_type": "code",
      "source": [
        "F1_NB = 2* (precision_score(Y_test, bnb_predictions)*recall_score(Y_test, bnb_predictions))/(precision_score(Y_test, bnb_predictions) + recall_score(Y_test, bnb_predictions))"
      ],
      "metadata": {
        "id": "z8S8oFpRevBP"
      },
      "execution_count": 75,
      "outputs": []
    },
    {
      "cell_type": "code",
      "source": [
        "F1_DTC = 2* (precision_score(Y_test, dtc_pred)*recall_score(Y_test, dtc_pred))/(precision_score(Y_test, dtc_pred) + recall_score(Y_test, dtc_pred))"
      ],
      "metadata": {
        "id": "c0gMSay6evW-"
      },
      "execution_count": 76,
      "outputs": []
    },
    {
      "cell_type": "code",
      "source": [
        "print(f'F1 for KNN was={F1_KNN}\\nF1 for NB was={F1_NB}\\nF1 for DTC was={F1_DTC}')"
      ],
      "metadata": {
        "colab": {
          "base_uri": "https://localhost:8080/"
        },
        "id": "aIXzmFOgfTWj",
        "outputId": "0ebd7592-32d3-4685-ecbd-5c689f1d288b"
      },
      "execution_count": 77,
      "outputs": [
        {
          "output_type": "stream",
          "name": "stdout",
          "text": [
            "F1 for KNN was=0.5050878815911193\n",
            "F1 for NB was=0.6167979002624673\n",
            "F1 for DTC was=0.5204778156996587\n"
          ]
        }
      ]
    },
    {
      "cell_type": "markdown",
      "source": [
        "Based on the F1 scores, all models have a balance between recall and precision, but NB is the best since it has higher precision than the other models."
      ],
      "metadata": {
        "id": "ijEVvxQ7eZSM"
      }
    },
    {
      "cell_type": "markdown",
      "source": [
        "## Selecting the best model"
      ],
      "metadata": {
        "id": "IdjjspbPeJOo"
      }
    },
    {
      "cell_type": "markdown",
      "source": [
        "Returning to our goal. What is the best model that can classify our clients? We will select now the best model for that.\n",
        "\n",
        "Based on the precision metric, KNN is the best model.\n",
        "\n",
        "Remember that this selection must be based on the data that you are using."
      ],
      "metadata": {
        "id": "ZsPBY3I8hCwa"
      }
    },
    {
      "cell_type": "code",
      "source": [
        "print(f' KNN\\n{precision_score(Y_test, knn_prediction)}\\n\\n NB\\n{precision_score(Y_test, bnb_predictions)}\\n\\nDecisionTree\\n{precision_score(Y_test, dtc_pred)}')"
      ],
      "metadata": {
        "colab": {
          "base_uri": "https://localhost:8080/"
        },
        "id": "UMMrfuoOhBwL",
        "outputId": "ae229dd6-ddca-4aef-91cd-e88a051fbec6"
      },
      "execution_count": 79,
      "outputs": [
        {
          "output_type": "stream",
          "name": "stdout",
          "text": [
            " KNN\n",
            "0.5560081466395111\n",
            "\n",
            " NB\n",
            "0.5032119914346895\n",
            "\n",
            "DecisionTree\n",
            "0.5240549828178694\n"
          ]
        }
      ]
    }
  ]
}